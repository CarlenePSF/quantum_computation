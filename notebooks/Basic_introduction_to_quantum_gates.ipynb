{
 "cells": [
  {
   "cell_type": "code",
   "id": "initial_id",
   "metadata": {
    "id": "initial_id",
    "ExecuteTime": {
     "end_time": "2024-05-27T18:22:25.005507Z",
     "start_time": "2024-05-27T18:22:24.412362Z"
    }
   },
   "source": [
    "from qiskit import QuantumRegister, ClassicalRegister, QuantumCircuit, Aer, transpile\n",
    "from qiskit.tools.visualization import plot_histogram\n",
    "from qiskit.quantum_info import Statevector\n",
    "from qiskit.quantum_info import Operator\n",
    "\n",
    "from math import sqrt"
   ],
   "outputs": [],
   "execution_count": 1
  },
  {
   "cell_type": "markdown",
   "id": "5e1cb3bf-dd61-4780-b17c-eb9d5876c5da",
   "metadata": {},
   "source": [
    "# basics of operators"
   ]
  },
  {
   "cell_type": "code",
   "id": "455978b2-1887-45cd-a3ef-071b5e12c934",
   "metadata": {
    "ExecuteTime": {
     "end_time": "2024-05-27T18:22:27.177816Z",
     "start_time": "2024-05-27T18:22:26.676252Z"
    }
   },
   "source": [
    "# definindo os operadores com a classe Operator\n",
    "X = Operator([[0, 1], [1, 0]])\n",
    "Y = Operator([[0, -1.0j], [1.0j, 0]])\n",
    "Z = Operator([[1, 0], [0, -1]])\n",
    "H = Operator([[1 / sqrt(2), 1 / sqrt(2)], [1 / sqrt(2), -1 / sqrt(2)]])\n",
    "S = Operator([[1, 0], [0, 1.0j]])\n",
    "T = Operator([[1, 0], [0, (1 + 1.0j) / sqrt(2)]])\n",
    "\n",
    "v = Statevector([1, 0])\n",
    "\n",
    "v = v.evolve(H)\n",
    "v = v.evolve(T)\n",
    "v = v.evolve(H)\n",
    "v = v.evolve(T)\n",
    "v = v.evolve(Z)\n",
    "\n",
    "v.draw(\"latex\")\n"
   ],
   "outputs": [
    {
     "data": {
      "text/plain": [
       "<IPython.core.display.Latex object>"
      ],
      "text/latex": "$$(0.8535533906 + 0.3535533906 i) |0\\rangle+(-0.3535533906 + 0.1464466094 i) |1\\rangle$$"
     },
     "execution_count": 2,
     "metadata": {},
     "output_type": "execute_result"
    }
   ],
   "execution_count": 2
  },
  {
   "cell_type": "code",
   "execution_count": null,
   "id": "adb1b489-b64b-4b91-aa99-56617c16cdbd",
   "metadata": {},
   "outputs": [],
   "source": []
  },
  {
   "cell_type": "code",
   "execution_count": null,
   "id": "036df197-2ab4-496c-9123-019598271790",
   "metadata": {},
   "outputs": [],
   "source": []
  },
  {
   "cell_type": "code",
   "execution_count": null,
   "id": "3c4cf41f-bb73-4162-8df9-1b408e3376f1",
   "metadata": {},
   "outputs": [],
   "source": []
  },
  {
   "cell_type": "code",
   "execution_count": null,
   "id": "9f602f53-9a3a-4568-8088-a0ab7d169e4e",
   "metadata": {},
   "outputs": [],
   "source": []
  },
  {
   "cell_type": "markdown",
   "id": "a3fa7630-143e-4bb7-abae-7f815bd6c06c",
   "metadata": {},
   "source": [
    "# Functions"
   ]
  },
  {
   "cell_type": "code",
   "execution_count": 2,
   "id": "1247ee97-a23e-49a1-8c59-3e532fefad0e",
   "metadata": {
    "ExecuteTime": {
     "end_time": "2024-05-26T21:01:37.643311Z",
     "start_time": "2024-05-26T21:01:37.631971Z"
    }
   },
   "outputs": [],
   "source": [
    "def creat_circuit(N):\n",
    "    # define our quantum bits\n",
    "    quantum_bit = QuantumRegister(size=N, name=\"qubit\") \n",
    "    # define our classical bits\n",
    "    classical_bit = ClassicalRegister(size=N, name=\"bit\") \n",
    "    # Creates a quantum circuit with one q-bit\n",
    "    circuit = QuantumCircuit(quantum_bit, classical_bit)\n",
    "\n",
    "    return qb, cb, circuit\n",
    "\n",
    "\n",
    "def run_circuit(circuit):\n",
    "    # configuring the simulator\n",
    "    simulator = Aer.get_backend('qasm_simulator')\n",
    "    # compile the circuit to the simulator\n",
    "    compiled_circuit = transpile(circuit, simulator)\n",
    "    # executing the simulation and returning the results\n",
    "    return simulator.run(compiled_circuit, shoot=1024).result()\n",
    "\n",
    "\n",
    "def measure_experiment(q_bit, c_bit, circuit):\n",
    "    # Measuring the qubit\n",
    "    circuit.measure(q_bit, c_bit)\n",
    "    circuit.draw('mpl', style=\"clifford\")\n",
    "    \n",
    "    state = run_circuit(circuit)\n",
    "    dict_res = state.get_counts(circuit)\n",
    "    counts_res = {k: dict_res[k]/100 for k in dict_res.keys()}\n",
    "    display(plot_histogram(counts_res))\n",
    "\n",
    "\n",
    "# test\n",
    "# quantum_bit, classical_bit, circ = creat_circuit(2)\n",
    "# circ.draw('mpl', style=\"clifford\")\n",
    "# measure_experiment(quantum_bit, classical_bit, circ)"
   ]
  },
  {
   "cell_type": "markdown",
   "id": "fe3d1caa5d2474e1",
   "metadata": {
    "collapsed": false,
    "jupyter": {
     "outputs_hidden": false
    }
   },
   "source": [
    "# Section\n",
    "1. [Basics](#1)\n",
    "2. [One qubit gates](#2)\n",
    "    1. [Creating superposition](#21)\n",
    "    2. [Pauli Gates - XYZ](#22)\n",
    "        1. [The X gate](#221)\n",
    "        2. [The Y gate](#222)\n",
    "        3. [The Z gate](#223)\n",
    "3. [Two qubit states](#3)\n",
    "    1. [Superposition in a two q-ubit state](#31)\n",
    "4. [Creating entanglement](#4)\n",
    "    1. [First Bell state](#41)\n",
    "    2. [Second Bell state](#42)\n",
    "    3. [Third Bell state](#43)\n",
    "    4. [Fourth Bell state](#44)"
   ]
  },
  {
   "cell_type": "markdown",
   "id": "37c82faff5787d50",
   "metadata": {
    "collapsed": false,
    "id": "37c82faff5787d50",
    "jupyter": {
     "outputs_hidden": false
    }
   },
   "source": [
    "# Basics <a id='1'></a>"
   ]
  },
  {
   "cell_type": "code",
   "execution_count": 3,
   "id": "fbaef53ff71c5910",
   "metadata": {
    "ExecuteTime": {
     "end_time": "2024-05-26T21:01:38.947843Z",
     "start_time": "2024-05-26T21:01:37.646752Z"
    },
    "colab": {
     "base_uri": "https://localhost:8080/",
     "height": 191
    },
    "id": "fbaef53ff71c5910",
    "outputId": "618d9018-f36c-42b6-de35-53f5f64c89a0"
   },
   "outputs": [
    {
     "data": {
      "image/png": "[encoded data removed]",
      "text/plain": [
       "<Figure size 199.743x200.667 with 1 Axes>"
      ]
     },
     "execution_count": 3,
     "metadata": {},
     "output_type": "execute_result"
    }
   ],
   "source": [
    "n = 1\n",
    "# define our quantum bits\n",
    "qb = QuantumRegister(size=n, name=\"qubit\") \n",
    "# define our classical bits\n",
    "cb = ClassicalRegister(size=n, name=\"bit\") \n",
    "# Creates a quantum circuit with one q-bit\n",
    "quantum_circuit = QuantumCircuit(qb, cb)\n",
    "quantum_circuit.draw('mpl', style=\"clifford\")"
   ]
  },
  {
   "cell_type": "code",
   "execution_count": 4,
   "id": "DNjiGltnPIdB",
   "metadata": {
    "ExecuteTime": {
     "end_time": "2024-05-26T21:01:39.184179Z",
     "start_time": "2024-05-26T21:01:38.958832Z"
    },
    "colab": {
     "base_uri": "https://localhost:8080/",
     "height": 191
    },
    "id": "DNjiGltnPIdB",
    "outputId": "9b0d43d7-5fb8-4c36-d5ee-fddc118f98f9"
   },
   "outputs": [
    {
     "data": {
      "image/png": "[encoded data removed]",
      "text/plain": [
       "<Figure size 241.548x200.667 with 1 Axes>"
      ]
     },
     "execution_count": 4,
     "metadata": {},
     "output_type": "execute_result"
    }
   ],
   "source": [
    "# Measuring the qubit\n",
    "quantum_circuit.measure(qb, cb)\n",
    "quantum_circuit.draw('mpl', style=\"clifford\")"
   ]
  },
  {
   "cell_type": "code",
   "execution_count": 5,
   "id": "b8154036faa0c33e",
   "metadata": {
    "ExecuteTime": {
     "end_time": "2024-05-26T21:01:39.605953Z",
     "start_time": "2024-05-26T21:01:39.186971Z"
    },
    "collapsed": false,
    "jupyter": {
     "outputs_hidden": false
    }
   },
   "outputs": [
    {
     "data": {
      "image/png": "[encoded data removed]",
      "text/plain": [
       "<Figure size 700x500 with 1 Axes>"
      ]
     },
     "execution_count": 5,
     "metadata": {},
     "output_type": "execute_result"
    }
   ],
   "source": [
    "simple_state = run_circuit(quantum_circuit)\n",
    "dictionary = simple_state.get_counts(quantum_circuit)\n",
    "counts = {k: dictionary[k]/100 for k in dictionary.keys()}\n",
    "plot_histogram(counts)"
   ]
  },
  {
   "cell_type": "markdown",
   "id": "266bef8d24d0527e",
   "metadata": {
    "collapsed": false,
    "id": "266bef8d24d0527e",
    "jupyter": {
     "outputs_hidden": false
    }
   },
   "source": [
    "# One qubit gates <a id=\"2\"></a>"
   ]
  },
  {
   "cell_type": "markdown",
   "id": "28d2cab40d702de8",
   "metadata": {
    "collapsed": false,
    "id": "28d2cab40d702de8",
    "jupyter": {
     "outputs_hidden": false
    }
   },
   "source": [
    "## Creating superposition  <a id='21'></a>\n",
    "\n",
    "Hadamard Gate\n",
    "\n",
    "$$H= \\frac{1}{\\sqrt{2}}\\begin{pmatrix}\n",
    "1 & 1\\\\\n",
    "1 & -1\n",
    "\\end{pmatrix}$$\n",
    "\n",
    "This gate acts on the state $|0\\rangle$, producing\n",
    "$$\n",
    "H |0 \\rangle = \\frac{1}{\\sqrt{2}} (|0\\rangle + |1\\rangle) =|+⟩$$\n",
    "\n",
    "and it acts on the state $|1\\rangle$, producing\n",
    "$$\n",
    "H |1 \\rangle = \\frac{1}{\\sqrt{2}} (|0\\rangle - |1\\rangle)=|-⟩$$"
   ]
  },
  {
   "cell_type": "code",
   "execution_count": 6,
   "id": "27fa3fca0e2e5089",
   "metadata": {
    "ExecuteTime": {
     "end_time": "2024-05-26T21:01:40.448153Z",
     "start_time": "2024-05-26T21:01:39.609149Z"
    },
    "colab": {
     "base_uri": "https://localhost:8080/",
     "height": 58
    },
    "id": "27fa3fca0e2e5089",
    "outputId": "44ef2340-48d6-4324-ffe7-07237f5c73ec"
   },
   "outputs": [
    {
     "name": "stdout",
     "output_type": "stream",
     "text": [
      "The state after action of H gate\n"
     ]
    },
    {
     "data": {
      "text/latex": [
       "$$\\frac{\\sqrt{2}}{2} |0\\rangle+\\frac{\\sqrt{2}}{2} |1\\rangle$$"
      ],
      "text/plain": [
       "<IPython.core.display.Latex object>"
      ]
     },
     "execution_count": 6,
     "metadata": {},
     "output_type": "execute_result"
    }
   ],
   "source": [
    "n = 1\n",
    "qb = QuantumRegister(size=n, name=\"qubit\")\n",
    "cb = ClassicalRegister(size=n, name=\"bit\")\n",
    "circ = QuantumCircuit(qb, cb)\n",
    "\n",
    "# Applying the Hadamard gate\n",
    "circ.h(qb[0])\n",
    "\n",
    "print(\"The state after action of H gate\")\n",
    "Statevector(circ).draw(\"latex\", convention=\"ket\")"
   ]
  },
  {
   "cell_type": "code",
   "execution_count": 7,
   "id": "5I8rFBn2gCF0",
   "metadata": {
    "ExecuteTime": {
     "end_time": "2024-05-26T21:01:40.726485Z",
     "start_time": "2024-05-26T21:01:40.451050Z"
    },
    "colab": {
     "base_uri": "https://localhost:8080/",
     "height": 191
    },
    "id": "5I8rFBn2gCF0",
    "outputId": "3695e299-87d0-4ec0-b01c-dda7470a8f8f"
   },
   "outputs": [
    {
     "data": {
      "image/png": "[encoded data removed]",
      "text/plain": [
       "<Figure size 325.159x200.667 with 1 Axes>"
      ]
     },
     "execution_count": 7,
     "metadata": {},
     "output_type": "execute_result"
    }
   ],
   "source": [
    "circ.measure(qb, cb)\n",
    "circ.draw('mpl', style=\"clifford\")"
   ]
  },
  {
   "cell_type": "code",
   "execution_count": 8,
   "id": "a051baaec769720e",
   "metadata": {
    "ExecuteTime": {
     "end_time": "2024-05-26T21:01:41.012132Z",
     "start_time": "2024-05-26T21:01:40.729727Z"
    },
    "colab": {
     "base_uri": "https://localhost:8080/",
     "height": 449
    },
    "id": "a051baaec769720e",
    "outputId": "f6ebd269-0dde-414b-f743-74c4e34cad65"
   },
   "outputs": [
    {
     "data": {
      "image/png": "[encoded data removed]",
      "text/plain": [
       "<Figure size 700x500 with 1 Axes>"
      ]
     },
     "execution_count": 8,
     "metadata": {},
     "output_type": "execute_result"
    }
   ],
   "source": [
    "res =  run_circuit(circ)\n",
    "counts = res.get_counts(circ)\n",
    "counts = {k: counts[k]/100 for k in counts.keys()}\n",
    "\n",
    "plot_histogram(counts)"
   ]
  },
  {
   "cell_type": "markdown",
   "id": "b3062e94-b088-4b40-8a82-640af32841f7",
   "metadata": {},
   "source": [
    "## Pauli Gates - XYZ  <a id='22'></a>\n",
    "\n",
    "The Pauli gates are the Pauli matrices, and act in a single q-bit."
   ]
  },
  {
   "cell_type": "markdown",
   "id": "7497f20a6fcf5dfd",
   "metadata": {
    "collapsed": false,
    "id": "7497f20a6fcf5dfd",
    "jupyter": {
     "outputs_hidden": false
    }
   },
   "source": [
    "### The X gate  <a id='221'></a>\n",
    "$$X= \\begin{pmatrix}\n",
    "0 & 1\\\\\n",
    "1 & 0\n",
    "\\end{pmatrix}$$\n",
    "\n",
    "This gate acts like the classical NOT gate. If we apply it on the state $|0\\rangle$, it produces the state $|1\\rangle$ and if it acts on the state $|1\\rangle$, it produces the state $|0\\rangle$.\n",
    "$$ X |0 \\rangle = |1\\rangle$$\n",
    "\n",
    "$$X |1 \\rangle = |0\\rangle$$"
   ]
  },
  {
   "cell_type": "code",
   "execution_count": 9,
   "id": "29ce89d2963165f8",
   "metadata": {
    "ExecuteTime": {
     "end_time": "2024-05-26T21:01:41.038502Z",
     "start_time": "2024-05-26T21:01:41.015073Z"
    },
    "colab": {
     "base_uri": "https://localhost:8080/",
     "height": 55
    },
    "id": "29ce89d2963165f8",
    "outputId": "b96011a0-6d8d-4df3-cd0e-9082565fdc95"
   },
   "outputs": [
    {
     "name": "stdout",
     "output_type": "stream",
     "text": [
      "The state after action of X gate\n"
     ]
    },
    {
     "data": {
      "text/latex": [
       "$$ |1\\rangle$$"
      ],
      "text/plain": [
       "<IPython.core.display.Latex object>"
      ]
     },
     "execution_count": 9,
     "metadata": {},
     "output_type": "execute_result"
    }
   ],
   "source": [
    "n = 1\n",
    "qb = QuantumRegister(size=n, name=\"qubit\")\n",
    "cb = ClassicalRegister(size=n, name=\"bit\")\n",
    "\n",
    "circ = QuantumCircuit(qb, cb)\n",
    "circ.x(qb[0])\n",
    "\n",
    "print(\"The state after action of X gate\")\n",
    "Statevector(circ).draw(\"latex\", convention=\"ket\")"
   ]
  },
  {
   "cell_type": "code",
   "execution_count": 10,
   "id": "D6OZVKQHf8dm",
   "metadata": {
    "ExecuteTime": {
     "end_time": "2024-05-26T21:01:41.304160Z",
     "start_time": "2024-05-26T21:01:41.045260Z"
    },
    "colab": {
     "base_uri": "https://localhost:8080/",
     "height": 191
    },
    "id": "D6OZVKQHf8dm",
    "outputId": "09334e32-5d7d-4662-edc7-f189d74caa81"
   },
   "outputs": [
    {
     "data": {
      "image/png": "[encoded data removed]",
      "text/plain": [
       "<Figure size 325.159x200.667 with 1 Axes>"
      ]
     },
     "execution_count": 10,
     "metadata": {},
     "output_type": "execute_result"
    }
   ],
   "source": [
    "circ.measure(qb, cb)\n",
    "circ.draw('mpl', style=\"clifford\")"
   ]
  },
  {
   "cell_type": "code",
   "execution_count": 11,
   "id": "CO_98c3TI7s0",
   "metadata": {
    "ExecuteTime": {
     "end_time": "2024-05-26T21:01:41.563752Z",
     "start_time": "2024-05-26T21:01:41.308134Z"
    },
    "colab": {
     "base_uri": "https://localhost:8080/",
     "height": 449
    },
    "id": "CO_98c3TI7s0",
    "outputId": "35723323-e4d6-4d09-9f34-78e21eb79733"
   },
   "outputs": [
    {
     "data": {
      "image/png": "[encoded data removed]",
      "text/plain": [
       "<Figure size 700x500 with 1 Axes>"
      ]
     },
     "execution_count": 11,
     "metadata": {},
     "output_type": "execute_result"
    }
   ],
   "source": [
    "result = run_circuit(circ)\n",
    "counts = result.get_counts(circ)\n",
    "counts = {k: counts[k]/100 for k in counts.keys()}\n",
    "# plotting histogram\n",
    "plot_histogram(counts)"
   ]
  },
  {
   "cell_type": "markdown",
   "id": "6ad54bec6dd816b4",
   "metadata": {
    "collapsed": false,
    "id": "6ad54bec6dd816b4",
    "jupyter": {
     "outputs_hidden": false
    }
   },
   "source": [
    "### The Y gate <a id='222'></a>\n",
    "\n",
    "\n",
    "$$Y= \\begin{pmatrix}\n",
    "0 & -i\\\\\n",
    "i & 0\n",
    "\\end{pmatrix}$$\n",
    "\n",
    "Applying it on the states $|0\\rangle$ and $|1\\rangle$ will produce\n",
    "\n",
    "$$\n",
    "Y |0 \\rangle = i|1\\rangle\n",
    "$$\n",
    "\n",
    "$$\n",
    "Y |1 \\rangle = -i|0\\rangle\n",
    "$$"
   ]
  },
  {
   "cell_type": "code",
   "execution_count": 12,
   "id": "a0cc0f067036a035",
   "metadata": {
    "ExecuteTime": {
     "end_time": "2024-05-26T21:01:41.648262Z",
     "start_time": "2024-05-26T21:01:41.566767Z"
    },
    "colab": {
     "base_uri": "https://localhost:8080/",
     "height": 56
    },
    "id": "a0cc0f067036a035",
    "outputId": "8f6d3dc9-ad5f-4b86-f0c3-fc911408c311"
   },
   "outputs": [
    {
     "name": "stdout",
     "output_type": "stream",
     "text": [
      "The state after action of Y gate\n"
     ]
    },
    {
     "data": {
      "text/latex": [
       "$$i |1\\rangle$$"
      ],
      "text/plain": [
       "<IPython.core.display.Latex object>"
      ]
     },
     "execution_count": 12,
     "metadata": {},
     "output_type": "execute_result"
    }
   ],
   "source": [
    "n = 1\n",
    "qb = QuantumRegister(size=n, name=\"qubit\")\n",
    "cb = ClassicalRegister(size=n, name=\"bit\")\n",
    "\n",
    "circ = QuantumCircuit(qb, cb)\n",
    "circ.y(qb[0])\n",
    "\n",
    "print(\"The state after action of Y gate\")\n",
    "Statevector(circ).draw(\"latex\", convention=\"ket\")\n"
   ]
  },
  {
   "cell_type": "code",
   "execution_count": 13,
   "id": "_ZXbooHhfBBD",
   "metadata": {
    "ExecuteTime": {
     "end_time": "2024-05-26T21:01:41.933084Z",
     "start_time": "2024-05-26T21:01:41.651934Z"
    },
    "colab": {
     "base_uri": "https://localhost:8080/",
     "height": 191
    },
    "id": "_ZXbooHhfBBD",
    "outputId": "5f8c45d1-91a3-4446-d82d-3c207fbeda6c"
   },
   "outputs": [
    {
     "data": {
      "image/png": "[encoded data removed]",
      "text/plain": [
       "<Figure size 325.159x200.667 with 1 Axes>"
      ]
     },
     "execution_count": 13,
     "metadata": {},
     "output_type": "execute_result"
    }
   ],
   "source": [
    "circ.measure(qb, cb)\n",
    "circ.draw('mpl', style=\"clifford\")"
   ]
  },
  {
   "cell_type": "code",
   "execution_count": 14,
   "id": "EUQWLCIiJZnI",
   "metadata": {
    "ExecuteTime": {
     "end_time": "2024-05-26T21:01:42.245001Z",
     "start_time": "2024-05-26T21:01:41.936549Z"
    },
    "colab": {
     "base_uri": "https://localhost:8080/",
     "height": 449
    },
    "id": "EUQWLCIiJZnI",
    "outputId": "74c94737-7604-4772-e29f-25a1a8de871f"
   },
   "outputs": [
    {
     "data": {
      "image/png": "[encoded data removed]",
      "text/plain": [
       "<Figure size 700x500 with 1 Axes>"
      ]
     },
     "execution_count": 14,
     "metadata": {},
     "output_type": "execute_result"
    }
   ],
   "source": [
    "result = run_circuit(circ)\n",
    "counts = result.get_counts(circ)\n",
    "counts = {k: counts[k]/100 for k in counts.keys()}\n",
    "\n",
    "plot_histogram(counts)"
   ]
  },
  {
   "cell_type": "markdown",
   "id": "60187eae451f8b99",
   "metadata": {
    "collapsed": false,
    "id": "60187eae451f8b99",
    "jupyter": {
     "outputs_hidden": false
    }
   },
   "source": [
    "### The Z gate <a id='223'></a>\n",
    "\n",
    "$$ Z = \\begin{pmatrix}\n",
    "1 & 0 \\\\\n",
    "0 & -1\n",
    "\\end{pmatrix}$$\n",
    "\n",
    "Applying it on the state $|0\\rangle$ and $|1\\rangle$ gives\n",
    "\n",
    "\n",
    "$$\n",
    "Z |0 \\rangle = |0\\rangle\n",
    "$$\n",
    "\n",
    "$$\n",
    "Z |1 \\rangle = -|1\\rangle\n",
    "$$"
   ]
  },
  {
   "cell_type": "code",
   "execution_count": 15,
   "id": "8be3c3f36a938b",
   "metadata": {
    "ExecuteTime": {
     "end_time": "2024-05-26T21:01:42.266015Z",
     "start_time": "2024-05-26T21:01:42.248991Z"
    },
    "colab": {
     "base_uri": "https://localhost:8080/",
     "height": 55
    },
    "id": "8be3c3f36a938b",
    "outputId": "c3c2f07d-709b-4d54-94c9-96c9344c83b1"
   },
   "outputs": [
    {
     "name": "stdout",
     "output_type": "stream",
     "text": [
      "The state after action of Z gate \n"
     ]
    },
    {
     "data": {
      "text/latex": [
       "$$ |0\\rangle$$"
      ],
      "text/plain": [
       "<IPython.core.display.Latex object>"
      ]
     },
     "execution_count": 15,
     "metadata": {},
     "output_type": "execute_result"
    }
   ],
   "source": [
    "n = 1\n",
    "qb = QuantumRegister(size=n, name=\"qubit\")\n",
    "cb = ClassicalRegister(size=n, name=\"bit\")\n",
    "\n",
    "circ = QuantumCircuit(qb, cb)\n",
    "# circ.x(qb[0]) # inverting the state with X\n",
    "circ.z(qb[0])\n",
    "\n",
    "print(\"The state after action of Z gate \")\n",
    "Statevector(circ).draw(\"latex\", convention=\"ket\")"
   ]
  },
  {
   "cell_type": "code",
   "execution_count": 16,
   "id": "6NsFR2HmfJfb",
   "metadata": {
    "ExecuteTime": {
     "end_time": "2024-05-26T21:01:42.534161Z",
     "start_time": "2024-05-26T21:01:42.271605Z"
    },
    "colab": {
     "base_uri": "https://localhost:8080/",
     "height": 191
    },
    "id": "6NsFR2HmfJfb",
    "outputId": "b1a22df9-7e2f-44c8-d02d-7fbe16e1601e"
   },
   "outputs": [
    {
     "data": {
      "image/png": "[encoded data removed]",
      "text/plain": [
       "<Figure size 325.159x200.667 with 1 Axes>"
      ]
     },
     "execution_count": 16,
     "metadata": {},
     "output_type": "execute_result"
    }
   ],
   "source": [
    "circ.measure(qb, cb)\n",
    "circ.draw('mpl', style=\"clifford\")"
   ]
  },
  {
   "cell_type": "code",
   "execution_count": 17,
   "id": "4180be29db40a730",
   "metadata": {
    "ExecuteTime": {
     "end_time": "2024-05-26T21:01:42.828969Z",
     "start_time": "2024-05-26T21:01:42.537948Z"
    },
    "colab": {
     "base_uri": "https://localhost:8080/",
     "height": 449
    },
    "id": "4180be29db40a730",
    "outputId": "5cebcc5e-002a-4f53-9ef4-3afd370b8c0d"
   },
   "outputs": [
    {
     "data": {
      "image/png": "[encoded data removed]",
      "text/plain": [
       "<Figure size 700x500 with 1 Axes>"
      ]
     },
     "execution_count": 17,
     "metadata": {},
     "output_type": "execute_result"
    }
   ],
   "source": [
    "result = run_circuit(circ)\n",
    "counts = result.get_counts(circ)\n",
    "counts = {k: counts[k]/100 for k in counts.keys()}\n",
    "plot_histogram(counts)"
   ]
  },
  {
   "cell_type": "markdown",
   "id": "bd082d8d-02bf-4a8e-85ac-553d03f29bda",
   "metadata": {},
   "source": [
    "# Two qubit states  <a id='3'></a>\n",
    "\n",
    "We take advatage of the matrix product operation to construct a two-quibit basis.\n",
    "There are 4 possible states in a system consisting of two qubits:\n",
    "\n",
    "| $q_0$                 |   $q_1$       | $|q_0, q_1\\rangle$ |\n",
    "|:------:               |:---------:    |:---------:         |\n",
    "|   $ | 0\\rangle$       | $ | 0\\rangle$ | $|00\\rangle$|\n",
    "|   $ | 0\\rangle$       | $ | 1\\rangle$ | $|01\\rangle$ |\n",
    "|   $ | 1\\rangle$       | $ | 0\\rangle$ | $|10\\rangle$|\n",
    "|   $ | 1\\rangle$       | $ | 1\\rangle$ | $|11\\rangle$ |\n",
    "\n",
    "\n",
    "The two q-ubit basis is wrriten as the tensor products\n",
    "\n",
    "$$ |00\\rangle =  |0\\rangle \\otimes | 0\\rangle = \n",
    "\\begin{pmatrix}\n",
    "1 \\\\\n",
    "0\n",
    "\\end{pmatrix}\n",
    "\\otimes\n",
    "\\begin{pmatrix} \n",
    "1 \\\\ \n",
    "0\n",
    "\\end{pmatrix} =\n",
    "\\begin{pmatrix} \n",
    "1 \\begin{pmatrix} 1 \\\\ 0\\end{pmatrix} \\\\ \n",
    "0 \\begin{pmatrix} 1 \\\\ 0\\end{pmatrix} \n",
    "\\end{pmatrix}=\n",
    "\\begin{pmatrix}\n",
    "1 \\\\\n",
    "0 \\\\\n",
    "0 \\\\\n",
    "0\n",
    "\\end{pmatrix}\n",
    "$$\n",
    "\n",
    "\n",
    "$$ |01\\rangle =  |0\\rangle \\otimes | 1\\rangle = \n",
    "\\begin{pmatrix}\n",
    "1 \\\\\n",
    "0\n",
    "\\end{pmatrix}\n",
    "\\otimes\n",
    "\\begin{pmatrix} \n",
    "0 \\\\ \n",
    "1\n",
    "\\end{pmatrix} =\n",
    "\\begin{pmatrix} \n",
    "1 \\begin{pmatrix} 0 \\\\ 1\\end{pmatrix} \\\\ \n",
    "0 \\begin{pmatrix} 0 \\\\ 1\\end{pmatrix} \n",
    "\\end{pmatrix}=\n",
    "\\begin{pmatrix}\n",
    "0 \\\\\n",
    "1 \\\\\n",
    "0 \\\\\n",
    "0\n",
    "\\end{pmatrix}\n",
    "$$\n",
    "\n",
    "\n",
    "$$ |10\\rangle =  |1\\rangle \\otimes | 0\\rangle = \n",
    "\\begin{pmatrix}\n",
    "0 \\\\\n",
    "1\n",
    "\\end{pmatrix}\n",
    "\\otimes\n",
    "\\begin{pmatrix} \n",
    "1 \\\\ \n",
    "0\n",
    "\\end{pmatrix} =\n",
    "\\begin{pmatrix} \n",
    "0 \\begin{pmatrix} 1 \\\\ 0\\end{pmatrix} \\\\ \n",
    "1 \\begin{pmatrix} 1 \\\\ 0\\end{pmatrix} \n",
    "\\end{pmatrix}=\n",
    "\\begin{pmatrix}\n",
    "0 \\\\\n",
    "0 \\\\\n",
    "1 \\\\\n",
    "0\n",
    "\\end{pmatrix}\n",
    "$$\n",
    "\n",
    "\n",
    "$$ |11\\rangle =  |1\\rangle \\otimes | 1\\rangle = \n",
    "\\begin{pmatrix}\n",
    "0 \\\\\n",
    "1\n",
    "\\end{pmatrix}\n",
    "\\otimes\n",
    "\\begin{pmatrix} \n",
    "0 \\\\ \n",
    "1\n",
    "\\end{pmatrix} =\n",
    "\\begin{pmatrix} \n",
    "0 \\begin{pmatrix} 0 \\\\ 1\\end{pmatrix} \\\\ \n",
    "1 \\begin{pmatrix} 0 \\\\ 1\\end{pmatrix} \n",
    "\\end{pmatrix}=\n",
    "\\begin{pmatrix}\n",
    "0 \\\\\n",
    "0 \\\\\n",
    "0 \\\\\n",
    "1\n",
    "\\end{pmatrix}\n",
    "$$\n"
   ]
  },
  {
   "cell_type": "code",
   "execution_count": 18,
   "id": "abd6ff41-7d40-4fc9-9c12-a8777296fbe2",
   "metadata": {
    "ExecuteTime": {
     "end_time": "2024-05-26T21:01:42.856596Z",
     "start_time": "2024-05-26T21:01:42.835009Z"
    }
   },
   "outputs": [
    {
     "name": "stdout",
     "output_type": "stream",
     "text": [
      "Two q-ubit states: \n"
     ]
    },
    {
     "data": {
      "text/latex": [
       "$$ |11\\rangle$$"
      ],
      "text/plain": [
       "<IPython.core.display.Latex object>"
      ]
     },
     "execution_count": 18,
     "metadata": {},
     "output_type": "execute_result"
    }
   ],
   "source": [
    "n = 2\n",
    "# define our quantum bits\n",
    "qb = QuantumRegister(size=n, name=\"qubit\") \n",
    "# define our classical bits\n",
    "cb = ClassicalRegister(size=n, name=\"bit\") \n",
    "\n",
    "# Creates a quantum circuit with one q-bit\n",
    "quantum_circuit = QuantumCircuit(qb, cb)\n",
    "\n",
    "# state 01 (10 no qiskit a notação é trocada)\n",
    "# quantum_circuit.x(qb[1])\n",
    "\n",
    "# state 10 (01 no qiskit a notação é trocada)\n",
    "# quantum_circuit.x(qb[0])\n",
    "\n",
    "# state 11\n",
    "quantum_circuit.x(qb[0])\n",
    "quantum_circuit.x(qb[1])\n",
    "\n",
    "print(\"Two q-ubit states: \")\n",
    "Statevector(quantum_circuit).draw(\"latex\", convention=\"ket\")"
   ]
  },
  {
   "cell_type": "code",
   "execution_count": 19,
   "id": "68a1267a-d35b-49fc-a6fd-71ea8926f1ec",
   "metadata": {
    "ExecuteTime": {
     "end_time": "2024-05-26T21:01:43.349095Z",
     "start_time": "2024-05-26T21:01:42.863005Z"
    }
   },
   "outputs": [
    {
     "data": {
      "image/png": "[encoded data removed]",
      "text/plain": [
       "<Figure size 700x500 with 1 Axes>"
      ]
     },
     "metadata": {},
     "output_type": "display_data"
    }
   ],
   "source": [
    "measure_experiment(qb, cb, quantum_circuit)"
   ]
  },
  {
   "cell_type": "markdown",
   "id": "832f0b82-d4bf-4c54-b7b2-016fbddb8848",
   "metadata": {},
   "source": [
    "## Superposition in a two q-ubit state <a id='31'></a>"
   ]
  },
  {
   "cell_type": "code",
   "execution_count": 20,
   "id": "8564bdf1-f5e5-4890-a58e-59291d1152f0",
   "metadata": {
    "ExecuteTime": {
     "end_time": "2024-05-26T21:01:43.383460Z",
     "start_time": "2024-05-26T21:01:43.353629Z"
    }
   },
   "outputs": [
    {
     "name": "stdout",
     "output_type": "stream",
     "text": [
      "Two q-ubit states: \n"
     ]
    },
    {
     "data": {
      "text/latex": [
       "$$\\frac{1}{2} |00\\rangle+\\frac{1}{2} |01\\rangle+\\frac{1}{2} |10\\rangle+\\frac{1}{2} |11\\rangle$$"
      ],
      "text/plain": [
       "<IPython.core.display.Latex object>"
      ]
     },
     "execution_count": 20,
     "metadata": {},
     "output_type": "execute_result"
    }
   ],
   "source": [
    "n = 2\n",
    "# define our quantum bits\n",
    "qb = QuantumRegister(size=n, name=\"qubit\") \n",
    "# define our classical bits\n",
    "cb = ClassicalRegister(size=n, name=\"bit\") \n",
    "\n",
    "# Creates a quantum circuit with one q-bit\n",
    "quantum_circuit = QuantumCircuit(qb, cb)\n",
    "\n",
    "# superposition in the first q-ubit\n",
    "# quantum_circuit.h(qb[0])\n",
    "\n",
    "# superposition in the second q-ubit\n",
    "# quantum_circuit.h(qb[1])\n",
    "\n",
    "# superposition in both q-ubits\n",
    "quantum_circuit.h(qb[0])\n",
    "quantum_circuit.h(qb[1])\n",
    "\n",
    "print(\"Two q-ubit states: \")\n",
    "Statevector(quantum_circuit).draw(\"latex\", convention=\"ket\")"
   ]
  },
  {
   "cell_type": "code",
   "execution_count": 21,
   "id": "be07f86c-09b4-4a62-8f60-97467d3871b6",
   "metadata": {
    "ExecuteTime": {
     "end_time": "2024-05-26T21:01:43.819190Z",
     "start_time": "2024-05-26T21:01:43.386120Z"
    }
   },
   "outputs": [
    {
     "data": {
      "image/png": "[encoded data removed]",
      "text/plain": [
       "<Figure size 700x500 with 1 Axes>"
      ]
     },
     "metadata": {},
     "output_type": "display_data"
    }
   ],
   "source": [
    "measure_experiment(qb, cb, quantum_circuit)"
   ]
  },
  {
   "cell_type": "markdown",
   "id": "Y8AtGNxqN-pG",
   "metadata": {
    "id": "Y8AtGNxqN-pG"
   },
   "source": [
    "# Creating entanglement  <a id='4'></a>\n",
    "\n",
    "The controlled gates act on 2 or more qubits, where one or more qubits act as a control for some operation.\n",
    "\n",
    "For example, the controlled NOT gate (or CNOT or CX) acts on 2 qubits, and performs the NOT operation on the second qubit only when the first qubit is\n",
    "$|1\\rangle$, and otherwise leaves it unchanged.\n",
    "\n",
    "With respect to the basis $|00\\rangle$, $|01\\rangle$, $|10\\rangle$, $|11\\rangle$ , it is represented by the Hermitian unitary matrix\n",
    "\n",
    "$$CNOT = \\begin{pmatrix}\n",
    "1 & 0  & 0 & 0\\\\\n",
    "0 & 1  & 0 & 0\\\\\n",
    "0 & 0  & 0 & 1\\\\\n",
    "0 & 0  & 1 & 0\n",
    "\\end{pmatrix}$$\n",
    "\n",
    "| Before |           | After |           |\n",
    "|:------:|:---------:|:-----:|:---------:|\n",
    "| $q_0$  |   $q_1$   | $q_0$ |   $q_1$   |\n",
    "|   $    | 0\\rangle$ |   $   | 0\\rangle$ | $|0\\rangle$ | $|0\\rangle$ |\n",
    "|   $    | 0\\rangle$ |   $   | 1\\rangle$ | $|0\\rangle$ | $|1\\rangle$ |\n",
    "|   $    | 1\\rangle$ |   $   | 0\\rangle$ | $|1\\rangle$ | $|1\\rangle$ |\n",
    "|   $    | 1\\rangle$ |   $   | 1\\rangle$ | $|1\\rangle$ | $|0\\rangle$ |\n",
    "\n",
    "In bellow, the gates are added to the circuit one-by-one to form the Bell states."
   ]
  },
  {
   "cell_type": "markdown",
   "id": "b7042855cd975463",
   "metadata": {
    "collapsed": false,
    "jupyter": {
     "outputs_hidden": false
    }
   },
   "source": [
    "## First Bell state <a id='41'></a>\n",
    "\n",
    "$$|\\Phi^{+}⟩ = \\frac{1}{\\sqrt{2}}(|00⟩+ |11⟩) $$"
   ]
  },
  {
   "cell_type": "code",
   "execution_count": 22,
   "id": "c7CbN_mMd8YM",
   "metadata": {
    "ExecuteTime": {
     "end_time": "2024-05-26T21:01:43.856228Z",
     "start_time": "2024-05-26T21:01:43.822960Z"
    },
    "colab": {
     "base_uri": "https://localhost:8080/",
     "height": 58
    },
    "id": "c7CbN_mMd8YM",
    "outputId": "ef0a3bca-75f1-49ea-a20a-42a25208549f"
   },
   "outputs": [
    {
     "name": "stdout",
     "output_type": "stream",
     "text": [
      "Bell state: \n"
     ]
    },
    {
     "data": {
      "text/latex": [
       "$$\\frac{\\sqrt{2}}{2} |00\\rangle+\\frac{\\sqrt{2}}{2} |11\\rangle$$"
      ],
      "text/plain": [
       "<IPython.core.display.Latex object>"
      ]
     },
     "execution_count": 22,
     "metadata": {},
     "output_type": "execute_result"
    }
   ],
   "source": [
    "n = 2\n",
    "qb = QuantumRegister(n, name=\"qubit\")\n",
    "cb = ClassicalRegister(n, name=\"bit\")\n",
    "circ = QuantumCircuit(qb, cb)\n",
    "\n",
    "# use a Hadamard gate on qubit 0, which puts it into a superposition state.\n",
    "circ.h(qb[0])\n",
    "# A controlled-Not operation on control qubit 0 and target qubit 1,\n",
    "# putting the qubits in an entangled state.\n",
    "circ.cx(qb[0], qb[1])\n",
    "\n",
    "print(\"Bell state: \")\n",
    "Statevector(circ).draw(\"latex\", convention=\"ket\")"
   ]
  },
  {
   "cell_type": "code",
   "execution_count": 23,
   "id": "mb12HwIVI86E",
   "metadata": {
    "ExecuteTime": {
     "end_time": "2024-05-26T21:01:44.206032Z",
     "start_time": "2024-05-26T21:01:43.860407Z"
    },
    "colab": {
     "base_uri": "https://localhost:8080/",
     "height": 255
    },
    "id": "mb12HwIVI86E",
    "outputId": "ef814c06-8edb-4eaf-f2c2-8c1154572a47"
   },
   "outputs": [
    {
     "data": {
      "image/png": "[encoded data removed]",
      "text/plain": [
       "<Figure size 510.612x284.278 with 1 Axes>"
      ]
     },
     "execution_count": 23,
     "metadata": {},
     "output_type": "execute_result"
    }
   ],
   "source": [
    "# measuring\n",
    "circ.measure(qb, cb)\n",
    "circ.draw('mpl', style=\"clifford\")"
   ]
  },
  {
   "cell_type": "code",
   "execution_count": 24,
   "id": "7t97zg8EOJYJ",
   "metadata": {
    "ExecuteTime": {
     "end_time": "2024-05-26T21:01:44.502312Z",
     "start_time": "2024-05-26T21:01:44.209179Z"
    },
    "colab": {
     "base_uri": "https://localhost:8080/",
     "height": 461
    },
    "id": "7t97zg8EOJYJ",
    "outputId": "349cff9f-02bf-466e-9931-23ad9fa4183a"
   },
   "outputs": [
    {
     "data": {
      "image/png": "[encoded data removed]",
      "text/plain": [
       "<Figure size 700x500 with 1 Axes>"
      ]
     },
     "execution_count": 24,
     "metadata": {},
     "output_type": "execute_result"
    }
   ],
   "source": [
    "result = run_circuit(circ)\n",
    "counts = result.get_counts(circ)\n",
    "counts = {k: counts[k]/100 for k in counts.keys()}\n",
    "plot_histogram(counts)"
   ]
  },
  {
   "cell_type": "markdown",
   "id": "5e55f616801eea33",
   "metadata": {
    "collapsed": false,
    "jupyter": {
     "outputs_hidden": false
    }
   },
   "source": [
    "## Second Bell state <a id='42'></a>\n",
    "\n",
    "$$|\\Phi^{-}⟩ = \\frac{1}{\\sqrt{2}}(|00⟩ - |11⟩) $$"
   ]
  },
  {
   "cell_type": "code",
   "execution_count": 25,
   "id": "da35bf1c990d2f84",
   "metadata": {
    "ExecuteTime": {
     "end_time": "2024-05-26T21:01:44.543006Z",
     "start_time": "2024-05-26T21:01:44.505313Z"
    },
    "collapsed": false,
    "jupyter": {
     "outputs_hidden": false
    }
   },
   "outputs": [
    {
     "name": "stdout",
     "output_type": "stream",
     "text": [
      "Bell state: \n"
     ]
    },
    {
     "data": {
      "text/latex": [
       "$$\\frac{\\sqrt{2}}{2} |00\\rangle- \\frac{\\sqrt{2}}{2} |11\\rangle$$"
      ],
      "text/plain": [
       "<IPython.core.display.Latex object>"
      ]
     },
     "execution_count": 25,
     "metadata": {},
     "output_type": "execute_result"
    }
   ],
   "source": [
    "n = 2\n",
    "qb = QuantumRegister(n, name=\"qubit\")\n",
    "cb = ClassicalRegister(n, name=\"bit\")\n",
    "circ = QuantumCircuit(qb, cb)\n",
    "\n",
    "# gates\n",
    "circ.x(qb[0])\n",
    "circ.h(qb[0])\n",
    "circ.cx(qb[0], qb[1])\n",
    "\n",
    "print(\"Bell state: \")\n",
    "Statevector(circ).draw(\"latex\", convention=\"ket\")"
   ]
  },
  {
   "cell_type": "code",
   "execution_count": 26,
   "id": "1e69d38b3402ee41",
   "metadata": {
    "ExecuteTime": {
     "end_time": "2024-05-26T21:01:44.996076Z",
     "start_time": "2024-05-26T21:01:44.546157Z"
    },
    "collapsed": false,
    "jupyter": {
     "outputs_hidden": false
    }
   },
   "outputs": [
    {
     "data": {
      "image/png": "[encoded data removed]",
      "text/plain": [
       "<Figure size 594.223x284.278 with 1 Axes>"
      ]
     },
     "execution_count": 26,
     "metadata": {},
     "output_type": "execute_result"
    }
   ],
   "source": [
    "# measuring\n",
    "circ.measure(qb, cb)\n",
    "circ.draw('mpl', style=\"clifford\")"
   ]
  },
  {
   "cell_type": "code",
   "execution_count": 27,
   "id": "6a4017961456ee87",
   "metadata": {
    "ExecuteTime": {
     "end_time": "2024-05-26T21:01:45.300964Z",
     "start_time": "2024-05-26T21:01:44.999452Z"
    },
    "collapsed": false,
    "jupyter": {
     "outputs_hidden": false
    }
   },
   "outputs": [
    {
     "data": {
      "image/png": "[encoded data removed]",
      "text/plain": [
       "<Figure size 700x500 with 1 Axes>"
      ]
     },
     "execution_count": 27,
     "metadata": {},
     "output_type": "execute_result"
    }
   ],
   "source": [
    "result = run_circuit(circ)\n",
    "counts = result.get_counts(circ)\n",
    "counts = {k: counts[k]/100 for k in counts.keys()}\n",
    "\n",
    "plot_histogram(counts)"
   ]
  },
  {
   "cell_type": "markdown",
   "id": "19430f7ecc123d97",
   "metadata": {
    "collapsed": false,
    "jupyter": {
     "outputs_hidden": false
    }
   },
   "source": [
    "## Third Bell state <a id='43'></a>\n",
    "\n",
    "$$|\\Psi^{+}⟩ = \\frac{1}{\\sqrt{2}}(|01⟩ + |10⟩) $$"
   ]
  },
  {
   "cell_type": "code",
   "execution_count": 28,
   "id": "5f1fcdbed273ee38",
   "metadata": {
    "ExecuteTime": {
     "end_time": "2024-05-26T21:01:45.735701Z",
     "start_time": "2024-05-26T21:01:45.311216Z"
    },
    "collapsed": false,
    "editable": true,
    "jupyter": {
     "outputs_hidden": false
    },
    "slideshow": {
     "slide_type": ""
    },
    "tags": []
   },
   "outputs": [
    {
     "name": "stdout",
     "output_type": "stream",
     "text": [
      "Bell state: \n"
     ]
    },
    {
     "data": {
      "text/latex": [
       "$$\\frac{\\sqrt{2}}{2} |01\\rangle+\\frac{\\sqrt{2}}{2} |10\\rangle$$"
      ],
      "text/plain": [
       "<IPython.core.display.Latex object>"
      ]
     },
     "metadata": {},
     "output_type": "display_data"
    },
    {
     "data": {
      "image/png": "[encoded data removed]",
      "text/plain": [
       "<Figure size 510.612x284.278 with 1 Axes>"
      ]
     },
     "execution_count": 28,
     "metadata": {},
     "output_type": "execute_result"
    }
   ],
   "source": [
    "n = 2\n",
    "qb = QuantumRegister(n, name=\"qubit\")\n",
    "cb = ClassicalRegister(n, name=\"bit\")\n",
    "circ = QuantumCircuit(qb, cb)\n",
    "\n",
    "# gates\n",
    "circ.x(qb[1])\n",
    "circ.h(qb[0])\n",
    "circ.cx(qb[0], qb[1])\n",
    "\n",
    "print(\"Bell state: \")\n",
    "display(Statevector(circ).draw(\"latex\", convention=\"ket\"))\n",
    "\n",
    "# measuring\n",
    "circ.measure(qb, cb)\n",
    "circ.draw('mpl', style=\"clifford\")"
   ]
  },
  {
   "cell_type": "code",
   "execution_count": 29,
   "id": "6326368a575dea03",
   "metadata": {
    "ExecuteTime": {
     "end_time": "2024-05-26T21:01:46.067926Z",
     "start_time": "2024-05-26T21:01:45.739864Z"
    },
    "collapsed": false,
    "jupyter": {
     "outputs_hidden": false
    }
   },
   "outputs": [
    {
     "data": {
      "image/png": "[encoded data removed]",
      "text/plain": [
       "<Figure size 700x500 with 1 Axes>"
      ]
     },
     "execution_count": 29,
     "metadata": {},
     "output_type": "execute_result"
    }
   ],
   "source": [
    "result = run_circuit(circ)\n",
    "counts = result.get_counts(circ)\n",
    "counts = {k: counts[k]/100 for k in counts.keys()}\n",
    "plot_histogram(counts)"
   ]
  },
  {
   "cell_type": "markdown",
   "id": "cf4f732883bfd6f6",
   "metadata": {
    "collapsed": false,
    "jupyter": {
     "outputs_hidden": false
    }
   },
   "source": [
    "## Fourth Bell state <a id='44'></a>\n",
    "\n",
    "\n",
    "$$|\\Psi^{-}⟩ = \\frac{1}{\\sqrt{2}}(|01⟩ - |10⟩) $$"
   ]
  },
  {
   "cell_type": "code",
   "execution_count": 30,
   "id": "9ca114d60e7a474f",
   "metadata": {
    "ExecuteTime": {
     "end_time": "2024-05-26T21:01:46.517716Z",
     "start_time": "2024-05-26T21:01:46.071018Z"
    },
    "collapsed": false,
    "editable": true,
    "jupyter": {
     "outputs_hidden": false
    },
    "slideshow": {
     "slide_type": ""
    },
    "tags": []
   },
   "outputs": [
    {
     "name": "stdout",
     "output_type": "stream",
     "text": [
      "Bell state: \n"
     ]
    },
    {
     "data": {
      "text/latex": [
       "$$- \\frac{\\sqrt{2}}{2} |01\\rangle+\\frac{\\sqrt{2}}{2} |10\\rangle$$"
      ],
      "text/plain": [
       "<IPython.core.display.Latex object>"
      ]
     },
     "metadata": {},
     "output_type": "display_data"
    },
    {
     "data": {
      "image/png": "[encoded data removed]",
      "text/plain": [
       "<Figure size 594.223x284.278 with 1 Axes>"
      ]
     },
     "execution_count": 30,
     "metadata": {},
     "output_type": "execute_result"
    }
   ],
   "source": [
    "n = 2\n",
    "qb = QuantumRegister(n, name=\"qubit\")\n",
    "cb = ClassicalRegister(n, name=\"bit\")\n",
    "circ = QuantumCircuit(qb, cb)\n",
    "\n",
    "# gates\n",
    "circ.x(qb[0])\n",
    "circ.h(qb[0])\n",
    "circ.x(qb[1])\n",
    "circ.cx(qb[0], qb[1])\n",
    "\n",
    "print(\"Bell state: \")\n",
    "display(Statevector(circ).draw(\"latex\", convention=\"ket\"))\n",
    "\n",
    "# measuring\n",
    "circ.measure(qb, cb)\n",
    "circ.draw('mpl', style=\"clifford\")"
   ]
  },
  {
   "cell_type": "code",
   "execution_count": 31,
   "id": "6890af189cc4c36c",
   "metadata": {
    "ExecuteTime": {
     "end_time": "2024-05-26T21:01:46.839080Z",
     "start_time": "2024-05-26T21:01:46.520879Z"
    },
    "collapsed": false,
    "jupyter": {
     "outputs_hidden": false
    }
   },
   "outputs": [
    {
     "data": {
      "image/png": "[encoded data removed]",
      "text/plain": [
       "<Figure size 700x500 with 1 Axes>"
      ]
     },
     "execution_count": 31,
     "metadata": {},
     "output_type": "execute_result"
    }
   ],
   "source": [
    "result =run_circuit(circ)\n",
    "\n",
    "# Returns counts\n",
    "counts = result.get_counts(circ)\n",
    "\n",
    "counts = {k: counts[k]/100 for k in counts.keys()}\n",
    "# Plot a histogram\n",
    "plot_histogram(counts)\n"
   ]
  },
  {
   "cell_type": "code",
   "execution_count": 36,
   "id": "59cc20abacea372f",
   "metadata": {
    "ExecuteTime": {
     "end_time": "2024-05-26T21:01:46.852337Z",
     "start_time": "2024-05-26T21:01:46.843846Z"
    },
    "collapsed": false,
    "jupyter": {
     "outputs_hidden": false
    }
   },
   "outputs": [
    {
     "data": {
      "text/plain": [
       "45.0"
      ]
     },
     "execution_count": 36,
     "metadata": {},
     "output_type": "execute_result"
    }
   ],
   "source": [
    "180/4"
   ]
  },
  {
   "cell_type": "code",
   "execution_count": null,
   "id": "7ec7df60-7bca-456d-a4ba-2d4044d3c899",
   "metadata": {},
   "outputs": [],
   "source": []
  }
 ],
 "metadata": {
  "colab": {
   "collapsed_sections": [
    "37c82faff5787d50",
    "266bef8d24d0527e",
    "6ad54bec6dd816b4",
    "60187eae451f8b99",
    "Y8AtGNxqN-pG"
   ],
   "provenance": []
  },
  "kernelspec": {
   "display_name": "Python 3 (ipykernel)",
   "language": "python",
   "name": "python3"
  },
  "language_info": {
   "codemirror_mode": {
    "name": "ipython",
    "version": 3
   },
   "file_extension": ".py",
   "mimetype": "text/x-python",
   "name": "python",
   "nbconvert_exporter": "python",
   "pygments_lexer": "ipython3",
   "version": "3.8.10"
  }
 },
 "nbformat": 4,
 "nbformat_minor": 5
}
