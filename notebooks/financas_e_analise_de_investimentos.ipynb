{
 "cells": [
  {
   "cell_type": "markdown",
   "id": "bdfb996bade1d7f1",
   "metadata": {
    "collapsed": false,
    "jupyter": {
     "outputs_hidden": false
    }
   },
   "source": [
    "# Análise de investimentos"
   ]
  },
  {
   "cell_type": "code",
   "execution_count": 1,
   "id": "7a74af9a0377d5d6",
   "metadata": {
    "ExecuteTime": {
     "end_time": "2023-12-13T20:46:48.386065234Z",
     "start_time": "2023-12-13T20:46:47.789951919Z"
    },
    "collapsed": false,
    "jupyter": {
     "outputs_hidden": false
    }
   },
   "outputs": [],
   "source": [
    "import pandas as pd\n",
    "import numpy as np\n",
    "import matplotlib.pyplot as plt\n",
    "import seaborn as sns\n",
    "from pandas_datareader import data as pdr\n",
    "import yfinance \n",
    "from scipy import stats\n",
    "import statsmodels.api as sm\n",
    "\n",
    "yfinance.pdr_override()\n",
    "end = \"2022-12-31\""
   ]
  },
  {
   "cell_type": "code",
   "execution_count": 2,
   "id": "initial_id",
   "metadata": {
    "ExecuteTime": {
     "end_time": "2023-12-13T20:47:07.144731796Z",
     "start_time": "2023-12-13T20:46:48.387014890Z"
    }
   },
   "outputs": [
    {
     "name": "stdout",
     "output_type": "stream",
     "text": [
      "[*********************100%%**********************]  1 of 1 completed\n"
     ]
    }
   ],
   "source": [
    "procter_and_gamble = pdr.get_data_yahoo('PG', start='1995-01-01', end=end)\n",
    "\n",
    "# opção do csv baixado da página a yahoo\n",
    "# procter_and_gamble = pd.read_csv('../data/PG.csv')"
   ]
  },
  {
   "cell_type": "code",
   "execution_count": 3,
   "id": "a948b2de7b44ff20",
   "metadata": {
    "ExecuteTime": {
     "end_time": "2023-12-13T20:47:07.174134473Z",
     "start_time": "2023-12-13T20:47:07.124400139Z"
    },
    "collapsed": false,
    "jupyter": {
     "outputs_hidden": false
    }
   },
   "outputs": [
    {
     "data": {
      "text/html": [
       "<div>\n",
       "<style scoped>\n",
       "    .dataframe tbody tr th:only-of-type {\n",
       "        vertical-align: middle;\n",
       "    }\n",
       "\n",
       "    .dataframe tbody tr th {\n",
       "        vertical-align: top;\n",
       "    }\n",
       "\n",
       "    .dataframe thead th {\n",
       "        text-align: right;\n",
       "    }\n",
       "</style>\n",
       "<table border=\"1\" class=\"dataframe\">\n",
       "  <thead>\n",
       "    <tr style=\"text-align: right;\">\n",
       "      <th></th>\n",
       "      <th>Open</th>\n",
       "      <th>High</th>\n",
       "      <th>Low</th>\n",
       "      <th>Close</th>\n",
       "      <th>Adj Close</th>\n",
       "      <th>Volume</th>\n",
       "    </tr>\n",
       "    <tr>\n",
       "      <th>Date</th>\n",
       "      <th></th>\n",
       "      <th></th>\n",
       "      <th></th>\n",
       "      <th></th>\n",
       "      <th></th>\n",
       "      <th></th>\n",
       "    </tr>\n",
       "  </thead>\n",
       "  <tbody>\n",
       "    <tr>\n",
       "      <th>1995-01-03</th>\n",
       "      <td>15.46875</td>\n",
       "      <td>15.62500</td>\n",
       "      <td>15.43750</td>\n",
       "      <td>15.59375</td>\n",
       "      <td>7.626416</td>\n",
       "      <td>3318400</td>\n",
       "    </tr>\n",
       "    <tr>\n",
       "      <th>1995-01-04</th>\n",
       "      <td>15.53125</td>\n",
       "      <td>15.65625</td>\n",
       "      <td>15.31250</td>\n",
       "      <td>15.46875</td>\n",
       "      <td>7.565281</td>\n",
       "      <td>2218800</td>\n",
       "    </tr>\n",
       "    <tr>\n",
       "      <th>1995-01-05</th>\n",
       "      <td>15.37500</td>\n",
       "      <td>15.43750</td>\n",
       "      <td>15.21875</td>\n",
       "      <td>15.25000</td>\n",
       "      <td>7.458297</td>\n",
       "      <td>2319600</td>\n",
       "    </tr>\n",
       "    <tr>\n",
       "      <th>1995-01-06</th>\n",
       "      <td>15.15625</td>\n",
       "      <td>15.40625</td>\n",
       "      <td>15.15625</td>\n",
       "      <td>15.28125</td>\n",
       "      <td>7.473582</td>\n",
       "      <td>3438000</td>\n",
       "    </tr>\n",
       "    <tr>\n",
       "      <th>1995-01-09</th>\n",
       "      <td>15.34375</td>\n",
       "      <td>15.40625</td>\n",
       "      <td>15.18750</td>\n",
       "      <td>15.21875</td>\n",
       "      <td>7.443018</td>\n",
       "      <td>1795200</td>\n",
       "    </tr>\n",
       "  </tbody>\n",
       "</table>\n",
       "</div>"
      ],
      "text/plain": [
       "                Open      High       Low     Close  Adj Close   Volume\n",
       "Date                                                                  \n",
       "1995-01-03  15.46875  15.62500  15.43750  15.59375   7.626416  3318400\n",
       "1995-01-04  15.53125  15.65625  15.31250  15.46875   7.565281  2218800\n",
       "1995-01-05  15.37500  15.43750  15.21875  15.25000   7.458297  2319600\n",
       "1995-01-06  15.15625  15.40625  15.15625  15.28125   7.473582  3438000\n",
       "1995-01-09  15.34375  15.40625  15.18750  15.21875   7.443018  1795200"
      ]
     },
     "execution_count": 3,
     "metadata": {},
     "output_type": "execute_result"
    }
   ],
   "source": [
    "procter_and_gamble.head()"
   ]
  },
  {
   "cell_type": "code",
   "execution_count": 4,
   "id": "6583c20f20bb3c1c",
   "metadata": {
    "ExecuteTime": {
     "end_time": "2023-12-13T20:47:07.178976036Z",
     "start_time": "2023-12-13T20:47:07.124961777Z"
    },
    "collapsed": false,
    "jupyter": {
     "outputs_hidden": false
    }
   },
   "outputs": [
    {
     "data": {
      "text/html": [
       "<div>\n",
       "<style scoped>\n",
       "    .dataframe tbody tr th:only-of-type {\n",
       "        vertical-align: middle;\n",
       "    }\n",
       "\n",
       "    .dataframe tbody tr th {\n",
       "        vertical-align: top;\n",
       "    }\n",
       "\n",
       "    .dataframe thead th {\n",
       "        text-align: right;\n",
       "    }\n",
       "</style>\n",
       "<table border=\"1\" class=\"dataframe\">\n",
       "  <thead>\n",
       "    <tr style=\"text-align: right;\">\n",
       "      <th></th>\n",
       "      <th>Open</th>\n",
       "      <th>High</th>\n",
       "      <th>Low</th>\n",
       "      <th>Close</th>\n",
       "      <th>Adj Close</th>\n",
       "      <th>Volume</th>\n",
       "    </tr>\n",
       "    <tr>\n",
       "      <th>Date</th>\n",
       "      <th></th>\n",
       "      <th></th>\n",
       "      <th></th>\n",
       "      <th></th>\n",
       "      <th></th>\n",
       "      <th></th>\n",
       "    </tr>\n",
       "  </thead>\n",
       "  <tbody>\n",
       "    <tr>\n",
       "      <th>2022-12-23</th>\n",
       "      <td>152.309998</td>\n",
       "      <td>152.919998</td>\n",
       "      <td>151.669998</td>\n",
       "      <td>152.619995</td>\n",
       "      <td>148.841446</td>\n",
       "      <td>3401800</td>\n",
       "    </tr>\n",
       "    <tr>\n",
       "      <th>2022-12-27</th>\n",
       "      <td>152.699997</td>\n",
       "      <td>154.320007</td>\n",
       "      <td>152.660004</td>\n",
       "      <td>153.949997</td>\n",
       "      <td>150.138535</td>\n",
       "      <td>4215100</td>\n",
       "    </tr>\n",
       "    <tr>\n",
       "      <th>2022-12-28</th>\n",
       "      <td>154.279999</td>\n",
       "      <td>154.649994</td>\n",
       "      <td>151.899994</td>\n",
       "      <td>151.960007</td>\n",
       "      <td>148.197784</td>\n",
       "      <td>4197500</td>\n",
       "    </tr>\n",
       "    <tr>\n",
       "      <th>2022-12-29</th>\n",
       "      <td>152.809998</td>\n",
       "      <td>153.240005</td>\n",
       "      <td>152.139999</td>\n",
       "      <td>152.589996</td>\n",
       "      <td>148.812195</td>\n",
       "      <td>3809100</td>\n",
       "    </tr>\n",
       "    <tr>\n",
       "      <th>2022-12-30</th>\n",
       "      <td>152.429993</td>\n",
       "      <td>152.679993</td>\n",
       "      <td>150.440002</td>\n",
       "      <td>151.559998</td>\n",
       "      <td>147.807693</td>\n",
       "      <td>4532000</td>\n",
       "    </tr>\n",
       "  </tbody>\n",
       "</table>\n",
       "</div>"
      ],
      "text/plain": [
       "                  Open        High         Low       Close   Adj Close  \\\n",
       "Date                                                                     \n",
       "2022-12-23  152.309998  152.919998  151.669998  152.619995  148.841446   \n",
       "2022-12-27  152.699997  154.320007  152.660004  153.949997  150.138535   \n",
       "2022-12-28  154.279999  154.649994  151.899994  151.960007  148.197784   \n",
       "2022-12-29  152.809998  153.240005  152.139999  152.589996  148.812195   \n",
       "2022-12-30  152.429993  152.679993  150.440002  151.559998  147.807693   \n",
       "\n",
       "             Volume  \n",
       "Date                 \n",
       "2022-12-23  3401800  \n",
       "2022-12-27  4215100  \n",
       "2022-12-28  4197500  \n",
       "2022-12-29  3809100  \n",
       "2022-12-30  4532000  "
      ]
     },
     "execution_count": 4,
     "metadata": {},
     "output_type": "execute_result"
    }
   ],
   "source": [
    "procter_and_gamble.tail()"
   ]
  },
  {
   "cell_type": "code",
   "execution_count": 5,
   "id": "9c2792b5841240",
   "metadata": {
    "ExecuteTime": {
     "end_time": "2023-12-13T20:47:07.285193297Z",
     "start_time": "2023-12-13T20:47:07.125446858Z"
    },
    "collapsed": false,
    "jupyter": {
     "outputs_hidden": false
    }
   },
   "outputs": [
    {
     "data": {
      "text/html": [
       "<div>\n",
       "<style scoped>\n",
       "    .dataframe tbody tr th:only-of-type {\n",
       "        vertical-align: middle;\n",
       "    }\n",
       "\n",
       "    .dataframe tbody tr th {\n",
       "        vertical-align: top;\n",
       "    }\n",
       "\n",
       "    .dataframe thead th {\n",
       "        text-align: right;\n",
       "    }\n",
       "</style>\n",
       "<table border=\"1\" class=\"dataframe\">\n",
       "  <thead>\n",
       "    <tr style=\"text-align: right;\">\n",
       "      <th></th>\n",
       "      <th>Date</th>\n",
       "      <th>ano</th>\n",
       "      <th>mes</th>\n",
       "      <th>Adj Close</th>\n",
       "    </tr>\n",
       "  </thead>\n",
       "  <tbody>\n",
       "    <tr>\n",
       "      <th>0</th>\n",
       "      <td>1995-01-03</td>\n",
       "      <td>1995</td>\n",
       "      <td>1</td>\n",
       "      <td>7.626416</td>\n",
       "    </tr>\n",
       "    <tr>\n",
       "      <th>1</th>\n",
       "      <td>1995-01-04</td>\n",
       "      <td>1995</td>\n",
       "      <td>1</td>\n",
       "      <td>7.565281</td>\n",
       "    </tr>\n",
       "    <tr>\n",
       "      <th>2</th>\n",
       "      <td>1995-01-05</td>\n",
       "      <td>1995</td>\n",
       "      <td>1</td>\n",
       "      <td>7.458297</td>\n",
       "    </tr>\n",
       "    <tr>\n",
       "      <th>3</th>\n",
       "      <td>1995-01-06</td>\n",
       "      <td>1995</td>\n",
       "      <td>1</td>\n",
       "      <td>7.473582</td>\n",
       "    </tr>\n",
       "    <tr>\n",
       "      <th>4</th>\n",
       "      <td>1995-01-09</td>\n",
       "      <td>1995</td>\n",
       "      <td>1</td>\n",
       "      <td>7.443018</td>\n",
       "    </tr>\n",
       "    <tr>\n",
       "      <th>...</th>\n",
       "      <td>...</td>\n",
       "      <td>...</td>\n",
       "      <td>...</td>\n",
       "      <td>...</td>\n",
       "    </tr>\n",
       "    <tr>\n",
       "      <th>7045</th>\n",
       "      <td>2022-12-23</td>\n",
       "      <td>2022</td>\n",
       "      <td>12</td>\n",
       "      <td>148.841446</td>\n",
       "    </tr>\n",
       "    <tr>\n",
       "      <th>7046</th>\n",
       "      <td>2022-12-27</td>\n",
       "      <td>2022</td>\n",
       "      <td>12</td>\n",
       "      <td>150.138535</td>\n",
       "    </tr>\n",
       "    <tr>\n",
       "      <th>7047</th>\n",
       "      <td>2022-12-28</td>\n",
       "      <td>2022</td>\n",
       "      <td>12</td>\n",
       "      <td>148.197784</td>\n",
       "    </tr>\n",
       "    <tr>\n",
       "      <th>7048</th>\n",
       "      <td>2022-12-29</td>\n",
       "      <td>2022</td>\n",
       "      <td>12</td>\n",
       "      <td>148.812195</td>\n",
       "    </tr>\n",
       "    <tr>\n",
       "      <th>7049</th>\n",
       "      <td>2022-12-30</td>\n",
       "      <td>2022</td>\n",
       "      <td>12</td>\n",
       "      <td>147.807693</td>\n",
       "    </tr>\n",
       "  </tbody>\n",
       "</table>\n",
       "<p>7050 rows × 4 columns</p>\n",
       "</div>"
      ],
      "text/plain": [
       "           Date   ano  mes   Adj Close\n",
       "0    1995-01-03  1995    1    7.626416\n",
       "1    1995-01-04  1995    1    7.565281\n",
       "2    1995-01-05  1995    1    7.458297\n",
       "3    1995-01-06  1995    1    7.473582\n",
       "4    1995-01-09  1995    1    7.443018\n",
       "...         ...   ...  ...         ...\n",
       "7045 2022-12-23  2022   12  148.841446\n",
       "7046 2022-12-27  2022   12  150.138535\n",
       "7047 2022-12-28  2022   12  148.197784\n",
       "7048 2022-12-29  2022   12  148.812195\n",
       "7049 2022-12-30  2022   12  147.807693\n",
       "\n",
       "[7050 rows x 4 columns]"
      ]
     },
     "execution_count": 5,
     "metadata": {},
     "output_type": "execute_result"
    }
   ],
   "source": [
    "pg = procter_and_gamble[[\"Adj Close\"]].copy().reset_index()\n",
    "pg['Date'] = pd.to_datetime(pg['Date'])\n",
    "pg['ano'] = pg.Date.dt.year\n",
    "pg['mes'] = pg.Date.dt.month\n",
    "pg = pg[['Date', 'ano', 'mes', 'Adj Close']]\n",
    "\n",
    "pg"
   ]
  },
  {
   "cell_type": "markdown",
   "id": "4aa38b15-8365-45f6-89d5-083f513e5e8e",
   "metadata": {
    "jp-MarkdownHeadingCollapsed": true
   },
   "source": [
    "# Calculando o retorno de um investimento"
   ]
  },
  {
   "cell_type": "markdown",
   "id": "61bb47ea871619a3",
   "metadata": {
    "collapsed": false,
    "jupyter": {
     "outputs_hidden": false
    }
   },
   "source": [
    "## Retorno simples \n",
    "Calculado sobre o preço de fechamento\n",
    "\n",
    "### $$\\text{retorno simples} = \\frac{P_1-P_0}{P_0} = \\frac{P_1}{P_0}-1$$ "
   ]
  },
  {
   "cell_type": "code",
   "execution_count": 6,
   "id": "cc0731815733a288",
   "metadata": {
    "ExecuteTime": {
     "end_time": "2023-12-13T20:47:07.315418549Z",
     "start_time": "2023-12-13T20:47:07.162310958Z"
    },
    "collapsed": false,
    "jupyter": {
     "outputs_hidden": false
    }
   },
   "outputs": [
    {
     "data": {
      "text/html": [
       "<div>\n",
       "<style scoped>\n",
       "    .dataframe tbody tr th:only-of-type {\n",
       "        vertical-align: middle;\n",
       "    }\n",
       "\n",
       "    .dataframe tbody tr th {\n",
       "        vertical-align: top;\n",
       "    }\n",
       "\n",
       "    .dataframe thead th {\n",
       "        text-align: right;\n",
       "    }\n",
       "</style>\n",
       "<table border=\"1\" class=\"dataframe\">\n",
       "  <thead>\n",
       "    <tr style=\"text-align: right;\">\n",
       "      <th></th>\n",
       "      <th>Date</th>\n",
       "      <th>ano</th>\n",
       "      <th>mes</th>\n",
       "      <th>Adj Close</th>\n",
       "    </tr>\n",
       "  </thead>\n",
       "  <tbody>\n",
       "    <tr>\n",
       "      <th>0</th>\n",
       "      <td>1995-01-03</td>\n",
       "      <td>1995</td>\n",
       "      <td>1</td>\n",
       "      <td>7.626416</td>\n",
       "    </tr>\n",
       "    <tr>\n",
       "      <th>1</th>\n",
       "      <td>1995-01-04</td>\n",
       "      <td>1995</td>\n",
       "      <td>1</td>\n",
       "      <td>7.565281</td>\n",
       "    </tr>\n",
       "    <tr>\n",
       "      <th>2</th>\n",
       "      <td>1995-01-05</td>\n",
       "      <td>1995</td>\n",
       "      <td>1</td>\n",
       "      <td>7.458297</td>\n",
       "    </tr>\n",
       "    <tr>\n",
       "      <th>3</th>\n",
       "      <td>1995-01-06</td>\n",
       "      <td>1995</td>\n",
       "      <td>1</td>\n",
       "      <td>7.473582</td>\n",
       "    </tr>\n",
       "    <tr>\n",
       "      <th>4</th>\n",
       "      <td>1995-01-09</td>\n",
       "      <td>1995</td>\n",
       "      <td>1</td>\n",
       "      <td>7.443018</td>\n",
       "    </tr>\n",
       "    <tr>\n",
       "      <th>...</th>\n",
       "      <td>...</td>\n",
       "      <td>...</td>\n",
       "      <td>...</td>\n",
       "      <td>...</td>\n",
       "    </tr>\n",
       "    <tr>\n",
       "      <th>7045</th>\n",
       "      <td>2022-12-23</td>\n",
       "      <td>2022</td>\n",
       "      <td>12</td>\n",
       "      <td>148.841446</td>\n",
       "    </tr>\n",
       "    <tr>\n",
       "      <th>7046</th>\n",
       "      <td>2022-12-27</td>\n",
       "      <td>2022</td>\n",
       "      <td>12</td>\n",
       "      <td>150.138535</td>\n",
       "    </tr>\n",
       "    <tr>\n",
       "      <th>7047</th>\n",
       "      <td>2022-12-28</td>\n",
       "      <td>2022</td>\n",
       "      <td>12</td>\n",
       "      <td>148.197784</td>\n",
       "    </tr>\n",
       "    <tr>\n",
       "      <th>7048</th>\n",
       "      <td>2022-12-29</td>\n",
       "      <td>2022</td>\n",
       "      <td>12</td>\n",
       "      <td>148.812195</td>\n",
       "    </tr>\n",
       "    <tr>\n",
       "      <th>7049</th>\n",
       "      <td>2022-12-30</td>\n",
       "      <td>2022</td>\n",
       "      <td>12</td>\n",
       "      <td>147.807693</td>\n",
       "    </tr>\n",
       "  </tbody>\n",
       "</table>\n",
       "<p>7050 rows × 4 columns</p>\n",
       "</div>"
      ],
      "text/plain": [
       "           Date   ano  mes   Adj Close\n",
       "0    1995-01-03  1995    1    7.626416\n",
       "1    1995-01-04  1995    1    7.565281\n",
       "2    1995-01-05  1995    1    7.458297\n",
       "3    1995-01-06  1995    1    7.473582\n",
       "4    1995-01-09  1995    1    7.443018\n",
       "...         ...   ...  ...         ...\n",
       "7045 2022-12-23  2022   12  148.841446\n",
       "7046 2022-12-27  2022   12  150.138535\n",
       "7047 2022-12-28  2022   12  148.197784\n",
       "7048 2022-12-29  2022   12  148.812195\n",
       "7049 2022-12-30  2022   12  147.807693\n",
       "\n",
       "[7050 rows x 4 columns]"
      ]
     },
     "execution_count": 6,
     "metadata": {},
     "output_type": "execute_result"
    }
   ],
   "source": [
    "pg"
   ]
  },
  {
   "cell_type": "code",
   "execution_count": 7,
   "id": "503b950047816e14",
   "metadata": {
    "ExecuteTime": {
     "end_time": "2023-12-13T20:47:07.332666063Z",
     "start_time": "2023-12-13T20:47:07.170742419Z"
    },
    "collapsed": false,
    "jupyter": {
     "outputs_hidden": false
    }
   },
   "outputs": [],
   "source": [
    "pg['retorno_simples'] = (pg['Adj Close']/pg['Adj Close'].shift(1)) - 1"
   ]
  },
  {
   "cell_type": "code",
   "execution_count": 8,
   "id": "4a7af003fa158b55",
   "metadata": {
    "ExecuteTime": {
     "end_time": "2023-12-13T20:47:07.996714615Z",
     "start_time": "2023-12-13T20:47:07.177898862Z"
    },
    "collapsed": false,
    "jupyter": {
     "outputs_hidden": false
    }
   },
   "outputs": [
    {
     "data": {
      "image/png": "[encoded data removed]",
      "text/plain": [
       "<Figure size 800x500 with 1 Axes>"
      ]
     },
     "metadata": {},
     "output_type": "display_data"
    }
   ],
   "source": [
    "pg[['Date', 'retorno_simples']].plot(x='Date', y='retorno_simples', figsize=(8, 5))\n",
    "plt.title(\"Retornos diários da ações PG entre 01-01-1995 até 23-03-2017\")\n",
    "plt.plot(pg.Date, len(pg.Date)*[0], '--')\n",
    "plt.show()"
   ]
  },
  {
   "cell_type": "code",
   "execution_count": 9,
   "id": "271128f376d85015",
   "metadata": {
    "ExecuteTime": {
     "end_time": "2023-12-13T20:47:08.494067628Z",
     "start_time": "2023-12-13T20:47:07.874006933Z"
    },
    "collapsed": false,
    "jupyter": {
     "outputs_hidden": false
    }
   },
   "outputs": [
    {
     "data": {
      "image/png": "[encoded data removed]",
      "text/plain": [
       "<Figure size 800x500 with 1 Axes>"
      ]
     },
     "metadata": {},
     "output_type": "display_data"
    }
   ],
   "source": [
    "pg[['Date', 'Adj Close']].plot(x='Date', y='Adj Close',figsize=(8, 5))\n",
    "plt.title(\"Preço de fechamento para ações PG entre 01-01-1995 até 23-03-2017\")\n",
    "plt.show()"
   ]
  },
  {
   "cell_type": "code",
   "execution_count": 10,
   "id": "c4e70d582b5410a8",
   "metadata": {
    "ExecuteTime": {
     "end_time": "2023-12-13T20:47:08.568339273Z",
     "start_time": "2023-12-13T20:47:08.498048841Z"
    },
    "collapsed": false,
    "jupyter": {
     "outputs_hidden": false
    }
   },
   "outputs": [
    {
     "data": {
      "text/plain": [
       "0.0005205993884961138"
      ]
     },
     "execution_count": 10,
     "metadata": {},
     "output_type": "execute_result"
    }
   ],
   "source": [
    "avg_returns = pg['retorno_simples'].mean()\n",
    "avg_returns"
   ]
  },
  {
   "cell_type": "code",
   "execution_count": 11,
   "id": "f520dae09e0c26ed",
   "metadata": {
    "ExecuteTime": {
     "end_time": "2023-12-13T20:47:08.600312133Z",
     "start_time": "2023-12-13T20:47:08.541434215Z"
    },
    "collapsed": false,
    "jupyter": {
     "outputs_hidden": false
    }
   },
   "outputs": [
    {
     "name": "stdout",
     "output_type": "stream",
     "text": [
      "retorno anual médio 13.015 %\n"
     ]
    }
   ],
   "source": [
    "avg_returns_year = pg['retorno_simples'].mean() * 250\n",
    "print(f'retorno anual médio {round(avg_returns_year*100, 3)} %')"
   ]
  },
  {
   "cell_type": "markdown",
   "id": "5ad55b0c50669cad",
   "metadata": {
    "collapsed": false,
    "jupyter": {
     "outputs_hidden": false
    }
   },
   "source": [
    "## Retorno logarítmo\n",
    "\n",
    "Lembrando que fazemos uma análise de um único ativo. Nesse caso é mais interessante analisar o retorno logarítmo.\n",
    "\n",
    "### $$\\text{retorno log} = \\ln\\left(\\frac{P_{t}}{P_{t-1}}\\right)$$"
   ]
  },
  {
   "cell_type": "code",
   "execution_count": 12,
   "id": "8ea1f7064323e334",
   "metadata": {
    "ExecuteTime": {
     "end_time": "2023-12-13T20:47:08.640696158Z",
     "start_time": "2023-12-13T20:47:08.542117371Z"
    },
    "collapsed": false,
    "jupyter": {
     "outputs_hidden": false
    }
   },
   "outputs": [],
   "source": [
    "pg['retorno_log'] = np.log(pg['Adj Close']/pg['Adj Close'].shift(1))"
   ]
  },
  {
   "cell_type": "code",
   "execution_count": 13,
   "id": "6c25cc5cde8673cc",
   "metadata": {
    "ExecuteTime": {
     "end_time": "2023-12-13T20:47:08.899926316Z",
     "start_time": "2023-12-13T20:47:08.542674788Z"
    },
    "collapsed": false,
    "jupyter": {
     "outputs_hidden": false
    }
   },
   "outputs": [
    {
     "data": {
      "text/html": [
       "<div>\n",
       "<style scoped>\n",
       "    .dataframe tbody tr th:only-of-type {\n",
       "        vertical-align: middle;\n",
       "    }\n",
       "\n",
       "    .dataframe tbody tr th {\n",
       "        vertical-align: top;\n",
       "    }\n",
       "\n",
       "    .dataframe thead th {\n",
       "        text-align: right;\n",
       "    }\n",
       "</style>\n",
       "<table border=\"1\" class=\"dataframe\">\n",
       "  <thead>\n",
       "    <tr style=\"text-align: right;\">\n",
       "      <th></th>\n",
       "      <th>Date</th>\n",
       "      <th>ano</th>\n",
       "      <th>mes</th>\n",
       "      <th>Adj Close</th>\n",
       "      <th>retorno_simples</th>\n",
       "      <th>retorno_log</th>\n",
       "    </tr>\n",
       "  </thead>\n",
       "  <tbody>\n",
       "    <tr>\n",
       "      <th>0</th>\n",
       "      <td>1995-01-03</td>\n",
       "      <td>1995</td>\n",
       "      <td>1</td>\n",
       "      <td>7.626416</td>\n",
       "      <td>NaN</td>\n",
       "      <td>NaN</td>\n",
       "    </tr>\n",
       "    <tr>\n",
       "      <th>1</th>\n",
       "      <td>1995-01-04</td>\n",
       "      <td>1995</td>\n",
       "      <td>1</td>\n",
       "      <td>7.565281</td>\n",
       "      <td>-0.008016</td>\n",
       "      <td>-0.008049</td>\n",
       "    </tr>\n",
       "    <tr>\n",
       "      <th>2</th>\n",
       "      <td>1995-01-05</td>\n",
       "      <td>1995</td>\n",
       "      <td>1</td>\n",
       "      <td>7.458297</td>\n",
       "      <td>-0.014141</td>\n",
       "      <td>-0.014242</td>\n",
       "    </tr>\n",
       "    <tr>\n",
       "      <th>3</th>\n",
       "      <td>1995-01-06</td>\n",
       "      <td>1995</td>\n",
       "      <td>1</td>\n",
       "      <td>7.473582</td>\n",
       "      <td>0.002049</td>\n",
       "      <td>0.002047</td>\n",
       "    </tr>\n",
       "    <tr>\n",
       "      <th>4</th>\n",
       "      <td>1995-01-09</td>\n",
       "      <td>1995</td>\n",
       "      <td>1</td>\n",
       "      <td>7.443018</td>\n",
       "      <td>-0.004090</td>\n",
       "      <td>-0.004098</td>\n",
       "    </tr>\n",
       "    <tr>\n",
       "      <th>...</th>\n",
       "      <td>...</td>\n",
       "      <td>...</td>\n",
       "      <td>...</td>\n",
       "      <td>...</td>\n",
       "      <td>...</td>\n",
       "      <td>...</td>\n",
       "    </tr>\n",
       "    <tr>\n",
       "      <th>7045</th>\n",
       "      <td>2022-12-23</td>\n",
       "      <td>2022</td>\n",
       "      <td>12</td>\n",
       "      <td>148.841446</td>\n",
       "      <td>0.002825</td>\n",
       "      <td>0.002821</td>\n",
       "    </tr>\n",
       "    <tr>\n",
       "      <th>7046</th>\n",
       "      <td>2022-12-27</td>\n",
       "      <td>2022</td>\n",
       "      <td>12</td>\n",
       "      <td>150.138535</td>\n",
       "      <td>0.008715</td>\n",
       "      <td>0.008677</td>\n",
       "    </tr>\n",
       "    <tr>\n",
       "      <th>7047</th>\n",
       "      <td>2022-12-28</td>\n",
       "      <td>2022</td>\n",
       "      <td>12</td>\n",
       "      <td>148.197784</td>\n",
       "      <td>-0.012926</td>\n",
       "      <td>-0.013011</td>\n",
       "    </tr>\n",
       "    <tr>\n",
       "      <th>7048</th>\n",
       "      <td>2022-12-29</td>\n",
       "      <td>2022</td>\n",
       "      <td>12</td>\n",
       "      <td>148.812195</td>\n",
       "      <td>0.004146</td>\n",
       "      <td>0.004137</td>\n",
       "    </tr>\n",
       "    <tr>\n",
       "      <th>7049</th>\n",
       "      <td>2022-12-30</td>\n",
       "      <td>2022</td>\n",
       "      <td>12</td>\n",
       "      <td>147.807693</td>\n",
       "      <td>-0.006750</td>\n",
       "      <td>-0.006773</td>\n",
       "    </tr>\n",
       "  </tbody>\n",
       "</table>\n",
       "<p>7050 rows × 6 columns</p>\n",
       "</div>"
      ],
      "text/plain": [
       "           Date   ano  mes   Adj Close  retorno_simples  retorno_log\n",
       "0    1995-01-03  1995    1    7.626416              NaN          NaN\n",
       "1    1995-01-04  1995    1    7.565281        -0.008016    -0.008049\n",
       "2    1995-01-05  1995    1    7.458297        -0.014141    -0.014242\n",
       "3    1995-01-06  1995    1    7.473582         0.002049     0.002047\n",
       "4    1995-01-09  1995    1    7.443018        -0.004090    -0.004098\n",
       "...         ...   ...  ...         ...              ...          ...\n",
       "7045 2022-12-23  2022   12  148.841446         0.002825     0.002821\n",
       "7046 2022-12-27  2022   12  150.138535         0.008715     0.008677\n",
       "7047 2022-12-28  2022   12  148.197784        -0.012926    -0.013011\n",
       "7048 2022-12-29  2022   12  148.812195         0.004146     0.004137\n",
       "7049 2022-12-30  2022   12  147.807693        -0.006750    -0.006773\n",
       "\n",
       "[7050 rows x 6 columns]"
      ]
     },
     "execution_count": 13,
     "metadata": {},
     "output_type": "execute_result"
    }
   ],
   "source": [
    "pg"
   ]
  },
  {
   "cell_type": "code",
   "execution_count": 14,
   "id": "8e424b051a399eb5",
   "metadata": {
    "ExecuteTime": {
     "end_time": "2023-12-13T20:47:09.177562320Z",
     "start_time": "2023-12-13T20:47:08.588413352Z"
    },
    "collapsed": false,
    "jupyter": {
     "outputs_hidden": false
    }
   },
   "outputs": [
    {
     "data": {
      "image/png": "[encoded data removed]",
      "text/plain": [
       "<Figure size 800x500 with 1 Axes>"
      ]
     },
     "metadata": {},
     "output_type": "display_data"
    }
   ],
   "source": [
    "pg[['Date', 'retorno_log']].plot(x='Date', y='retorno_log',figsize=(8, 5))\n",
    "plt.title(\"Retornos (log) diários da ações PG entre 01-01-1995 até 23-03-2017\")\n",
    "plt.plot(pg.Date, len(pg.Date)*[0], '--')\n",
    "plt.show()"
   ]
  },
  {
   "cell_type": "markdown",
   "id": "24551101d02960fd",
   "metadata": {
    "collapsed": false,
    "jupyter": {
     "outputs_hidden": false
    }
   },
   "source": [
    "## Retorno de multiplos investimentos\n",
    "\n",
    "Vamos considerar um portifólio simples, onde os quatro ativos tem pesos iguais, e calcular as suas respectivas taxas de retorno histórico.\n",
    "\n",
    "\\begin{array}{|c|c|c|}\n",
    "\\hline\n",
    "\\text{Ativo} & \\text{Taxa média anual de retorno(\\%)} & Peso \\\\\n",
    "\\hline\n",
    "\\text{P\\&G} &   0.318524 & 0.25 \\\\\n",
    "\\text{MSFT} &  0.153581 & 0.25\\\\\n",
    "\\text{GE} &  0.116717 & 0.25\\\\\n",
    "\\text{F} & 0.126224 & 0.25\\\\\n",
    "\\hline\n",
    "\\end{array}"
   ]
  },
  {
   "cell_type": "code",
   "execution_count": 15,
   "id": "925ebab05d390427",
   "metadata": {
    "ExecuteTime": {
     "end_time": "2023-12-13T20:47:11.382427461Z",
     "start_time": "2023-12-13T20:47:09.145948077Z"
    },
    "collapsed": false,
    "jupyter": {
     "outputs_hidden": false
    }
   },
   "outputs": [
    {
     "name": "stdout",
     "output_type": "stream",
     "text": [
      "[*********************100%%**********************]  4 of 4 completed\n"
     ]
    }
   ],
   "source": [
    "# portifólio com ações da P&G,Microsoft, Ford, General Electrics\n",
    "tickers = [\"PG\", 'MSFT', 'F', 'GE'] \n",
    "preco_fechamento = pdr.get_data_yahoo(tickers, start='1995-01-01', end=end)['Adj Close']"
   ]
  },
  {
   "cell_type": "code",
   "execution_count": 16,
   "id": "ab823f4996877ac4",
   "metadata": {
    "ExecuteTime": {
     "end_time": "2023-12-13T20:47:11.392838884Z",
     "start_time": "2023-12-13T20:47:11.367150736Z"
    },
    "collapsed": false,
    "jupyter": {
     "outputs_hidden": false
    }
   },
   "outputs": [
    {
     "data": {
      "text/html": [
       "<div>\n",
       "<style scoped>\n",
       "    .dataframe tbody tr th:only-of-type {\n",
       "        vertical-align: middle;\n",
       "    }\n",
       "\n",
       "    .dataframe tbody tr th {\n",
       "        vertical-align: top;\n",
       "    }\n",
       "\n",
       "    .dataframe thead th {\n",
       "        text-align: right;\n",
       "    }\n",
       "</style>\n",
       "<table border=\"1\" class=\"dataframe\">\n",
       "  <thead>\n",
       "    <tr style=\"text-align: right;\">\n",
       "      <th></th>\n",
       "      <th>ford</th>\n",
       "      <th>ge</th>\n",
       "      <th>microsoft</th>\n",
       "      <th>pg</th>\n",
       "    </tr>\n",
       "    <tr>\n",
       "      <th>Date</th>\n",
       "      <th></th>\n",
       "      <th></th>\n",
       "      <th></th>\n",
       "      <th></th>\n",
       "    </tr>\n",
       "  </thead>\n",
       "  <tbody>\n",
       "    <tr>\n",
       "      <th>1995-01-03</th>\n",
       "      <td>3.819578</td>\n",
       "      <td>25.494432</td>\n",
       "      <td>2.332130</td>\n",
       "      <td>7.626416</td>\n",
       "    </tr>\n",
       "    <tr>\n",
       "      <th>1995-01-04</th>\n",
       "      <td>3.922348</td>\n",
       "      <td>25.494432</td>\n",
       "      <td>2.349081</td>\n",
       "      <td>7.565281</td>\n",
       "    </tr>\n",
       "    <tr>\n",
       "      <th>1995-01-05</th>\n",
       "      <td>3.888093</td>\n",
       "      <td>25.556919</td>\n",
       "      <td>2.310333</td>\n",
       "      <td>7.458297</td>\n",
       "    </tr>\n",
       "    <tr>\n",
       "      <th>1995-01-06</th>\n",
       "      <td>3.888093</td>\n",
       "      <td>25.431932</td>\n",
       "      <td>2.349081</td>\n",
       "      <td>7.473582</td>\n",
       "    </tr>\n",
       "    <tr>\n",
       "      <th>1995-01-09</th>\n",
       "      <td>3.956604</td>\n",
       "      <td>25.182001</td>\n",
       "      <td>2.334551</td>\n",
       "      <td>7.443018</td>\n",
       "    </tr>\n",
       "  </tbody>\n",
       "</table>\n",
       "</div>"
      ],
      "text/plain": [
       "                ford         ge  microsoft        pg\n",
       "Date                                                \n",
       "1995-01-03  3.819578  25.494432   2.332130  7.626416\n",
       "1995-01-04  3.922348  25.494432   2.349081  7.565281\n",
       "1995-01-05  3.888093  25.556919   2.310333  7.458297\n",
       "1995-01-06  3.888093  25.431932   2.349081  7.473582\n",
       "1995-01-09  3.956604  25.182001   2.334551  7.443018"
      ]
     },
     "execution_count": 16,
     "metadata": {},
     "output_type": "execute_result"
    }
   ],
   "source": [
    "acoes = preco_fechamento.copy()\n",
    "acoes = acoes.rename(\n",
    "    columns={'F': 'ford', \n",
    "             'GE': 'ge',\n",
    "             'MSFT': 'microsoft', \n",
    "             'PG': 'pg'}\n",
    ")\n",
    "\n",
    "acoes.head()"
   ]
  },
  {
   "cell_type": "markdown",
   "id": "c0c53e950ccac91",
   "metadata": {
    "collapsed": false,
    "jupyter": {
     "outputs_hidden": false
    }
   },
   "source": [
    "## Retornos simples - indicados para avaliar uma carteira de investimentos diversificados\n",
    " - Normalizando os valores - comparar do mesmo ponto inicial- data base\n",
    "### $$\\frac{P_{t}}{P_{0}}*100$$\n"
   ]
  },
  {
   "cell_type": "code",
   "execution_count": 17,
   "id": "bff70afe3766259c",
   "metadata": {
    "ExecuteTime": {
     "end_time": "2023-12-13T20:47:11.414984549Z",
     "start_time": "2023-12-13T20:47:11.384167801Z"
    },
    "collapsed": false,
    "jupyter": {
     "outputs_hidden": false
    }
   },
   "outputs": [
    {
     "data": {
      "text/plain": [
       "ford          3.819578\n",
       "ge           25.494432\n",
       "microsoft     2.332130\n",
       "pg            7.626416\n",
       "Name: 1995-01-03 00:00:00, dtype: float64"
      ]
     },
     "execution_count": 17,
     "metadata": {},
     "output_type": "execute_result"
    }
   ],
   "source": [
    "acoes.iloc[0]"
   ]
  },
  {
   "cell_type": "code",
   "execution_count": 18,
   "id": "26aac7c42fdd9da4",
   "metadata": {
    "ExecuteTime": {
     "end_time": "2023-12-13T20:47:11.426294962Z",
     "start_time": "2023-12-13T20:47:11.384745940Z"
    },
    "collapsed": false,
    "jupyter": {
     "outputs_hidden": false
    }
   },
   "outputs": [],
   "source": [
    "acoes = (acoes/acoes.iloc[0])*100"
   ]
  },
  {
   "cell_type": "code",
   "execution_count": 19,
   "id": "b63277d140324c97",
   "metadata": {
    "ExecuteTime": {
     "end_time": "2023-12-13T20:47:12.371645446Z",
     "start_time": "2023-12-13T20:47:11.385232887Z"
    },
    "collapsed": false,
    "jupyter": {
     "outputs_hidden": false
    }
   },
   "outputs": [
    {
     "data": {
      "image/png": "[encoded data removed]",
      "text/plain": [
       "<Figure size 1200x800 with 1 Axes>"
      ]
     },
     "metadata": {},
     "output_type": "display_data"
    }
   ],
   "source": [
    "acoes.plot(figsize=(12, 8))\n",
    "plt.show()"
   ]
  },
  {
   "cell_type": "code",
   "execution_count": 20,
   "id": "5b85d2e32287661d",
   "metadata": {
    "ExecuteTime": {
     "end_time": "2023-12-13T20:47:12.412160632Z",
     "start_time": "2023-12-13T20:47:12.374494337Z"
    },
    "collapsed": false,
    "jupyter": {
     "outputs_hidden": false
    }
   },
   "outputs": [],
   "source": [
    "# retorno simples para um portifólio\n",
    "retornos = (acoes/acoes.shift(1))-1"
   ]
  },
  {
   "cell_type": "code",
   "execution_count": 21,
   "id": "6313616446f1acc9",
   "metadata": {
    "ExecuteTime": {
     "end_time": "2023-12-13T20:47:12.587103572Z",
     "start_time": "2023-12-13T20:47:12.394125611Z"
    },
    "collapsed": false,
    "jupyter": {
     "outputs_hidden": false
    }
   },
   "outputs": [
    {
     "data": {
      "text/html": [
       "<div>\n",
       "<style scoped>\n",
       "    .dataframe tbody tr th:only-of-type {\n",
       "        vertical-align: middle;\n",
       "    }\n",
       "\n",
       "    .dataframe tbody tr th {\n",
       "        vertical-align: top;\n",
       "    }\n",
       "\n",
       "    .dataframe thead th {\n",
       "        text-align: right;\n",
       "    }\n",
       "</style>\n",
       "<table border=\"1\" class=\"dataframe\">\n",
       "  <thead>\n",
       "    <tr style=\"text-align: right;\">\n",
       "      <th></th>\n",
       "      <th>ford</th>\n",
       "      <th>ge</th>\n",
       "      <th>microsoft</th>\n",
       "      <th>pg</th>\n",
       "    </tr>\n",
       "    <tr>\n",
       "      <th>Date</th>\n",
       "      <th></th>\n",
       "      <th></th>\n",
       "      <th></th>\n",
       "      <th></th>\n",
       "    </tr>\n",
       "  </thead>\n",
       "  <tbody>\n",
       "    <tr>\n",
       "      <th>1995-01-03</th>\n",
       "      <td>NaN</td>\n",
       "      <td>NaN</td>\n",
       "      <td>NaN</td>\n",
       "      <td>NaN</td>\n",
       "    </tr>\n",
       "    <tr>\n",
       "      <th>1995-01-04</th>\n",
       "      <td>0.026906</td>\n",
       "      <td>0.000000</td>\n",
       "      <td>0.007268</td>\n",
       "      <td>-0.008016</td>\n",
       "    </tr>\n",
       "    <tr>\n",
       "      <th>1995-01-05</th>\n",
       "      <td>-0.008733</td>\n",
       "      <td>0.002451</td>\n",
       "      <td>-0.016495</td>\n",
       "      <td>-0.014141</td>\n",
       "    </tr>\n",
       "    <tr>\n",
       "      <th>1995-01-06</th>\n",
       "      <td>0.000000</td>\n",
       "      <td>-0.004891</td>\n",
       "      <td>0.016772</td>\n",
       "      <td>0.002049</td>\n",
       "    </tr>\n",
       "    <tr>\n",
       "      <th>1995-01-09</th>\n",
       "      <td>0.017621</td>\n",
       "      <td>-0.009827</td>\n",
       "      <td>-0.006185</td>\n",
       "      <td>-0.004090</td>\n",
       "    </tr>\n",
       "  </tbody>\n",
       "</table>\n",
       "</div>"
      ],
      "text/plain": [
       "                ford        ge  microsoft        pg\n",
       "Date                                               \n",
       "1995-01-03       NaN       NaN        NaN       NaN\n",
       "1995-01-04  0.026906  0.000000   0.007268 -0.008016\n",
       "1995-01-05 -0.008733  0.002451  -0.016495 -0.014141\n",
       "1995-01-06  0.000000 -0.004891   0.016772  0.002049\n",
       "1995-01-09  0.017621 -0.009827  -0.006185 -0.004090"
      ]
     },
     "execution_count": 21,
     "metadata": {},
     "output_type": "execute_result"
    }
   ],
   "source": [
    "retornos.head()"
   ]
  },
  {
   "cell_type": "code",
   "execution_count": 22,
   "id": "466eaeb881d5d544",
   "metadata": {
    "ExecuteTime": {
     "end_time": "2023-12-13T20:47:12.615536222Z",
     "start_time": "2023-12-13T20:47:12.436394112Z"
    },
    "collapsed": false,
    "jupyter": {
     "outputs_hidden": false
    }
   },
   "outputs": [
    {
     "data": {
      "text/plain": [
       "array([0.25, 0.25, 0.25, 0.25])"
      ]
     },
     "execution_count": 22,
     "metadata": {},
     "output_type": "execute_result"
    }
   ],
   "source": [
    "pesos = np.array(4*[0.25])\n",
    "pesos"
   ]
  },
  {
   "cell_type": "code",
   "execution_count": 23,
   "id": "9bd5c5d3f047d063",
   "metadata": {
    "ExecuteTime": {
     "end_time": "2023-12-13T20:47:12.707418715Z",
     "start_time": "2023-12-13T20:47:12.437418425Z"
    },
    "collapsed": false,
    "jupyter": {
     "outputs_hidden": false
    }
   },
   "outputs": [
    {
     "data": {
      "text/html": [
       "<div>\n",
       "<style scoped>\n",
       "    .dataframe tbody tr th:only-of-type {\n",
       "        vertical-align: middle;\n",
       "    }\n",
       "\n",
       "    .dataframe tbody tr th {\n",
       "        vertical-align: top;\n",
       "    }\n",
       "\n",
       "    .dataframe thead th {\n",
       "        text-align: right;\n",
       "    }\n",
       "</style>\n",
       "<table border=\"1\" class=\"dataframe\">\n",
       "  <thead>\n",
       "    <tr style=\"text-align: right;\">\n",
       "      <th></th>\n",
       "      <th>ativo</th>\n",
       "      <th>retorno médio anual</th>\n",
       "    </tr>\n",
       "  </thead>\n",
       "  <tbody>\n",
       "    <tr>\n",
       "      <th>0</th>\n",
       "      <td>ford</td>\n",
       "      <td>0.117141</td>\n",
       "    </tr>\n",
       "    <tr>\n",
       "      <th>1</th>\n",
       "      <td>ge</td>\n",
       "      <td>0.084958</td>\n",
       "    </tr>\n",
       "    <tr>\n",
       "      <th>2</th>\n",
       "      <td>microsoft</td>\n",
       "      <td>0.213434</td>\n",
       "    </tr>\n",
       "    <tr>\n",
       "      <th>3</th>\n",
       "      <td>pg</td>\n",
       "      <td>0.130150</td>\n",
       "    </tr>\n",
       "  </tbody>\n",
       "</table>\n",
       "</div>"
      ],
      "text/plain": [
       "       ativo  retorno médio anual\n",
       "0       ford             0.117141\n",
       "1         ge             0.084958\n",
       "2  microsoft             0.213434\n",
       "3         pg             0.130150"
      ]
     },
     "execution_count": 23,
     "metadata": {},
     "output_type": "execute_result"
    }
   ],
   "source": [
    "# estimando o retorno anual médio\n",
    "retorno_anual = retornos.mean() *250\n",
    "retorno_anual = retorno_anual.reset_index().rename(\n",
    "    columns={'index':'ativo',\n",
    "             0:'retorno médio anual'\n",
    "})\n",
    "\n",
    "retorno_anual"
   ]
  },
  {
   "cell_type": "code",
   "execution_count": 24,
   "id": "bfbb23fe1292c9dc",
   "metadata": {
    "ExecuteTime": {
     "end_time": "2023-12-13T20:47:12.758625380Z",
     "start_time": "2023-12-13T20:47:12.484134224Z"
    },
    "collapsed": false,
    "jupyter": {
     "outputs_hidden": false
    }
   },
   "outputs": [
    {
     "name": "stdout",
     "output_type": "stream",
     "text": [
      "Retorno anual da carteira de investimentos com pesos iguais\n",
      "13.642 %\n"
     ]
    }
   ],
   "source": [
    "print(f\"\"\"Retorno anual da carteira de investimentos com pesos iguais\n",
    "{round(np.dot(retorno_anual['retorno médio anual'], pesos) * 100, 3)} %\"\"\")"
   ]
  },
  {
   "cell_type": "code",
   "execution_count": 25,
   "id": "2739fea8bc65fa4d",
   "metadata": {
    "ExecuteTime": {
     "end_time": "2023-12-13T20:47:12.781678701Z",
     "start_time": "2023-12-13T20:47:12.484561461Z"
    },
    "collapsed": false,
    "jupyter": {
     "outputs_hidden": false
    }
   },
   "outputs": [
    {
     "name": "stdout",
     "output_type": "stream",
     "text": [
      "Retorno anual da carteira de investimentos com pesos diferentes\n",
      "11.936 %\n"
     ]
    }
   ],
   "source": [
    "pesos_2 = np.array([0.4,0.4, 0.15, 0.05])\n",
    "print(f\"\"\"Retorno anual da carteira de investimentos com pesos diferentes\n",
    "{round(np.dot(retorno_anual['retorno médio anual'], pesos_2) * 100, 3)} %\"\"\")"
   ]
  },
  {
   "cell_type": "markdown",
   "id": "b6d846e22bb7315b",
   "metadata": {
    "collapsed": false,
    "jupyter": {
     "outputs_hidden": false
    }
   },
   "source": [
    "## Índices de ações- calculando taxas de retorno desses indices"
   ]
  },
  {
   "cell_type": "code",
   "execution_count": 26,
   "id": "6f6d563c2162aa38",
   "metadata": {
    "ExecuteTime": {
     "end_time": "2023-12-13T20:47:14.162742475Z",
     "start_time": "2023-12-13T20:47:12.485748556Z"
    },
    "collapsed": false,
    "jupyter": {
     "outputs_hidden": false
    }
   },
   "outputs": [
    {
     "name": "stdout",
     "output_type": "stream",
     "text": [
      "[*********************100%%**********************]  4 of 4 completed\n"
     ]
    }
   ],
   "source": [
    "# S&P500, NASDAQ, indice alemão DAX, footsie\n",
    "index_tickers = ['^GSPC', '^IXIC', '^GDAXI', '^FTSE']\n",
    "\n",
    "indices = pdr.get_data_yahoo(index_tickers, start='1997-01-01', end=end)['Adj Close']\n",
    "indices = indices.rename(\n",
    "    columns={'^GSPC': 'S&P500',\n",
    "             '^IXIC': 'NASDAQ',\n",
    "             '^GDAXI': 'DAX',\n",
    "             '^FTSE': 'Footsie'}\n",
    ")"
   ]
  },
  {
   "cell_type": "code",
   "execution_count": 27,
   "id": "a5870b1eae9b34c0",
   "metadata": {
    "ExecuteTime": {
     "end_time": "2023-12-13T20:47:14.231550885Z",
     "start_time": "2023-12-13T20:47:14.158426625Z"
    },
    "collapsed": false,
    "jupyter": {
     "outputs_hidden": false
    }
   },
   "outputs": [
    {
     "data": {
      "text/html": [
       "<div>\n",
       "<style scoped>\n",
       "    .dataframe tbody tr th:only-of-type {\n",
       "        vertical-align: middle;\n",
       "    }\n",
       "\n",
       "    .dataframe tbody tr th {\n",
       "        vertical-align: top;\n",
       "    }\n",
       "\n",
       "    .dataframe thead th {\n",
       "        text-align: right;\n",
       "    }\n",
       "</style>\n",
       "<table border=\"1\" class=\"dataframe\">\n",
       "  <thead>\n",
       "    <tr style=\"text-align: right;\">\n",
       "      <th></th>\n",
       "      <th>Footsie</th>\n",
       "      <th>DAX</th>\n",
       "      <th>S&amp;P500</th>\n",
       "      <th>NASDAQ</th>\n",
       "    </tr>\n",
       "    <tr>\n",
       "      <th>Date</th>\n",
       "      <th></th>\n",
       "      <th></th>\n",
       "      <th></th>\n",
       "      <th></th>\n",
       "    </tr>\n",
       "  </thead>\n",
       "  <tbody>\n",
       "    <tr>\n",
       "      <th>1997-01-02</th>\n",
       "      <td>4057.399902</td>\n",
       "      <td>2820.810059</td>\n",
       "      <td>737.010010</td>\n",
       "      <td>1280.699951</td>\n",
       "    </tr>\n",
       "    <tr>\n",
       "      <th>1997-01-03</th>\n",
       "      <td>4089.500000</td>\n",
       "      <td>2863.260010</td>\n",
       "      <td>748.030029</td>\n",
       "      <td>1310.680054</td>\n",
       "    </tr>\n",
       "    <tr>\n",
       "      <th>1997-01-06</th>\n",
       "      <td>4106.500000</td>\n",
       "      <td>2890.199951</td>\n",
       "      <td>747.650024</td>\n",
       "      <td>1316.400024</td>\n",
       "    </tr>\n",
       "    <tr>\n",
       "      <th>1997-01-07</th>\n",
       "      <td>4078.800049</td>\n",
       "      <td>2876.340088</td>\n",
       "      <td>753.229980</td>\n",
       "      <td>1327.729980</td>\n",
       "    </tr>\n",
       "    <tr>\n",
       "      <th>1997-01-08</th>\n",
       "      <td>4087.500000</td>\n",
       "      <td>2904.080078</td>\n",
       "      <td>748.409973</td>\n",
       "      <td>1320.349976</td>\n",
       "    </tr>\n",
       "  </tbody>\n",
       "</table>\n",
       "</div>"
      ],
      "text/plain": [
       "                Footsie          DAX      S&P500       NASDAQ\n",
       "Date                                                         \n",
       "1997-01-02  4057.399902  2820.810059  737.010010  1280.699951\n",
       "1997-01-03  4089.500000  2863.260010  748.030029  1310.680054\n",
       "1997-01-06  4106.500000  2890.199951  747.650024  1316.400024\n",
       "1997-01-07  4078.800049  2876.340088  753.229980  1327.729980\n",
       "1997-01-08  4087.500000  2904.080078  748.409973  1320.349976"
      ]
     },
     "execution_count": 27,
     "metadata": {},
     "output_type": "execute_result"
    }
   ],
   "source": [
    "indices.head()"
   ]
  },
  {
   "cell_type": "code",
   "execution_count": 28,
   "id": "9aad3149c1538265",
   "metadata": {
    "ExecuteTime": {
     "end_time": "2023-12-13T20:47:14.295321108Z",
     "start_time": "2023-12-13T20:47:14.173954473Z"
    },
    "collapsed": false,
    "jupyter": {
     "outputs_hidden": false
    }
   },
   "outputs": [
    {
     "data": {
      "text/html": [
       "<div>\n",
       "<style scoped>\n",
       "    .dataframe tbody tr th:only-of-type {\n",
       "        vertical-align: middle;\n",
       "    }\n",
       "\n",
       "    .dataframe tbody tr th {\n",
       "        vertical-align: top;\n",
       "    }\n",
       "\n",
       "    .dataframe thead th {\n",
       "        text-align: right;\n",
       "    }\n",
       "</style>\n",
       "<table border=\"1\" class=\"dataframe\">\n",
       "  <thead>\n",
       "    <tr style=\"text-align: right;\">\n",
       "      <th></th>\n",
       "      <th>Footsie</th>\n",
       "      <th>DAX</th>\n",
       "      <th>S&amp;P500</th>\n",
       "      <th>NASDAQ</th>\n",
       "    </tr>\n",
       "    <tr>\n",
       "      <th>Date</th>\n",
       "      <th></th>\n",
       "      <th></th>\n",
       "      <th></th>\n",
       "      <th></th>\n",
       "    </tr>\n",
       "  </thead>\n",
       "  <tbody>\n",
       "    <tr>\n",
       "      <th>2022-12-23</th>\n",
       "      <td>7473.000000</td>\n",
       "      <td>13940.929688</td>\n",
       "      <td>3844.820068</td>\n",
       "      <td>10497.860352</td>\n",
       "    </tr>\n",
       "    <tr>\n",
       "      <th>2022-12-27</th>\n",
       "      <td>NaN</td>\n",
       "      <td>13995.099609</td>\n",
       "      <td>3829.250000</td>\n",
       "      <td>10353.230469</td>\n",
       "    </tr>\n",
       "    <tr>\n",
       "      <th>2022-12-28</th>\n",
       "      <td>7497.200195</td>\n",
       "      <td>13925.599609</td>\n",
       "      <td>3783.219971</td>\n",
       "      <td>10213.290039</td>\n",
       "    </tr>\n",
       "    <tr>\n",
       "      <th>2022-12-29</th>\n",
       "      <td>7512.700195</td>\n",
       "      <td>14071.719727</td>\n",
       "      <td>3849.280029</td>\n",
       "      <td>10478.089844</td>\n",
       "    </tr>\n",
       "    <tr>\n",
       "      <th>2022-12-30</th>\n",
       "      <td>7451.700195</td>\n",
       "      <td>13923.589844</td>\n",
       "      <td>3839.500000</td>\n",
       "      <td>10466.480469</td>\n",
       "    </tr>\n",
       "  </tbody>\n",
       "</table>\n",
       "</div>"
      ],
      "text/plain": [
       "                Footsie           DAX       S&P500        NASDAQ\n",
       "Date                                                            \n",
       "2022-12-23  7473.000000  13940.929688  3844.820068  10497.860352\n",
       "2022-12-27          NaN  13995.099609  3829.250000  10353.230469\n",
       "2022-12-28  7497.200195  13925.599609  3783.219971  10213.290039\n",
       "2022-12-29  7512.700195  14071.719727  3849.280029  10478.089844\n",
       "2022-12-30  7451.700195  13923.589844  3839.500000  10466.480469"
      ]
     },
     "execution_count": 28,
     "metadata": {},
     "output_type": "execute_result"
    }
   ],
   "source": [
    "indices.tail()"
   ]
  },
  {
   "cell_type": "code",
   "execution_count": 29,
   "id": "20cdbff75524a0e2",
   "metadata": {
    "ExecuteTime": {
     "end_time": "2023-12-13T20:47:15.245082796Z",
     "start_time": "2023-12-13T20:47:14.185170926Z"
    },
    "collapsed": false,
    "jupyter": {
     "outputs_hidden": false
    }
   },
   "outputs": [
    {
     "data": {
      "image/png": "[encoded data removed]",
      "text/plain": [
       "<Figure size 1500x600 with 1 Axes>"
      ]
     },
     "metadata": {},
     "output_type": "display_data"
    }
   ],
   "source": [
    "# normalizando para o valor base\n",
    "(100*(indices/indices.iloc[0])).plot(figsize=(15, 6))\n",
    "plt.axvline(x=pd.to_datetime(\"2000-01-01\"), color='b', label='bolha da internet nos anos 2000')\n",
    "plt.axvline(x=pd.to_datetime(\"2007-08-30\"), color='b', label='crise de 2008')\n",
    "plt.axvline(x=pd.to_datetime(\"2011-06-01\"), color='b', label='crise de 2011')\n",
    "plt.axvline(x=pd.to_datetime(\"2020-03-01\"), color='b', label='pandemia COVID-19')\n",
    "\n",
    "# place legend outside\n",
    "plt.legend(bbox_to_anchor=(1.0, 1), loc='best')\n",
    "plt.show()"
   ]
  },
  {
   "cell_type": "code",
   "execution_count": 30,
   "id": "ff0b70ba0a6e2638",
   "metadata": {
    "ExecuteTime": {
     "end_time": "2023-12-13T20:47:15.301327064Z",
     "start_time": "2023-12-13T20:47:15.200837099Z"
    },
    "collapsed": false,
    "jupyter": {
     "outputs_hidden": false
    }
   },
   "outputs": [
    {
     "data": {
      "text/html": [
       "<div>\n",
       "<style scoped>\n",
       "    .dataframe tbody tr th:only-of-type {\n",
       "        vertical-align: middle;\n",
       "    }\n",
       "\n",
       "    .dataframe tbody tr th {\n",
       "        vertical-align: top;\n",
       "    }\n",
       "\n",
       "    .dataframe thead th {\n",
       "        text-align: right;\n",
       "    }\n",
       "</style>\n",
       "<table border=\"1\" class=\"dataframe\">\n",
       "  <thead>\n",
       "    <tr style=\"text-align: right;\">\n",
       "      <th></th>\n",
       "      <th>Footsie</th>\n",
       "      <th>DAX</th>\n",
       "      <th>S&amp;P500</th>\n",
       "      <th>NASDAQ</th>\n",
       "    </tr>\n",
       "    <tr>\n",
       "      <th>Date</th>\n",
       "      <th></th>\n",
       "      <th></th>\n",
       "      <th></th>\n",
       "      <th></th>\n",
       "    </tr>\n",
       "  </thead>\n",
       "  <tbody>\n",
       "    <tr>\n",
       "      <th>2022-12-23</th>\n",
       "      <td>0.000495</td>\n",
       "      <td>0.001930</td>\n",
       "      <td>0.005868</td>\n",
       "      <td>0.002075</td>\n",
       "    </tr>\n",
       "    <tr>\n",
       "      <th>2022-12-27</th>\n",
       "      <td>NaN</td>\n",
       "      <td>0.003886</td>\n",
       "      <td>-0.004050</td>\n",
       "      <td>-0.013777</td>\n",
       "    </tr>\n",
       "    <tr>\n",
       "      <th>2022-12-28</th>\n",
       "      <td>NaN</td>\n",
       "      <td>-0.004966</td>\n",
       "      <td>-0.012021</td>\n",
       "      <td>-0.013517</td>\n",
       "    </tr>\n",
       "    <tr>\n",
       "      <th>2022-12-29</th>\n",
       "      <td>0.002067</td>\n",
       "      <td>0.010493</td>\n",
       "      <td>0.017461</td>\n",
       "      <td>0.025927</td>\n",
       "    </tr>\n",
       "    <tr>\n",
       "      <th>2022-12-30</th>\n",
       "      <td>-0.008120</td>\n",
       "      <td>-0.010527</td>\n",
       "      <td>-0.002541</td>\n",
       "      <td>-0.001108</td>\n",
       "    </tr>\n",
       "  </tbody>\n",
       "</table>\n",
       "</div>"
      ],
      "text/plain": [
       "             Footsie       DAX    S&P500    NASDAQ\n",
       "Date                                              \n",
       "2022-12-23  0.000495  0.001930  0.005868  0.002075\n",
       "2022-12-27       NaN  0.003886 -0.004050 -0.013777\n",
       "2022-12-28       NaN -0.004966 -0.012021 -0.013517\n",
       "2022-12-29  0.002067  0.010493  0.017461  0.025927\n",
       "2022-12-30 -0.008120 -0.010527 -0.002541 -0.001108"
      ]
     },
     "execution_count": 30,
     "metadata": {},
     "output_type": "execute_result"
    }
   ],
   "source": [
    "# retornos\n",
    "retorno_indices = indices/indices.shift(1)-1\n",
    "retorno_indices.tail()"
   ]
  },
  {
   "cell_type": "code",
   "execution_count": 31,
   "id": "3cdfa63b658d1ec8",
   "metadata": {
    "ExecuteTime": {
     "end_time": "2023-12-13T20:47:15.409196113Z",
     "start_time": "2023-12-13T20:47:15.216048797Z"
    },
    "collapsed": false,
    "jupyter": {
     "outputs_hidden": false
    }
   },
   "outputs": [
    {
     "data": {
      "text/html": [
       "<div>\n",
       "<style scoped>\n",
       "    .dataframe tbody tr th:only-of-type {\n",
       "        vertical-align: middle;\n",
       "    }\n",
       "\n",
       "    .dataframe tbody tr th {\n",
       "        vertical-align: top;\n",
       "    }\n",
       "\n",
       "    .dataframe thead th {\n",
       "        text-align: right;\n",
       "    }\n",
       "</style>\n",
       "<table border=\"1\" class=\"dataframe\">\n",
       "  <thead>\n",
       "    <tr style=\"text-align: right;\">\n",
       "      <th></th>\n",
       "      <th>ativo</th>\n",
       "      <th>retorno anual médio</th>\n",
       "    </tr>\n",
       "  </thead>\n",
       "  <tbody>\n",
       "    <tr>\n",
       "      <th>0</th>\n",
       "      <td>Footsie</td>\n",
       "      <td>0.034550</td>\n",
       "    </tr>\n",
       "    <tr>\n",
       "      <th>1</th>\n",
       "      <td>DAX</td>\n",
       "      <td>0.071946</td>\n",
       "    </tr>\n",
       "    <tr>\n",
       "      <th>2</th>\n",
       "      <td>S&amp;P500</td>\n",
       "      <td>0.083116</td>\n",
       "    </tr>\n",
       "    <tr>\n",
       "      <th>3</th>\n",
       "      <td>NASDAQ</td>\n",
       "      <td>0.111572</td>\n",
       "    </tr>\n",
       "  </tbody>\n",
       "</table>\n",
       "</div>"
      ],
      "text/plain": [
       "     ativo  retorno anual médio\n",
       "0  Footsie             0.034550\n",
       "1      DAX             0.071946\n",
       "2   S&P500             0.083116\n",
       "3   NASDAQ             0.111572"
      ]
     },
     "execution_count": 31,
     "metadata": {},
     "output_type": "execute_result"
    }
   ],
   "source": [
    "# Taxas positivas de retornos\n",
    "retorno_anual_indices = retorno_indices.mean()*250\n",
    "retorno_anual_indices = retorno_anual_indices.reset_index().rename(\n",
    "    columns={'index': 'ativo',\n",
    "             0: 'retorno anual médio'})\n",
    "\n",
    "retorno_anual_indices"
   ]
  },
  {
   "cell_type": "markdown",
   "id": "9de3599cf4a3ef0",
   "metadata": {
    "collapsed": false,
    "jupyter": {
     "outputs_hidden": false
    }
   },
   "source": [
    "## Comparando o preço de fechamento de uma ação com os indices de mercado"
   ]
  },
  {
   "cell_type": "code",
   "execution_count": 32,
   "id": "cf64cd6f49073f6c",
   "metadata": {
    "ExecuteTime": {
     "end_time": "2023-12-13T20:47:17.269891608Z",
     "start_time": "2023-12-13T20:47:15.232386120Z"
    },
    "collapsed": false,
    "jupyter": {
     "outputs_hidden": false
    }
   },
   "outputs": [
    {
     "name": "stdout",
     "output_type": "stream",
     "text": [
      "[*********************100%%**********************]  3 of 3 completed\n"
     ]
    }
   ],
   "source": [
    "tickers = ['PG', '^GSPC', '^DJI']\n",
    "\n",
    "indices_comparados = pdr.get_data_yahoo(tickers, start='1997-01-01', end=end)['Adj Close']\n",
    "indices_comparados = indices_comparados.rename(\n",
    "    columns={'^GSPC': 'S&P500',\n",
    "             '^DJI': 'DowJones'}\n",
    ")"
   ]
  },
  {
   "cell_type": "code",
   "execution_count": 33,
   "id": "38d2b284a58d4dd9",
   "metadata": {
    "ExecuteTime": {
     "end_time": "2023-12-13T20:47:17.337775815Z",
     "start_time": "2023-12-13T20:47:17.212883058Z"
    },
    "collapsed": false,
    "jupyter": {
     "outputs_hidden": false
    }
   },
   "outputs": [
    {
     "data": {
      "text/html": [
       "<div>\n",
       "<style scoped>\n",
       "    .dataframe tbody tr th:only-of-type {\n",
       "        vertical-align: middle;\n",
       "    }\n",
       "\n",
       "    .dataframe tbody tr th {\n",
       "        vertical-align: top;\n",
       "    }\n",
       "\n",
       "    .dataframe thead th {\n",
       "        text-align: right;\n",
       "    }\n",
       "</style>\n",
       "<table border=\"1\" class=\"dataframe\">\n",
       "  <thead>\n",
       "    <tr style=\"text-align: right;\">\n",
       "      <th></th>\n",
       "      <th>PG</th>\n",
       "      <th>DowJones</th>\n",
       "      <th>S&amp;P500</th>\n",
       "    </tr>\n",
       "    <tr>\n",
       "      <th>Date</th>\n",
       "      <th></th>\n",
       "      <th></th>\n",
       "      <th></th>\n",
       "    </tr>\n",
       "  </thead>\n",
       "  <tbody>\n",
       "    <tr>\n",
       "      <th>2022-12-23</th>\n",
       "      <td>148.841446</td>\n",
       "      <td>33203.929688</td>\n",
       "      <td>3844.820068</td>\n",
       "    </tr>\n",
       "    <tr>\n",
       "      <th>2022-12-27</th>\n",
       "      <td>150.138535</td>\n",
       "      <td>33241.558594</td>\n",
       "      <td>3829.250000</td>\n",
       "    </tr>\n",
       "    <tr>\n",
       "      <th>2022-12-28</th>\n",
       "      <td>148.197800</td>\n",
       "      <td>32875.710938</td>\n",
       "      <td>3783.219971</td>\n",
       "    </tr>\n",
       "    <tr>\n",
       "      <th>2022-12-29</th>\n",
       "      <td>148.812195</td>\n",
       "      <td>33220.800781</td>\n",
       "      <td>3849.280029</td>\n",
       "    </tr>\n",
       "    <tr>\n",
       "      <th>2022-12-30</th>\n",
       "      <td>147.807693</td>\n",
       "      <td>33147.250000</td>\n",
       "      <td>3839.500000</td>\n",
       "    </tr>\n",
       "  </tbody>\n",
       "</table>\n",
       "</div>"
      ],
      "text/plain": [
       "                    PG      DowJones       S&P500\n",
       "Date                                             \n",
       "2022-12-23  148.841446  33203.929688  3844.820068\n",
       "2022-12-27  150.138535  33241.558594  3829.250000\n",
       "2022-12-28  148.197800  32875.710938  3783.219971\n",
       "2022-12-29  148.812195  33220.800781  3849.280029\n",
       "2022-12-30  147.807693  33147.250000  3839.500000"
      ]
     },
     "execution_count": 33,
     "metadata": {},
     "output_type": "execute_result"
    }
   ],
   "source": [
    "indices_comparados.tail()"
   ]
  },
  {
   "cell_type": "code",
   "execution_count": 34,
   "id": "28bc95a92a92976",
   "metadata": {
    "ExecuteTime": {
     "end_time": "2023-12-13T20:47:18.394921973Z",
     "start_time": "2023-12-13T20:47:17.229239889Z"
    },
    "collapsed": false,
    "jupyter": {
     "outputs_hidden": false
    }
   },
   "outputs": [
    {
     "data": {
      "image/png": "[encoded data removed]",
      "text/plain": [
       "<Figure size 1500x600 with 1 Axes>"
      ]
     },
     "metadata": {},
     "output_type": "display_data"
    }
   ],
   "source": [
    "# normalizando para o valor base\n",
    "indices_comparados = 100*(indices_comparados/indices_comparados.iloc[0])\n",
    "                      \n",
    "indices_comparados.plot(figsize=(15, 6))\n",
    "plt.axvline(x=pd.to_datetime(\"2000-01-01\"), color='red', label='bolha da internet nos anos 2000')\n",
    "plt.axvline(x=pd.to_datetime(\"2007-08-30\"), color='b', label='crise de 2008')\n",
    "plt.axvline(x=pd.to_datetime(\"2011-06-01\"), color='pink', label='crise de 2011')\n",
    "plt.axvline(x=pd.to_datetime(\"2020-03-01\"), color='green', label='pandemia COVID-19')\n",
    "\n",
    "# place legend outside\n",
    "plt.legend(bbox_to_anchor=(1.0, 1), loc='best')\n",
    "plt.show()"
   ]
  },
  {
   "cell_type": "code",
   "execution_count": 35,
   "id": "e537b62f249efcca",
   "metadata": {
    "ExecuteTime": {
     "end_time": "2023-12-13T20:47:18.424944735Z",
     "start_time": "2023-12-13T20:47:18.284803447Z"
    },
    "collapsed": false,
    "jupyter": {
     "outputs_hidden": false
    }
   },
   "outputs": [
    {
     "data": {
      "text/html": [
       "<div>\n",
       "<style scoped>\n",
       "    .dataframe tbody tr th:only-of-type {\n",
       "        vertical-align: middle;\n",
       "    }\n",
       "\n",
       "    .dataframe tbody tr th {\n",
       "        vertical-align: top;\n",
       "    }\n",
       "\n",
       "    .dataframe thead th {\n",
       "        text-align: right;\n",
       "    }\n",
       "</style>\n",
       "<table border=\"1\" class=\"dataframe\">\n",
       "  <thead>\n",
       "    <tr style=\"text-align: right;\">\n",
       "      <th></th>\n",
       "      <th>PG</th>\n",
       "      <th>DowJones</th>\n",
       "      <th>S&amp;P500</th>\n",
       "    </tr>\n",
       "    <tr>\n",
       "      <th>Date</th>\n",
       "      <th></th>\n",
       "      <th></th>\n",
       "      <th></th>\n",
       "    </tr>\n",
       "  </thead>\n",
       "  <tbody>\n",
       "    <tr>\n",
       "      <th>1997-01-02</th>\n",
       "      <td>100.000000</td>\n",
       "      <td>100.000000</td>\n",
       "      <td>100.000000</td>\n",
       "    </tr>\n",
       "    <tr>\n",
       "      <th>1997-01-03</th>\n",
       "      <td>101.641258</td>\n",
       "      <td>101.577024</td>\n",
       "      <td>101.495233</td>\n",
       "    </tr>\n",
       "    <tr>\n",
       "      <th>1997-01-06</th>\n",
       "      <td>102.344681</td>\n",
       "      <td>101.935431</td>\n",
       "      <td>101.443673</td>\n",
       "    </tr>\n",
       "    <tr>\n",
       "      <th>1997-01-07</th>\n",
       "      <td>104.220456</td>\n",
       "      <td>102.455105</td>\n",
       "      <td>102.200780</td>\n",
       "    </tr>\n",
       "    <tr>\n",
       "      <th>1997-01-08</th>\n",
       "      <td>102.344681</td>\n",
       "      <td>101.660689</td>\n",
       "      <td>101.546785</td>\n",
       "    </tr>\n",
       "    <tr>\n",
       "      <th>...</th>\n",
       "      <td>...</td>\n",
       "      <td>...</td>\n",
       "      <td>...</td>\n",
       "    </tr>\n",
       "    <tr>\n",
       "      <th>2022-12-23</th>\n",
       "      <td>1096.079170</td>\n",
       "      <td>515.389678</td>\n",
       "      <td>521.678134</td>\n",
       "    </tr>\n",
       "    <tr>\n",
       "      <th>2022-12-27</th>\n",
       "      <td>1105.631025</td>\n",
       "      <td>515.973752</td>\n",
       "      <td>519.565535</td>\n",
       "    </tr>\n",
       "    <tr>\n",
       "      <th>2022-12-28</th>\n",
       "      <td>1091.339313</td>\n",
       "      <td>510.295084</td>\n",
       "      <td>513.320026</td>\n",
       "    </tr>\n",
       "    <tr>\n",
       "      <th>2022-12-29</th>\n",
       "      <td>1095.863763</td>\n",
       "      <td>515.651550</td>\n",
       "      <td>522.283277</td>\n",
       "    </tr>\n",
       "    <tr>\n",
       "      <th>2022-12-30</th>\n",
       "      <td>1088.466543</td>\n",
       "      <td>514.509899</td>\n",
       "      <td>520.956289</td>\n",
       "    </tr>\n",
       "  </tbody>\n",
       "</table>\n",
       "<p>6544 rows × 3 columns</p>\n",
       "</div>"
      ],
      "text/plain": [
       "                     PG    DowJones      S&P500\n",
       "Date                                           \n",
       "1997-01-02   100.000000  100.000000  100.000000\n",
       "1997-01-03   101.641258  101.577024  101.495233\n",
       "1997-01-06   102.344681  101.935431  101.443673\n",
       "1997-01-07   104.220456  102.455105  102.200780\n",
       "1997-01-08   102.344681  101.660689  101.546785\n",
       "...                 ...         ...         ...\n",
       "2022-12-23  1096.079170  515.389678  521.678134\n",
       "2022-12-27  1105.631025  515.973752  519.565535\n",
       "2022-12-28  1091.339313  510.295084  513.320026\n",
       "2022-12-29  1095.863763  515.651550  522.283277\n",
       "2022-12-30  1088.466543  514.509899  520.956289\n",
       "\n",
       "[6544 rows x 3 columns]"
      ]
     },
     "execution_count": 35,
     "metadata": {},
     "output_type": "execute_result"
    }
   ],
   "source": [
    "indices_comparados"
   ]
  },
  {
   "cell_type": "markdown",
   "id": "4adec14d09e6b847",
   "metadata": {
    "collapsed": false,
    "jp-MarkdownHeadingCollapsed": true,
    "jupyter": {
     "outputs_hidden": false
    }
   },
   "source": [
    "# Calculando o risco de um investimento"
   ]
  },
  {
   "cell_type": "code",
   "execution_count": 36,
   "id": "7bae5b2ad87feabe",
   "metadata": {
    "ExecuteTime": {
     "end_time": "2023-12-13T20:47:20.811965920Z",
     "start_time": "2023-12-13T20:47:18.296042746Z"
    },
    "collapsed": false,
    "jupyter": {
     "outputs_hidden": false
    }
   },
   "outputs": [
    {
     "name": "stdout",
     "output_type": "stream",
     "text": [
      "[*********************100%%**********************]  2 of 2 completed\n"
     ]
    }
   ],
   "source": [
    "# comparar os históricos e o risco entre dois ativos de mesmo negócio Beiersdorf e P&G\n",
    "tickers = ['PG', 'BEI.DE']\n",
    "\n",
    "dados_hist = pdr.get_data_yahoo(tickers, start='2007-01-01', end=\"2022-12-31\")['Adj Close']\n",
    "dados_hist = dados_hist.rename(\n",
    "    columns={'PG': 'P&G',\n",
    "             'BEI.DE': 'Beiersdorf'}\n",
    ")"
   ]
  },
  {
   "cell_type": "code",
   "execution_count": 37,
   "id": "8162007ea9cd4451",
   "metadata": {
    "ExecuteTime": {
     "end_time": "2023-12-13T20:47:20.875950997Z",
     "start_time": "2023-12-13T20:47:20.809122664Z"
    },
    "collapsed": false,
    "jupyter": {
     "outputs_hidden": false
    }
   },
   "outputs": [
    {
     "data": {
      "text/html": [
       "<div>\n",
       "<style scoped>\n",
       "    .dataframe tbody tr th:only-of-type {\n",
       "        vertical-align: middle;\n",
       "    }\n",
       "\n",
       "    .dataframe tbody tr th {\n",
       "        vertical-align: top;\n",
       "    }\n",
       "\n",
       "    .dataframe thead th {\n",
       "        text-align: right;\n",
       "    }\n",
       "</style>\n",
       "<table border=\"1\" class=\"dataframe\">\n",
       "  <thead>\n",
       "    <tr style=\"text-align: right;\">\n",
       "      <th></th>\n",
       "      <th>Beiersdorf</th>\n",
       "      <th>P&amp;G</th>\n",
       "    </tr>\n",
       "    <tr>\n",
       "      <th>Date</th>\n",
       "      <th></th>\n",
       "      <th></th>\n",
       "    </tr>\n",
       "  </thead>\n",
       "  <tbody>\n",
       "    <tr>\n",
       "      <th>2007-01-02</th>\n",
       "      <td>39.697178</td>\n",
       "      <td>NaN</td>\n",
       "    </tr>\n",
       "    <tr>\n",
       "      <th>2007-01-03</th>\n",
       "      <td>39.784256</td>\n",
       "      <td>39.577770</td>\n",
       "    </tr>\n",
       "    <tr>\n",
       "      <th>2007-01-04</th>\n",
       "      <td>40.045467</td>\n",
       "      <td>39.277287</td>\n",
       "    </tr>\n",
       "    <tr>\n",
       "      <th>2007-01-05</th>\n",
       "      <td>39.222240</td>\n",
       "      <td>38.940002</td>\n",
       "    </tr>\n",
       "    <tr>\n",
       "      <th>2007-01-08</th>\n",
       "      <td>39.230156</td>\n",
       "      <td>39.025848</td>\n",
       "    </tr>\n",
       "  </tbody>\n",
       "</table>\n",
       "</div>"
      ],
      "text/plain": [
       "            Beiersdorf        P&G\n",
       "Date                             \n",
       "2007-01-02   39.697178        NaN\n",
       "2007-01-03   39.784256  39.577770\n",
       "2007-01-04   40.045467  39.277287\n",
       "2007-01-05   39.222240  38.940002\n",
       "2007-01-08   39.230156  39.025848"
      ]
     },
     "execution_count": 37,
     "metadata": {},
     "output_type": "execute_result"
    }
   ],
   "source": [
    "dados_hist.head()"
   ]
  },
  {
   "cell_type": "code",
   "execution_count": 38,
   "id": "a24c738be1aa9350",
   "metadata": {
    "ExecuteTime": {
     "end_time": "2023-12-13T20:47:20.893416949Z",
     "start_time": "2023-12-13T20:47:20.822895680Z"
    },
    "collapsed": false,
    "jupyter": {
     "outputs_hidden": false
    }
   },
   "outputs": [
    {
     "data": {
      "text/html": [
       "<div>\n",
       "<style scoped>\n",
       "    .dataframe tbody tr th:only-of-type {\n",
       "        vertical-align: middle;\n",
       "    }\n",
       "\n",
       "    .dataframe tbody tr th {\n",
       "        vertical-align: top;\n",
       "    }\n",
       "\n",
       "    .dataframe thead th {\n",
       "        text-align: right;\n",
       "    }\n",
       "</style>\n",
       "<table border=\"1\" class=\"dataframe\">\n",
       "  <thead>\n",
       "    <tr style=\"text-align: right;\">\n",
       "      <th></th>\n",
       "      <th>Beiersdorf</th>\n",
       "      <th>P&amp;G</th>\n",
       "    </tr>\n",
       "    <tr>\n",
       "      <th>Date</th>\n",
       "      <th></th>\n",
       "      <th></th>\n",
       "    </tr>\n",
       "  </thead>\n",
       "  <tbody>\n",
       "    <tr>\n",
       "      <th>2022-12-23</th>\n",
       "      <td>105.788757</td>\n",
       "      <td>148.841446</td>\n",
       "    </tr>\n",
       "    <tr>\n",
       "      <th>2022-12-27</th>\n",
       "      <td>106.683594</td>\n",
       "      <td>150.138519</td>\n",
       "    </tr>\n",
       "    <tr>\n",
       "      <th>2022-12-28</th>\n",
       "      <td>105.937897</td>\n",
       "      <td>148.197815</td>\n",
       "    </tr>\n",
       "    <tr>\n",
       "      <th>2022-12-29</th>\n",
       "      <td>106.832726</td>\n",
       "      <td>148.812180</td>\n",
       "    </tr>\n",
       "    <tr>\n",
       "      <th>2022-12-30</th>\n",
       "      <td>106.584160</td>\n",
       "      <td>147.807693</td>\n",
       "    </tr>\n",
       "  </tbody>\n",
       "</table>\n",
       "</div>"
      ],
      "text/plain": [
       "            Beiersdorf         P&G\n",
       "Date                              \n",
       "2022-12-23  105.788757  148.841446\n",
       "2022-12-27  106.683594  150.138519\n",
       "2022-12-28  105.937897  148.197815\n",
       "2022-12-29  106.832726  148.812180\n",
       "2022-12-30  106.584160  147.807693"
      ]
     },
     "execution_count": 38,
     "metadata": {},
     "output_type": "execute_result"
    }
   ],
   "source": [
    "dados_hist.tail()"
   ]
  },
  {
   "cell_type": "code",
   "execution_count": 39,
   "id": "348587e37db6261d",
   "metadata": {
    "ExecuteTime": {
     "end_time": "2023-12-13T20:47:21.041321889Z",
     "start_time": "2023-12-13T20:47:20.833196817Z"
    },
    "collapsed": false,
    "jupyter": {
     "outputs_hidden": false
    }
   },
   "outputs": [],
   "source": [
    "dados_hist = dados_hist.dropna()"
   ]
  },
  {
   "cell_type": "code",
   "execution_count": 40,
   "id": "1a7b1bd8f86e15",
   "metadata": {
    "ExecuteTime": {
     "end_time": "2023-12-13T20:47:21.747613447Z",
     "start_time": "2023-12-13T20:47:20.880161910Z"
    },
    "collapsed": false,
    "jupyter": {
     "outputs_hidden": false
    }
   },
   "outputs": [
    {
     "data": {
      "image/png": "[encoded data removed]",
      "text/plain": [
       "<Figure size 1500x600 with 1 Axes>"
      ]
     },
     "metadata": {},
     "output_type": "display_data"
    }
   ],
   "source": [
    "# normalizando\n",
    "(100*(dados_hist/dados_hist.iloc[0])).plot(figsize=(15, 6))\n",
    "plt.axvline(x=pd.to_datetime(\"2007-08-30\"), color='b', label='crise de 2008')\n",
    "plt.axvline(x=pd.to_datetime(\"2011-06-01\"), color='b', label='crise de 2011')\n",
    "plt.axvline(x=pd.to_datetime(\"2020-03-01\"), color='b', label='pandemia COVID-19')\n",
    "\n",
    "# place legend outside\n",
    "plt.legend(bbox_to_anchor=(1.0, 1), loc='best')\n",
    "plt.show()"
   ]
  },
  {
   "cell_type": "markdown",
   "id": "ed2a04d4341d56fb",
   "metadata": {
    "collapsed": false,
    "jupyter": {
     "outputs_hidden": false
    }
   },
   "source": [
    "## Calculando risco"
   ]
  },
  {
   "cell_type": "code",
   "execution_count": 41,
   "id": "3d97812cb9af2c66",
   "metadata": {
    "ExecuteTime": {
     "end_time": "2023-12-13T20:47:21.826525353Z",
     "start_time": "2023-12-13T20:47:21.741410982Z"
    },
    "collapsed": false,
    "jupyter": {
     "outputs_hidden": false
    }
   },
   "outputs": [],
   "source": [
    "sec_returns = np.log(dados_hist/dados_hist.shift(1))"
   ]
  },
  {
   "cell_type": "code",
   "execution_count": 42,
   "id": "1b35d596c598ebc0",
   "metadata": {
    "ExecuteTime": {
     "end_time": "2023-12-13T20:47:21.931882001Z",
     "start_time": "2023-12-13T20:47:21.750989462Z"
    },
    "collapsed": false,
    "jupyter": {
     "outputs_hidden": false
    }
   },
   "outputs": [
    {
     "data": {
      "text/html": [
       "<div>\n",
       "<style scoped>\n",
       "    .dataframe tbody tr th:only-of-type {\n",
       "        vertical-align: middle;\n",
       "    }\n",
       "\n",
       "    .dataframe tbody tr th {\n",
       "        vertical-align: top;\n",
       "    }\n",
       "\n",
       "    .dataframe thead th {\n",
       "        text-align: right;\n",
       "    }\n",
       "</style>\n",
       "<table border=\"1\" class=\"dataframe\">\n",
       "  <thead>\n",
       "    <tr style=\"text-align: right;\">\n",
       "      <th></th>\n",
       "      <th>ativo</th>\n",
       "      <th>media anual de retorno</th>\n",
       "    </tr>\n",
       "  </thead>\n",
       "  <tbody>\n",
       "    <tr>\n",
       "      <th>0</th>\n",
       "      <td>Beiersdorf</td>\n",
       "      <td>0.062229</td>\n",
       "    </tr>\n",
       "    <tr>\n",
       "      <th>1</th>\n",
       "      <td>P&amp;G</td>\n",
       "      <td>0.083206</td>\n",
       "    </tr>\n",
       "  </tbody>\n",
       "</table>\n",
       "</div>"
      ],
      "text/plain": [
       "        ativo  media anual de retorno\n",
       "0  Beiersdorf                0.062229\n",
       "1         P&G                0.083206"
      ]
     },
     "execution_count": 42,
     "metadata": {},
     "output_type": "execute_result"
    }
   ],
   "source": [
    "# media anual\n",
    "avg_sec_returns = (sec_returns.mean() * 250).reset_index().rename(\n",
    "    columns={'index': 'ativo',\n",
    "             0: 'media anual de retorno'})\n",
    "avg_sec_returns"
   ]
  },
  {
   "cell_type": "code",
   "execution_count": 43,
   "id": "1e9bab560a691eba",
   "metadata": {
    "ExecuteTime": {
     "end_time": "2023-12-13T20:47:21.965039206Z",
     "start_time": "2023-12-13T20:47:21.779845509Z"
    },
    "collapsed": false,
    "jupyter": {
     "outputs_hidden": false
    }
   },
   "outputs": [
    {
     "data": {
      "text/html": [
       "<div>\n",
       "<style scoped>\n",
       "    .dataframe tbody tr th:only-of-type {\n",
       "        vertical-align: middle;\n",
       "    }\n",
       "\n",
       "    .dataframe tbody tr th {\n",
       "        vertical-align: top;\n",
       "    }\n",
       "\n",
       "    .dataframe thead th {\n",
       "        text-align: right;\n",
       "    }\n",
       "</style>\n",
       "<table border=\"1\" class=\"dataframe\">\n",
       "  <thead>\n",
       "    <tr style=\"text-align: right;\">\n",
       "      <th></th>\n",
       "      <th>ativo</th>\n",
       "      <th>risco</th>\n",
       "    </tr>\n",
       "  </thead>\n",
       "  <tbody>\n",
       "    <tr>\n",
       "      <th>0</th>\n",
       "      <td>Beiersdorf</td>\n",
       "      <td>1.860000</td>\n",
       "    </tr>\n",
       "    <tr>\n",
       "      <th>1</th>\n",
       "      <td>P&amp;G</td>\n",
       "      <td>1.729692</td>\n",
       "    </tr>\n",
       "  </tbody>\n",
       "</table>\n",
       "</div>"
      ],
      "text/plain": [
       "        ativo     risco\n",
       "0  Beiersdorf  1.860000\n",
       "1         P&G  1.729692"
      ]
     },
     "execution_count": 43,
     "metadata": {},
     "output_type": "execute_result"
    }
   ],
   "source": [
    "# risco - calculao do desvio padrão\n",
    "risco = ((sec_returns.std() * 250)**0.5).reset_index().rename(\n",
    "    columns={'index': 'ativo',\n",
    "             0: 'risco'})\n",
    "risco"
   ]
  },
  {
   "cell_type": "markdown",
   "id": "257239ad6a57a836",
   "metadata": {
    "collapsed": false,
    "jupyter": {
     "outputs_hidden": false
    }
   },
   "source": [
    "## Covariancia e Correlação \n",
    "\n",
    "### $$\n",
    "cov = \\begin{pmatrix}\n",
    "\\sigma_{11}^2 & \\sigma_{12} & \\ldots & \\sigma_{1n}\\\\\n",
    "\\sigma_{21} & \\sigma_{22}^2 & \\ldots & \\sigma_{2n}\\\\\n",
    "\\vdots & \\vdots  & \\ddots  &  \\vdots \\\\\n",
    "\\sigma_{m1} & \\sigma_{m2} & \\ldots & \\sigma_{mn}^2\n",
    "\\end{pmatrix}\n",
    "$$"
   ]
  },
  {
   "cell_type": "code",
   "execution_count": 44,
   "id": "fba11f6479dceff6",
   "metadata": {
    "ExecuteTime": {
     "end_time": "2023-12-13T20:47:22.069735295Z",
     "start_time": "2023-12-13T20:47:21.792788793Z"
    },
    "collapsed": false,
    "jupyter": {
     "outputs_hidden": false
    }
   },
   "outputs": [
    {
     "data": {
      "text/plain": [
       "0.00014321718778507667"
      ]
     },
     "execution_count": 44,
     "metadata": {},
     "output_type": "execute_result"
    }
   ],
   "source": [
    "PG_var = sec_returns['P&G'].var()\n",
    "PG_var"
   ]
  },
  {
   "cell_type": "code",
   "execution_count": 45,
   "id": "bd33781f2c06d4b8",
   "metadata": {
    "ExecuteTime": {
     "end_time": "2023-12-13T20:47:22.077043004Z",
     "start_time": "2023-12-13T20:47:21.840205692Z"
    },
    "collapsed": false,
    "jupyter": {
     "outputs_hidden": false
    }
   },
   "outputs": [
    {
     "data": {
      "text/plain": [
       "0.03580429694626917"
      ]
     },
     "execution_count": 45,
     "metadata": {},
     "output_type": "execute_result"
    }
   ],
   "source": [
    "# valor anual\n",
    "PG_var = sec_returns['P&G'].var() * 250\n",
    "PG_var"
   ]
  },
  {
   "cell_type": "code",
   "execution_count": 46,
   "id": "d42578f84b2a61c3",
   "metadata": {
    "ExecuteTime": {
     "end_time": "2023-12-13T20:47:22.089183881Z",
     "start_time": "2023-12-13T20:47:21.840789114Z"
    },
    "collapsed": false,
    "jupyter": {
     "outputs_hidden": false
    }
   },
   "outputs": [
    {
     "data": {
      "text/plain": [
       "0.00019150115513310207"
      ]
     },
     "execution_count": 46,
     "metadata": {},
     "output_type": "execute_result"
    }
   ],
   "source": [
    "beiersdorf_var = sec_returns['Beiersdorf'].var()\n",
    "beiersdorf_var "
   ]
  },
  {
   "cell_type": "code",
   "execution_count": 47,
   "id": "e0ffb1a4198e90e3",
   "metadata": {
    "ExecuteTime": {
     "end_time": "2023-12-13T20:47:22.100447552Z",
     "start_time": "2023-12-13T20:47:21.841294958Z"
    },
    "collapsed": false,
    "jupyter": {
     "outputs_hidden": false
    }
   },
   "outputs": [
    {
     "data": {
      "text/plain": [
       "0.047875288783275516"
      ]
     },
     "execution_count": 47,
     "metadata": {},
     "output_type": "execute_result"
    }
   ],
   "source": [
    "# valor anual\n",
    "beiersdorf_var = sec_returns['Beiersdorf'].var() * 250\n",
    "beiersdorf_var "
   ]
  },
  {
   "cell_type": "code",
   "execution_count": 48,
   "id": "3f2e9889a8c50de5",
   "metadata": {
    "ExecuteTime": {
     "end_time": "2023-12-13T20:47:22.112903543Z",
     "start_time": "2023-12-13T20:47:21.841858420Z"
    },
    "collapsed": false,
    "jupyter": {
     "outputs_hidden": false
    }
   },
   "outputs": [
    {
     "data": {
      "text/html": [
       "<div>\n",
       "<style scoped>\n",
       "    .dataframe tbody tr th:only-of-type {\n",
       "        vertical-align: middle;\n",
       "    }\n",
       "\n",
       "    .dataframe tbody tr th {\n",
       "        vertical-align: top;\n",
       "    }\n",
       "\n",
       "    .dataframe thead th {\n",
       "        text-align: right;\n",
       "    }\n",
       "</style>\n",
       "<table border=\"1\" class=\"dataframe\">\n",
       "  <thead>\n",
       "    <tr style=\"text-align: right;\">\n",
       "      <th></th>\n",
       "      <th>Beiersdorf</th>\n",
       "      <th>P&amp;G</th>\n",
       "    </tr>\n",
       "  </thead>\n",
       "  <tbody>\n",
       "    <tr>\n",
       "      <th>Beiersdorf</th>\n",
       "      <td>0.000192</td>\n",
       "      <td>0.000045</td>\n",
       "    </tr>\n",
       "    <tr>\n",
       "      <th>P&amp;G</th>\n",
       "      <td>0.000045</td>\n",
       "      <td>0.000143</td>\n",
       "    </tr>\n",
       "  </tbody>\n",
       "</table>\n",
       "</div>"
      ],
      "text/plain": [
       "            Beiersdorf       P&G\n",
       "Beiersdorf    0.000192  0.000045\n",
       "P&G           0.000045  0.000143"
      ]
     },
     "execution_count": 48,
     "metadata": {},
     "output_type": "execute_result"
    }
   ],
   "source": [
    "covariancia = sec_returns.cov()\n",
    "covariancia"
   ]
  },
  {
   "cell_type": "code",
   "execution_count": 49,
   "id": "7b8ec8d5c65e35f7",
   "metadata": {
    "ExecuteTime": {
     "end_time": "2023-12-13T20:47:22.121635083Z",
     "start_time": "2023-12-13T20:47:21.888320769Z"
    },
    "collapsed": false,
    "jupyter": {
     "outputs_hidden": false
    }
   },
   "outputs": [
    {
     "data": {
      "text/html": [
       "<div>\n",
       "<style scoped>\n",
       "    .dataframe tbody tr th:only-of-type {\n",
       "        vertical-align: middle;\n",
       "    }\n",
       "\n",
       "    .dataframe tbody tr th {\n",
       "        vertical-align: top;\n",
       "    }\n",
       "\n",
       "    .dataframe thead th {\n",
       "        text-align: right;\n",
       "    }\n",
       "</style>\n",
       "<table border=\"1\" class=\"dataframe\">\n",
       "  <thead>\n",
       "    <tr style=\"text-align: right;\">\n",
       "      <th></th>\n",
       "      <th>Beiersdorf</th>\n",
       "      <th>P&amp;G</th>\n",
       "    </tr>\n",
       "  </thead>\n",
       "  <tbody>\n",
       "    <tr>\n",
       "      <th>Beiersdorf</th>\n",
       "      <td>0.047875</td>\n",
       "      <td>0.011345</td>\n",
       "    </tr>\n",
       "    <tr>\n",
       "      <th>P&amp;G</th>\n",
       "      <td>0.011345</td>\n",
       "      <td>0.035804</td>\n",
       "    </tr>\n",
       "  </tbody>\n",
       "</table>\n",
       "</div>"
      ],
      "text/plain": [
       "            Beiersdorf       P&G\n",
       "Beiersdorf    0.047875  0.011345\n",
       "P&G           0.011345  0.035804"
      ]
     },
     "execution_count": 49,
     "metadata": {},
     "output_type": "execute_result"
    }
   ],
   "source": [
    "covariancia_anual = sec_returns.cov() * 250\n",
    "covariancia_anual"
   ]
  },
  {
   "cell_type": "code",
   "execution_count": 50,
   "id": "d6b515464199746",
   "metadata": {
    "ExecuteTime": {
     "end_time": "2023-12-13T20:47:22.134359266Z",
     "start_time": "2023-12-13T20:47:21.888858710Z"
    },
    "collapsed": false,
    "jupyter": {
     "outputs_hidden": false
    }
   },
   "outputs": [
    {
     "data": {
      "text/html": [
       "<div>\n",
       "<style scoped>\n",
       "    .dataframe tbody tr th:only-of-type {\n",
       "        vertical-align: middle;\n",
       "    }\n",
       "\n",
       "    .dataframe tbody tr th {\n",
       "        vertical-align: top;\n",
       "    }\n",
       "\n",
       "    .dataframe thead th {\n",
       "        text-align: right;\n",
       "    }\n",
       "</style>\n",
       "<table border=\"1\" class=\"dataframe\">\n",
       "  <thead>\n",
       "    <tr style=\"text-align: right;\">\n",
       "      <th></th>\n",
       "      <th>Beiersdorf</th>\n",
       "      <th>P&amp;G</th>\n",
       "    </tr>\n",
       "  </thead>\n",
       "  <tbody>\n",
       "    <tr>\n",
       "      <th>Beiersdorf</th>\n",
       "      <td>1.000000</td>\n",
       "      <td>0.274018</td>\n",
       "    </tr>\n",
       "    <tr>\n",
       "      <th>P&amp;G</th>\n",
       "      <td>0.274018</td>\n",
       "      <td>1.000000</td>\n",
       "    </tr>\n",
       "  </tbody>\n",
       "</table>\n",
       "</div>"
      ],
      "text/plain": [
       "            Beiersdorf       P&G\n",
       "Beiersdorf    1.000000  0.274018\n",
       "P&G           0.274018  1.000000"
      ]
     },
     "execution_count": 50,
     "metadata": {},
     "output_type": "execute_result"
    }
   ],
   "source": [
    "# não podemos associar a correlação a um valor anual como fizemos com a covariância,\n",
    "# multiplicando por 250!\n",
    "correlacao = sec_returns.corr()\n",
    "correlacao"
   ]
  },
  {
   "cell_type": "code",
   "execution_count": 51,
   "id": "6103d7494d4446cb",
   "metadata": {
    "ExecuteTime": {
     "end_time": "2023-12-13T20:47:22.140903585Z",
     "start_time": "2023-12-13T20:47:21.889315482Z"
    },
    "collapsed": false,
    "jupyter": {
     "outputs_hidden": false
    }
   },
   "outputs": [
    {
     "data": {
      "text/plain": [
       "100000000000"
      ]
     },
     "execution_count": 51,
     "metadata": {},
     "output_type": "execute_result"
    }
   ],
   "source": [
    "100_000_000_000"
   ]
  },
  {
   "cell_type": "markdown",
   "id": "e78d9644e72e4ef",
   "metadata": {
    "collapsed": false,
    "jupyter": {
     "outputs_hidden": false
    }
   },
   "source": [
    "## Calculando risco de um portifólio\n",
    "- 1 portifólio com pesos iguais\n",
    "### $$w^{T} \\cdot \\sigma_{1, 2} \\cdot w$$"
   ]
  },
  {
   "cell_type": "code",
   "execution_count": 52,
   "id": "3c514b546105d59a",
   "metadata": {
    "ExecuteTime": {
     "end_time": "2023-12-13T20:47:22.406448378Z",
     "start_time": "2023-12-13T20:47:21.889899547Z"
    },
    "collapsed": false,
    "jupyter": {
     "outputs_hidden": false
    }
   },
   "outputs": [],
   "source": [
    "weights = np.array([0.5, 0.5])"
   ]
  },
  {
   "cell_type": "code",
   "execution_count": 53,
   "id": "6411ffe49efda0ab",
   "metadata": {
    "ExecuteTime": {
     "end_time": "2023-12-13T20:47:22.481627778Z",
     "start_time": "2023-12-13T20:47:21.932179113Z"
    },
    "collapsed": false,
    "jupyter": {
     "outputs_hidden": false
    }
   },
   "outputs": [
    {
     "name": "stdout",
     "output_type": "stream",
     "text": [
      "Variância da carteira:  0.026592359610475413\n"
     ]
    }
   ],
   "source": [
    "# variância do portifólio\n",
    "pfolio_var = np.dot(weights.T, np.dot(sec_returns.cov() *250, weights))\n",
    "print(\"Variância da carteira: \", pfolio_var)"
   ]
  },
  {
   "cell_type": "code",
   "execution_count": 54,
   "id": "d4d75aa9f330fad5",
   "metadata": {
    "ExecuteTime": {
     "end_time": "2023-12-13T20:47:22.500609209Z",
     "start_time": "2023-12-13T20:47:21.932708006Z"
    },
    "collapsed": false,
    "jupyter": {
     "outputs_hidden": false
    }
   },
   "outputs": [
    {
     "name": "stdout",
     "output_type": "stream",
     "text": [
      "Volatilidade da carteira:  16.307163950385554 %\n"
     ]
    }
   ],
   "source": [
    "#volatilidade\n",
    "pfolio_vol = (np.dot(weights.T, np.dot(sec_returns.cov() *250, weights)))**0.5\n",
    "\n",
    "print(\"Volatilidade da carteira: \", pfolio_vol*100, \"%\")\n"
   ]
  },
  {
   "cell_type": "markdown",
   "id": "8ef350f016c3677d",
   "metadata": {
    "collapsed": false,
    "jupyter": {
     "outputs_hidden": false
    }
   },
   "source": [
    "## Risco diversificado e não diversificado de um portifólio"
   ]
  },
  {
   "cell_type": "code",
   "execution_count": 55,
   "id": "70b875a761504a63",
   "metadata": {
    "ExecuteTime": {
     "end_time": "2023-12-13T20:47:22.505764452Z",
     "start_time": "2023-12-13T20:47:21.933356472Z"
    },
    "collapsed": false,
    "jupyter": {
     "outputs_hidden": false
    }
   },
   "outputs": [
    {
     "data": {
      "text/plain": [
       "0.03580429694626917"
      ]
     },
     "execution_count": 55,
     "metadata": {},
     "output_type": "execute_result"
    }
   ],
   "source": [
    "pesos = np.array([0.5, 0.5])\n",
    "\n",
    "PG_var_a = sec_returns['P&G'].var() * 250\n",
    "PG_var_a"
   ]
  },
  {
   "cell_type": "code",
   "execution_count": 56,
   "id": "a8feb4e833faff2d",
   "metadata": {
    "ExecuteTime": {
     "end_time": "2023-12-13T20:47:22.518844881Z",
     "start_time": "2023-12-13T20:47:21.933753670Z"
    },
    "collapsed": false,
    "jupyter": {
     "outputs_hidden": false
    }
   },
   "outputs": [
    {
     "data": {
      "text/plain": [
       "0.047875288783275516"
      ]
     },
     "execution_count": 56,
     "metadata": {},
     "output_type": "execute_result"
    }
   ],
   "source": [
    "beiersdorf_var_a = sec_returns['Beiersdorf'].var() * 250\n",
    "beiersdorf_var_a"
   ]
  },
  {
   "cell_type": "code",
   "execution_count": 57,
   "id": "d9b89b43f77ab203",
   "metadata": {
    "ExecuteTime": {
     "end_time": "2023-12-13T20:47:22.542105232Z",
     "start_time": "2023-12-13T20:47:21.934187473Z"
    },
    "collapsed": false,
    "jupyter": {
     "outputs_hidden": false
    }
   },
   "outputs": [
    {
     "data": {
      "text/plain": [
       "0.00567246317808924"
      ]
     },
     "execution_count": 57,
     "metadata": {},
     "output_type": "execute_result"
    }
   ],
   "source": [
    "# risco diversificavel\n",
    "diverse_risk = pfolio_var - (weights[0]**2 * PG_var_a) - (weights[1]**2 * beiersdorf_var_a)\n",
    "diverse_risk"
   ]
  },
  {
   "cell_type": "code",
   "execution_count": 58,
   "id": "619ec30a52cd1ca8",
   "metadata": {
    "ExecuteTime": {
     "end_time": "2023-12-13T20:47:22.549636490Z",
     "start_time": "2023-12-13T20:47:21.976239467Z"
    },
    "collapsed": false,
    "jupyter": {
     "outputs_hidden": false
    }
   },
   "outputs": [
    {
     "data": {
      "text/plain": [
       "0.020919896432386172"
      ]
     },
     "execution_count": 58,
     "metadata": {},
     "output_type": "execute_result"
    }
   ],
   "source": [
    "# Risco não diversificável ou sistemático\n",
    "\n",
    "non_diverse_risk = pfolio_var - diverse_risk\n",
    "non_diverse_risk"
   ]
  },
  {
   "cell_type": "code",
   "execution_count": 59,
   "id": "ef902fdd7ca1edc7",
   "metadata": {
    "ExecuteTime": {
     "end_time": "2023-12-13T20:47:22.565911537Z",
     "start_time": "2023-12-13T20:47:21.976811985Z"
    },
    "collapsed": false,
    "jupyter": {
     "outputs_hidden": false
    }
   },
   "outputs": [
    {
     "data": {
      "text/plain": [
       "0.02091989643238617"
      ]
     },
     "execution_count": 59,
     "metadata": {},
     "output_type": "execute_result"
    }
   ],
   "source": [
    "non_diverse_risk2 = (weights[0]**2 * PG_var_a) + (weights[1]**2 * beiersdorf_var_a)\n",
    "non_diverse_risk2"
   ]
  },
  {
   "cell_type": "code",
   "execution_count": 60,
   "id": "8e260dae053370df",
   "metadata": {
    "ExecuteTime": {
     "end_time": "2023-12-13T20:47:22.572708835Z",
     "start_time": "2023-12-13T20:47:21.977221823Z"
    },
    "collapsed": false,
    "jupyter": {
     "outputs_hidden": false
    }
   },
   "outputs": [
    {
     "data": {
      "text/plain": [
       "False"
      ]
     },
     "execution_count": 60,
     "metadata": {},
     "output_type": "execute_result"
    }
   ],
   "source": [
    "non_diverse_risk2 == non_diverse_risk"
   ]
  },
  {
   "cell_type": "markdown",
   "id": "b604917e56082d08",
   "metadata": {
    "collapsed": false,
    "jp-MarkdownHeadingCollapsed": true,
    "jupyter": {
     "outputs_hidden": false
    }
   },
   "source": [
    "# Análise de regressão "
   ]
  },
  {
   "cell_type": "code",
   "execution_count": 61,
   "id": "430523d01bd92046",
   "metadata": {
    "ExecuteTime": {
     "end_time": "2023-12-13T20:47:22.891727223Z",
     "start_time": "2023-12-13T20:47:21.977612737Z"
    },
    "collapsed": false,
    "jupyter": {
     "outputs_hidden": false
    }
   },
   "outputs": [],
   "source": [
    "data = pd.read_excel('../data/Housing.xlsx')"
   ]
  },
  {
   "cell_type": "code",
   "execution_count": 62,
   "id": "cc77d81a712cbf5e",
   "metadata": {
    "ExecuteTime": {
     "end_time": "2023-12-13T20:47:22.938948303Z",
     "start_time": "2023-12-13T20:47:22.238549436Z"
    },
    "collapsed": false,
    "jupyter": {
     "outputs_hidden": false
    }
   },
   "outputs": [
    {
     "data": {
      "text/html": [
       "<div>\n",
       "<style scoped>\n",
       "    .dataframe tbody tr th:only-of-type {\n",
       "        vertical-align: middle;\n",
       "    }\n",
       "\n",
       "    .dataframe tbody tr th {\n",
       "        vertical-align: top;\n",
       "    }\n",
       "\n",
       "    .dataframe thead th {\n",
       "        text-align: right;\n",
       "    }\n",
       "</style>\n",
       "<table border=\"1\" class=\"dataframe\">\n",
       "  <thead>\n",
       "    <tr style=\"text-align: right;\">\n",
       "      <th></th>\n",
       "      <th>House Price</th>\n",
       "      <th>House Size (sq.ft.)</th>\n",
       "      <th>State</th>\n",
       "      <th>Number of Rooms</th>\n",
       "      <th>Year of Construction</th>\n",
       "    </tr>\n",
       "  </thead>\n",
       "  <tbody>\n",
       "    <tr>\n",
       "      <th>0</th>\n",
       "      <td>1116000</td>\n",
       "      <td>1940</td>\n",
       "      <td>IN</td>\n",
       "      <td>8</td>\n",
       "      <td>2002</td>\n",
       "    </tr>\n",
       "    <tr>\n",
       "      <th>1</th>\n",
       "      <td>860000</td>\n",
       "      <td>1300</td>\n",
       "      <td>IN</td>\n",
       "      <td>5</td>\n",
       "      <td>1992</td>\n",
       "    </tr>\n",
       "    <tr>\n",
       "      <th>2</th>\n",
       "      <td>818400</td>\n",
       "      <td>1420</td>\n",
       "      <td>IN</td>\n",
       "      <td>6</td>\n",
       "      <td>1987</td>\n",
       "    </tr>\n",
       "    <tr>\n",
       "      <th>3</th>\n",
       "      <td>1000000</td>\n",
       "      <td>1680</td>\n",
       "      <td>IN</td>\n",
       "      <td>7</td>\n",
       "      <td>2000</td>\n",
       "    </tr>\n",
       "    <tr>\n",
       "      <th>4</th>\n",
       "      <td>640000</td>\n",
       "      <td>1270</td>\n",
       "      <td>IN</td>\n",
       "      <td>5</td>\n",
       "      <td>1995</td>\n",
       "    </tr>\n",
       "    <tr>\n",
       "      <th>5</th>\n",
       "      <td>1010000</td>\n",
       "      <td>1850</td>\n",
       "      <td>IN</td>\n",
       "      <td>7</td>\n",
       "      <td>1998</td>\n",
       "    </tr>\n",
       "    <tr>\n",
       "      <th>6</th>\n",
       "      <td>600000</td>\n",
       "      <td>1000</td>\n",
       "      <td>IN</td>\n",
       "      <td>4</td>\n",
       "      <td>2015</td>\n",
       "    </tr>\n",
       "    <tr>\n",
       "      <th>7</th>\n",
       "      <td>700000</td>\n",
       "      <td>1100</td>\n",
       "      <td>LA</td>\n",
       "      <td>4</td>\n",
       "      <td>2014</td>\n",
       "    </tr>\n",
       "    <tr>\n",
       "      <th>8</th>\n",
       "      <td>1100000</td>\n",
       "      <td>1600</td>\n",
       "      <td>LA</td>\n",
       "      <td>7</td>\n",
       "      <td>2017</td>\n",
       "    </tr>\n",
       "    <tr>\n",
       "      <th>9</th>\n",
       "      <td>570000</td>\n",
       "      <td>1000</td>\n",
       "      <td>NY</td>\n",
       "      <td>5</td>\n",
       "      <td>1997</td>\n",
       "    </tr>\n",
       "    <tr>\n",
       "      <th>10</th>\n",
       "      <td>860000</td>\n",
       "      <td>2150</td>\n",
       "      <td>NY</td>\n",
       "      <td>9</td>\n",
       "      <td>1997</td>\n",
       "    </tr>\n",
       "    <tr>\n",
       "      <th>11</th>\n",
       "      <td>1085000</td>\n",
       "      <td>1900</td>\n",
       "      <td>NY</td>\n",
       "      <td>9</td>\n",
       "      <td>2000</td>\n",
       "    </tr>\n",
       "    <tr>\n",
       "      <th>12</th>\n",
       "      <td>1250000</td>\n",
       "      <td>2200</td>\n",
       "      <td>NY</td>\n",
       "      <td>9</td>\n",
       "      <td>2014</td>\n",
       "    </tr>\n",
       "    <tr>\n",
       "      <th>13</th>\n",
       "      <td>850000</td>\n",
       "      <td>1100</td>\n",
       "      <td>TX</td>\n",
       "      <td>4</td>\n",
       "      <td>2017</td>\n",
       "    </tr>\n",
       "    <tr>\n",
       "      <th>14</th>\n",
       "      <td>640000</td>\n",
       "      <td>860</td>\n",
       "      <td>TX</td>\n",
       "      <td>4</td>\n",
       "      <td>1997</td>\n",
       "    </tr>\n",
       "    <tr>\n",
       "      <th>15</th>\n",
       "      <td>900000</td>\n",
       "      <td>1325</td>\n",
       "      <td>TX</td>\n",
       "      <td>6</td>\n",
       "      <td>1997</td>\n",
       "    </tr>\n",
       "    <tr>\n",
       "      <th>16</th>\n",
       "      <td>730000</td>\n",
       "      <td>1350</td>\n",
       "      <td>TX</td>\n",
       "      <td>6</td>\n",
       "      <td>2000</td>\n",
       "    </tr>\n",
       "    <tr>\n",
       "      <th>17</th>\n",
       "      <td>750000</td>\n",
       "      <td>1600</td>\n",
       "      <td>TX</td>\n",
       "      <td>6</td>\n",
       "      <td>1992</td>\n",
       "    </tr>\n",
       "    <tr>\n",
       "      <th>18</th>\n",
       "      <td>650000</td>\n",
       "      <td>950</td>\n",
       "      <td>TX</td>\n",
       "      <td>2</td>\n",
       "      <td>1987</td>\n",
       "    </tr>\n",
       "    <tr>\n",
       "      <th>19</th>\n",
       "      <td>680000</td>\n",
       "      <td>1250</td>\n",
       "      <td>TX</td>\n",
       "      <td>4</td>\n",
       "      <td>2000</td>\n",
       "    </tr>\n",
       "  </tbody>\n",
       "</table>\n",
       "</div>"
      ],
      "text/plain": [
       "    House Price  House Size (sq.ft.) State  Number of Rooms  \\\n",
       "0       1116000                 1940    IN                8   \n",
       "1        860000                 1300    IN                5   \n",
       "2        818400                 1420    IN                6   \n",
       "3       1000000                 1680    IN                7   \n",
       "4        640000                 1270    IN                5   \n",
       "5       1010000                 1850    IN                7   \n",
       "6        600000                 1000    IN                4   \n",
       "7        700000                 1100   LA                 4   \n",
       "8       1100000                 1600   LA                 7   \n",
       "9        570000                 1000    NY                5   \n",
       "10       860000                 2150    NY                9   \n",
       "11      1085000                 1900    NY                9   \n",
       "12      1250000                 2200    NY                9   \n",
       "13       850000                 1100    TX                4   \n",
       "14       640000                  860    TX                4   \n",
       "15       900000                 1325    TX                6   \n",
       "16       730000                 1350    TX                6   \n",
       "17       750000                 1600    TX                6   \n",
       "18       650000                  950    TX                2   \n",
       "19       680000                 1250    TX                4   \n",
       "\n",
       "    Year of Construction  \n",
       "0                   2002  \n",
       "1                   1992  \n",
       "2                   1987  \n",
       "3                   2000  \n",
       "4                   1995  \n",
       "5                   1998  \n",
       "6                   2015  \n",
       "7                   2014  \n",
       "8                   2017  \n",
       "9                   1997  \n",
       "10                  1997  \n",
       "11                  2000  \n",
       "12                  2014  \n",
       "13                  2017  \n",
       "14                  1997  \n",
       "15                  1997  \n",
       "16                  2000  \n",
       "17                  1992  \n",
       "18                  1987  \n",
       "19                  2000  "
      ]
     },
     "execution_count": 62,
     "metadata": {},
     "output_type": "execute_result"
    }
   ],
   "source": [
    "data"
   ]
  },
  {
   "cell_type": "code",
   "execution_count": 63,
   "id": "5f72ff13f512435c",
   "metadata": {
    "ExecuteTime": {
     "end_time": "2023-12-13T20:47:22.970168369Z",
     "start_time": "2023-12-13T20:47:22.251377117Z"
    },
    "collapsed": false,
    "jupyter": {
     "outputs_hidden": false
    }
   },
   "outputs": [
    {
     "data": {
      "text/html": [
       "<div>\n",
       "<style scoped>\n",
       "    .dataframe tbody tr th:only-of-type {\n",
       "        vertical-align: middle;\n",
       "    }\n",
       "\n",
       "    .dataframe tbody tr th {\n",
       "        vertical-align: top;\n",
       "    }\n",
       "\n",
       "    .dataframe thead th {\n",
       "        text-align: right;\n",
       "    }\n",
       "</style>\n",
       "<table border=\"1\" class=\"dataframe\">\n",
       "  <thead>\n",
       "    <tr style=\"text-align: right;\">\n",
       "      <th></th>\n",
       "      <th>House Price</th>\n",
       "      <th>House Size (sq.ft.)</th>\n",
       "    </tr>\n",
       "  </thead>\n",
       "  <tbody>\n",
       "    <tr>\n",
       "      <th>0</th>\n",
       "      <td>1116000</td>\n",
       "      <td>1940</td>\n",
       "    </tr>\n",
       "    <tr>\n",
       "      <th>1</th>\n",
       "      <td>860000</td>\n",
       "      <td>1300</td>\n",
       "    </tr>\n",
       "    <tr>\n",
       "      <th>2</th>\n",
       "      <td>818400</td>\n",
       "      <td>1420</td>\n",
       "    </tr>\n",
       "    <tr>\n",
       "      <th>3</th>\n",
       "      <td>1000000</td>\n",
       "      <td>1680</td>\n",
       "    </tr>\n",
       "    <tr>\n",
       "      <th>4</th>\n",
       "      <td>640000</td>\n",
       "      <td>1270</td>\n",
       "    </tr>\n",
       "    <tr>\n",
       "      <th>5</th>\n",
       "      <td>1010000</td>\n",
       "      <td>1850</td>\n",
       "    </tr>\n",
       "    <tr>\n",
       "      <th>6</th>\n",
       "      <td>600000</td>\n",
       "      <td>1000</td>\n",
       "    </tr>\n",
       "    <tr>\n",
       "      <th>7</th>\n",
       "      <td>700000</td>\n",
       "      <td>1100</td>\n",
       "    </tr>\n",
       "    <tr>\n",
       "      <th>8</th>\n",
       "      <td>1100000</td>\n",
       "      <td>1600</td>\n",
       "    </tr>\n",
       "    <tr>\n",
       "      <th>9</th>\n",
       "      <td>570000</td>\n",
       "      <td>1000</td>\n",
       "    </tr>\n",
       "    <tr>\n",
       "      <th>10</th>\n",
       "      <td>860000</td>\n",
       "      <td>2150</td>\n",
       "    </tr>\n",
       "    <tr>\n",
       "      <th>11</th>\n",
       "      <td>1085000</td>\n",
       "      <td>1900</td>\n",
       "    </tr>\n",
       "    <tr>\n",
       "      <th>12</th>\n",
       "      <td>1250000</td>\n",
       "      <td>2200</td>\n",
       "    </tr>\n",
       "    <tr>\n",
       "      <th>13</th>\n",
       "      <td>850000</td>\n",
       "      <td>1100</td>\n",
       "    </tr>\n",
       "    <tr>\n",
       "      <th>14</th>\n",
       "      <td>640000</td>\n",
       "      <td>860</td>\n",
       "    </tr>\n",
       "    <tr>\n",
       "      <th>15</th>\n",
       "      <td>900000</td>\n",
       "      <td>1325</td>\n",
       "    </tr>\n",
       "    <tr>\n",
       "      <th>16</th>\n",
       "      <td>730000</td>\n",
       "      <td>1350</td>\n",
       "    </tr>\n",
       "    <tr>\n",
       "      <th>17</th>\n",
       "      <td>750000</td>\n",
       "      <td>1600</td>\n",
       "    </tr>\n",
       "    <tr>\n",
       "      <th>18</th>\n",
       "      <td>650000</td>\n",
       "      <td>950</td>\n",
       "    </tr>\n",
       "    <tr>\n",
       "      <th>19</th>\n",
       "      <td>680000</td>\n",
       "      <td>1250</td>\n",
       "    </tr>\n",
       "  </tbody>\n",
       "</table>\n",
       "</div>"
      ],
      "text/plain": [
       "    House Price  House Size (sq.ft.)\n",
       "0       1116000                 1940\n",
       "1        860000                 1300\n",
       "2        818400                 1420\n",
       "3       1000000                 1680\n",
       "4        640000                 1270\n",
       "5       1010000                 1850\n",
       "6        600000                 1000\n",
       "7        700000                 1100\n",
       "8       1100000                 1600\n",
       "9        570000                 1000\n",
       "10       860000                 2150\n",
       "11      1085000                 1900\n",
       "12      1250000                 2200\n",
       "13       850000                 1100\n",
       "14       640000                  860\n",
       "15       900000                 1325\n",
       "16       730000                 1350\n",
       "17       750000                 1600\n",
       "18       650000                  950\n",
       "19       680000                 1250"
      ]
     },
     "execution_count": 63,
     "metadata": {},
     "output_type": "execute_result"
    }
   ],
   "source": [
    "data[['House Price', 'House Size (sq.ft.)']]"
   ]
  },
  {
   "cell_type": "markdown",
   "id": "f104b0d6c05395a9",
   "metadata": {
    "collapsed": false,
    "jupyter": {
     "outputs_hidden": false
    }
   },
   "source": [
    "## Regressão simples - OLS ordinary least squares"
   ]
  },
  {
   "cell_type": "code",
   "execution_count": 64,
   "id": "5aaf51b7fc1f1e3a",
   "metadata": {
    "ExecuteTime": {
     "end_time": "2023-12-13T20:47:23.209099064Z",
     "start_time": "2023-12-13T20:47:22.259798764Z"
    },
    "collapsed": false,
    "jupyter": {
     "outputs_hidden": false
    }
   },
   "outputs": [],
   "source": [
    "X = data['House Size (sq.ft.)']\n",
    "Y = data['House Price']"
   ]
  },
  {
   "cell_type": "code",
   "execution_count": 65,
   "id": "1d1a9474188531bd",
   "metadata": {
    "ExecuteTime": {
     "end_time": "2023-12-13T20:47:23.342201184Z",
     "start_time": "2023-12-13T20:47:22.267660502Z"
    },
    "collapsed": false,
    "jupyter": {
     "outputs_hidden": false
    }
   },
   "outputs": [
    {
     "data": {
      "text/plain": [
       "0     1940\n",
       "1     1300\n",
       "2     1420\n",
       "3     1680\n",
       "4     1270\n",
       "5     1850\n",
       "6     1000\n",
       "7     1100\n",
       "8     1600\n",
       "9     1000\n",
       "10    2150\n",
       "11    1900\n",
       "12    2200\n",
       "13    1100\n",
       "14     860\n",
       "15    1325\n",
       "16    1350\n",
       "17    1600\n",
       "18     950\n",
       "19    1250\n",
       "Name: House Size (sq.ft.), dtype: int64"
      ]
     },
     "execution_count": 65,
     "metadata": {},
     "output_type": "execute_result"
    }
   ],
   "source": [
    "X"
   ]
  },
  {
   "cell_type": "code",
   "execution_count": 66,
   "id": "a9e227cde7c8753",
   "metadata": {
    "ExecuteTime": {
     "end_time": "2023-12-13T20:47:23.367556159Z",
     "start_time": "2023-12-13T20:47:22.308203879Z"
    },
    "collapsed": false,
    "jupyter": {
     "outputs_hidden": false
    }
   },
   "outputs": [
    {
     "data": {
      "text/plain": [
       "0     1116000\n",
       "1      860000\n",
       "2      818400\n",
       "3     1000000\n",
       "4      640000\n",
       "5     1010000\n",
       "6      600000\n",
       "7      700000\n",
       "8     1100000\n",
       "9      570000\n",
       "10     860000\n",
       "11    1085000\n",
       "12    1250000\n",
       "13     850000\n",
       "14     640000\n",
       "15     900000\n",
       "16     730000\n",
       "17     750000\n",
       "18     650000\n",
       "19     680000\n",
       "Name: House Price, dtype: int64"
      ]
     },
     "execution_count": 66,
     "metadata": {},
     "output_type": "execute_result"
    }
   ],
   "source": [
    "Y"
   ]
  },
  {
   "cell_type": "code",
   "execution_count": 67,
   "id": "a0c50efcbcfb8852",
   "metadata": {
    "ExecuteTime": {
     "end_time": "2023-12-13T20:47:23.498263677Z",
     "start_time": "2023-12-13T20:47:22.308681445Z"
    },
    "collapsed": false,
    "jupyter": {
     "outputs_hidden": false
    }
   },
   "outputs": [
    {
     "data": {
      "image/png": "[encoded data removed]",
      "text/plain": [
       "<Figure size 640x480 with 1 Axes>"
      ]
     },
     "metadata": {},
     "output_type": "display_data"
    }
   ],
   "source": [
    "sns.scatterplot(data=data, x='House Size (sq.ft.)', y='House Price')\n",
    "plt.axis([0, 2500, 0, 1500000])\n",
    "plt.show()"
   ]
  },
  {
   "cell_type": "code",
   "execution_count": 68,
   "id": "fb63013a31d73009",
   "metadata": {
    "ExecuteTime": {
     "end_time": "2023-12-13T20:47:23.503346204Z",
     "start_time": "2023-12-13T20:47:22.703065868Z"
    },
    "collapsed": false,
    "jupyter": {
     "outputs_hidden": false
    }
   },
   "outputs": [],
   "source": [
    "X1 = sm.add_constant(X)\n",
    "reg = sm.OLS(Y, X1).fit()"
   ]
  },
  {
   "cell_type": "code",
   "execution_count": 69,
   "id": "1888927ac44d311c",
   "metadata": {
    "ExecuteTime": {
     "end_time": "2023-12-13T20:47:23.507677475Z",
     "start_time": "2023-12-13T20:47:22.713052853Z"
    },
    "collapsed": false,
    "jupyter": {
     "outputs_hidden": false
    }
   },
   "outputs": [
    {
     "name": "stdout",
     "output_type": "stream",
     "text": [
      "                            OLS Regression Results                            \n",
      "==============================================================================\n",
      "Dep. Variable:            House Price   R-squared:                       0.678\n",
      "Model:                            OLS   Adj. R-squared:                  0.660\n",
      "Method:                 Least Squares   F-statistic:                     37.95\n",
      "Date:                Wed, 13 Dec 2023   Prob (F-statistic):           8.13e-06\n",
      "Time:                        18:46:18   Log-Likelihood:                -260.43\n",
      "No. Observations:                  20   AIC:                             524.9\n",
      "Df Residuals:                      18   BIC:                             526.8\n",
      "Df Model:                           1                                         \n",
      "Covariance Type:            nonrobust                                         \n",
      "=======================================================================================\n",
      "                          coef    std err          t      P>|t|      [0.025      0.975]\n",
      "---------------------------------------------------------------------------------------\n",
      "const                2.608e+05   9.76e+04      2.673      0.016    5.58e+04    4.66e+05\n",
      "House Size (sq.ft.)   401.9163     65.243      6.160      0.000     264.846     538.987\n",
      "==============================================================================\n",
      "Omnibus:                        1.238   Durbin-Watson:                   1.810\n",
      "Prob(Omnibus):                  0.538   Jarque-Bera (JB):                0.715\n",
      "Skew:                          -0.459   Prob(JB):                        0.699\n",
      "Kurtosis:                       2.884   Cond. No.                     5.66e+03\n",
      "==============================================================================\n",
      "\n",
      "Notes:\n",
      "[1] Standard Errors assume that the covariance matrix of the errors is correctly specified.\n",
      "[2] The condition number is large, 5.66e+03. This might indicate that there are\n",
      "strong multicollinearity or other numerical problems.\n"
     ]
    }
   ],
   "source": [
    "print(reg.summary())"
   ]
  },
  {
   "cell_type": "code",
   "execution_count": 70,
   "id": "7cdc559cf17b78cf",
   "metadata": {
    "ExecuteTime": {
     "end_time": "2023-12-13T20:47:23.517782276Z",
     "start_time": "2023-12-13T20:47:22.738389025Z"
    },
    "collapsed": false,
    "jupyter": {
     "outputs_hidden": false
    }
   },
   "outputs": [],
   "source": [
    "parametros = reg.params.reset_index().rename(columns={'index':'variaveis', 0:'coeficientes'})"
   ]
  },
  {
   "cell_type": "code",
   "execution_count": 71,
   "id": "fa36d180cf2b4d21",
   "metadata": {
    "ExecuteTime": {
     "end_time": "2023-12-13T20:47:23.522037117Z",
     "start_time": "2023-12-13T20:47:22.748130208Z"
    },
    "collapsed": false,
    "jupyter": {
     "outputs_hidden": false
    }
   },
   "outputs": [
    {
     "data": {
      "text/plain": [
       "662722.5223753222"
      ]
     },
     "execution_count": 71,
     "metadata": {},
     "output_type": "execute_result"
    }
   ],
   "source": [
    "# estimando o preço de uma casa com 1000 m²\n",
    "parametros['coeficientes'][1] * 1000 + parametros['coeficientes'][0]"
   ]
  },
  {
   "cell_type": "markdown",
   "id": "5c1b78fa116ff2f4",
   "metadata": {
    "collapsed": false,
    "jupyter": {
     "outputs_hidden": false
    }
   },
   "source": [
    "## Parâmetros usando o scipy"
   ]
  },
  {
   "cell_type": "code",
   "execution_count": 72,
   "id": "45736769450be938",
   "metadata": {
    "ExecuteTime": {
     "end_time": "2023-12-13T20:47:23.526266195Z",
     "start_time": "2023-12-13T20:47:22.795848189Z"
    },
    "collapsed": false,
    "jupyter": {
     "outputs_hidden": false
    }
   },
   "outputs": [],
   "source": [
    "slop, intercepto, r_quadrado, p_valor, std_erro = stats.linregress(X, Y)"
   ]
  },
  {
   "cell_type": "code",
   "execution_count": 73,
   "id": "da47148930d05f1a",
   "metadata": {
    "ExecuteTime": {
     "end_time": "2023-12-13T20:47:23.530289364Z",
     "start_time": "2023-12-13T20:47:22.796174109Z"
    },
    "collapsed": false,
    "jupyter": {
     "outputs_hidden": false
    }
   },
   "outputs": [
    {
     "name": "stdout",
     "output_type": "stream",
     "text": [
      "Inclinação: 401.91628631922595\n",
      "Intercepto: 260806.2360560964\n",
      "R^2: 0.678279986579124\n",
      "p-valor: 8.129642377231308e-06\n",
      "Desvio padão do erro: 65.24299510636492\n"
     ]
    }
   ],
   "source": [
    "print('Inclinação:', slop)\n",
    "print('Intercepto:', intercepto)\n",
    "print('R^2:', r_quadrado**2)\n",
    "print('p-valor:', p_valor)\n",
    "print('Desvio padão do erro:', std_erro)"
   ]
  },
  {
   "cell_type": "markdown",
   "id": "a17aa67b03433972",
   "metadata": {
    "collapsed": false,
    "jupyter": {
     "outputs_hidden": false
    }
   },
   "source": [
    "# Otimização de portifólio - Teoria de Markowitz"
   ]
  },
  {
   "cell_type": "markdown",
   "id": "accfa2a603237f67",
   "metadata": {
    "collapsed": false,
    "jupyter": {
     "outputs_hidden": false
    }
   },
   "source": [
    "## Carregando dados"
   ]
  },
  {
   "cell_type": "code",
   "execution_count": 74,
   "id": "d4406929e99e47c2",
   "metadata": {
    "ExecuteTime": {
     "end_time": "2023-12-13T20:48:00.162034762Z",
     "start_time": "2023-12-13T20:48:00.123310713Z"
    },
    "collapsed": false,
    "jupyter": {
     "outputs_hidden": false
    }
   },
   "outputs": [],
   "source": [
    "assets = ['PG', '^GSPC']"
   ]
  },
  {
   "cell_type": "code",
   "execution_count": 75,
   "id": "34c532c1f31ee44a",
   "metadata": {
    "ExecuteTime": {
     "end_time": "2023-12-13T20:50:55.072604863Z",
     "start_time": "2023-12-13T20:50:53.792238669Z"
    },
    "collapsed": false,
    "jupyter": {
     "outputs_hidden": false
    }
   },
   "outputs": [
    {
     "name": "stdout",
     "output_type": "stream",
     "text": [
      "[*********************100%%**********************]  2 of 2 completed\n"
     ]
    }
   ],
   "source": [
    "portifolio_data = pdr.get_data_yahoo(assets, start='2007-01-01', end=\"2022-12-31\")['Adj Close']\n",
    "portifolio_data = portifolio_data.rename(\n",
    "    columns={'PG': 'P&G',\n",
    "             '^GSPC': 'S&P500'}\n",
    ")"
   ]
  },
  {
   "cell_type": "code",
   "execution_count": 76,
   "id": "18496ba1bcb115a1",
   "metadata": {
    "ExecuteTime": {
     "end_time": "2023-12-13T20:50:55.931324900Z",
     "start_time": "2023-12-13T20:50:55.835377910Z"
    },
    "collapsed": false,
    "jupyter": {
     "outputs_hidden": false
    }
   },
   "outputs": [
    {
     "data": {
      "text/html": [
       "<div>\n",
       "<style scoped>\n",
       "    .dataframe tbody tr th:only-of-type {\n",
       "        vertical-align: middle;\n",
       "    }\n",
       "\n",
       "    .dataframe tbody tr th {\n",
       "        vertical-align: top;\n",
       "    }\n",
       "\n",
       "    .dataframe thead th {\n",
       "        text-align: right;\n",
       "    }\n",
       "</style>\n",
       "<table border=\"1\" class=\"dataframe\">\n",
       "  <thead>\n",
       "    <tr style=\"text-align: right;\">\n",
       "      <th></th>\n",
       "      <th>P&amp;G</th>\n",
       "      <th>S&amp;P500</th>\n",
       "    </tr>\n",
       "    <tr>\n",
       "      <th>Date</th>\n",
       "      <th></th>\n",
       "      <th></th>\n",
       "    </tr>\n",
       "  </thead>\n",
       "  <tbody>\n",
       "    <tr>\n",
       "      <th>2022-12-23</th>\n",
       "      <td>148.841446</td>\n",
       "      <td>3844.820068</td>\n",
       "    </tr>\n",
       "    <tr>\n",
       "      <th>2022-12-27</th>\n",
       "      <td>150.138519</td>\n",
       "      <td>3829.250000</td>\n",
       "    </tr>\n",
       "    <tr>\n",
       "      <th>2022-12-28</th>\n",
       "      <td>148.197815</td>\n",
       "      <td>3783.219971</td>\n",
       "    </tr>\n",
       "    <tr>\n",
       "      <th>2022-12-29</th>\n",
       "      <td>148.812180</td>\n",
       "      <td>3849.280029</td>\n",
       "    </tr>\n",
       "    <tr>\n",
       "      <th>2022-12-30</th>\n",
       "      <td>147.807693</td>\n",
       "      <td>3839.500000</td>\n",
       "    </tr>\n",
       "  </tbody>\n",
       "</table>\n",
       "</div>"
      ],
      "text/plain": [
       "                   P&G       S&P500\n",
       "Date                               \n",
       "2022-12-23  148.841446  3844.820068\n",
       "2022-12-27  150.138519  3829.250000\n",
       "2022-12-28  148.197815  3783.219971\n",
       "2022-12-29  148.812180  3849.280029\n",
       "2022-12-30  147.807693  3839.500000"
      ]
     },
     "execution_count": 76,
     "metadata": {},
     "output_type": "execute_result"
    }
   ],
   "source": [
    "portifolio_data.tail()"
   ]
  },
  {
   "cell_type": "code",
   "execution_count": 77,
   "id": "d244285211d8b26b",
   "metadata": {
    "ExecuteTime": {
     "end_time": "2023-12-13T20:50:58.370117785Z",
     "start_time": "2023-12-13T20:50:57.966948254Z"
    },
    "collapsed": false,
    "jupyter": {
     "outputs_hidden": false
    }
   },
   "outputs": [
    {
     "data": {
      "image/png": "[encoded data removed]",
      "text/plain": [
       "<Figure size 1500x600 with 1 Axes>"
      ]
     },
     "metadata": {},
     "output_type": "display_data"
    }
   ],
   "source": [
    "(100*portifolio_data/portifolio_data.iloc[0]).plot(figsize=(15, 6))\n",
    "plt.axvline(x=pd.to_datetime(\"2007-08-30\"), color='b', label='crise de 2008')\n",
    "plt.axvline(x=pd.to_datetime(\"2011-06-01\"), color='b', label='crise de 2011')\n",
    "plt.axvline(x=pd.to_datetime(\"2020-03-01\"), color='b', label='pandemia COVID-19')\n",
    "\n",
    "# place legend outside\n",
    "plt.legend(bbox_to_anchor=(1.0, 1), loc='best')\n",
    "plt.show()"
   ]
  },
  {
   "cell_type": "markdown",
   "id": "9b003f7ccc0b1556",
   "metadata": {
    "collapsed": false,
    "jupyter": {
     "outputs_hidden": false
    }
   },
   "source": [
    "## Retornos individuais \n",
    "\n",
    "Vamos usar a série histórica para calcular os retornos individuais, e a covariância e correlação"
   ]
  },
  {
   "cell_type": "code",
   "execution_count": 78,
   "id": "8fb5cbc21cf7051a",
   "metadata": {
    "ExecuteTime": {
     "end_time": "2023-12-13T20:52:07.314355902Z",
     "start_time": "2023-12-13T20:52:07.185293903Z"
    },
    "collapsed": false,
    "jupyter": {
     "outputs_hidden": false
    }
   },
   "outputs": [
    {
     "data": {
      "text/html": [
       "<div>\n",
       "<style scoped>\n",
       "    .dataframe tbody tr th:only-of-type {\n",
       "        vertical-align: middle;\n",
       "    }\n",
       "\n",
       "    .dataframe tbody tr th {\n",
       "        vertical-align: top;\n",
       "    }\n",
       "\n",
       "    .dataframe thead th {\n",
       "        text-align: right;\n",
       "    }\n",
       "</style>\n",
       "<table border=\"1\" class=\"dataframe\">\n",
       "  <thead>\n",
       "    <tr style=\"text-align: right;\">\n",
       "      <th></th>\n",
       "      <th>P&amp;G</th>\n",
       "      <th>S&amp;P500</th>\n",
       "    </tr>\n",
       "    <tr>\n",
       "      <th>Date</th>\n",
       "      <th></th>\n",
       "      <th></th>\n",
       "    </tr>\n",
       "  </thead>\n",
       "  <tbody>\n",
       "    <tr>\n",
       "      <th>2007-01-03</th>\n",
       "      <td>NaN</td>\n",
       "      <td>NaN</td>\n",
       "    </tr>\n",
       "    <tr>\n",
       "      <th>2007-01-04</th>\n",
       "      <td>-0.007621</td>\n",
       "      <td>0.001228</td>\n",
       "    </tr>\n",
       "    <tr>\n",
       "      <th>2007-01-05</th>\n",
       "      <td>-0.008624</td>\n",
       "      <td>-0.006103</td>\n",
       "    </tr>\n",
       "    <tr>\n",
       "      <th>2007-01-08</th>\n",
       "      <td>0.002202</td>\n",
       "      <td>0.002218</td>\n",
       "    </tr>\n",
       "    <tr>\n",
       "      <th>2007-01-09</th>\n",
       "      <td>-0.002517</td>\n",
       "      <td>-0.000517</td>\n",
       "    </tr>\n",
       "    <tr>\n",
       "      <th>...</th>\n",
       "      <td>...</td>\n",
       "      <td>...</td>\n",
       "    </tr>\n",
       "    <tr>\n",
       "      <th>2022-12-23</th>\n",
       "      <td>0.002821</td>\n",
       "      <td>0.005851</td>\n",
       "    </tr>\n",
       "    <tr>\n",
       "      <th>2022-12-27</th>\n",
       "      <td>0.008677</td>\n",
       "      <td>-0.004058</td>\n",
       "    </tr>\n",
       "    <tr>\n",
       "      <th>2022-12-28</th>\n",
       "      <td>-0.013010</td>\n",
       "      <td>-0.012093</td>\n",
       "    </tr>\n",
       "    <tr>\n",
       "      <th>2022-12-29</th>\n",
       "      <td>0.004137</td>\n",
       "      <td>0.017311</td>\n",
       "    </tr>\n",
       "    <tr>\n",
       "      <th>2022-12-30</th>\n",
       "      <td>-0.006773</td>\n",
       "      <td>-0.002544</td>\n",
       "    </tr>\n",
       "  </tbody>\n",
       "</table>\n",
       "<p>4028 rows × 2 columns</p>\n",
       "</div>"
      ],
      "text/plain": [
       "                 P&G    S&P500\n",
       "Date                          \n",
       "2007-01-03       NaN       NaN\n",
       "2007-01-04 -0.007621  0.001228\n",
       "2007-01-05 -0.008624 -0.006103\n",
       "2007-01-08  0.002202  0.002218\n",
       "2007-01-09 -0.002517 -0.000517\n",
       "...              ...       ...\n",
       "2022-12-23  0.002821  0.005851\n",
       "2022-12-27  0.008677 -0.004058\n",
       "2022-12-28 -0.013010 -0.012093\n",
       "2022-12-29  0.004137  0.017311\n",
       "2022-12-30 -0.006773 -0.002544\n",
       "\n",
       "[4028 rows x 2 columns]"
      ]
     },
     "execution_count": 78,
     "metadata": {},
     "output_type": "execute_result"
    }
   ],
   "source": [
    "retorno_log = np.log(portifolio_data/portifolio_data.shift(1))\n",
    "retorno_log"
   ]
  },
  {
   "cell_type": "code",
   "execution_count": 79,
   "id": "b3ca17a189600e08",
   "metadata": {
    "ExecuteTime": {
     "end_time": "2023-12-13T20:52:24.193989327Z",
     "start_time": "2023-12-13T20:52:23.880298701Z"
    },
    "collapsed": false,
    "jupyter": {
     "outputs_hidden": false
    }
   },
   "outputs": [
    {
     "data": {
      "text/plain": [
       "P&G       0.081801\n",
       "S&P500    0.061900\n",
       "dtype: float64"
      ]
     },
     "execution_count": 79,
     "metadata": {},
     "output_type": "execute_result"
    }
   ],
   "source": [
    "# média de retorno anual\n",
    "retorno_log.mean() * 250"
   ]
  },
  {
   "cell_type": "code",
   "execution_count": 80,
   "id": "ac78c37ed60a2408",
   "metadata": {
    "ExecuteTime": {
     "end_time": "2023-12-13T20:52:41.885097969Z",
     "start_time": "2023-12-13T20:52:41.697721445Z"
    },
    "collapsed": false,
    "jupyter": {
     "outputs_hidden": false
    }
   },
   "outputs": [
    {
     "data": {
      "text/html": [
       "<div>\n",
       "<style scoped>\n",
       "    .dataframe tbody tr th:only-of-type {\n",
       "        vertical-align: middle;\n",
       "    }\n",
       "\n",
       "    .dataframe tbody tr th {\n",
       "        vertical-align: top;\n",
       "    }\n",
       "\n",
       "    .dataframe thead th {\n",
       "        text-align: right;\n",
       "    }\n",
       "</style>\n",
       "<table border=\"1\" class=\"dataframe\">\n",
       "  <thead>\n",
       "    <tr style=\"text-align: right;\">\n",
       "      <th></th>\n",
       "      <th>P&amp;G</th>\n",
       "      <th>S&amp;P500</th>\n",
       "    </tr>\n",
       "  </thead>\n",
       "  <tbody>\n",
       "    <tr>\n",
       "      <th>P&amp;G</th>\n",
       "      <td>0.035160</td>\n",
       "      <td>0.024233</td>\n",
       "    </tr>\n",
       "    <tr>\n",
       "      <th>S&amp;P500</th>\n",
       "      <td>0.024233</td>\n",
       "      <td>0.042447</td>\n",
       "    </tr>\n",
       "  </tbody>\n",
       "</table>\n",
       "</div>"
      ],
      "text/plain": [
       "             P&G    S&P500\n",
       "P&G     0.035160  0.024233\n",
       "S&P500  0.024233  0.042447"
      ]
     },
     "execution_count": 80,
     "metadata": {},
     "output_type": "execute_result"
    }
   ],
   "source": [
    "# covariância dos ativos\n",
    "retorno_log.cov() * 250"
   ]
  },
  {
   "cell_type": "code",
   "execution_count": 81,
   "id": "862177843ffdfdef",
   "metadata": {
    "ExecuteTime": {
     "end_time": "2023-12-13T20:53:17.703320479Z",
     "start_time": "2023-12-13T20:53:17.588949625Z"
    },
    "collapsed": false,
    "jupyter": {
     "outputs_hidden": false
    }
   },
   "outputs": [
    {
     "data": {
      "text/html": [
       "<div>\n",
       "<style scoped>\n",
       "    .dataframe tbody tr th:only-of-type {\n",
       "        vertical-align: middle;\n",
       "    }\n",
       "\n",
       "    .dataframe tbody tr th {\n",
       "        vertical-align: top;\n",
       "    }\n",
       "\n",
       "    .dataframe thead th {\n",
       "        text-align: right;\n",
       "    }\n",
       "</style>\n",
       "<table border=\"1\" class=\"dataframe\">\n",
       "  <thead>\n",
       "    <tr style=\"text-align: right;\">\n",
       "      <th></th>\n",
       "      <th>P&amp;G</th>\n",
       "      <th>S&amp;P500</th>\n",
       "    </tr>\n",
       "  </thead>\n",
       "  <tbody>\n",
       "    <tr>\n",
       "      <th>P&amp;G</th>\n",
       "      <td>1.000000</td>\n",
       "      <td>0.627283</td>\n",
       "    </tr>\n",
       "    <tr>\n",
       "      <th>S&amp;P500</th>\n",
       "      <td>0.627283</td>\n",
       "      <td>1.000000</td>\n",
       "    </tr>\n",
       "  </tbody>\n",
       "</table>\n",
       "</div>"
      ],
      "text/plain": [
       "             P&G    S&P500\n",
       "P&G     1.000000  0.627283\n",
       "S&P500  0.627283  1.000000"
      ]
     },
     "execution_count": 81,
     "metadata": {},
     "output_type": "execute_result"
    }
   ],
   "source": [
    "# correlação entre os ativos\n",
    "retorno_log.corr()"
   ]
  },
  {
   "cell_type": "code",
   "execution_count": 82,
   "id": "12dc5d1022b37b6",
   "metadata": {
    "ExecuteTime": {
     "end_time": "2023-12-13T20:53:50.021145552Z",
     "start_time": "2023-12-13T20:53:49.758066297Z"
    },
    "collapsed": false,
    "jupyter": {
     "outputs_hidden": false
    }
   },
   "outputs": [
    {
     "data": {
      "text/plain": [
       "2"
      ]
     },
     "execution_count": 82,
     "metadata": {},
     "output_type": "execute_result"
    }
   ],
   "source": [
    "num_ativos = len(assets)\n",
    "num_ativos"
   ]
  },
  {
   "cell_type": "markdown",
   "id": "15f03baf24449b17",
   "metadata": {
    "collapsed": false,
    "jupyter": {
     "outputs_hidden": false
    }
   },
   "source": [
    "## Pesos aleatórios"
   ]
  },
  {
   "cell_type": "code",
   "execution_count": 83,
   "id": "1d82e31ffcfc6706",
   "metadata": {
    "ExecuteTime": {
     "end_time": "2023-12-13T20:55:30.842863544Z",
     "start_time": "2023-12-13T20:55:30.692311123Z"
    },
    "collapsed": false,
    "jupyter": {
     "outputs_hidden": false
    }
   },
   "outputs": [
    {
     "data": {
      "text/plain": [
       "array([0.97808697, 0.02191303])"
      ]
     },
     "execution_count": 83,
     "metadata": {},
     "output_type": "execute_result"
    }
   ],
   "source": [
    "pesos = np.random.random(num_ativos)\n",
    "\n",
    "#normalizar os pesos - para que a sua soma seja igual a 1 = 100%\n",
    "pesos /= np.sum(pesos)\n",
    "pesos"
   ]
  },
  {
   "cell_type": "code",
   "execution_count": 84,
   "id": "2c496829e07be6ad",
   "metadata": {
    "ExecuteTime": {
     "end_time": "2023-12-13T20:56:14.602766630Z",
     "start_time": "2023-12-13T20:56:14.273596927Z"
    },
    "collapsed": false,
    "jupyter": {
     "outputs_hidden": false
    }
   },
   "outputs": [
    {
     "data": {
      "text/plain": [
       "1.0"
      ]
     },
     "execution_count": 84,
     "metadata": {},
     "output_type": "execute_result"
    }
   ],
   "source": [
    "pesos.sum()"
   ]
  },
  {
   "cell_type": "markdown",
   "id": "772b70165888cb15",
   "metadata": {
    "collapsed": false,
    "jupyter": {
     "outputs_hidden": false
    }
   },
   "source": [
    "## Retorno esperados do portifólio\n",
    "### $$return = w_1 r_1 + w_2 r_2$$"
   ]
  },
  {
   "cell_type": "code",
   "execution_count": 85,
   "id": "8f00e54f03fa6eff",
   "metadata": {
    "ExecuteTime": {
     "end_time": "2023-12-13T21:00:35.717220178Z",
     "start_time": "2023-12-13T21:00:35.439152648Z"
    },
    "collapsed": false,
    "jupyter": {
     "outputs_hidden": false
    }
   },
   "outputs": [
    {
     "data": {
      "text/plain": [
       "0.081364537680475"
      ]
     },
     "execution_count": 85,
     "metadata": {},
     "output_type": "execute_result"
    }
   ],
   "source": [
    "np.sum(pesos*retorno_log.mean()) *250"
   ]
  },
  {
   "cell_type": "markdown",
   "id": "deeecc4ae035a7c",
   "metadata": {
    "collapsed": false,
    "jupyter": {
     "outputs_hidden": false
    }
   },
   "source": [
    "## Variância do portifólio esperada\n",
    "### $$\\sigma^{2} = w^{T} \\cdot \\sigma \\cdot w$$"
   ]
  },
  {
   "cell_type": "code",
   "execution_count": 86,
   "id": "df366a9658d58595",
   "metadata": {
    "ExecuteTime": {
     "end_time": "2023-12-13T21:05:16.721987453Z",
     "start_time": "2023-12-13T21:05:16.629084759Z"
    },
    "collapsed": false,
    "jupyter": {
     "outputs_hidden": false
    }
   },
   "outputs": [
    {
     "data": {
      "text/plain": [
       "0.03469496317241413"
      ]
     },
     "execution_count": 86,
     "metadata": {},
     "output_type": "execute_result"
    }
   ],
   "source": [
    "variancia_portifolio = np.dot(pesos.T, np.dot(retorno_log.cov() * 250, pesos))\n",
    "variancia_portifolio"
   ]
  },
  {
   "cell_type": "markdown",
   "id": "97cada94a4729062",
   "metadata": {
    "collapsed": false,
    "jupyter": {
     "outputs_hidden": false
    }
   },
   "source": [
    "## Volatilidade esperada do portifólio - desvio padrão do portifólio\n",
    "### $$\\sigma = \\sqrt{\\sigma^{2}}$$"
   ]
  },
  {
   "cell_type": "code",
   "execution_count": 87,
   "id": "81ade5fabaa3f5ef",
   "metadata": {
    "ExecuteTime": {
     "end_time": "2023-12-13T21:05:47.864634237Z",
     "start_time": "2023-12-13T21:05:47.626756021Z"
    },
    "collapsed": false,
    "jupyter": {
     "outputs_hidden": false
    }
   },
   "outputs": [
    {
     "data": {
      "text/plain": [
       "0.1862658400577361"
      ]
     },
     "execution_count": 87,
     "metadata": {},
     "output_type": "execute_result"
    }
   ],
   "source": [
    "volatilidade = np.sqrt(variancia_portifolio)\n",
    "volatilidade"
   ]
  },
  {
   "cell_type": "markdown",
   "id": "bd60f27c3b60bcaf",
   "metadata": {
    "collapsed": false,
    "jupyter": {
     "outputs_hidden": false
    }
   },
   "source": [
    "Considerando 1000 combinações diferentes para os dois ativos - combinações dos valores dos pesos para cada ativo, podemos simular a fronteira eficiente de Markowitz."
   ]
  },
  {
   "cell_type": "code",
   "execution_count": 88,
   "id": "a7858d00bb9425dd",
   "metadata": {
    "ExecuteTime": {
     "end_time": "2023-12-13T21:10:31.274700169Z",
     "start_time": "2023-12-13T21:10:30.397491494Z"
    },
    "collapsed": false,
    "jupyter": {
     "outputs_hidden": false
    }
   },
   "outputs": [],
   "source": [
    "retorno_portifolio = []\n",
    "volatilidade_portifolio = []\n",
    "\n",
    "for x in range(1000):\n",
    "    pesos = np.random.random(num_ativos)\n",
    "    pesos /= np.sum(pesos)\n",
    "    retorno_portifolio.append(np.sum(pesos*retorno_log.mean()) *250)\n",
    "    \n",
    "    variancia_portifolio = np.dot(pesos.T, np.dot(retorno_log.cov() * 250, pesos))\n",
    "    volatilidade_portifolio.append(np.sqrt(variancia_portifolio))"
   ]
  },
  {
   "cell_type": "code",
   "execution_count": 89,
   "id": "5ae26343c4f83125",
   "metadata": {
    "ExecuteTime": {
     "end_time": "2023-12-13T21:35:13.673655048Z",
     "start_time": "2023-12-13T21:35:13.532221318Z"
    },
    "collapsed": false,
    "jupyter": {
     "outputs_hidden": false
    }
   },
   "outputs": [],
   "source": [
    "portifolio = pd.DataFrame(\n",
    "    {'retorno': retorno_portifolio,\n",
    "     'volatilidade':volatilidade_portifolio})"
   ]
  },
  {
   "cell_type": "code",
   "execution_count": 90,
   "id": "b7faec3344add704",
   "metadata": {
    "ExecuteTime": {
     "end_time": "2023-12-13T21:35:18.148054583Z",
     "start_time": "2023-12-13T21:35:17.961014746Z"
    },
    "collapsed": false,
    "jupyter": {
     "outputs_hidden": false
    }
   },
   "outputs": [
    {
     "data": {
      "text/html": [
       "<div>\n",
       "<style scoped>\n",
       "    .dataframe tbody tr th:only-of-type {\n",
       "        vertical-align: middle;\n",
       "    }\n",
       "\n",
       "    .dataframe tbody tr th {\n",
       "        vertical-align: top;\n",
       "    }\n",
       "\n",
       "    .dataframe thead th {\n",
       "        text-align: right;\n",
       "    }\n",
       "</style>\n",
       "<table border=\"1\" class=\"dataframe\">\n",
       "  <thead>\n",
       "    <tr style=\"text-align: right;\">\n",
       "      <th></th>\n",
       "      <th>retorno</th>\n",
       "      <th>volatilidade</th>\n",
       "    </tr>\n",
       "  </thead>\n",
       "  <tbody>\n",
       "    <tr>\n",
       "      <th>0</th>\n",
       "      <td>0.071100</td>\n",
       "      <td>0.178422</td>\n",
       "    </tr>\n",
       "    <tr>\n",
       "      <th>1</th>\n",
       "      <td>0.064602</td>\n",
       "      <td>0.195036</td>\n",
       "    </tr>\n",
       "    <tr>\n",
       "      <th>2</th>\n",
       "      <td>0.062498</td>\n",
       "      <td>0.203415</td>\n",
       "    </tr>\n",
       "    <tr>\n",
       "      <th>3</th>\n",
       "      <td>0.070773</td>\n",
       "      <td>0.178881</td>\n",
       "    </tr>\n",
       "    <tr>\n",
       "      <th>4</th>\n",
       "      <td>0.077245</td>\n",
       "      <td>0.178001</td>\n",
       "    </tr>\n",
       "    <tr>\n",
       "      <th>...</th>\n",
       "      <td>...</td>\n",
       "      <td>...</td>\n",
       "    </tr>\n",
       "    <tr>\n",
       "      <th>995</th>\n",
       "      <td>0.073484</td>\n",
       "      <td>0.176399</td>\n",
       "    </tr>\n",
       "    <tr>\n",
       "      <th>996</th>\n",
       "      <td>0.068113</td>\n",
       "      <td>0.184159</td>\n",
       "    </tr>\n",
       "    <tr>\n",
       "      <th>997</th>\n",
       "      <td>0.069618</td>\n",
       "      <td>0.180838</td>\n",
       "    </tr>\n",
       "    <tr>\n",
       "      <th>998</th>\n",
       "      <td>0.074000</td>\n",
       "      <td>0.176270</td>\n",
       "    </tr>\n",
       "    <tr>\n",
       "      <th>999</th>\n",
       "      <td>0.062102</td>\n",
       "      <td>0.205135</td>\n",
       "    </tr>\n",
       "  </tbody>\n",
       "</table>\n",
       "<p>1000 rows × 2 columns</p>\n",
       "</div>"
      ],
      "text/plain": [
       "      retorno  volatilidade\n",
       "0    0.071100      0.178422\n",
       "1    0.064602      0.195036\n",
       "2    0.062498      0.203415\n",
       "3    0.070773      0.178881\n",
       "4    0.077245      0.178001\n",
       "..        ...           ...\n",
       "995  0.073484      0.176399\n",
       "996  0.068113      0.184159\n",
       "997  0.069618      0.180838\n",
       "998  0.074000      0.176270\n",
       "999  0.062102      0.205135\n",
       "\n",
       "[1000 rows x 2 columns]"
      ]
     },
     "execution_count": 90,
     "metadata": {},
     "output_type": "execute_result"
    }
   ],
   "source": [
    "portifolio"
   ]
  },
  {
   "cell_type": "code",
   "execution_count": 92,
   "id": "23955242e3108e93",
   "metadata": {
    "ExecuteTime": {
     "end_time": "2023-12-13T21:44:49.228092527Z",
     "start_time": "2023-12-13T21:44:48.959320490Z"
    },
    "collapsed": false,
    "jupyter": {
     "outputs_hidden": false
    }
   },
   "outputs": [
    {
     "data": {
      "image/png": "[encoded data removed]",
      "text/plain": [
       "<Figure size 1500x600 with 1 Axes>"
      ]
     },
     "metadata": {},
     "output_type": "display_data"
    }
   ],
   "source": [
    "portifolio.plot(x='volatilidade', y='retorno', kind='scatter', figsize=(15, 6))\n",
    "plt.grid()\n",
    "plt.show()"
   ]
  },
  {
   "cell_type": "code",
   "execution_count": null,
   "id": "ee6e9bfeadae1e50",
   "metadata": {
    "collapsed": false,
    "jupyter": {
     "outputs_hidden": false
    }
   },
   "outputs": [],
   "source": []
  }
 ],
 "metadata": {
  "kernelspec": {
   "display_name": "Python 3 (ipykernel)",
   "language": "python",
   "name": "python3"
  },
  "language_info": {
   "codemirror_mode": {
    "name": "ipython",
    "version": 3
   },
   "file_extension": ".py",
   "mimetype": "text/x-python",
   "name": "python",
   "nbconvert_exporter": "python",
   "pygments_lexer": "ipython3",
   "version": "3.8.10"
  }
 },
 "nbformat": 4,
 "nbformat_minor": 5
}
