{
 "cells": [
  {
   "cell_type": "markdown",
   "source": [
    "# Análise de investimentos"
   ],
   "metadata": {
    "collapsed": false
   },
   "id": "bdfb996bade1d7f1"
  },
  {
   "cell_type": "code",
   "execution_count": null,
   "outputs": [],
   "source": [
    "import pandas as pd\n",
    "import numpy as np\n",
    "import matplotlib.pyplot as plt\n",
    "from pandas_datareader import data as pdr\n",
    "import yfinance \n",
    "\n",
    "yfinance.pdr_override()\n",
    "end = \"2022-12-31\""
   ],
   "metadata": {
    "collapsed": false
   },
   "id": "7a74af9a0377d5d6"
  },
  {
   "cell_type": "code",
   "execution_count": null,
   "id": "initial_id",
   "metadata": {
    "collapsed": true
   },
   "outputs": [],
   "source": [
    "procter_and_gamble = pdr.get_data_yahoo('PG', start='1995-01-01', end=end)\n",
    "\n",
    "# opção do csv baixado da página a yahoo\n",
    "# procter_and_gamble = pd.read_csv('../data/PG.csv')"
   ]
  },
  {
   "cell_type": "code",
   "execution_count": null,
   "outputs": [],
   "source": [
    "procter_and_gamble.head()"
   ],
   "metadata": {
    "collapsed": false
   },
   "id": "a948b2de7b44ff20"
  },
  {
   "cell_type": "code",
   "execution_count": null,
   "outputs": [],
   "source": [
    "procter_and_gamble.tail()"
   ],
   "metadata": {
    "collapsed": false
   },
   "id": "6583c20f20bb3c1c"
  },
  {
   "cell_type": "code",
   "execution_count": null,
   "outputs": [],
   "source": [
    "pg = procter_and_gamble[[\"Adj Close\"]].copy().reset_index()\n",
    "pg['Date'] = pd.to_datetime(pg['Date'])\n",
    "pg['ano'] = pg.Date.dt.year\n",
    "pg['mes'] = pg.Date.dt.month\n",
    "pg = pg[['Date', 'ano', 'mes', 'Adj Close']]\n",
    "\n",
    "pg"
   ],
   "metadata": {
    "collapsed": false
   },
   "id": "9c2792b5841240"
  },
  {
   "cell_type": "markdown",
   "source": [
    "## Retorno simples \n",
    "Calculado sobre o preço de fechamento\n",
    "\n",
    "$$\\text{retorno simples} = \\frac{P_1-P_0}{P_0} = \\frac{P_1}{P_0}-1$$ "
   ],
   "metadata": {
    "collapsed": false
   },
   "id": "61bb47ea871619a3"
  },
  {
   "cell_type": "code",
   "execution_count": null,
   "outputs": [],
   "source": [
    "pg"
   ],
   "metadata": {
    "collapsed": false
   },
   "id": "cc0731815733a288"
  },
  {
   "cell_type": "code",
   "execution_count": null,
   "outputs": [],
   "source": [
    "pg['retorno_simples'] = (pg['Adj Close']/pg['Adj Close'].shift(1)) - 1"
   ],
   "metadata": {
    "collapsed": false
   },
   "id": "503b950047816e14"
  },
  {
   "cell_type": "code",
   "execution_count": null,
   "outputs": [],
   "source": [
    "pg[['Date', 'retorno_simples']].plot(x='Date', y='retorno_simples', figsize=(8, 5))\n",
    "plt.title(\"Retornos diários da ações PG entre 01-01-1995 até 23-03-2017\")\n",
    "plt.plot(pg.Date, len(pg.Date)*[0], '--')\n",
    "plt.show()"
   ],
   "metadata": {
    "collapsed": false
   },
   "id": "4a7af003fa158b55"
  },
  {
   "cell_type": "code",
   "execution_count": null,
   "outputs": [],
   "source": [
    "pg[['Date', 'Adj Close']].plot(x='Date', y='Adj Close',figsize=(8, 5))\n",
    "plt.title(\"Preço de fechamento para ações PG entre 01-01-1995 até 23-03-2017\")\n",
    "plt.show()"
   ],
   "metadata": {
    "collapsed": false
   },
   "id": "271128f376d85015"
  },
  {
   "cell_type": "code",
   "execution_count": null,
   "outputs": [],
   "source": [
    "avg_returns = pg['retorno_simples'].mean()\n",
    "avg_returns"
   ],
   "metadata": {
    "collapsed": false
   },
   "id": "c4e70d582b5410a8"
  },
  {
   "cell_type": "code",
   "execution_count": null,
   "outputs": [],
   "source": [
    "avg_returns_year = pg['retorno_simples'].mean() * 250\n",
    "print(f'retorno anual médio {round(avg_returns_year*100, 3)} %')"
   ],
   "metadata": {
    "collapsed": false
   },
   "id": "f520dae09e0c26ed"
  },
  {
   "cell_type": "markdown",
   "source": [
    "## Retorno logarítmo\n",
    "\n",
    "Lembrando que fazemos uma análise de um único ativo. Nesse caso é mais interessante analisar o retorno logarítmo.\n",
    "\n",
    "$$\\text{retorno log} = \\ln\\left(\\frac{P_{t}}{P_{t-1}}\\right)$$"
   ],
   "metadata": {
    "collapsed": false
   },
   "id": "5ad55b0c50669cad"
  },
  {
   "cell_type": "code",
   "execution_count": null,
   "outputs": [],
   "source": [
    "pg['retorno_log'] = np.log(pg['Adj Close']/pg['Adj Close'].shift(1))"
   ],
   "metadata": {
    "collapsed": false
   },
   "id": "8ea1f7064323e334"
  },
  {
   "cell_type": "code",
   "execution_count": null,
   "outputs": [],
   "source": [
    "pg"
   ],
   "metadata": {
    "collapsed": false
   },
   "id": "6c25cc5cde8673cc"
  },
  {
   "cell_type": "code",
   "execution_count": null,
   "outputs": [],
   "source": [
    "pg[['Date', 'retorno_log']].plot(x='Date', y='retorno_log',figsize=(8, 5))\n",
    "plt.title(\"Retornos (log) diários da ações PG entre 01-01-1995 até 23-03-2017\")\n",
    "plt.plot(pg.Date, len(pg.Date)*[0], '--')\n",
    "plt.show()"
   ],
   "metadata": {
    "collapsed": false
   },
   "id": "8e424b051a399eb5"
  },
  {
   "cell_type": "markdown",
   "source": [
    "## Retorno de multiplos investimentos\n",
    "\n",
    "Vamos considerar um portifólio simples, onde os quatro ativos tem pesos iguais, e calcular as suas respectivas taxas de retorno histórico.\n",
    "\n",
    "\\begin{array}{|c|c|c|}\n",
    "\\hline\n",
    "\\text{Ativo} & \\text{Taxa média anual de retorno(\\%)} & Peso \\\\\n",
    "\\hline\n",
    "\\text{P\\&G} &   0.318524 & 0.25 \\\\\n",
    "\\text{MSFT} &  0.153581 & 0.25\\\\\n",
    "\\text{GE} &  0.116717 & 0.25\\\\\n",
    "\\text{F} & 0.126224 & 0.25\\\\\n",
    "\\hline\n",
    "\\end{array}"
   ],
   "metadata": {
    "collapsed": false
   },
   "id": "24551101d02960fd"
  },
  {
   "cell_type": "code",
   "execution_count": null,
   "outputs": [],
   "source": [
    "# portifólio com ações da P&G,Microsoft, Ford, General Electrics\n",
    "tickers = [\"PG\", 'MSFT', 'F', 'GE'] \n",
    "preco_fechamento = pdr.get_data_yahoo(tickers, start='1995-01-01', end=end)['Adj Close']"
   ],
   "metadata": {
    "collapsed": false
   },
   "id": "925ebab05d390427"
  },
  {
   "cell_type": "code",
   "execution_count": null,
   "outputs": [],
   "source": [
    "acoes = preco_fechamento.copy()\n",
    "acoes = acoes.rename(\n",
    "    columns={'F': 'ford', \n",
    "             'GE': 'ge',\n",
    "             'MSFT': 'microsoft', \n",
    "             'PG': 'pg'}\n",
    ")\n",
    "\n",
    "acoes.head()"
   ],
   "metadata": {
    "collapsed": false
   },
   "id": "ab823f4996877ac4"
  },
  {
   "cell_type": "markdown",
   "source": [
    "### Retornos simples - indicados para avaliar uma carteira de investimentos diversificados\n",
    " - Normalizando os valores - comparar do mesmo ponto inicial- data base\n",
    "$$\\frac{P_{t}}{P_{0}}*100$$\n"
   ],
   "metadata": {
    "collapsed": false
   },
   "id": "c0c53e950ccac91"
  },
  {
   "cell_type": "code",
   "execution_count": null,
   "outputs": [],
   "source": [
    "acoes.iloc[0]"
   ],
   "metadata": {
    "collapsed": false
   },
   "id": "bff70afe3766259c"
  },
  {
   "cell_type": "code",
   "execution_count": null,
   "outputs": [],
   "source": [
    "acoes = (acoes/acoes.iloc[0])*100"
   ],
   "metadata": {
    "collapsed": false
   },
   "id": "26aac7c42fdd9da4"
  },
  {
   "cell_type": "code",
   "execution_count": null,
   "outputs": [],
   "source": [
    "acoes.plot(figsize=(12, 8))\n",
    "plt.show()"
   ],
   "metadata": {
    "collapsed": false
   },
   "id": "b63277d140324c97"
  },
  {
   "cell_type": "code",
   "execution_count": null,
   "outputs": [],
   "source": [
    "# retorno simples para um portifólio\n",
    "retornos = (acoes/acoes.shift(1))-1"
   ],
   "metadata": {
    "collapsed": false
   },
   "id": "5b85d2e32287661d"
  },
  {
   "cell_type": "code",
   "execution_count": null,
   "outputs": [],
   "source": [
    "retornos.head()"
   ],
   "metadata": {
    "collapsed": false
   },
   "id": "6313616446f1acc9"
  },
  {
   "cell_type": "code",
   "execution_count": null,
   "outputs": [],
   "source": [
    "pesos = np.array(4*[0.25])\n",
    "pesos"
   ],
   "metadata": {
    "collapsed": false
   },
   "id": "466eaeb881d5d544"
  },
  {
   "cell_type": "code",
   "execution_count": null,
   "outputs": [],
   "source": [
    "# estimando o retorno anual médio\n",
    "retorno_anual = retornos.mean() *250\n",
    "retorno_anual = retorno_anual.reset_index().rename(\n",
    "    columns={'index':'ativo',\n",
    "             0:'retorno médio anual'\n",
    "})\n",
    "\n",
    "retorno_anual"
   ],
   "metadata": {
    "collapsed": false
   },
   "id": "9bd5c5d3f047d063"
  },
  {
   "cell_type": "code",
   "execution_count": null,
   "outputs": [],
   "source": [
    "print(f\"\"\"Retorno anual da carteira de investimentos com pesos iguais\n",
    "{round(np.dot(retorno_anual['retorno médio anual'], pesos) * 100, 3)} %\"\"\")"
   ],
   "metadata": {
    "collapsed": false
   },
   "id": "bfbb23fe1292c9dc"
  },
  {
   "cell_type": "code",
   "execution_count": null,
   "outputs": [],
   "source": [
    "pesos_2 = np.array([0.4,0.4, 0.15, 0.05])\n",
    "print(f\"\"\"Retorno anual da carteira de investimentos com pesos diferentes\n",
    "{round(np.dot(retorno_anual['retorno médio anual'], pesos_2) * 100, 3)} %\"\"\")"
   ],
   "metadata": {
    "collapsed": false
   },
   "id": "2739fea8bc65fa4d"
  },
  {
   "cell_type": "markdown",
   "source": [
    "# Índices de ações- calculando taxas de retorno desses indices"
   ],
   "metadata": {
    "collapsed": false
   },
   "id": "b6d846e22bb7315b"
  },
  {
   "cell_type": "code",
   "execution_count": null,
   "outputs": [],
   "source": [
    "# S&P500, NASDAQ, indice alemão DAX, footsie\n",
    "index_tickers = ['^GSPC', '^IXIC', '^GDAXI', '^FTSE']\n",
    "\n",
    "indices = pdr.get_data_yahoo(index_tickers, start='1997-01-01', end=end)['Adj Close']\n",
    "indices = indices.rename(\n",
    "    columns={'^GSPC': 'S&P500',\n",
    "             '^IXIC': 'NASDAQ',\n",
    "             '^GDAXI': 'DAX',\n",
    "             '^FTSE': 'Footsie'}\n",
    ")"
   ],
   "metadata": {
    "collapsed": false
   },
   "id": "6f6d563c2162aa38"
  },
  {
   "cell_type": "code",
   "execution_count": null,
   "outputs": [],
   "source": [
    "indices.head()"
   ],
   "metadata": {
    "collapsed": false
   },
   "id": "a5870b1eae9b34c0"
  },
  {
   "cell_type": "code",
   "execution_count": null,
   "outputs": [],
   "source": [
    "indices.tail()"
   ],
   "metadata": {
    "collapsed": false
   },
   "id": "9aad3149c1538265"
  },
  {
   "cell_type": "code",
   "execution_count": null,
   "outputs": [],
   "source": [
    "# normalizando para o valor base\n",
    "(100*(indices/indices.iloc[0])).plot(figsize=(15, 6))\n",
    "plt.axvline(x=pd.to_datetime(\"2000-01-01\"), color='b', label='bolha da internet nos anos 2000')\n",
    "plt.axvline(x=pd.to_datetime(\"2007-08-30\"), color='b', label='crise de 2008')\n",
    "plt.axvline(x=pd.to_datetime(\"2011-06-01\"), color='b', label='crise de 2011')\n",
    "plt.axvline(x=pd.to_datetime(\"2020-03-01\"), color='b', label='pandemia COVID-19')\n",
    "\n",
    "# place legend outside\n",
    "plt.legend(bbox_to_anchor=(1.0, 1), loc='best')\n",
    "plt.show()"
   ],
   "metadata": {
    "collapsed": false
   },
   "id": "20cdbff75524a0e2"
  },
  {
   "cell_type": "code",
   "execution_count": null,
   "outputs": [],
   "source": [
    "# retornos\n",
    "retorno_indices = indices/indices.shift(1)-1\n",
    "retorno_indices.tail()"
   ],
   "metadata": {
    "collapsed": false
   },
   "id": "ff0b70ba0a6e2638"
  },
  {
   "cell_type": "code",
   "execution_count": null,
   "outputs": [],
   "source": [
    "# Taxas positivas de retornos\n",
    "retorno_anual_indices = retorno_indices.mean()*250\n",
    "retorno_anual_indices = retorno_anual_indices.reset_index().rename(\n",
    "    columns={'index': 'ativo',\n",
    "             0: 'retorno anual médio'})\n",
    "\n",
    "retorno_anual_indices"
   ],
   "metadata": {
    "collapsed": false
   },
   "id": "3cdfa63b658d1ec8"
  },
  {
   "cell_type": "markdown",
   "source": [
    "# Comparando o preço de fechamento de uma ação com os indices de mercado"
   ],
   "metadata": {
    "collapsed": false
   },
   "id": "9de3599cf4a3ef0"
  },
  {
   "cell_type": "code",
   "execution_count": null,
   "outputs": [],
   "source": [
    "tickers = ['PG', '^GSPC', '^DJI']\n",
    "\n",
    "indices_comparados = pdr.get_data_yahoo(tickers, start='1997-01-01', end=end)['Adj Close']\n",
    "indices_comparados = indices_comparados.rename(\n",
    "    columns={'^GSPC': 'S&P500',\n",
    "             '^DJI': 'DowJones'}\n",
    ")"
   ],
   "metadata": {
    "collapsed": false
   },
   "id": "cf64cd6f49073f6c"
  },
  {
   "cell_type": "code",
   "execution_count": null,
   "outputs": [],
   "source": [
    "indices_comparados.tail()"
   ],
   "metadata": {
    "collapsed": false
   },
   "id": "38d2b284a58d4dd9"
  },
  {
   "cell_type": "code",
   "execution_count": null,
   "outputs": [],
   "source": [
    "# normalizando para o valor base\n",
    "indices_comparados = 100*(indices_comparados/indices_comparados.iloc[0])\n",
    "                      \n",
    "indices_comparados.plot(figsize=(15, 6))\n",
    "plt.axvline(x=pd.to_datetime(\"2000-01-01\"), color='red', label='bolha da internet nos anos 2000')\n",
    "plt.axvline(x=pd.to_datetime(\"2007-08-30\"), color='b', label='crise de 2008')\n",
    "plt.axvline(x=pd.to_datetime(\"2011-06-01\"), color='pink', label='crise de 2011')\n",
    "plt.axvline(x=pd.to_datetime(\"2020-03-01\"), color='green', label='pandemia COVID-19')\n",
    "\n",
    "# place legend outside\n",
    "plt.legend(bbox_to_anchor=(1.0, 1), loc='best')\n",
    "plt.show()"
   ],
   "metadata": {
    "collapsed": false
   },
   "id": "28bc95a92a92976"
  },
  {
   "cell_type": "code",
   "execution_count": null,
   "outputs": [],
   "source": [
    "indices_comparados"
   ],
   "metadata": {
    "collapsed": false
   },
   "id": "e537b62f249efcca"
  },
  {
   "cell_type": "markdown",
   "source": [
    "# Calculando o risco de uma ação"
   ],
   "metadata": {
    "collapsed": false
   },
   "id": "4adec14d09e6b847"
  },
  {
   "cell_type": "code",
   "execution_count": null,
   "outputs": [],
   "source": [
    "# comparar os históricos e o risco entre dois ativos de mesmo negócio Beiersdorf e P&G\n",
    "tickers = ['PG', 'BEI.DE']\n",
    "\n",
    "dados_hist = pdr.get_data_yahoo(tickers, start='2007-01-01', end=\"2022-12-31\")['Adj Close']\n",
    "dados_hist = dados_hist.rename(\n",
    "    columns={'PG': 'P&G',\n",
    "             'BEI.DE': 'Beiersdorf'}\n",
    ")"
   ],
   "metadata": {
    "collapsed": false
   },
   "id": "7bae5b2ad87feabe"
  },
  {
   "cell_type": "code",
   "execution_count": null,
   "outputs": [],
   "source": [
    "dados_hist.head()"
   ],
   "metadata": {
    "collapsed": false
   },
   "id": "8162007ea9cd4451"
  },
  {
   "cell_type": "code",
   "execution_count": null,
   "outputs": [],
   "source": [
    "dados_hist.tail()"
   ],
   "metadata": {
    "collapsed": false
   },
   "id": "a24c738be1aa9350"
  },
  {
   "cell_type": "code",
   "execution_count": null,
   "outputs": [],
   "source": [
    "dados_hist = dados_hist.dropna()"
   ],
   "metadata": {
    "collapsed": false
   },
   "id": "348587e37db6261d"
  },
  {
   "cell_type": "code",
   "execution_count": null,
   "outputs": [],
   "source": [
    "# normalizando\n",
    "(100*(dados_hist/dados_hist.iloc[0])).plot(figsize=(15, 6))\n",
    "plt.axvline(x=pd.to_datetime(\"2007-08-30\"), color='b', label='crise de 2008')\n",
    "plt.axvline(x=pd.to_datetime(\"2011-06-01\"), color='b', label='crise de 2011')\n",
    "plt.axvline(x=pd.to_datetime(\"2020-03-01\"), color='b', label='pandemia COVID-19')\n",
    "\n",
    "# place legend outside\n",
    "plt.legend(bbox_to_anchor=(1.0, 1), loc='best')\n",
    "plt.show()"
   ],
   "metadata": {
    "collapsed": false
   },
   "id": "1a7b1bd8f86e15"
  },
  {
   "cell_type": "markdown",
   "source": [
    "### Calculando risco"
   ],
   "metadata": {
    "collapsed": false
   },
   "id": "ed2a04d4341d56fb"
  },
  {
   "cell_type": "code",
   "execution_count": null,
   "outputs": [],
   "source": [
    "sec_returns = np.log(dados_hist/dados_hist.shift(1))"
   ],
   "metadata": {
    "collapsed": false
   },
   "id": "3d97812cb9af2c66"
  },
  {
   "cell_type": "code",
   "execution_count": null,
   "outputs": [],
   "source": [
    "# media anual\n",
    "avg_sec_returns = (sec_returns.mean() * 250).reset_index().rename(\n",
    "    columns={'index': 'ativo',\n",
    "             0: 'media anual de retorno'})\n",
    "avg_sec_returns"
   ],
   "metadata": {
    "collapsed": false
   },
   "id": "1b35d596c598ebc0"
  },
  {
   "cell_type": "code",
   "execution_count": null,
   "outputs": [],
   "source": [
    "# risco - calculao do desvio padrão\n",
    "risco = ((sec_returns.std() * 250)**0.5).reset_index().rename(\n",
    "    columns={'index': 'ativo',\n",
    "             0: 'risco'})\n",
    "risco"
   ],
   "metadata": {
    "collapsed": false
   },
   "id": "1e9bab560a691eba"
  },
  {
   "cell_type": "markdown",
   "source": [
    "# Correlação"
   ],
   "metadata": {
    "collapsed": false
   },
   "id": "257239ad6a57a836"
  },
  {
   "cell_type": "code",
   "execution_count": null,
   "outputs": [],
   "source": [],
   "metadata": {
    "collapsed": false
   },
   "id": "fba11f6479dceff6"
  }
 ],
 "metadata": {
  "kernelspec": {
   "display_name": "Python 3",
   "language": "python",
   "name": "python3"
  },
  "language_info": {
   "codemirror_mode": {
    "name": "ipython",
    "version": 2
   },
   "file_extension": ".py",
   "mimetype": "text/x-python",
   "name": "python",
   "nbconvert_exporter": "python",
   "pygments_lexer": "ipython2",
   "version": "2.7.6"
  }
 },
 "nbformat": 4,
 "nbformat_minor": 5
}
