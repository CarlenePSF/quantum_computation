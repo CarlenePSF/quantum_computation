{
 "cells": [
  {
   "cell_type": "markdown",
   "id": "bdfb996bade1d7f1",
   "metadata": {
    "collapsed": false
   },
   "source": [
    "# Análise de investimentos"
   ]
  },
  {
   "cell_type": "code",
   "execution_count": 1,
   "id": "7a74af9a0377d5d6",
   "metadata": {
    "collapsed": false,
    "ExecuteTime": {
     "end_time": "2024-01-05T16:16:53.802823689Z",
     "start_time": "2024-01-05T16:16:53.100212333Z"
    }
   },
   "outputs": [],
   "source": [
    "import pandas as pd\n",
    "import numpy as np\n",
    "import matplotlib.pyplot as plt\n",
    "import seaborn as sns\n",
    "import statsmodels.api as sm\n",
    "import yfinance \n",
    "\n",
    "from datetime import datetime, timedelta\n",
    "from pandas_datareader import data as pdr\n",
    "from scipy import stats\n",
    "\n",
    "\n",
    "yfinance.pdr_override()\n",
    "# end = \"2022-12-31\"\n",
    "end = datetime.now()"
   ]
  },
  {
   "cell_type": "code",
   "execution_count": 2,
   "id": "initial_id",
   "metadata": {
    "ExecuteTime": {
     "end_time": "2023-12-13T20:47:07.144731796Z",
     "start_time": "2023-12-13T20:46:48.387014890Z"
    }
   },
   "outputs": [
    {
     "name": "stdout",
     "output_type": "stream",
     "text": [
      "[*********************100%%**********************]  1 of 1 completed\n"
     ]
    }
   ],
   "source": [
    "procter_and_gamble = pdr.get_data_yahoo('PG', start='1995-01-01', end=end)\n",
    "\n",
    "# opção do csv baixado da página a yahoo\n",
    "# procter_and_gamble = pd.read_csv('../data/PG.csv')"
   ]
  },
  {
   "cell_type": "code",
   "execution_count": 3,
   "id": "a948b2de7b44ff20",
   "metadata": {
    "ExecuteTime": {
     "end_time": "2023-12-13T20:47:07.174134473Z",
     "start_time": "2023-12-13T20:47:07.124400139Z"
    },
    "collapsed": false
   },
   "outputs": [
    {
     "data": {
      "text/html": [
       "<div>\n",
       "<style scoped>\n",
       "    .dataframe tbody tr th:only-of-type {\n",
       "        vertical-align: middle;\n",
       "    }\n",
       "\n",
       "    .dataframe tbody tr th {\n",
       "        vertical-align: top;\n",
       "    }\n",
       "\n",
       "    .dataframe thead th {\n",
       "        text-align: right;\n",
       "    }\n",
       "</style>\n",
       "<table border=\"1\" class=\"dataframe\">\n",
       "  <thead>\n",
       "    <tr style=\"text-align: right;\">\n",
       "      <th></th>\n",
       "      <th>Open</th>\n",
       "      <th>High</th>\n",
       "      <th>Low</th>\n",
       "      <th>Close</th>\n",
       "      <th>Adj Close</th>\n",
       "      <th>Volume</th>\n",
       "    </tr>\n",
       "    <tr>\n",
       "      <th>Date</th>\n",
       "      <th></th>\n",
       "      <th></th>\n",
       "      <th></th>\n",
       "      <th></th>\n",
       "      <th></th>\n",
       "      <th></th>\n",
       "    </tr>\n",
       "  </thead>\n",
       "  <tbody>\n",
       "    <tr>\n",
       "      <th>1995-01-03</th>\n",
       "      <td>15.46875</td>\n",
       "      <td>15.62500</td>\n",
       "      <td>15.43750</td>\n",
       "      <td>15.59375</td>\n",
       "      <td>7.626415</td>\n",
       "      <td>3318400</td>\n",
       "    </tr>\n",
       "    <tr>\n",
       "      <th>1995-01-04</th>\n",
       "      <td>15.53125</td>\n",
       "      <td>15.65625</td>\n",
       "      <td>15.31250</td>\n",
       "      <td>15.46875</td>\n",
       "      <td>7.565282</td>\n",
       "      <td>2218800</td>\n",
       "    </tr>\n",
       "    <tr>\n",
       "      <th>1995-01-05</th>\n",
       "      <td>15.37500</td>\n",
       "      <td>15.43750</td>\n",
       "      <td>15.21875</td>\n",
       "      <td>15.25000</td>\n",
       "      <td>7.458301</td>\n",
       "      <td>2319600</td>\n",
       "    </tr>\n",
       "    <tr>\n",
       "      <th>1995-01-06</th>\n",
       "      <td>15.15625</td>\n",
       "      <td>15.40625</td>\n",
       "      <td>15.15625</td>\n",
       "      <td>15.28125</td>\n",
       "      <td>7.473584</td>\n",
       "      <td>3438000</td>\n",
       "    </tr>\n",
       "    <tr>\n",
       "      <th>1995-01-09</th>\n",
       "      <td>15.34375</td>\n",
       "      <td>15.40625</td>\n",
       "      <td>15.18750</td>\n",
       "      <td>15.21875</td>\n",
       "      <td>7.443020</td>\n",
       "      <td>1795200</td>\n",
       "    </tr>\n",
       "  </tbody>\n",
       "</table>\n",
       "</div>"
      ],
      "text/plain": [
       "                Open      High       Low     Close  Adj Close   Volume\n",
       "Date                                                                  \n",
       "1995-01-03  15.46875  15.62500  15.43750  15.59375   7.626415  3318400\n",
       "1995-01-04  15.53125  15.65625  15.31250  15.46875   7.565282  2218800\n",
       "1995-01-05  15.37500  15.43750  15.21875  15.25000   7.458301  2319600\n",
       "1995-01-06  15.15625  15.40625  15.15625  15.28125   7.473584  3438000\n",
       "1995-01-09  15.34375  15.40625  15.18750  15.21875   7.443020  1795200"
      ]
     },
     "execution_count": 3,
     "metadata": {},
     "output_type": "execute_result"
    }
   ],
   "source": [
    "procter_and_gamble.head()"
   ]
  },
  {
   "cell_type": "code",
   "execution_count": 4,
   "id": "6583c20f20bb3c1c",
   "metadata": {
    "ExecuteTime": {
     "end_time": "2023-12-13T20:47:07.178976036Z",
     "start_time": "2023-12-13T20:47:07.124961777Z"
    },
    "collapsed": false
   },
   "outputs": [
    {
     "data": {
      "text/html": [
       "<div>\n",
       "<style scoped>\n",
       "    .dataframe tbody tr th:only-of-type {\n",
       "        vertical-align: middle;\n",
       "    }\n",
       "\n",
       "    .dataframe tbody tr th {\n",
       "        vertical-align: top;\n",
       "    }\n",
       "\n",
       "    .dataframe thead th {\n",
       "        text-align: right;\n",
       "    }\n",
       "</style>\n",
       "<table border=\"1\" class=\"dataframe\">\n",
       "  <thead>\n",
       "    <tr style=\"text-align: right;\">\n",
       "      <th></th>\n",
       "      <th>Open</th>\n",
       "      <th>High</th>\n",
       "      <th>Low</th>\n",
       "      <th>Close</th>\n",
       "      <th>Adj Close</th>\n",
       "      <th>Volume</th>\n",
       "    </tr>\n",
       "    <tr>\n",
       "      <th>Date</th>\n",
       "      <th></th>\n",
       "      <th></th>\n",
       "      <th></th>\n",
       "      <th></th>\n",
       "      <th></th>\n",
       "      <th></th>\n",
       "    </tr>\n",
       "  </thead>\n",
       "  <tbody>\n",
       "    <tr>\n",
       "      <th>2023-12-14</th>\n",
       "      <td>148.460007</td>\n",
       "      <td>148.550003</td>\n",
       "      <td>144.380005</td>\n",
       "      <td>144.660004</td>\n",
       "      <td>144.660004</td>\n",
       "      <td>10565200</td>\n",
       "    </tr>\n",
       "    <tr>\n",
       "      <th>2023-12-15</th>\n",
       "      <td>143.179993</td>\n",
       "      <td>144.250000</td>\n",
       "      <td>142.500000</td>\n",
       "      <td>143.960007</td>\n",
       "      <td>143.960007</td>\n",
       "      <td>14549700</td>\n",
       "    </tr>\n",
       "    <tr>\n",
       "      <th>2023-12-18</th>\n",
       "      <td>144.169998</td>\n",
       "      <td>147.490005</td>\n",
       "      <td>144.149994</td>\n",
       "      <td>146.169998</td>\n",
       "      <td>146.169998</td>\n",
       "      <td>8421800</td>\n",
       "    </tr>\n",
       "    <tr>\n",
       "      <th>2023-12-19</th>\n",
       "      <td>145.669998</td>\n",
       "      <td>146.339996</td>\n",
       "      <td>145.389999</td>\n",
       "      <td>146.169998</td>\n",
       "      <td>146.169998</td>\n",
       "      <td>5232100</td>\n",
       "    </tr>\n",
       "    <tr>\n",
       "      <th>2023-12-20</th>\n",
       "      <td>145.570007</td>\n",
       "      <td>146.070007</td>\n",
       "      <td>145.140106</td>\n",
       "      <td>145.163895</td>\n",
       "      <td>145.163895</td>\n",
       "      <td>1748659</td>\n",
       "    </tr>\n",
       "  </tbody>\n",
       "</table>\n",
       "</div>"
      ],
      "text/plain": [
       "                  Open        High         Low       Close   Adj Close  \\\n",
       "Date                                                                     \n",
       "2023-12-14  148.460007  148.550003  144.380005  144.660004  144.660004   \n",
       "2023-12-15  143.179993  144.250000  142.500000  143.960007  143.960007   \n",
       "2023-12-18  144.169998  147.490005  144.149994  146.169998  146.169998   \n",
       "2023-12-19  145.669998  146.339996  145.389999  146.169998  146.169998   \n",
       "2023-12-20  145.570007  146.070007  145.140106  145.163895  145.163895   \n",
       "\n",
       "              Volume  \n",
       "Date                  \n",
       "2023-12-14  10565200  \n",
       "2023-12-15  14549700  \n",
       "2023-12-18   8421800  \n",
       "2023-12-19   5232100  \n",
       "2023-12-20   1748659  "
      ]
     },
     "execution_count": 4,
     "metadata": {},
     "output_type": "execute_result"
    }
   ],
   "source": [
    "procter_and_gamble.tail()"
   ]
  },
  {
   "cell_type": "code",
   "execution_count": 5,
   "id": "9c2792b5841240",
   "metadata": {
    "ExecuteTime": {
     "end_time": "2023-12-13T20:47:07.285193297Z",
     "start_time": "2023-12-13T20:47:07.125446858Z"
    },
    "collapsed": false
   },
   "outputs": [],
   "source": [
    "pg = procter_and_gamble[[\"Adj Close\"]].copy().reset_index()\n",
    "pg['Date'] = pd.to_datetime(pg['Date'])\n",
    "pg['ano'] = pg.Date.dt.year\n",
    "pg['mes'] = pg.Date.dt.month\n",
    "pg = pg[['Date', 'ano', 'mes', 'Adj Close']]"
   ]
  },
  {
   "cell_type": "markdown",
   "id": "4aa38b15-8365-45f6-89d5-083f513e5e8e",
   "metadata": {},
   "source": [
    "# Calculando o retorno de um investimento"
   ]
  },
  {
   "cell_type": "markdown",
   "id": "61bb47ea871619a3",
   "metadata": {
    "collapsed": false
   },
   "source": [
    "## Retorno simples \n",
    "Calculado sobre o preço de fechamento\n",
    "\n",
    "### $$\\text{retorno simples} = \\frac{P_1-P_0}{P_0} = \\frac{P_1}{P_0}-1$$ "
   ]
  },
  {
   "cell_type": "code",
   "execution_count": 6,
   "id": "cc0731815733a288",
   "metadata": {
    "ExecuteTime": {
     "end_time": "2023-12-13T20:47:07.315418549Z",
     "start_time": "2023-12-13T20:47:07.162310958Z"
    },
    "collapsed": false
   },
   "outputs": [
    {
     "data": {
      "text/html": [
       "<div>\n",
       "<style scoped>\n",
       "    .dataframe tbody tr th:only-of-type {\n",
       "        vertical-align: middle;\n",
       "    }\n",
       "\n",
       "    .dataframe tbody tr th {\n",
       "        vertical-align: top;\n",
       "    }\n",
       "\n",
       "    .dataframe thead th {\n",
       "        text-align: right;\n",
       "    }\n",
       "</style>\n",
       "<table border=\"1\" class=\"dataframe\">\n",
       "  <thead>\n",
       "    <tr style=\"text-align: right;\">\n",
       "      <th></th>\n",
       "      <th>Date</th>\n",
       "      <th>ano</th>\n",
       "      <th>mes</th>\n",
       "      <th>Adj Close</th>\n",
       "    </tr>\n",
       "  </thead>\n",
       "  <tbody>\n",
       "    <tr>\n",
       "      <th>0</th>\n",
       "      <td>1995-01-03</td>\n",
       "      <td>1995</td>\n",
       "      <td>1</td>\n",
       "      <td>7.626415</td>\n",
       "    </tr>\n",
       "    <tr>\n",
       "      <th>1</th>\n",
       "      <td>1995-01-04</td>\n",
       "      <td>1995</td>\n",
       "      <td>1</td>\n",
       "      <td>7.565282</td>\n",
       "    </tr>\n",
       "    <tr>\n",
       "      <th>2</th>\n",
       "      <td>1995-01-05</td>\n",
       "      <td>1995</td>\n",
       "      <td>1</td>\n",
       "      <td>7.458301</td>\n",
       "    </tr>\n",
       "    <tr>\n",
       "      <th>3</th>\n",
       "      <td>1995-01-06</td>\n",
       "      <td>1995</td>\n",
       "      <td>1</td>\n",
       "      <td>7.473584</td>\n",
       "    </tr>\n",
       "    <tr>\n",
       "      <th>4</th>\n",
       "      <td>1995-01-09</td>\n",
       "      <td>1995</td>\n",
       "      <td>1</td>\n",
       "      <td>7.443020</td>\n",
       "    </tr>\n",
       "    <tr>\n",
       "      <th>...</th>\n",
       "      <td>...</td>\n",
       "      <td>...</td>\n",
       "      <td>...</td>\n",
       "      <td>...</td>\n",
       "    </tr>\n",
       "    <tr>\n",
       "      <th>7289</th>\n",
       "      <td>2023-12-14</td>\n",
       "      <td>2023</td>\n",
       "      <td>12</td>\n",
       "      <td>144.660004</td>\n",
       "    </tr>\n",
       "    <tr>\n",
       "      <th>7290</th>\n",
       "      <td>2023-12-15</td>\n",
       "      <td>2023</td>\n",
       "      <td>12</td>\n",
       "      <td>143.960007</td>\n",
       "    </tr>\n",
       "    <tr>\n",
       "      <th>7291</th>\n",
       "      <td>2023-12-18</td>\n",
       "      <td>2023</td>\n",
       "      <td>12</td>\n",
       "      <td>146.169998</td>\n",
       "    </tr>\n",
       "    <tr>\n",
       "      <th>7292</th>\n",
       "      <td>2023-12-19</td>\n",
       "      <td>2023</td>\n",
       "      <td>12</td>\n",
       "      <td>146.169998</td>\n",
       "    </tr>\n",
       "    <tr>\n",
       "      <th>7293</th>\n",
       "      <td>2023-12-20</td>\n",
       "      <td>2023</td>\n",
       "      <td>12</td>\n",
       "      <td>145.163895</td>\n",
       "    </tr>\n",
       "  </tbody>\n",
       "</table>\n",
       "<p>7294 rows × 4 columns</p>\n",
       "</div>"
      ],
      "text/plain": [
       "           Date   ano  mes   Adj Close\n",
       "0    1995-01-03  1995    1    7.626415\n",
       "1    1995-01-04  1995    1    7.565282\n",
       "2    1995-01-05  1995    1    7.458301\n",
       "3    1995-01-06  1995    1    7.473584\n",
       "4    1995-01-09  1995    1    7.443020\n",
       "...         ...   ...  ...         ...\n",
       "7289 2023-12-14  2023   12  144.660004\n",
       "7290 2023-12-15  2023   12  143.960007\n",
       "7291 2023-12-18  2023   12  146.169998\n",
       "7292 2023-12-19  2023   12  146.169998\n",
       "7293 2023-12-20  2023   12  145.163895\n",
       "\n",
       "[7294 rows x 4 columns]"
      ]
     },
     "execution_count": 6,
     "metadata": {},
     "output_type": "execute_result"
    }
   ],
   "source": [
    "pg"
   ]
  },
  {
   "cell_type": "code",
   "execution_count": 7,
   "id": "503b950047816e14",
   "metadata": {
    "ExecuteTime": {
     "end_time": "2023-12-13T20:47:07.332666063Z",
     "start_time": "2023-12-13T20:47:07.170742419Z"
    },
    "collapsed": false
   },
   "outputs": [],
   "source": [
    "pg['retorno_simples'] = (pg['Adj Close']/pg['Adj Close'].shift(1)) - 1"
   ]
  },
  {
   "cell_type": "code",
   "execution_count": 8,
   "id": "4a7af003fa158b55",
   "metadata": {
    "ExecuteTime": {
     "end_time": "2023-12-13T20:47:07.996714615Z",
     "start_time": "2023-12-13T20:47:07.177898862Z"
    },
    "collapsed": false
   },
   "outputs": [
    {
     "data": {
      "image/png": "[encoded data removed]",
      "text/plain": [
       "<Figure size 800x500 with 1 Axes>"
      ]
     },
     "metadata": {},
     "output_type": "display_data"
    }
   ],
   "source": [
    "pg[['Date', 'retorno_simples']].plot(x='Date', y='retorno_simples', figsize=(8, 5))\n",
    "plt.title(\"Retornos diários da ações PG entre 01-01-1995 até 23-03-2017\")\n",
    "plt.plot(pg.Date, len(pg.Date)*[0], '--')\n",
    "plt.show()"
   ]
  },
  {
   "cell_type": "code",
   "execution_count": 9,
   "id": "271128f376d85015",
   "metadata": {
    "ExecuteTime": {
     "end_time": "2023-12-13T20:47:08.494067628Z",
     "start_time": "2023-12-13T20:47:07.874006933Z"
    },
    "collapsed": false
   },
   "outputs": [
    {
     "data": {
      "image/png": "[encoded data removed]",
      "text/plain": [
       "<Figure size 800x500 with 1 Axes>"
      ]
     },
     "metadata": {},
     "output_type": "display_data"
    }
   ],
   "source": [
    "pg[['Date', 'Adj Close']].plot(x='Date', y='Adj Close',figsize=(8, 5))\n",
    "plt.title(\"Preço de fechamento para ações PG entre 01-01-1995 até 23-03-2017\")\n",
    "plt.show()"
   ]
  },
  {
   "cell_type": "code",
   "execution_count": 10,
   "id": "c4e70d582b5410a8",
   "metadata": {
    "ExecuteTime": {
     "end_time": "2023-12-13T20:47:08.568339273Z",
     "start_time": "2023-12-13T20:47:08.498048841Z"
    },
    "collapsed": false
   },
   "outputs": [
    {
     "data": {
      "text/plain": [
       "0.0005021901002265815"
      ]
     },
     "execution_count": 10,
     "metadata": {},
     "output_type": "execute_result"
    }
   ],
   "source": [
    "avg_returns = pg['retorno_simples'].mean()\n",
    "avg_returns"
   ]
  },
  {
   "cell_type": "code",
   "execution_count": 11,
   "id": "f520dae09e0c26ed",
   "metadata": {
    "ExecuteTime": {
     "end_time": "2023-12-13T20:47:08.600312133Z",
     "start_time": "2023-12-13T20:47:08.541434215Z"
    },
    "collapsed": false
   },
   "outputs": [
    {
     "name": "stdout",
     "output_type": "stream",
     "text": [
      "Retorno anual médio 12.555 %\n"
     ]
    }
   ],
   "source": [
    "# Retorno anual\n",
    "avg_returns_year = pg['retorno_simples'].mean() * 250\n",
    "print(f'Retorno anual médio {round(avg_returns_year*100, 3)} %')"
   ]
  },
  {
   "cell_type": "markdown",
   "id": "5ad55b0c50669cad",
   "metadata": {
    "collapsed": false
   },
   "source": [
    "## Retorno logarítmo\n",
    "\n",
    "Lembrando que fazemos uma análise de um único ativo. Nesse caso é mais interessante analisar o retorno logarítmo.\n",
    "\n",
    "### $$\\text{retorno log} = \\ln\\left(\\frac{P_{t}}{P_{t-1}}\\right)$$"
   ]
  },
  {
   "cell_type": "code",
   "execution_count": 12,
   "id": "8ea1f7064323e334",
   "metadata": {
    "ExecuteTime": {
     "end_time": "2023-12-13T20:47:08.640696158Z",
     "start_time": "2023-12-13T20:47:08.542117371Z"
    },
    "collapsed": false
   },
   "outputs": [],
   "source": [
    "pg['retorno_log'] = np.log(pg['Adj Close']/pg['Adj Close'].shift(1))"
   ]
  },
  {
   "cell_type": "code",
   "execution_count": 13,
   "id": "6c25cc5cde8673cc",
   "metadata": {
    "ExecuteTime": {
     "end_time": "2023-12-13T20:47:08.899926316Z",
     "start_time": "2023-12-13T20:47:08.542674788Z"
    },
    "collapsed": false
   },
   "outputs": [
    {
     "data": {
      "text/html": [
       "<div>\n",
       "<style scoped>\n",
       "    .dataframe tbody tr th:only-of-type {\n",
       "        vertical-align: middle;\n",
       "    }\n",
       "\n",
       "    .dataframe tbody tr th {\n",
       "        vertical-align: top;\n",
       "    }\n",
       "\n",
       "    .dataframe thead th {\n",
       "        text-align: right;\n",
       "    }\n",
       "</style>\n",
       "<table border=\"1\" class=\"dataframe\">\n",
       "  <thead>\n",
       "    <tr style=\"text-align: right;\">\n",
       "      <th></th>\n",
       "      <th>Date</th>\n",
       "      <th>ano</th>\n",
       "      <th>mes</th>\n",
       "      <th>Adj Close</th>\n",
       "      <th>retorno_simples</th>\n",
       "      <th>retorno_log</th>\n",
       "    </tr>\n",
       "  </thead>\n",
       "  <tbody>\n",
       "    <tr>\n",
       "      <th>0</th>\n",
       "      <td>1995-01-03</td>\n",
       "      <td>1995</td>\n",
       "      <td>1</td>\n",
       "      <td>7.626415</td>\n",
       "      <td>NaN</td>\n",
       "      <td>NaN</td>\n",
       "    </tr>\n",
       "    <tr>\n",
       "      <th>1</th>\n",
       "      <td>1995-01-04</td>\n",
       "      <td>1995</td>\n",
       "      <td>1</td>\n",
       "      <td>7.565282</td>\n",
       "      <td>-0.008016</td>\n",
       "      <td>-0.008048</td>\n",
       "    </tr>\n",
       "    <tr>\n",
       "      <th>2</th>\n",
       "      <td>1995-01-05</td>\n",
       "      <td>1995</td>\n",
       "      <td>1</td>\n",
       "      <td>7.458301</td>\n",
       "      <td>-0.014141</td>\n",
       "      <td>-0.014242</td>\n",
       "    </tr>\n",
       "    <tr>\n",
       "      <th>3</th>\n",
       "      <td>1995-01-06</td>\n",
       "      <td>1995</td>\n",
       "      <td>1</td>\n",
       "      <td>7.473584</td>\n",
       "      <td>0.002049</td>\n",
       "      <td>0.002047</td>\n",
       "    </tr>\n",
       "    <tr>\n",
       "      <th>4</th>\n",
       "      <td>1995-01-09</td>\n",
       "      <td>1995</td>\n",
       "      <td>1</td>\n",
       "      <td>7.443020</td>\n",
       "      <td>-0.004090</td>\n",
       "      <td>-0.004098</td>\n",
       "    </tr>\n",
       "    <tr>\n",
       "      <th>...</th>\n",
       "      <td>...</td>\n",
       "      <td>...</td>\n",
       "      <td>...</td>\n",
       "      <td>...</td>\n",
       "      <td>...</td>\n",
       "      <td>...</td>\n",
       "    </tr>\n",
       "    <tr>\n",
       "      <th>7289</th>\n",
       "      <td>2023-12-14</td>\n",
       "      <td>2023</td>\n",
       "      <td>12</td>\n",
       "      <td>144.660004</td>\n",
       "      <td>-0.026383</td>\n",
       "      <td>-0.026737</td>\n",
       "    </tr>\n",
       "    <tr>\n",
       "      <th>7290</th>\n",
       "      <td>2023-12-15</td>\n",
       "      <td>2023</td>\n",
       "      <td>12</td>\n",
       "      <td>143.960007</td>\n",
       "      <td>-0.004839</td>\n",
       "      <td>-0.004851</td>\n",
       "    </tr>\n",
       "    <tr>\n",
       "      <th>7291</th>\n",
       "      <td>2023-12-18</td>\n",
       "      <td>2023</td>\n",
       "      <td>12</td>\n",
       "      <td>146.169998</td>\n",
       "      <td>0.015351</td>\n",
       "      <td>0.015235</td>\n",
       "    </tr>\n",
       "    <tr>\n",
       "      <th>7292</th>\n",
       "      <td>2023-12-19</td>\n",
       "      <td>2023</td>\n",
       "      <td>12</td>\n",
       "      <td>146.169998</td>\n",
       "      <td>0.000000</td>\n",
       "      <td>0.000000</td>\n",
       "    </tr>\n",
       "    <tr>\n",
       "      <th>7293</th>\n",
       "      <td>2023-12-20</td>\n",
       "      <td>2023</td>\n",
       "      <td>12</td>\n",
       "      <td>145.163895</td>\n",
       "      <td>-0.006883</td>\n",
       "      <td>-0.006907</td>\n",
       "    </tr>\n",
       "  </tbody>\n",
       "</table>\n",
       "<p>7294 rows × 6 columns</p>\n",
       "</div>"
      ],
      "text/plain": [
       "           Date   ano  mes   Adj Close  retorno_simples  retorno_log\n",
       "0    1995-01-03  1995    1    7.626415              NaN          NaN\n",
       "1    1995-01-04  1995    1    7.565282        -0.008016    -0.008048\n",
       "2    1995-01-05  1995    1    7.458301        -0.014141    -0.014242\n",
       "3    1995-01-06  1995    1    7.473584         0.002049     0.002047\n",
       "4    1995-01-09  1995    1    7.443020        -0.004090    -0.004098\n",
       "...         ...   ...  ...         ...              ...          ...\n",
       "7289 2023-12-14  2023   12  144.660004        -0.026383    -0.026737\n",
       "7290 2023-12-15  2023   12  143.960007        -0.004839    -0.004851\n",
       "7291 2023-12-18  2023   12  146.169998         0.015351     0.015235\n",
       "7292 2023-12-19  2023   12  146.169998         0.000000     0.000000\n",
       "7293 2023-12-20  2023   12  145.163895        -0.006883    -0.006907\n",
       "\n",
       "[7294 rows x 6 columns]"
      ]
     },
     "execution_count": 13,
     "metadata": {},
     "output_type": "execute_result"
    }
   ],
   "source": [
    "pg"
   ]
  },
  {
   "cell_type": "code",
   "execution_count": 14,
   "id": "8e424b051a399eb5",
   "metadata": {
    "ExecuteTime": {
     "end_time": "2023-12-13T20:47:09.177562320Z",
     "start_time": "2023-12-13T20:47:08.588413352Z"
    },
    "collapsed": false
   },
   "outputs": [
    {
     "data": {
      "image/png": "[encoded data removed]",
      "text/plain": [
       "<Figure size 800x500 with 1 Axes>"
      ]
     },
     "metadata": {},
     "output_type": "display_data"
    }
   ],
   "source": [
    "pg[['Date', 'retorno_log']].plot(x='Date', y='retorno_log',figsize=(8, 5))\n",
    "plt.title(\"Retornos (log) diários da ações PG entre 01-01-1995 até 23-03-2017\")\n",
    "plt.plot(pg.Date, len(pg.Date)*[0], '--')\n",
    "plt.show()"
   ]
  },
  {
   "cell_type": "markdown",
   "id": "24551101d02960fd",
   "metadata": {
    "collapsed": false
   },
   "source": [
    "## Retorno de multiplos investimentos\n",
    "\n",
    "Vamos considerar um portifólio simples, onde os quatro ativos tem pesos iguais, e calcular as suas respectivas taxas de retorno histórico.\n",
    "\n",
    "\\begin{array}{|c|c|c|}\n",
    "\\hline\n",
    "\\text{Ativo} & \\text{Taxa média anual de retorno(\\%)} & Peso \\\\\n",
    "\\hline\n",
    "\\text{P\\&G} &   0.318524 & 0.25 \\\\\n",
    "\\text{MSFT} &  0.153581 & 0.25\\\\\n",
    "\\text{GE} &  0.116717 & 0.25\\\\\n",
    "\\text{F} & 0.126224 & 0.25\\\\\n",
    "\\hline\n",
    "\\end{array}"
   ]
  },
  {
   "cell_type": "code",
   "execution_count": 15,
   "id": "925ebab05d390427",
   "metadata": {
    "ExecuteTime": {
     "end_time": "2023-12-13T20:47:11.382427461Z",
     "start_time": "2023-12-13T20:47:09.145948077Z"
    },
    "collapsed": false
   },
   "outputs": [
    {
     "name": "stdout",
     "output_type": "stream",
     "text": [
      "[*********************100%%**********************]  4 of 4 completed\n"
     ]
    }
   ],
   "source": [
    "# portifólio com ações da P&G,Microsoft, Ford, General Electrics\n",
    "tickers = [\"PG\", 'MSFT', 'F', 'GE'] \n",
    "preco_fechamento = pdr.get_data_yahoo(tickers, start='1995-01-01', end=end)['Adj Close']"
   ]
  },
  {
   "cell_type": "code",
   "execution_count": 16,
   "id": "ab823f4996877ac4",
   "metadata": {
    "ExecuteTime": {
     "end_time": "2023-12-13T20:47:11.392838884Z",
     "start_time": "2023-12-13T20:47:11.367150736Z"
    },
    "collapsed": false
   },
   "outputs": [
    {
     "data": {
      "text/html": [
       "<div>\n",
       "<style scoped>\n",
       "    .dataframe tbody tr th:only-of-type {\n",
       "        vertical-align: middle;\n",
       "    }\n",
       "\n",
       "    .dataframe tbody tr th {\n",
       "        vertical-align: top;\n",
       "    }\n",
       "\n",
       "    .dataframe thead th {\n",
       "        text-align: right;\n",
       "    }\n",
       "</style>\n",
       "<table border=\"1\" class=\"dataframe\">\n",
       "  <thead>\n",
       "    <tr style=\"text-align: right;\">\n",
       "      <th></th>\n",
       "      <th>ford</th>\n",
       "      <th>ge</th>\n",
       "      <th>microsoft</th>\n",
       "      <th>pg</th>\n",
       "    </tr>\n",
       "    <tr>\n",
       "      <th>Date</th>\n",
       "      <th></th>\n",
       "      <th></th>\n",
       "      <th></th>\n",
       "      <th></th>\n",
       "    </tr>\n",
       "  </thead>\n",
       "  <tbody>\n",
       "    <tr>\n",
       "      <th>1995-01-03</th>\n",
       "      <td>3.819580</td>\n",
       "      <td>25.494436</td>\n",
       "      <td>2.332130</td>\n",
       "      <td>7.626418</td>\n",
       "    </tr>\n",
       "    <tr>\n",
       "      <th>1995-01-04</th>\n",
       "      <td>3.922347</td>\n",
       "      <td>25.494436</td>\n",
       "      <td>2.349082</td>\n",
       "      <td>7.565282</td>\n",
       "    </tr>\n",
       "    <tr>\n",
       "      <th>1995-01-05</th>\n",
       "      <td>3.888092</td>\n",
       "      <td>25.556911</td>\n",
       "      <td>2.310334</td>\n",
       "      <td>7.458298</td>\n",
       "    </tr>\n",
       "    <tr>\n",
       "      <th>1995-01-06</th>\n",
       "      <td>3.888092</td>\n",
       "      <td>25.431946</td>\n",
       "      <td>2.349082</td>\n",
       "      <td>7.473583</td>\n",
       "    </tr>\n",
       "    <tr>\n",
       "      <th>1995-01-09</th>\n",
       "      <td>3.956604</td>\n",
       "      <td>25.181990</td>\n",
       "      <td>2.334551</td>\n",
       "      <td>7.443020</td>\n",
       "    </tr>\n",
       "  </tbody>\n",
       "</table>\n",
       "</div>"
      ],
      "text/plain": [
       "                ford         ge  microsoft        pg\n",
       "Date                                                \n",
       "1995-01-03  3.819580  25.494436   2.332130  7.626418\n",
       "1995-01-04  3.922347  25.494436   2.349082  7.565282\n",
       "1995-01-05  3.888092  25.556911   2.310334  7.458298\n",
       "1995-01-06  3.888092  25.431946   2.349082  7.473583\n",
       "1995-01-09  3.956604  25.181990   2.334551  7.443020"
      ]
     },
     "execution_count": 16,
     "metadata": {},
     "output_type": "execute_result"
    }
   ],
   "source": [
    "acoes = preco_fechamento.copy()\n",
    "acoes = acoes.rename(\n",
    "    columns={'F': 'ford', \n",
    "             'GE': 'ge',\n",
    "             'MSFT': 'microsoft', \n",
    "             'PG': 'pg'}\n",
    ")\n",
    "\n",
    "acoes.head()"
   ]
  },
  {
   "cell_type": "markdown",
   "id": "c0c53e950ccac91",
   "metadata": {
    "collapsed": false
   },
   "source": [
    "## Retornos simples - indicados para avaliar uma carteira de investimentos diversificados\n",
    " - Normalizando os valores - comparar do mesmo ponto inicial- data base\n",
    "### $$\\frac{P_{t}}{P_{0}}*100$$\n"
   ]
  },
  {
   "cell_type": "code",
   "execution_count": 17,
   "id": "bff70afe3766259c",
   "metadata": {
    "ExecuteTime": {
     "end_time": "2023-12-13T20:47:11.414984549Z",
     "start_time": "2023-12-13T20:47:11.384167801Z"
    },
    "collapsed": false
   },
   "outputs": [
    {
     "data": {
      "text/plain": [
       "ford          3.819580\n",
       "ge           25.494436\n",
       "microsoft     2.332130\n",
       "pg            7.626418\n",
       "Name: 1995-01-03 00:00:00, dtype: float64"
      ]
     },
     "execution_count": 17,
     "metadata": {},
     "output_type": "execute_result"
    }
   ],
   "source": [
    "acoes.iloc[0]"
   ]
  },
  {
   "cell_type": "code",
   "execution_count": 18,
   "id": "26aac7c42fdd9da4",
   "metadata": {
    "ExecuteTime": {
     "end_time": "2023-12-13T20:47:11.426294962Z",
     "start_time": "2023-12-13T20:47:11.384745940Z"
    },
    "collapsed": false
   },
   "outputs": [],
   "source": [
    "acoes = (acoes/acoes.iloc[0])*100"
   ]
  },
  {
   "cell_type": "code",
   "execution_count": 19,
   "id": "b63277d140324c97",
   "metadata": {
    "ExecuteTime": {
     "end_time": "2023-12-13T20:47:12.371645446Z",
     "start_time": "2023-12-13T20:47:11.385232887Z"
    },
    "collapsed": false
   },
   "outputs": [
    {
     "data": {
      "image/png": "[encoded data removed]",
      "text/plain": [
       "<Figure size 1200x800 with 1 Axes>"
      ]
     },
     "metadata": {},
     "output_type": "display_data"
    }
   ],
   "source": [
    "acoes.plot(figsize=(12, 8))\n",
    "plt.show()"
   ]
  },
  {
   "cell_type": "code",
   "execution_count": 20,
   "id": "5b85d2e32287661d",
   "metadata": {
    "ExecuteTime": {
     "end_time": "2023-12-13T20:47:12.412160632Z",
     "start_time": "2023-12-13T20:47:12.374494337Z"
    },
    "collapsed": false
   },
   "outputs": [],
   "source": [
    "# retorno simples para um portifólio\n",
    "retornos = (acoes/acoes.shift(1))-1"
   ]
  },
  {
   "cell_type": "code",
   "execution_count": 21,
   "id": "6313616446f1acc9",
   "metadata": {
    "ExecuteTime": {
     "end_time": "2023-12-13T20:47:12.587103572Z",
     "start_time": "2023-12-13T20:47:12.394125611Z"
    },
    "collapsed": false
   },
   "outputs": [
    {
     "data": {
      "text/html": [
       "<div>\n",
       "<style scoped>\n",
       "    .dataframe tbody tr th:only-of-type {\n",
       "        vertical-align: middle;\n",
       "    }\n",
       "\n",
       "    .dataframe tbody tr th {\n",
       "        vertical-align: top;\n",
       "    }\n",
       "\n",
       "    .dataframe thead th {\n",
       "        text-align: right;\n",
       "    }\n",
       "</style>\n",
       "<table border=\"1\" class=\"dataframe\">\n",
       "  <thead>\n",
       "    <tr style=\"text-align: right;\">\n",
       "      <th></th>\n",
       "      <th>ford</th>\n",
       "      <th>ge</th>\n",
       "      <th>microsoft</th>\n",
       "      <th>pg</th>\n",
       "    </tr>\n",
       "    <tr>\n",
       "      <th>Date</th>\n",
       "      <th></th>\n",
       "      <th></th>\n",
       "      <th></th>\n",
       "      <th></th>\n",
       "    </tr>\n",
       "  </thead>\n",
       "  <tbody>\n",
       "    <tr>\n",
       "      <th>1995-01-03</th>\n",
       "      <td>NaN</td>\n",
       "      <td>NaN</td>\n",
       "      <td>NaN</td>\n",
       "      <td>NaN</td>\n",
       "    </tr>\n",
       "    <tr>\n",
       "      <th>1995-01-04</th>\n",
       "      <td>0.026906</td>\n",
       "      <td>0.000000</td>\n",
       "      <td>0.007269</td>\n",
       "      <td>-0.008016</td>\n",
       "    </tr>\n",
       "    <tr>\n",
       "      <th>1995-01-05</th>\n",
       "      <td>-0.008733</td>\n",
       "      <td>0.002451</td>\n",
       "      <td>-0.016495</td>\n",
       "      <td>-0.014141</td>\n",
       "    </tr>\n",
       "    <tr>\n",
       "      <th>1995-01-06</th>\n",
       "      <td>0.000000</td>\n",
       "      <td>-0.004890</td>\n",
       "      <td>0.016772</td>\n",
       "      <td>0.002049</td>\n",
       "    </tr>\n",
       "    <tr>\n",
       "      <th>1995-01-09</th>\n",
       "      <td>0.017621</td>\n",
       "      <td>-0.009828</td>\n",
       "      <td>-0.006186</td>\n",
       "      <td>-0.004090</td>\n",
       "    </tr>\n",
       "  </tbody>\n",
       "</table>\n",
       "</div>"
      ],
      "text/plain": [
       "                ford        ge  microsoft        pg\n",
       "Date                                               \n",
       "1995-01-03       NaN       NaN        NaN       NaN\n",
       "1995-01-04  0.026906  0.000000   0.007269 -0.008016\n",
       "1995-01-05 -0.008733  0.002451  -0.016495 -0.014141\n",
       "1995-01-06  0.000000 -0.004890   0.016772  0.002049\n",
       "1995-01-09  0.017621 -0.009828  -0.006186 -0.004090"
      ]
     },
     "execution_count": 21,
     "metadata": {},
     "output_type": "execute_result"
    }
   ],
   "source": [
    "retornos.head()"
   ]
  },
  {
   "cell_type": "code",
   "execution_count": 22,
   "id": "466eaeb881d5d544",
   "metadata": {
    "ExecuteTime": {
     "end_time": "2023-12-13T20:47:12.615536222Z",
     "start_time": "2023-12-13T20:47:12.436394112Z"
    },
    "collapsed": false
   },
   "outputs": [
    {
     "data": {
      "text/plain": [
       "array([0.25, 0.25, 0.25, 0.25])"
      ]
     },
     "execution_count": 22,
     "metadata": {},
     "output_type": "execute_result"
    }
   ],
   "source": [
    "pesos = np.array(4*[0.25])\n",
    "pesos"
   ]
  },
  {
   "cell_type": "code",
   "execution_count": 23,
   "id": "9bd5c5d3f047d063",
   "metadata": {
    "ExecuteTime": {
     "end_time": "2023-12-13T20:47:12.707418715Z",
     "start_time": "2023-12-13T20:47:12.437418425Z"
    },
    "collapsed": false
   },
   "outputs": [
    {
     "data": {
      "text/html": [
       "<div>\n",
       "<style scoped>\n",
       "    .dataframe tbody tr th:only-of-type {\n",
       "        vertical-align: middle;\n",
       "    }\n",
       "\n",
       "    .dataframe tbody tr th {\n",
       "        vertical-align: top;\n",
       "    }\n",
       "\n",
       "    .dataframe thead th {\n",
       "        text-align: right;\n",
       "    }\n",
       "</style>\n",
       "<table border=\"1\" class=\"dataframe\">\n",
       "  <thead>\n",
       "    <tr style=\"text-align: right;\">\n",
       "      <th></th>\n",
       "      <th>ativo</th>\n",
       "      <th>retorno médio anual</th>\n",
       "    </tr>\n",
       "  </thead>\n",
       "  <tbody>\n",
       "    <tr>\n",
       "      <th>0</th>\n",
       "      <td>ford</td>\n",
       "      <td>0.120003</td>\n",
       "    </tr>\n",
       "    <tr>\n",
       "      <th>1</th>\n",
       "      <td>ge</td>\n",
       "      <td>0.105422</td>\n",
       "    </tr>\n",
       "    <tr>\n",
       "      <th>2</th>\n",
       "      <td>microsoft</td>\n",
       "      <td>0.222932</td>\n",
       "    </tr>\n",
       "    <tr>\n",
       "      <th>3</th>\n",
       "      <td>pg</td>\n",
       "      <td>0.125548</td>\n",
       "    </tr>\n",
       "  </tbody>\n",
       "</table>\n",
       "</div>"
      ],
      "text/plain": [
       "       ativo  retorno médio anual\n",
       "0       ford             0.120003\n",
       "1         ge             0.105422\n",
       "2  microsoft             0.222932\n",
       "3         pg             0.125548"
      ]
     },
     "execution_count": 23,
     "metadata": {},
     "output_type": "execute_result"
    }
   ],
   "source": [
    "# estimando o retorno anual médio\n",
    "retorno_anual = retornos.mean() *250\n",
    "retorno_anual = retorno_anual.reset_index().rename(\n",
    "    columns={'index':'ativo',\n",
    "             0:'retorno médio anual'\n",
    "})\n",
    "\n",
    "retorno_anual"
   ]
  },
  {
   "cell_type": "code",
   "execution_count": 24,
   "id": "bfbb23fe1292c9dc",
   "metadata": {
    "ExecuteTime": {
     "end_time": "2023-12-13T20:47:12.758625380Z",
     "start_time": "2023-12-13T20:47:12.484134224Z"
    },
    "collapsed": false
   },
   "outputs": [
    {
     "name": "stdout",
     "output_type": "stream",
     "text": [
      "Retorno anual da carteira de investimentos com pesos iguais\n",
      "14.348 %\n"
     ]
    }
   ],
   "source": [
    "print(f\"\"\"Retorno anual da carteira de investimentos com pesos iguais\n",
    "{round(np.dot(retorno_anual['retorno médio anual'], pesos) * 100, 3)} %\"\"\")"
   ]
  },
  {
   "cell_type": "code",
   "execution_count": 25,
   "id": "2739fea8bc65fa4d",
   "metadata": {
    "ExecuteTime": {
     "end_time": "2023-12-13T20:47:12.781678701Z",
     "start_time": "2023-12-13T20:47:12.484561461Z"
    },
    "collapsed": false
   },
   "outputs": [
    {
     "name": "stdout",
     "output_type": "stream",
     "text": [
      "Retorno anual da carteira de investimentos com pesos diferentes\n",
      "12.989 %\n"
     ]
    }
   ],
   "source": [
    "pesos_2 = np.array([0.4,0.4, 0.15, 0.05])\n",
    "print(f\"\"\"Retorno anual da carteira de investimentos com pesos diferentes\n",
    "{round(np.dot(retorno_anual['retorno médio anual'], pesos_2) * 100, 3)} %\"\"\")"
   ]
  },
  {
   "cell_type": "markdown",
   "id": "b6d846e22bb7315b",
   "metadata": {
    "collapsed": false
   },
   "source": [
    "## Índices de ações- calculando taxas de retorno desses indices"
   ]
  },
  {
   "cell_type": "code",
   "execution_count": 26,
   "id": "6f6d563c2162aa38",
   "metadata": {
    "ExecuteTime": {
     "end_time": "2023-12-13T20:47:14.162742475Z",
     "start_time": "2023-12-13T20:47:12.485748556Z"
    },
    "collapsed": false
   },
   "outputs": [
    {
     "name": "stdout",
     "output_type": "stream",
     "text": [
      "[*********************100%%**********************]  4 of 4 completed\n"
     ]
    }
   ],
   "source": [
    "# S&P500, NASDAQ, indice alemão DAX, footsie\n",
    "index_tickers = ['^GSPC', '^IXIC', '^GDAXI', '^FTSE']\n",
    "\n",
    "indices = pdr.get_data_yahoo(index_tickers, start='1997-01-01', end=end)['Adj Close']\n",
    "indices = indices.rename(\n",
    "    columns={'^GSPC': 'S&P500',\n",
    "             '^IXIC': 'NASDAQ',\n",
    "             '^GDAXI': 'DAX',\n",
    "             '^FTSE': 'Footsie'}\n",
    ")"
   ]
  },
  {
   "cell_type": "code",
   "execution_count": 27,
   "id": "a5870b1eae9b34c0",
   "metadata": {
    "ExecuteTime": {
     "end_time": "2023-12-13T20:47:14.231550885Z",
     "start_time": "2023-12-13T20:47:14.158426625Z"
    },
    "collapsed": false
   },
   "outputs": [
    {
     "data": {
      "text/html": [
       "<div>\n",
       "<style scoped>\n",
       "    .dataframe tbody tr th:only-of-type {\n",
       "        vertical-align: middle;\n",
       "    }\n",
       "\n",
       "    .dataframe tbody tr th {\n",
       "        vertical-align: top;\n",
       "    }\n",
       "\n",
       "    .dataframe thead th {\n",
       "        text-align: right;\n",
       "    }\n",
       "</style>\n",
       "<table border=\"1\" class=\"dataframe\">\n",
       "  <thead>\n",
       "    <tr style=\"text-align: right;\">\n",
       "      <th></th>\n",
       "      <th>Footsie</th>\n",
       "      <th>DAX</th>\n",
       "      <th>S&amp;P500</th>\n",
       "      <th>NASDAQ</th>\n",
       "    </tr>\n",
       "    <tr>\n",
       "      <th>Date</th>\n",
       "      <th></th>\n",
       "      <th></th>\n",
       "      <th></th>\n",
       "      <th></th>\n",
       "    </tr>\n",
       "  </thead>\n",
       "  <tbody>\n",
       "    <tr>\n",
       "      <th>1997-01-02</th>\n",
       "      <td>4057.399902</td>\n",
       "      <td>2820.810059</td>\n",
       "      <td>737.010010</td>\n",
       "      <td>1280.699951</td>\n",
       "    </tr>\n",
       "    <tr>\n",
       "      <th>1997-01-03</th>\n",
       "      <td>4089.500000</td>\n",
       "      <td>2863.260010</td>\n",
       "      <td>748.030029</td>\n",
       "      <td>1310.680054</td>\n",
       "    </tr>\n",
       "    <tr>\n",
       "      <th>1997-01-06</th>\n",
       "      <td>4106.500000</td>\n",
       "      <td>2890.199951</td>\n",
       "      <td>747.650024</td>\n",
       "      <td>1316.400024</td>\n",
       "    </tr>\n",
       "    <tr>\n",
       "      <th>1997-01-07</th>\n",
       "      <td>4078.800049</td>\n",
       "      <td>2876.340088</td>\n",
       "      <td>753.229980</td>\n",
       "      <td>1327.729980</td>\n",
       "    </tr>\n",
       "    <tr>\n",
       "      <th>1997-01-08</th>\n",
       "      <td>4087.500000</td>\n",
       "      <td>2904.080078</td>\n",
       "      <td>748.409973</td>\n",
       "      <td>1320.349976</td>\n",
       "    </tr>\n",
       "  </tbody>\n",
       "</table>\n",
       "</div>"
      ],
      "text/plain": [
       "                Footsie          DAX      S&P500       NASDAQ\n",
       "Date                                                         \n",
       "1997-01-02  4057.399902  2820.810059  737.010010  1280.699951\n",
       "1997-01-03  4089.500000  2863.260010  748.030029  1310.680054\n",
       "1997-01-06  4106.500000  2890.199951  747.650024  1316.400024\n",
       "1997-01-07  4078.800049  2876.340088  753.229980  1327.729980\n",
       "1997-01-08  4087.500000  2904.080078  748.409973  1320.349976"
      ]
     },
     "execution_count": 27,
     "metadata": {},
     "output_type": "execute_result"
    }
   ],
   "source": [
    "indices.head()"
   ]
  },
  {
   "cell_type": "code",
   "execution_count": 28,
   "id": "9aad3149c1538265",
   "metadata": {
    "ExecuteTime": {
     "end_time": "2023-12-13T20:47:14.295321108Z",
     "start_time": "2023-12-13T20:47:14.173954473Z"
    },
    "collapsed": false
   },
   "outputs": [
    {
     "data": {
      "text/html": [
       "<div>\n",
       "<style scoped>\n",
       "    .dataframe tbody tr th:only-of-type {\n",
       "        vertical-align: middle;\n",
       "    }\n",
       "\n",
       "    .dataframe tbody tr th {\n",
       "        vertical-align: top;\n",
       "    }\n",
       "\n",
       "    .dataframe thead th {\n",
       "        text-align: right;\n",
       "    }\n",
       "</style>\n",
       "<table border=\"1\" class=\"dataframe\">\n",
       "  <thead>\n",
       "    <tr style=\"text-align: right;\">\n",
       "      <th></th>\n",
       "      <th>Footsie</th>\n",
       "      <th>DAX</th>\n",
       "      <th>S&amp;P500</th>\n",
       "      <th>NASDAQ</th>\n",
       "    </tr>\n",
       "    <tr>\n",
       "      <th>Date</th>\n",
       "      <th></th>\n",
       "      <th></th>\n",
       "      <th></th>\n",
       "      <th></th>\n",
       "    </tr>\n",
       "  </thead>\n",
       "  <tbody>\n",
       "    <tr>\n",
       "      <th>2023-12-14</th>\n",
       "      <td>7649.000000</td>\n",
       "      <td>16752.230469</td>\n",
       "      <td>4719.549805</td>\n",
       "      <td>14761.559570</td>\n",
       "    </tr>\n",
       "    <tr>\n",
       "      <th>2023-12-15</th>\n",
       "      <td>7576.399902</td>\n",
       "      <td>16751.439453</td>\n",
       "      <td>4719.189941</td>\n",
       "      <td>14813.919922</td>\n",
       "    </tr>\n",
       "    <tr>\n",
       "      <th>2023-12-18</th>\n",
       "      <td>7614.500000</td>\n",
       "      <td>16650.550781</td>\n",
       "      <td>4740.560059</td>\n",
       "      <td>14904.809570</td>\n",
       "    </tr>\n",
       "    <tr>\n",
       "      <th>2023-12-19</th>\n",
       "      <td>7638.000000</td>\n",
       "      <td>16744.410156</td>\n",
       "      <td>4768.370117</td>\n",
       "      <td>15003.219727</td>\n",
       "    </tr>\n",
       "    <tr>\n",
       "      <th>2023-12-20</th>\n",
       "      <td>NaN</td>\n",
       "      <td>NaN</td>\n",
       "      <td>4771.080078</td>\n",
       "      <td>15037.881836</td>\n",
       "    </tr>\n",
       "  </tbody>\n",
       "</table>\n",
       "</div>"
      ],
      "text/plain": [
       "                Footsie           DAX       S&P500        NASDAQ\n",
       "Date                                                            \n",
       "2023-12-14  7649.000000  16752.230469  4719.549805  14761.559570\n",
       "2023-12-15  7576.399902  16751.439453  4719.189941  14813.919922\n",
       "2023-12-18  7614.500000  16650.550781  4740.560059  14904.809570\n",
       "2023-12-19  7638.000000  16744.410156  4768.370117  15003.219727\n",
       "2023-12-20          NaN           NaN  4771.080078  15037.881836"
      ]
     },
     "execution_count": 28,
     "metadata": {},
     "output_type": "execute_result"
    }
   ],
   "source": [
    "indices.tail()"
   ]
  },
  {
   "cell_type": "code",
   "execution_count": 29,
   "id": "20cdbff75524a0e2",
   "metadata": {
    "ExecuteTime": {
     "end_time": "2023-12-13T20:47:15.245082796Z",
     "start_time": "2023-12-13T20:47:14.185170926Z"
    },
    "collapsed": false
   },
   "outputs": [
    {
     "data": {
      "image/png": "[encoded data removed]",
      "text/plain": [
       "<Figure size 1500x600 with 1 Axes>"
      ]
     },
     "metadata": {},
     "output_type": "display_data"
    }
   ],
   "source": [
    "# normalizando para o valor base\n",
    "(100*(indices/indices.iloc[0])).plot(figsize=(15, 6))\n",
    "plt.axvline(x=pd.to_datetime(\"2000-01-01\"), color='gray', label='bolha da internet nos anos 2000', ls='-.')\n",
    "plt.axvline(x=pd.to_datetime(\"2007-08-30\"), color='gray', label='crise de 2008', ls='-.')\n",
    "plt.axvline(x=pd.to_datetime(\"2011-06-01\"), color='gray', label='crise de 2011', ls='-.')\n",
    "plt.axvline(x=pd.to_datetime(\"2020-03-01\"), color='gray', label='pandemia COVID-19', ls='-.')\n",
    "plt.axvline(x=pd.to_datetime(\"2021-12-01\"), color='gray', label='Fim da bolha tech - pandemia', ls='-.')\n",
    "plt.axvline(x=pd.to_datetime(\"2022-11-01\"), color='gray', label='Chat GPT - gen IA', ls='-.')\n",
    "# place legend outside\n",
    "plt.legend(bbox_to_anchor=(1.0, 1), loc='best')\n",
    "plt.show()"
   ]
  },
  {
   "cell_type": "code",
   "execution_count": 30,
   "id": "ff0b70ba0a6e2638",
   "metadata": {
    "ExecuteTime": {
     "end_time": "2023-12-13T20:47:15.301327064Z",
     "start_time": "2023-12-13T20:47:15.200837099Z"
    },
    "collapsed": false
   },
   "outputs": [
    {
     "data": {
      "text/html": [
       "<div>\n",
       "<style scoped>\n",
       "    .dataframe tbody tr th:only-of-type {\n",
       "        vertical-align: middle;\n",
       "    }\n",
       "\n",
       "    .dataframe tbody tr th {\n",
       "        vertical-align: top;\n",
       "    }\n",
       "\n",
       "    .dataframe thead th {\n",
       "        text-align: right;\n",
       "    }\n",
       "</style>\n",
       "<table border=\"1\" class=\"dataframe\">\n",
       "  <thead>\n",
       "    <tr style=\"text-align: right;\">\n",
       "      <th></th>\n",
       "      <th>Footsie</th>\n",
       "      <th>DAX</th>\n",
       "      <th>S&amp;P500</th>\n",
       "      <th>NASDAQ</th>\n",
       "    </tr>\n",
       "    <tr>\n",
       "      <th>Date</th>\n",
       "      <th></th>\n",
       "      <th></th>\n",
       "      <th></th>\n",
       "      <th></th>\n",
       "    </tr>\n",
       "  </thead>\n",
       "  <tbody>\n",
       "    <tr>\n",
       "      <th>2023-12-14</th>\n",
       "      <td>0.013327</td>\n",
       "      <td>-0.000824</td>\n",
       "      <td>0.002647</td>\n",
       "      <td>0.001873</td>\n",
       "    </tr>\n",
       "    <tr>\n",
       "      <th>2023-12-15</th>\n",
       "      <td>-0.009491</td>\n",
       "      <td>-0.000047</td>\n",
       "      <td>-0.000076</td>\n",
       "      <td>0.003547</td>\n",
       "    </tr>\n",
       "    <tr>\n",
       "      <th>2023-12-18</th>\n",
       "      <td>0.005029</td>\n",
       "      <td>-0.006023</td>\n",
       "      <td>0.004528</td>\n",
       "      <td>0.006135</td>\n",
       "    </tr>\n",
       "    <tr>\n",
       "      <th>2023-12-19</th>\n",
       "      <td>0.003086</td>\n",
       "      <td>0.005637</td>\n",
       "      <td>0.005866</td>\n",
       "      <td>0.006603</td>\n",
       "    </tr>\n",
       "    <tr>\n",
       "      <th>2023-12-20</th>\n",
       "      <td>NaN</td>\n",
       "      <td>NaN</td>\n",
       "      <td>0.000568</td>\n",
       "      <td>0.002310</td>\n",
       "    </tr>\n",
       "  </tbody>\n",
       "</table>\n",
       "</div>"
      ],
      "text/plain": [
       "             Footsie       DAX    S&P500    NASDAQ\n",
       "Date                                              \n",
       "2023-12-14  0.013327 -0.000824  0.002647  0.001873\n",
       "2023-12-15 -0.009491 -0.000047 -0.000076  0.003547\n",
       "2023-12-18  0.005029 -0.006023  0.004528  0.006135\n",
       "2023-12-19  0.003086  0.005637  0.005866  0.006603\n",
       "2023-12-20       NaN       NaN  0.000568  0.002310"
      ]
     },
     "execution_count": 30,
     "metadata": {},
     "output_type": "execute_result"
    }
   ],
   "source": [
    "# retornos\n",
    "retorno_indices = indices/indices.shift(1)-1\n",
    "retorno_indices.tail()"
   ]
  },
  {
   "cell_type": "code",
   "execution_count": 31,
   "id": "3cdfa63b658d1ec8",
   "metadata": {
    "ExecuteTime": {
     "end_time": "2023-12-13T20:47:15.409196113Z",
     "start_time": "2023-12-13T20:47:15.216048797Z"
    },
    "collapsed": false
   },
   "outputs": [
    {
     "data": {
      "text/html": [
       "<div>\n",
       "<style scoped>\n",
       "    .dataframe tbody tr th:only-of-type {\n",
       "        vertical-align: middle;\n",
       "    }\n",
       "\n",
       "    .dataframe tbody tr th {\n",
       "        vertical-align: top;\n",
       "    }\n",
       "\n",
       "    .dataframe thead th {\n",
       "        text-align: right;\n",
       "    }\n",
       "</style>\n",
       "<table border=\"1\" class=\"dataframe\">\n",
       "  <thead>\n",
       "    <tr style=\"text-align: right;\">\n",
       "      <th></th>\n",
       "      <th>ativo</th>\n",
       "      <th>retorno anual médio</th>\n",
       "    </tr>\n",
       "  </thead>\n",
       "  <tbody>\n",
       "    <tr>\n",
       "      <th>0</th>\n",
       "      <td>Footsie</td>\n",
       "      <td>0.034160</td>\n",
       "    </tr>\n",
       "    <tr>\n",
       "      <th>1</th>\n",
       "      <td>DAX</td>\n",
       "      <td>0.076795</td>\n",
       "    </tr>\n",
       "    <tr>\n",
       "      <th>2</th>\n",
       "      <td>S&amp;P500</td>\n",
       "      <td>0.090054</td>\n",
       "    </tr>\n",
       "    <tr>\n",
       "      <th>3</th>\n",
       "      <td>NASDAQ</td>\n",
       "      <td>0.123112</td>\n",
       "    </tr>\n",
       "  </tbody>\n",
       "</table>\n",
       "</div>"
      ],
      "text/plain": [
       "     ativo  retorno anual médio\n",
       "0  Footsie             0.034160\n",
       "1      DAX             0.076795\n",
       "2   S&P500             0.090054\n",
       "3   NASDAQ             0.123112"
      ]
     },
     "execution_count": 31,
     "metadata": {},
     "output_type": "execute_result"
    }
   ],
   "source": [
    "# Taxas positivas de retornos\n",
    "retorno_anual_indices = retorno_indices.mean()*250\n",
    "retorno_anual_indices = retorno_anual_indices.reset_index().rename(\n",
    "    columns={'index': 'ativo',\n",
    "             0: 'retorno anual médio'})\n",
    "\n",
    "retorno_anual_indices"
   ]
  },
  {
   "cell_type": "markdown",
   "id": "9de3599cf4a3ef0",
   "metadata": {
    "collapsed": false
   },
   "source": [
    "## Comparando o preço de fechamento de uma ação com os indices de mercado"
   ]
  },
  {
   "cell_type": "code",
   "execution_count": 32,
   "id": "cf64cd6f49073f6c",
   "metadata": {
    "ExecuteTime": {
     "end_time": "2023-12-13T20:47:17.269891608Z",
     "start_time": "2023-12-13T20:47:15.232386120Z"
    },
    "collapsed": false
   },
   "outputs": [
    {
     "name": "stdout",
     "output_type": "stream",
     "text": [
      "[*********************100%%**********************]  3 of 3 completed\n"
     ]
    }
   ],
   "source": [
    "tickers = ['PG', '^GSPC', '^DJI']\n",
    "\n",
    "indices_comparados = pdr.get_data_yahoo(tickers, start='1997-01-01', end=end)['Adj Close']\n",
    "indices_comparados = indices_comparados.rename(\n",
    "    columns={'^GSPC': 'S&P500',\n",
    "             '^DJI': 'DowJones'}\n",
    ")"
   ]
  },
  {
   "cell_type": "code",
   "execution_count": 33,
   "id": "38d2b284a58d4dd9",
   "metadata": {
    "ExecuteTime": {
     "end_time": "2023-12-13T20:47:17.337775815Z",
     "start_time": "2023-12-13T20:47:17.212883058Z"
    },
    "collapsed": false
   },
   "outputs": [
    {
     "data": {
      "text/html": [
       "<div>\n",
       "<style scoped>\n",
       "    .dataframe tbody tr th:only-of-type {\n",
       "        vertical-align: middle;\n",
       "    }\n",
       "\n",
       "    .dataframe tbody tr th {\n",
       "        vertical-align: top;\n",
       "    }\n",
       "\n",
       "    .dataframe thead th {\n",
       "        text-align: right;\n",
       "    }\n",
       "</style>\n",
       "<table border=\"1\" class=\"dataframe\">\n",
       "  <thead>\n",
       "    <tr style=\"text-align: right;\">\n",
       "      <th></th>\n",
       "      <th>PG</th>\n",
       "      <th>DowJones</th>\n",
       "      <th>S&amp;P500</th>\n",
       "    </tr>\n",
       "    <tr>\n",
       "      <th>Date</th>\n",
       "      <th></th>\n",
       "      <th></th>\n",
       "      <th></th>\n",
       "    </tr>\n",
       "  </thead>\n",
       "  <tbody>\n",
       "    <tr>\n",
       "      <th>2023-12-14</th>\n",
       "      <td>144.660004</td>\n",
       "      <td>37248.351562</td>\n",
       "      <td>4719.549805</td>\n",
       "    </tr>\n",
       "    <tr>\n",
       "      <th>2023-12-15</th>\n",
       "      <td>143.960007</td>\n",
       "      <td>37305.160156</td>\n",
       "      <td>4719.189941</td>\n",
       "    </tr>\n",
       "    <tr>\n",
       "      <th>2023-12-18</th>\n",
       "      <td>146.169998</td>\n",
       "      <td>37306.019531</td>\n",
       "      <td>4740.560059</td>\n",
       "    </tr>\n",
       "    <tr>\n",
       "      <th>2023-12-19</th>\n",
       "      <td>146.169998</td>\n",
       "      <td>37557.921875</td>\n",
       "      <td>4768.370117</td>\n",
       "    </tr>\n",
       "    <tr>\n",
       "      <th>2023-12-20</th>\n",
       "      <td>145.163895</td>\n",
       "      <td>37588.000000</td>\n",
       "      <td>4771.080078</td>\n",
       "    </tr>\n",
       "  </tbody>\n",
       "</table>\n",
       "</div>"
      ],
      "text/plain": [
       "                    PG      DowJones       S&P500\n",
       "Date                                             \n",
       "2023-12-14  144.660004  37248.351562  4719.549805\n",
       "2023-12-15  143.960007  37305.160156  4719.189941\n",
       "2023-12-18  146.169998  37306.019531  4740.560059\n",
       "2023-12-19  146.169998  37557.921875  4768.370117\n",
       "2023-12-20  145.163895  37588.000000  4771.080078"
      ]
     },
     "execution_count": 33,
     "metadata": {},
     "output_type": "execute_result"
    }
   ],
   "source": [
    "indices_comparados.tail()"
   ]
  },
  {
   "cell_type": "code",
   "execution_count": 34,
   "id": "28bc95a92a92976",
   "metadata": {
    "ExecuteTime": {
     "end_time": "2023-12-13T20:47:18.394921973Z",
     "start_time": "2023-12-13T20:47:17.229239889Z"
    },
    "collapsed": false
   },
   "outputs": [
    {
     "data": {
      "image/png": "[encoded data removed]",
      "text/plain": [
       "<Figure size 1500x600 with 1 Axes>"
      ]
     },
     "metadata": {},
     "output_type": "display_data"
    }
   ],
   "source": [
    "# normalizando para o valor base\n",
    "indices_comparados = 100*(indices_comparados/indices_comparados.iloc[0])\n",
    "                      \n",
    "indices_comparados.plot(figsize=(15, 6))\n",
    "plt.axvline(x=pd.to_datetime(\"2000-01-01\"), color='gray', label='bolha da internet nos anos 2000', ls='-.')\n",
    "plt.axvline(x=pd.to_datetime(\"2007-08-30\"), color='gray', label='crise de 2008', ls='-.')\n",
    "plt.axvline(x=pd.to_datetime(\"2011-06-01\"), color='gray', label='crise de 2011', ls='-.')\n",
    "plt.axvline(x=pd.to_datetime(\"2020-03-01\"), color='gray', label='pandemia COVID-19', ls='-.')\n",
    "plt.axvline(x=pd.to_datetime(\"2021-12-01\"), color='gray', label='Fim da bolha tech - pandemia', ls='-.')\n",
    "plt.axvline(x=pd.to_datetime(\"2022-11-01\"), color='gray', label='Chat GPT - gen IA', ls='-.')\n",
    "\n",
    "# place legend outside\n",
    "plt.legend(bbox_to_anchor=(1.0, 1), loc='best')\n",
    "plt.show()"
   ]
  },
  {
   "cell_type": "code",
   "execution_count": 35,
   "id": "e537b62f249efcca",
   "metadata": {
    "ExecuteTime": {
     "end_time": "2023-12-13T20:47:18.424944735Z",
     "start_time": "2023-12-13T20:47:18.284803447Z"
    },
    "collapsed": false
   },
   "outputs": [
    {
     "data": {
      "text/html": [
       "<div>\n",
       "<style scoped>\n",
       "    .dataframe tbody tr th:only-of-type {\n",
       "        vertical-align: middle;\n",
       "    }\n",
       "\n",
       "    .dataframe tbody tr th {\n",
       "        vertical-align: top;\n",
       "    }\n",
       "\n",
       "    .dataframe thead th {\n",
       "        text-align: right;\n",
       "    }\n",
       "</style>\n",
       "<table border=\"1\" class=\"dataframe\">\n",
       "  <thead>\n",
       "    <tr style=\"text-align: right;\">\n",
       "      <th></th>\n",
       "      <th>PG</th>\n",
       "      <th>DowJones</th>\n",
       "      <th>S&amp;P500</th>\n",
       "    </tr>\n",
       "    <tr>\n",
       "      <th>Date</th>\n",
       "      <th></th>\n",
       "      <th></th>\n",
       "      <th></th>\n",
       "    </tr>\n",
       "  </thead>\n",
       "  <tbody>\n",
       "    <tr>\n",
       "      <th>1997-01-02</th>\n",
       "      <td>100.000000</td>\n",
       "      <td>100.000000</td>\n",
       "      <td>100.000000</td>\n",
       "    </tr>\n",
       "    <tr>\n",
       "      <th>1997-01-03</th>\n",
       "      <td>101.641251</td>\n",
       "      <td>101.577024</td>\n",
       "      <td>101.495233</td>\n",
       "    </tr>\n",
       "    <tr>\n",
       "      <th>1997-01-06</th>\n",
       "      <td>102.344681</td>\n",
       "      <td>101.935431</td>\n",
       "      <td>101.443673</td>\n",
       "    </tr>\n",
       "    <tr>\n",
       "      <th>1997-01-07</th>\n",
       "      <td>104.220483</td>\n",
       "      <td>102.455105</td>\n",
       "      <td>102.200780</td>\n",
       "    </tr>\n",
       "    <tr>\n",
       "      <th>1997-01-08</th>\n",
       "      <td>102.344681</td>\n",
       "      <td>101.660689</td>\n",
       "      <td>101.546785</td>\n",
       "    </tr>\n",
       "    <tr>\n",
       "      <th>...</th>\n",
       "      <td>...</td>\n",
       "      <td>...</td>\n",
       "      <td>...</td>\n",
       "    </tr>\n",
       "    <tr>\n",
       "      <th>2023-12-14</th>\n",
       "      <td>1065.286578</td>\n",
       "      <td>578.166985</td>\n",
       "      <td>640.364411</td>\n",
       "    </tr>\n",
       "    <tr>\n",
       "      <th>2023-12-15</th>\n",
       "      <td>1060.131750</td>\n",
       "      <td>579.048765</td>\n",
       "      <td>640.315583</td>\n",
       "    </tr>\n",
       "    <tr>\n",
       "      <th>2023-12-18</th>\n",
       "      <td>1076.406285</td>\n",
       "      <td>579.062104</td>\n",
       "      <td>643.215153</td>\n",
       "    </tr>\n",
       "    <tr>\n",
       "      <th>2023-12-19</th>\n",
       "      <td>1076.406285</td>\n",
       "      <td>582.972120</td>\n",
       "      <td>646.988515</td>\n",
       "    </tr>\n",
       "    <tr>\n",
       "      <th>2023-12-20</th>\n",
       "      <td>1068.997267</td>\n",
       "      <td>583.438991</td>\n",
       "      <td>647.356212</td>\n",
       "    </tr>\n",
       "  </tbody>\n",
       "</table>\n",
       "<p>6788 rows × 3 columns</p>\n",
       "</div>"
      ],
      "text/plain": [
       "                     PG    DowJones      S&P500\n",
       "Date                                           \n",
       "1997-01-02   100.000000  100.000000  100.000000\n",
       "1997-01-03   101.641251  101.577024  101.495233\n",
       "1997-01-06   102.344681  101.935431  101.443673\n",
       "1997-01-07   104.220483  102.455105  102.200780\n",
       "1997-01-08   102.344681  101.660689  101.546785\n",
       "...                 ...         ...         ...\n",
       "2023-12-14  1065.286578  578.166985  640.364411\n",
       "2023-12-15  1060.131750  579.048765  640.315583\n",
       "2023-12-18  1076.406285  579.062104  643.215153\n",
       "2023-12-19  1076.406285  582.972120  646.988515\n",
       "2023-12-20  1068.997267  583.438991  647.356212\n",
       "\n",
       "[6788 rows x 3 columns]"
      ]
     },
     "execution_count": 35,
     "metadata": {},
     "output_type": "execute_result"
    }
   ],
   "source": [
    "indices_comparados"
   ]
  },
  {
   "cell_type": "markdown",
   "id": "4adec14d09e6b847",
   "metadata": {
    "collapsed": false
   },
   "source": [
    "# Calculando o risco de um investimento"
   ]
  },
  {
   "cell_type": "code",
   "execution_count": 36,
   "id": "7bae5b2ad87feabe",
   "metadata": {
    "ExecuteTime": {
     "end_time": "2023-12-13T20:47:20.811965920Z",
     "start_time": "2023-12-13T20:47:18.296042746Z"
    },
    "collapsed": false
   },
   "outputs": [
    {
     "name": "stdout",
     "output_type": "stream",
     "text": [
      "[*********************100%%**********************]  2 of 2 completed\n"
     ]
    }
   ],
   "source": [
    "# comparar os históricos e o risco entre dois ativos de mesmo negócio Beiersdorf e P&G\n",
    "tickers = ['PG', 'BEI.DE']\n",
    "\n",
    "dados_hist = pdr.get_data_yahoo(tickers, start='2007-01-01', end=\"2022-12-31\")['Adj Close']\n",
    "dados_hist = dados_hist.rename(\n",
    "    columns={'PG': 'P&G',\n",
    "             'BEI.DE': 'Beiersdorf'}\n",
    ")"
   ]
  },
  {
   "cell_type": "code",
   "execution_count": 37,
   "id": "8162007ea9cd4451",
   "metadata": {
    "ExecuteTime": {
     "end_time": "2023-12-13T20:47:20.875950997Z",
     "start_time": "2023-12-13T20:47:20.809122664Z"
    },
    "collapsed": false
   },
   "outputs": [
    {
     "data": {
      "text/html": [
       "<div>\n",
       "<style scoped>\n",
       "    .dataframe tbody tr th:only-of-type {\n",
       "        vertical-align: middle;\n",
       "    }\n",
       "\n",
       "    .dataframe tbody tr th {\n",
       "        vertical-align: top;\n",
       "    }\n",
       "\n",
       "    .dataframe thead th {\n",
       "        text-align: right;\n",
       "    }\n",
       "</style>\n",
       "<table border=\"1\" class=\"dataframe\">\n",
       "  <thead>\n",
       "    <tr style=\"text-align: right;\">\n",
       "      <th></th>\n",
       "      <th>Beiersdorf</th>\n",
       "      <th>P&amp;G</th>\n",
       "    </tr>\n",
       "    <tr>\n",
       "      <th>Date</th>\n",
       "      <th></th>\n",
       "      <th></th>\n",
       "    </tr>\n",
       "  </thead>\n",
       "  <tbody>\n",
       "    <tr>\n",
       "      <th>2007-01-02</th>\n",
       "      <td>39.697174</td>\n",
       "      <td>NaN</td>\n",
       "    </tr>\n",
       "    <tr>\n",
       "      <th>2007-01-03</th>\n",
       "      <td>39.784248</td>\n",
       "      <td>39.577766</td>\n",
       "    </tr>\n",
       "    <tr>\n",
       "      <th>2007-01-04</th>\n",
       "      <td>40.045471</td>\n",
       "      <td>39.277283</td>\n",
       "    </tr>\n",
       "    <tr>\n",
       "      <th>2007-01-05</th>\n",
       "      <td>39.222233</td>\n",
       "      <td>38.940006</td>\n",
       "    </tr>\n",
       "    <tr>\n",
       "      <th>2007-01-08</th>\n",
       "      <td>39.230156</td>\n",
       "      <td>39.025848</td>\n",
       "    </tr>\n",
       "  </tbody>\n",
       "</table>\n",
       "</div>"
      ],
      "text/plain": [
       "            Beiersdorf        P&G\n",
       "Date                             \n",
       "2007-01-02   39.697174        NaN\n",
       "2007-01-03   39.784248  39.577766\n",
       "2007-01-04   40.045471  39.277283\n",
       "2007-01-05   39.222233  38.940006\n",
       "2007-01-08   39.230156  39.025848"
      ]
     },
     "execution_count": 37,
     "metadata": {},
     "output_type": "execute_result"
    }
   ],
   "source": [
    "dados_hist.head()"
   ]
  },
  {
   "cell_type": "code",
   "execution_count": 38,
   "id": "a24c738be1aa9350",
   "metadata": {
    "ExecuteTime": {
     "end_time": "2023-12-13T20:47:20.893416949Z",
     "start_time": "2023-12-13T20:47:20.822895680Z"
    },
    "collapsed": false
   },
   "outputs": [
    {
     "data": {
      "text/html": [
       "<div>\n",
       "<style scoped>\n",
       "    .dataframe tbody tr th:only-of-type {\n",
       "        vertical-align: middle;\n",
       "    }\n",
       "\n",
       "    .dataframe tbody tr th {\n",
       "        vertical-align: top;\n",
       "    }\n",
       "\n",
       "    .dataframe thead th {\n",
       "        text-align: right;\n",
       "    }\n",
       "</style>\n",
       "<table border=\"1\" class=\"dataframe\">\n",
       "  <thead>\n",
       "    <tr style=\"text-align: right;\">\n",
       "      <th></th>\n",
       "      <th>Beiersdorf</th>\n",
       "      <th>P&amp;G</th>\n",
       "    </tr>\n",
       "    <tr>\n",
       "      <th>Date</th>\n",
       "      <th></th>\n",
       "      <th></th>\n",
       "    </tr>\n",
       "  </thead>\n",
       "  <tbody>\n",
       "    <tr>\n",
       "      <th>2022-12-23</th>\n",
       "      <td>105.788757</td>\n",
       "      <td>148.841446</td>\n",
       "    </tr>\n",
       "    <tr>\n",
       "      <th>2022-12-27</th>\n",
       "      <td>106.683594</td>\n",
       "      <td>150.138519</td>\n",
       "    </tr>\n",
       "    <tr>\n",
       "      <th>2022-12-28</th>\n",
       "      <td>105.937897</td>\n",
       "      <td>148.197815</td>\n",
       "    </tr>\n",
       "    <tr>\n",
       "      <th>2022-12-29</th>\n",
       "      <td>106.832726</td>\n",
       "      <td>148.812180</td>\n",
       "    </tr>\n",
       "    <tr>\n",
       "      <th>2022-12-30</th>\n",
       "      <td>106.584160</td>\n",
       "      <td>147.807693</td>\n",
       "    </tr>\n",
       "  </tbody>\n",
       "</table>\n",
       "</div>"
      ],
      "text/plain": [
       "            Beiersdorf         P&G\n",
       "Date                              \n",
       "2022-12-23  105.788757  148.841446\n",
       "2022-12-27  106.683594  150.138519\n",
       "2022-12-28  105.937897  148.197815\n",
       "2022-12-29  106.832726  148.812180\n",
       "2022-12-30  106.584160  147.807693"
      ]
     },
     "execution_count": 38,
     "metadata": {},
     "output_type": "execute_result"
    }
   ],
   "source": [
    "dados_hist.tail()"
   ]
  },
  {
   "cell_type": "code",
   "execution_count": 39,
   "id": "348587e37db6261d",
   "metadata": {
    "ExecuteTime": {
     "end_time": "2023-12-13T20:47:21.041321889Z",
     "start_time": "2023-12-13T20:47:20.833196817Z"
    },
    "collapsed": false
   },
   "outputs": [],
   "source": [
    "dados_hist = dados_hist.dropna()"
   ]
  },
  {
   "cell_type": "code",
   "execution_count": 40,
   "id": "1a7b1bd8f86e15",
   "metadata": {
    "ExecuteTime": {
     "end_time": "2023-12-13T20:47:21.747613447Z",
     "start_time": "2023-12-13T20:47:20.880161910Z"
    },
    "collapsed": false
   },
   "outputs": [
    {
     "data": {
      "image/png": "[encoded data removed]",
      "text/plain": [
       "<Figure size 1500x600 with 1 Axes>"
      ]
     },
     "metadata": {},
     "output_type": "display_data"
    }
   ],
   "source": [
    "# normalizando\n",
    "(100*(dados_hist/dados_hist.iloc[0])).plot(figsize=(15, 6))\n",
    "plt.axvline(x=pd.to_datetime(\"2007-08-30\"), color='b', label='crise de 2008')\n",
    "plt.axvline(x=pd.to_datetime(\"2011-06-01\"), color='b', label='crise de 2011')\n",
    "plt.axvline(x=pd.to_datetime(\"2020-03-01\"), color='b', label='pandemia COVID-19')\n",
    "\n",
    "# place legend outside\n",
    "plt.legend(bbox_to_anchor=(1.0, 1), loc='best')\n",
    "plt.show()"
   ]
  },
  {
   "cell_type": "markdown",
   "id": "ed2a04d4341d56fb",
   "metadata": {
    "collapsed": false
   },
   "source": [
    "## Calculando risco"
   ]
  },
  {
   "cell_type": "code",
   "execution_count": 41,
   "id": "3d97812cb9af2c66",
   "metadata": {
    "ExecuteTime": {
     "end_time": "2023-12-13T20:47:21.826525353Z",
     "start_time": "2023-12-13T20:47:21.741410982Z"
    },
    "collapsed": false
   },
   "outputs": [],
   "source": [
    "sec_returns = np.log(dados_hist/dados_hist.shift(1))"
   ]
  },
  {
   "cell_type": "code",
   "execution_count": 42,
   "id": "1b35d596c598ebc0",
   "metadata": {
    "ExecuteTime": {
     "end_time": "2023-12-13T20:47:21.931882001Z",
     "start_time": "2023-12-13T20:47:21.750989462Z"
    },
    "collapsed": false
   },
   "outputs": [
    {
     "data": {
      "text/html": [
       "<div>\n",
       "<style scoped>\n",
       "    .dataframe tbody tr th:only-of-type {\n",
       "        vertical-align: middle;\n",
       "    }\n",
       "\n",
       "    .dataframe tbody tr th {\n",
       "        vertical-align: top;\n",
       "    }\n",
       "\n",
       "    .dataframe thead th {\n",
       "        text-align: right;\n",
       "    }\n",
       "</style>\n",
       "<table border=\"1\" class=\"dataframe\">\n",
       "  <thead>\n",
       "    <tr style=\"text-align: right;\">\n",
       "      <th></th>\n",
       "      <th>ativo</th>\n",
       "      <th>media anual de retorno</th>\n",
       "    </tr>\n",
       "  </thead>\n",
       "  <tbody>\n",
       "    <tr>\n",
       "      <th>0</th>\n",
       "      <td>Beiersdorf</td>\n",
       "      <td>0.062229</td>\n",
       "    </tr>\n",
       "    <tr>\n",
       "      <th>1</th>\n",
       "      <td>P&amp;G</td>\n",
       "      <td>0.083206</td>\n",
       "    </tr>\n",
       "  </tbody>\n",
       "</table>\n",
       "</div>"
      ],
      "text/plain": [
       "        ativo  media anual de retorno\n",
       "0  Beiersdorf                0.062229\n",
       "1         P&G                0.083206"
      ]
     },
     "execution_count": 42,
     "metadata": {},
     "output_type": "execute_result"
    }
   ],
   "source": [
    "# media anual\n",
    "avg_sec_returns = (sec_returns.mean() * 250).reset_index().rename(\n",
    "    columns={'index': 'ativo',\n",
    "             0: 'media anual de retorno'})\n",
    "avg_sec_returns"
   ]
  },
  {
   "cell_type": "code",
   "execution_count": 43,
   "id": "1e9bab560a691eba",
   "metadata": {
    "ExecuteTime": {
     "end_time": "2023-12-13T20:47:21.965039206Z",
     "start_time": "2023-12-13T20:47:21.779845509Z"
    },
    "collapsed": false
   },
   "outputs": [
    {
     "data": {
      "text/html": [
       "<div>\n",
       "<style scoped>\n",
       "    .dataframe tbody tr th:only-of-type {\n",
       "        vertical-align: middle;\n",
       "    }\n",
       "\n",
       "    .dataframe tbody tr th {\n",
       "        vertical-align: top;\n",
       "    }\n",
       "\n",
       "    .dataframe thead th {\n",
       "        text-align: right;\n",
       "    }\n",
       "</style>\n",
       "<table border=\"1\" class=\"dataframe\">\n",
       "  <thead>\n",
       "    <tr style=\"text-align: right;\">\n",
       "      <th></th>\n",
       "      <th>ativo</th>\n",
       "      <th>risco</th>\n",
       "    </tr>\n",
       "  </thead>\n",
       "  <tbody>\n",
       "    <tr>\n",
       "      <th>0</th>\n",
       "      <td>Beiersdorf</td>\n",
       "      <td>1.860000</td>\n",
       "    </tr>\n",
       "    <tr>\n",
       "      <th>1</th>\n",
       "      <td>P&amp;G</td>\n",
       "      <td>1.729692</td>\n",
       "    </tr>\n",
       "  </tbody>\n",
       "</table>\n",
       "</div>"
      ],
      "text/plain": [
       "        ativo     risco\n",
       "0  Beiersdorf  1.860000\n",
       "1         P&G  1.729692"
      ]
     },
     "execution_count": 43,
     "metadata": {},
     "output_type": "execute_result"
    }
   ],
   "source": [
    "# risco - calculao do desvio padrão\n",
    "risco = ((sec_returns.std() * 250)**0.5).reset_index().rename(\n",
    "    columns={'index': 'ativo',\n",
    "             0: 'risco'})\n",
    "risco"
   ]
  },
  {
   "cell_type": "markdown",
   "id": "257239ad6a57a836",
   "metadata": {
    "collapsed": false
   },
   "source": [
    "## Covariancia e Correlação \n",
    "\n",
    "### $$\n",
    "cov = \\begin{pmatrix}\n",
    "\\sigma_{11}^2 & \\sigma_{12} & \\ldots & \\sigma_{1n}\\\\\n",
    "\\sigma_{21} & \\sigma_{22}^2 & \\ldots & \\sigma_{2n}\\\\\n",
    "\\vdots & \\vdots  & \\ddots  &  \\vdots \\\\\n",
    "\\sigma_{m1} & \\sigma_{m2} & \\ldots & \\sigma_{mn}^2\n",
    "\\end{pmatrix}\n",
    "$$"
   ]
  },
  {
   "cell_type": "code",
   "execution_count": 44,
   "id": "fba11f6479dceff6",
   "metadata": {
    "ExecuteTime": {
     "end_time": "2023-12-13T20:47:22.069735295Z",
     "start_time": "2023-12-13T20:47:21.792788793Z"
    },
    "collapsed": false
   },
   "outputs": [
    {
     "data": {
      "text/plain": [
       "0.00014321712966671544"
      ]
     },
     "execution_count": 44,
     "metadata": {},
     "output_type": "execute_result"
    }
   ],
   "source": [
    "PG_var = sec_returns['P&G'].var()\n",
    "PG_var"
   ]
  },
  {
   "cell_type": "code",
   "execution_count": 45,
   "id": "bd33781f2c06d4b8",
   "metadata": {
    "ExecuteTime": {
     "end_time": "2023-12-13T20:47:22.077043004Z",
     "start_time": "2023-12-13T20:47:21.840205692Z"
    },
    "collapsed": false
   },
   "outputs": [
    {
     "data": {
      "text/plain": [
       "0.03580428241667886"
      ]
     },
     "execution_count": 45,
     "metadata": {},
     "output_type": "execute_result"
    }
   ],
   "source": [
    "# valor anual\n",
    "PG_var = sec_returns['P&G'].var() * 250\n",
    "PG_var"
   ]
  },
  {
   "cell_type": "code",
   "execution_count": 46,
   "id": "d42578f84b2a61c3",
   "metadata": {
    "ExecuteTime": {
     "end_time": "2023-12-13T20:47:22.089183881Z",
     "start_time": "2023-12-13T20:47:21.840789114Z"
    },
    "collapsed": false
   },
   "outputs": [
    {
     "data": {
      "text/plain": [
       "0.00019150115417488126"
      ]
     },
     "execution_count": 46,
     "metadata": {},
     "output_type": "execute_result"
    }
   ],
   "source": [
    "beiersdorf_var = sec_returns['Beiersdorf'].var()\n",
    "beiersdorf_var "
   ]
  },
  {
   "cell_type": "code",
   "execution_count": 47,
   "id": "e0ffb1a4198e90e3",
   "metadata": {
    "ExecuteTime": {
     "end_time": "2023-12-13T20:47:22.100447552Z",
     "start_time": "2023-12-13T20:47:21.841294958Z"
    },
    "collapsed": false
   },
   "outputs": [
    {
     "data": {
      "text/plain": [
       "0.047875288543720314"
      ]
     },
     "execution_count": 47,
     "metadata": {},
     "output_type": "execute_result"
    }
   ],
   "source": [
    "# valor anual\n",
    "beiersdorf_var = sec_returns['Beiersdorf'].var() * 250\n",
    "beiersdorf_var "
   ]
  },
  {
   "cell_type": "code",
   "execution_count": 48,
   "id": "3f2e9889a8c50de5",
   "metadata": {
    "ExecuteTime": {
     "end_time": "2023-12-13T20:47:22.112903543Z",
     "start_time": "2023-12-13T20:47:21.841858420Z"
    },
    "collapsed": false
   },
   "outputs": [
    {
     "data": {
      "text/html": [
       "<div>\n",
       "<style scoped>\n",
       "    .dataframe tbody tr th:only-of-type {\n",
       "        vertical-align: middle;\n",
       "    }\n",
       "\n",
       "    .dataframe tbody tr th {\n",
       "        vertical-align: top;\n",
       "    }\n",
       "\n",
       "    .dataframe thead th {\n",
       "        text-align: right;\n",
       "    }\n",
       "</style>\n",
       "<table border=\"1\" class=\"dataframe\">\n",
       "  <thead>\n",
       "    <tr style=\"text-align: right;\">\n",
       "      <th></th>\n",
       "      <th>Beiersdorf</th>\n",
       "      <th>P&amp;G</th>\n",
       "    </tr>\n",
       "  </thead>\n",
       "  <tbody>\n",
       "    <tr>\n",
       "      <th>Beiersdorf</th>\n",
       "      <td>0.000192</td>\n",
       "      <td>0.000045</td>\n",
       "    </tr>\n",
       "    <tr>\n",
       "      <th>P&amp;G</th>\n",
       "      <td>0.000045</td>\n",
       "      <td>0.000143</td>\n",
       "    </tr>\n",
       "  </tbody>\n",
       "</table>\n",
       "</div>"
      ],
      "text/plain": [
       "            Beiersdorf       P&G\n",
       "Beiersdorf    0.000192  0.000045\n",
       "P&G           0.000045  0.000143"
      ]
     },
     "execution_count": 48,
     "metadata": {},
     "output_type": "execute_result"
    }
   ],
   "source": [
    "covariancia = sec_returns.cov()\n",
    "covariancia"
   ]
  },
  {
   "cell_type": "code",
   "execution_count": 49,
   "id": "7b8ec8d5c65e35f7",
   "metadata": {
    "ExecuteTime": {
     "end_time": "2023-12-13T20:47:22.121635083Z",
     "start_time": "2023-12-13T20:47:21.888320769Z"
    },
    "collapsed": false
   },
   "outputs": [
    {
     "data": {
      "text/html": [
       "<div>\n",
       "<style scoped>\n",
       "    .dataframe tbody tr th:only-of-type {\n",
       "        vertical-align: middle;\n",
       "    }\n",
       "\n",
       "    .dataframe tbody tr th {\n",
       "        vertical-align: top;\n",
       "    }\n",
       "\n",
       "    .dataframe thead th {\n",
       "        text-align: right;\n",
       "    }\n",
       "</style>\n",
       "<table border=\"1\" class=\"dataframe\">\n",
       "  <thead>\n",
       "    <tr style=\"text-align: right;\">\n",
       "      <th></th>\n",
       "      <th>Beiersdorf</th>\n",
       "      <th>P&amp;G</th>\n",
       "    </tr>\n",
       "  </thead>\n",
       "  <tbody>\n",
       "    <tr>\n",
       "      <th>Beiersdorf</th>\n",
       "      <td>0.047875</td>\n",
       "      <td>0.011345</td>\n",
       "    </tr>\n",
       "    <tr>\n",
       "      <th>P&amp;G</th>\n",
       "      <td>0.011345</td>\n",
       "      <td>0.035804</td>\n",
       "    </tr>\n",
       "  </tbody>\n",
       "</table>\n",
       "</div>"
      ],
      "text/plain": [
       "            Beiersdorf       P&G\n",
       "Beiersdorf    0.047875  0.011345\n",
       "P&G           0.011345  0.035804"
      ]
     },
     "execution_count": 49,
     "metadata": {},
     "output_type": "execute_result"
    }
   ],
   "source": [
    "covariancia_anual = sec_returns.cov() * 250\n",
    "covariancia_anual"
   ]
  },
  {
   "cell_type": "code",
   "execution_count": 50,
   "id": "d6b515464199746",
   "metadata": {
    "ExecuteTime": {
     "end_time": "2023-12-13T20:47:22.134359266Z",
     "start_time": "2023-12-13T20:47:21.888858710Z"
    },
    "collapsed": false
   },
   "outputs": [
    {
     "data": {
      "text/html": [
       "<div>\n",
       "<style scoped>\n",
       "    .dataframe tbody tr th:only-of-type {\n",
       "        vertical-align: middle;\n",
       "    }\n",
       "\n",
       "    .dataframe tbody tr th {\n",
       "        vertical-align: top;\n",
       "    }\n",
       "\n",
       "    .dataframe thead th {\n",
       "        text-align: right;\n",
       "    }\n",
       "</style>\n",
       "<table border=\"1\" class=\"dataframe\">\n",
       "  <thead>\n",
       "    <tr style=\"text-align: right;\">\n",
       "      <th></th>\n",
       "      <th>Beiersdorf</th>\n",
       "      <th>P&amp;G</th>\n",
       "    </tr>\n",
       "  </thead>\n",
       "  <tbody>\n",
       "    <tr>\n",
       "      <th>Beiersdorf</th>\n",
       "      <td>1.000000</td>\n",
       "      <td>0.274017</td>\n",
       "    </tr>\n",
       "    <tr>\n",
       "      <th>P&amp;G</th>\n",
       "      <td>0.274017</td>\n",
       "      <td>1.000000</td>\n",
       "    </tr>\n",
       "  </tbody>\n",
       "</table>\n",
       "</div>"
      ],
      "text/plain": [
       "            Beiersdorf       P&G\n",
       "Beiersdorf    1.000000  0.274017\n",
       "P&G           0.274017  1.000000"
      ]
     },
     "execution_count": 50,
     "metadata": {},
     "output_type": "execute_result"
    }
   ],
   "source": [
    "# não podemos associar a correlação a um valor anual como fizemos com a covariância,\n",
    "# multiplicando por 250!\n",
    "correlacao = sec_returns.corr()\n",
    "correlacao"
   ]
  },
  {
   "cell_type": "markdown",
   "id": "e78d9644e72e4ef",
   "metadata": {
    "collapsed": false
   },
   "source": [
    "## Calculando risco de um portifólio\n",
    "- 1 portifólio com pesos iguais\n",
    "### $$w^{T} \\cdot \\sigma_{1, 2} \\cdot w$$"
   ]
  },
  {
   "cell_type": "code",
   "execution_count": 51,
   "id": "3c514b546105d59a",
   "metadata": {
    "ExecuteTime": {
     "end_time": "2023-12-13T20:47:22.406448378Z",
     "start_time": "2023-12-13T20:47:21.889899547Z"
    },
    "collapsed": false
   },
   "outputs": [],
   "source": [
    "weights = np.array([0.5, 0.5])"
   ]
  },
  {
   "cell_type": "code",
   "execution_count": 52,
   "id": "6411ffe49efda0ab",
   "metadata": {
    "ExecuteTime": {
     "end_time": "2023-12-13T20:47:22.481627778Z",
     "start_time": "2023-12-13T20:47:21.932179113Z"
    },
    "collapsed": false
   },
   "outputs": [
    {
     "name": "stdout",
     "output_type": "stream",
     "text": [
      "Variância da carteira:  0.02659235142999354\n"
     ]
    }
   ],
   "source": [
    "# variância do portifólio\n",
    "pfolio_var = np.dot(weights.T, np.dot(sec_returns.cov() *250, weights))\n",
    "print(\"Variância da carteira: \", pfolio_var)"
   ]
  },
  {
   "cell_type": "code",
   "execution_count": 53,
   "id": "d4d75aa9f330fad5",
   "metadata": {
    "ExecuteTime": {
     "end_time": "2023-12-13T20:47:22.500609209Z",
     "start_time": "2023-12-13T20:47:21.932708006Z"
    },
    "collapsed": false
   },
   "outputs": [
    {
     "name": "stdout",
     "output_type": "stream",
     "text": [
      "Volatilidade da carteira:  16.30716144213748 %\n"
     ]
    }
   ],
   "source": [
    "#volatilidade\n",
    "pfolio_vol = (np.dot(weights.T, np.dot(sec_returns.cov() *250, weights)))**0.5\n",
    "\n",
    "print(\"Volatilidade da carteira: \", pfolio_vol*100, \"%\")\n"
   ]
  },
  {
   "cell_type": "markdown",
   "id": "8ef350f016c3677d",
   "metadata": {
    "collapsed": false
   },
   "source": [
    "## Risco diversificado e não diversificado de um portifólio"
   ]
  },
  {
   "cell_type": "code",
   "execution_count": 54,
   "id": "70b875a761504a63",
   "metadata": {
    "ExecuteTime": {
     "end_time": "2023-12-13T20:47:22.505764452Z",
     "start_time": "2023-12-13T20:47:21.933356472Z"
    },
    "collapsed": false
   },
   "outputs": [
    {
     "data": {
      "text/plain": [
       "0.03580428241667886"
      ]
     },
     "execution_count": 54,
     "metadata": {},
     "output_type": "execute_result"
    }
   ],
   "source": [
    "pesos = np.array([0.5, 0.5])\n",
    "\n",
    "PG_var_a = sec_returns['P&G'].var() * 250\n",
    "PG_var_a"
   ]
  },
  {
   "cell_type": "code",
   "execution_count": 55,
   "id": "a8feb4e833faff2d",
   "metadata": {
    "ExecuteTime": {
     "end_time": "2023-12-13T20:47:22.518844881Z",
     "start_time": "2023-12-13T20:47:21.933753670Z"
    },
    "collapsed": false
   },
   "outputs": [
    {
     "data": {
      "text/plain": [
       "0.047875288543720314"
      ]
     },
     "execution_count": 55,
     "metadata": {},
     "output_type": "execute_result"
    }
   ],
   "source": [
    "beiersdorf_var_a = sec_returns['Beiersdorf'].var() * 250\n",
    "beiersdorf_var_a"
   ]
  },
  {
   "cell_type": "code",
   "execution_count": 56,
   "id": "d9b89b43f77ab203",
   "metadata": {
    "ExecuteTime": {
     "end_time": "2023-12-13T20:47:22.542105232Z",
     "start_time": "2023-12-13T20:47:21.934187473Z"
    },
    "collapsed": false
   },
   "outputs": [
    {
     "data": {
      "text/plain": [
       "0.00567245868989375"
      ]
     },
     "execution_count": 56,
     "metadata": {},
     "output_type": "execute_result"
    }
   ],
   "source": [
    "# risco diversificavel\n",
    "diverse_risk = pfolio_var - (weights[0]**2 * PG_var_a) - (weights[1]**2 * beiersdorf_var_a)\n",
    "diverse_risk"
   ]
  },
  {
   "cell_type": "code",
   "execution_count": 57,
   "id": "619ec30a52cd1ca8",
   "metadata": {
    "ExecuteTime": {
     "end_time": "2023-12-13T20:47:22.549636490Z",
     "start_time": "2023-12-13T20:47:21.976239467Z"
    },
    "collapsed": false
   },
   "outputs": [
    {
     "data": {
      "text/plain": [
       "0.02091989274009979"
      ]
     },
     "execution_count": 57,
     "metadata": {},
     "output_type": "execute_result"
    }
   ],
   "source": [
    "# Risco não diversificável ou sistemático\n",
    "\n",
    "non_diverse_risk = pfolio_var - diverse_risk\n",
    "non_diverse_risk"
   ]
  },
  {
   "cell_type": "code",
   "execution_count": 58,
   "id": "ef902fdd7ca1edc7",
   "metadata": {
    "ExecuteTime": {
     "end_time": "2023-12-13T20:47:22.565911537Z",
     "start_time": "2023-12-13T20:47:21.976811985Z"
    },
    "collapsed": false
   },
   "outputs": [
    {
     "data": {
      "text/plain": [
       "0.020919892740099793"
      ]
     },
     "execution_count": 58,
     "metadata": {},
     "output_type": "execute_result"
    }
   ],
   "source": [
    "non_diverse_risk2 = (weights[0]**2 * PG_var_a) + (weights[1]**2 * beiersdorf_var_a)\n",
    "non_diverse_risk2"
   ]
  },
  {
   "cell_type": "code",
   "execution_count": 59,
   "id": "8e260dae053370df",
   "metadata": {
    "ExecuteTime": {
     "end_time": "2023-12-13T20:47:22.572708835Z",
     "start_time": "2023-12-13T20:47:21.977221823Z"
    },
    "collapsed": false
   },
   "outputs": [
    {
     "data": {
      "text/plain": [
       "False"
      ]
     },
     "execution_count": 59,
     "metadata": {},
     "output_type": "execute_result"
    }
   ],
   "source": [
    "non_diverse_risk2 == non_diverse_risk"
   ]
  },
  {
   "cell_type": "markdown",
   "id": "b604917e56082d08",
   "metadata": {
    "collapsed": false
   },
   "source": [
    "# Análise de regressão "
   ]
  },
  {
   "cell_type": "code",
   "execution_count": 60,
   "id": "430523d01bd92046",
   "metadata": {
    "ExecuteTime": {
     "end_time": "2023-12-13T20:47:22.891727223Z",
     "start_time": "2023-12-13T20:47:21.977612737Z"
    },
    "collapsed": false
   },
   "outputs": [],
   "source": [
    "data = pd.read_excel('../data/Housing.xlsx')"
   ]
  },
  {
   "cell_type": "code",
   "execution_count": 61,
   "id": "cc77d81a712cbf5e",
   "metadata": {
    "ExecuteTime": {
     "end_time": "2023-12-13T20:47:22.938948303Z",
     "start_time": "2023-12-13T20:47:22.238549436Z"
    },
    "collapsed": false
   },
   "outputs": [
    {
     "data": {
      "text/html": [
       "<div>\n",
       "<style scoped>\n",
       "    .dataframe tbody tr th:only-of-type {\n",
       "        vertical-align: middle;\n",
       "    }\n",
       "\n",
       "    .dataframe tbody tr th {\n",
       "        vertical-align: top;\n",
       "    }\n",
       "\n",
       "    .dataframe thead th {\n",
       "        text-align: right;\n",
       "    }\n",
       "</style>\n",
       "<table border=\"1\" class=\"dataframe\">\n",
       "  <thead>\n",
       "    <tr style=\"text-align: right;\">\n",
       "      <th></th>\n",
       "      <th>House Price</th>\n",
       "      <th>House Size (sq.ft.)</th>\n",
       "      <th>State</th>\n",
       "      <th>Number of Rooms</th>\n",
       "      <th>Year of Construction</th>\n",
       "    </tr>\n",
       "  </thead>\n",
       "  <tbody>\n",
       "    <tr>\n",
       "      <th>0</th>\n",
       "      <td>1116000</td>\n",
       "      <td>1940</td>\n",
       "      <td>IN</td>\n",
       "      <td>8</td>\n",
       "      <td>2002</td>\n",
       "    </tr>\n",
       "    <tr>\n",
       "      <th>1</th>\n",
       "      <td>860000</td>\n",
       "      <td>1300</td>\n",
       "      <td>IN</td>\n",
       "      <td>5</td>\n",
       "      <td>1992</td>\n",
       "    </tr>\n",
       "    <tr>\n",
       "      <th>2</th>\n",
       "      <td>818400</td>\n",
       "      <td>1420</td>\n",
       "      <td>IN</td>\n",
       "      <td>6</td>\n",
       "      <td>1987</td>\n",
       "    </tr>\n",
       "    <tr>\n",
       "      <th>3</th>\n",
       "      <td>1000000</td>\n",
       "      <td>1680</td>\n",
       "      <td>IN</td>\n",
       "      <td>7</td>\n",
       "      <td>2000</td>\n",
       "    </tr>\n",
       "    <tr>\n",
       "      <th>4</th>\n",
       "      <td>640000</td>\n",
       "      <td>1270</td>\n",
       "      <td>IN</td>\n",
       "      <td>5</td>\n",
       "      <td>1995</td>\n",
       "    </tr>\n",
       "    <tr>\n",
       "      <th>5</th>\n",
       "      <td>1010000</td>\n",
       "      <td>1850</td>\n",
       "      <td>IN</td>\n",
       "      <td>7</td>\n",
       "      <td>1998</td>\n",
       "    </tr>\n",
       "    <tr>\n",
       "      <th>6</th>\n",
       "      <td>600000</td>\n",
       "      <td>1000</td>\n",
       "      <td>IN</td>\n",
       "      <td>4</td>\n",
       "      <td>2015</td>\n",
       "    </tr>\n",
       "    <tr>\n",
       "      <th>7</th>\n",
       "      <td>700000</td>\n",
       "      <td>1100</td>\n",
       "      <td>LA</td>\n",
       "      <td>4</td>\n",
       "      <td>2014</td>\n",
       "    </tr>\n",
       "    <tr>\n",
       "      <th>8</th>\n",
       "      <td>1100000</td>\n",
       "      <td>1600</td>\n",
       "      <td>LA</td>\n",
       "      <td>7</td>\n",
       "      <td>2017</td>\n",
       "    </tr>\n",
       "    <tr>\n",
       "      <th>9</th>\n",
       "      <td>570000</td>\n",
       "      <td>1000</td>\n",
       "      <td>NY</td>\n",
       "      <td>5</td>\n",
       "      <td>1997</td>\n",
       "    </tr>\n",
       "    <tr>\n",
       "      <th>10</th>\n",
       "      <td>860000</td>\n",
       "      <td>2150</td>\n",
       "      <td>NY</td>\n",
       "      <td>9</td>\n",
       "      <td>1997</td>\n",
       "    </tr>\n",
       "    <tr>\n",
       "      <th>11</th>\n",
       "      <td>1085000</td>\n",
       "      <td>1900</td>\n",
       "      <td>NY</td>\n",
       "      <td>9</td>\n",
       "      <td>2000</td>\n",
       "    </tr>\n",
       "    <tr>\n",
       "      <th>12</th>\n",
       "      <td>1250000</td>\n",
       "      <td>2200</td>\n",
       "      <td>NY</td>\n",
       "      <td>9</td>\n",
       "      <td>2014</td>\n",
       "    </tr>\n",
       "    <tr>\n",
       "      <th>13</th>\n",
       "      <td>850000</td>\n",
       "      <td>1100</td>\n",
       "      <td>TX</td>\n",
       "      <td>4</td>\n",
       "      <td>2017</td>\n",
       "    </tr>\n",
       "    <tr>\n",
       "      <th>14</th>\n",
       "      <td>640000</td>\n",
       "      <td>860</td>\n",
       "      <td>TX</td>\n",
       "      <td>4</td>\n",
       "      <td>1997</td>\n",
       "    </tr>\n",
       "    <tr>\n",
       "      <th>15</th>\n",
       "      <td>900000</td>\n",
       "      <td>1325</td>\n",
       "      <td>TX</td>\n",
       "      <td>6</td>\n",
       "      <td>1997</td>\n",
       "    </tr>\n",
       "    <tr>\n",
       "      <th>16</th>\n",
       "      <td>730000</td>\n",
       "      <td>1350</td>\n",
       "      <td>TX</td>\n",
       "      <td>6</td>\n",
       "      <td>2000</td>\n",
       "    </tr>\n",
       "    <tr>\n",
       "      <th>17</th>\n",
       "      <td>750000</td>\n",
       "      <td>1600</td>\n",
       "      <td>TX</td>\n",
       "      <td>6</td>\n",
       "      <td>1992</td>\n",
       "    </tr>\n",
       "    <tr>\n",
       "      <th>18</th>\n",
       "      <td>650000</td>\n",
       "      <td>950</td>\n",
       "      <td>TX</td>\n",
       "      <td>2</td>\n",
       "      <td>1987</td>\n",
       "    </tr>\n",
       "    <tr>\n",
       "      <th>19</th>\n",
       "      <td>680000</td>\n",
       "      <td>1250</td>\n",
       "      <td>TX</td>\n",
       "      <td>4</td>\n",
       "      <td>2000</td>\n",
       "    </tr>\n",
       "  </tbody>\n",
       "</table>\n",
       "</div>"
      ],
      "text/plain": [
       "    House Price  House Size (sq.ft.) State  Number of Rooms  \\\n",
       "0       1116000                 1940    IN                8   \n",
       "1        860000                 1300    IN                5   \n",
       "2        818400                 1420    IN                6   \n",
       "3       1000000                 1680    IN                7   \n",
       "4        640000                 1270    IN                5   \n",
       "5       1010000                 1850    IN                7   \n",
       "6        600000                 1000    IN                4   \n",
       "7        700000                 1100   LA                 4   \n",
       "8       1100000                 1600   LA                 7   \n",
       "9        570000                 1000    NY                5   \n",
       "10       860000                 2150    NY                9   \n",
       "11      1085000                 1900    NY                9   \n",
       "12      1250000                 2200    NY                9   \n",
       "13       850000                 1100    TX                4   \n",
       "14       640000                  860    TX                4   \n",
       "15       900000                 1325    TX                6   \n",
       "16       730000                 1350    TX                6   \n",
       "17       750000                 1600    TX                6   \n",
       "18       650000                  950    TX                2   \n",
       "19       680000                 1250    TX                4   \n",
       "\n",
       "    Year of Construction  \n",
       "0                   2002  \n",
       "1                   1992  \n",
       "2                   1987  \n",
       "3                   2000  \n",
       "4                   1995  \n",
       "5                   1998  \n",
       "6                   2015  \n",
       "7                   2014  \n",
       "8                   2017  \n",
       "9                   1997  \n",
       "10                  1997  \n",
       "11                  2000  \n",
       "12                  2014  \n",
       "13                  2017  \n",
       "14                  1997  \n",
       "15                  1997  \n",
       "16                  2000  \n",
       "17                  1992  \n",
       "18                  1987  \n",
       "19                  2000  "
      ]
     },
     "execution_count": 61,
     "metadata": {},
     "output_type": "execute_result"
    }
   ],
   "source": [
    "data"
   ]
  },
  {
   "cell_type": "code",
   "execution_count": 62,
   "id": "5f72ff13f512435c",
   "metadata": {
    "ExecuteTime": {
     "end_time": "2023-12-13T20:47:22.970168369Z",
     "start_time": "2023-12-13T20:47:22.251377117Z"
    },
    "collapsed": false
   },
   "outputs": [
    {
     "data": {
      "text/html": [
       "<div>\n",
       "<style scoped>\n",
       "    .dataframe tbody tr th:only-of-type {\n",
       "        vertical-align: middle;\n",
       "    }\n",
       "\n",
       "    .dataframe tbody tr th {\n",
       "        vertical-align: top;\n",
       "    }\n",
       "\n",
       "    .dataframe thead th {\n",
       "        text-align: right;\n",
       "    }\n",
       "</style>\n",
       "<table border=\"1\" class=\"dataframe\">\n",
       "  <thead>\n",
       "    <tr style=\"text-align: right;\">\n",
       "      <th></th>\n",
       "      <th>House Price</th>\n",
       "      <th>House Size (sq.ft.)</th>\n",
       "    </tr>\n",
       "  </thead>\n",
       "  <tbody>\n",
       "    <tr>\n",
       "      <th>0</th>\n",
       "      <td>1116000</td>\n",
       "      <td>1940</td>\n",
       "    </tr>\n",
       "    <tr>\n",
       "      <th>1</th>\n",
       "      <td>860000</td>\n",
       "      <td>1300</td>\n",
       "    </tr>\n",
       "    <tr>\n",
       "      <th>2</th>\n",
       "      <td>818400</td>\n",
       "      <td>1420</td>\n",
       "    </tr>\n",
       "    <tr>\n",
       "      <th>3</th>\n",
       "      <td>1000000</td>\n",
       "      <td>1680</td>\n",
       "    </tr>\n",
       "    <tr>\n",
       "      <th>4</th>\n",
       "      <td>640000</td>\n",
       "      <td>1270</td>\n",
       "    </tr>\n",
       "    <tr>\n",
       "      <th>5</th>\n",
       "      <td>1010000</td>\n",
       "      <td>1850</td>\n",
       "    </tr>\n",
       "    <tr>\n",
       "      <th>6</th>\n",
       "      <td>600000</td>\n",
       "      <td>1000</td>\n",
       "    </tr>\n",
       "    <tr>\n",
       "      <th>7</th>\n",
       "      <td>700000</td>\n",
       "      <td>1100</td>\n",
       "    </tr>\n",
       "    <tr>\n",
       "      <th>8</th>\n",
       "      <td>1100000</td>\n",
       "      <td>1600</td>\n",
       "    </tr>\n",
       "    <tr>\n",
       "      <th>9</th>\n",
       "      <td>570000</td>\n",
       "      <td>1000</td>\n",
       "    </tr>\n",
       "    <tr>\n",
       "      <th>10</th>\n",
       "      <td>860000</td>\n",
       "      <td>2150</td>\n",
       "    </tr>\n",
       "    <tr>\n",
       "      <th>11</th>\n",
       "      <td>1085000</td>\n",
       "      <td>1900</td>\n",
       "    </tr>\n",
       "    <tr>\n",
       "      <th>12</th>\n",
       "      <td>1250000</td>\n",
       "      <td>2200</td>\n",
       "    </tr>\n",
       "    <tr>\n",
       "      <th>13</th>\n",
       "      <td>850000</td>\n",
       "      <td>1100</td>\n",
       "    </tr>\n",
       "    <tr>\n",
       "      <th>14</th>\n",
       "      <td>640000</td>\n",
       "      <td>860</td>\n",
       "    </tr>\n",
       "    <tr>\n",
       "      <th>15</th>\n",
       "      <td>900000</td>\n",
       "      <td>1325</td>\n",
       "    </tr>\n",
       "    <tr>\n",
       "      <th>16</th>\n",
       "      <td>730000</td>\n",
       "      <td>1350</td>\n",
       "    </tr>\n",
       "    <tr>\n",
       "      <th>17</th>\n",
       "      <td>750000</td>\n",
       "      <td>1600</td>\n",
       "    </tr>\n",
       "    <tr>\n",
       "      <th>18</th>\n",
       "      <td>650000</td>\n",
       "      <td>950</td>\n",
       "    </tr>\n",
       "    <tr>\n",
       "      <th>19</th>\n",
       "      <td>680000</td>\n",
       "      <td>1250</td>\n",
       "    </tr>\n",
       "  </tbody>\n",
       "</table>\n",
       "</div>"
      ],
      "text/plain": [
       "    House Price  House Size (sq.ft.)\n",
       "0       1116000                 1940\n",
       "1        860000                 1300\n",
       "2        818400                 1420\n",
       "3       1000000                 1680\n",
       "4        640000                 1270\n",
       "5       1010000                 1850\n",
       "6        600000                 1000\n",
       "7        700000                 1100\n",
       "8       1100000                 1600\n",
       "9        570000                 1000\n",
       "10       860000                 2150\n",
       "11      1085000                 1900\n",
       "12      1250000                 2200\n",
       "13       850000                 1100\n",
       "14       640000                  860\n",
       "15       900000                 1325\n",
       "16       730000                 1350\n",
       "17       750000                 1600\n",
       "18       650000                  950\n",
       "19       680000                 1250"
      ]
     },
     "execution_count": 62,
     "metadata": {},
     "output_type": "execute_result"
    }
   ],
   "source": [
    "data[['House Price', 'House Size (sq.ft.)']]"
   ]
  },
  {
   "cell_type": "markdown",
   "id": "f104b0d6c05395a9",
   "metadata": {
    "collapsed": false
   },
   "source": [
    "## Regressão simples - OLS ordinary least squares"
   ]
  },
  {
   "cell_type": "code",
   "execution_count": 63,
   "id": "5aaf51b7fc1f1e3a",
   "metadata": {
    "ExecuteTime": {
     "end_time": "2023-12-13T20:47:23.209099064Z",
     "start_time": "2023-12-13T20:47:22.259798764Z"
    },
    "collapsed": false
   },
   "outputs": [],
   "source": [
    "X = data['House Size (sq.ft.)']\n",
    "Y = data['House Price']"
   ]
  },
  {
   "cell_type": "code",
   "execution_count": 64,
   "id": "1d1a9474188531bd",
   "metadata": {
    "ExecuteTime": {
     "end_time": "2023-12-13T20:47:23.342201184Z",
     "start_time": "2023-12-13T20:47:22.267660502Z"
    },
    "collapsed": false
   },
   "outputs": [
    {
     "data": {
      "text/plain": [
       "0     1940\n",
       "1     1300\n",
       "2     1420\n",
       "3     1680\n",
       "4     1270\n",
       "5     1850\n",
       "6     1000\n",
       "7     1100\n",
       "8     1600\n",
       "9     1000\n",
       "10    2150\n",
       "11    1900\n",
       "12    2200\n",
       "13    1100\n",
       "14     860\n",
       "15    1325\n",
       "16    1350\n",
       "17    1600\n",
       "18     950\n",
       "19    1250\n",
       "Name: House Size (sq.ft.), dtype: int64"
      ]
     },
     "execution_count": 64,
     "metadata": {},
     "output_type": "execute_result"
    }
   ],
   "source": [
    "X"
   ]
  },
  {
   "cell_type": "code",
   "execution_count": 65,
   "id": "a9e227cde7c8753",
   "metadata": {
    "ExecuteTime": {
     "end_time": "2023-12-13T20:47:23.367556159Z",
     "start_time": "2023-12-13T20:47:22.308203879Z"
    },
    "collapsed": false
   },
   "outputs": [
    {
     "data": {
      "text/plain": [
       "0     1116000\n",
       "1      860000\n",
       "2      818400\n",
       "3     1000000\n",
       "4      640000\n",
       "5     1010000\n",
       "6      600000\n",
       "7      700000\n",
       "8     1100000\n",
       "9      570000\n",
       "10     860000\n",
       "11    1085000\n",
       "12    1250000\n",
       "13     850000\n",
       "14     640000\n",
       "15     900000\n",
       "16     730000\n",
       "17     750000\n",
       "18     650000\n",
       "19     680000\n",
       "Name: House Price, dtype: int64"
      ]
     },
     "execution_count": 65,
     "metadata": {},
     "output_type": "execute_result"
    }
   ],
   "source": [
    "Y"
   ]
  },
  {
   "cell_type": "code",
   "execution_count": 66,
   "id": "a0c50efcbcfb8852",
   "metadata": {
    "ExecuteTime": {
     "end_time": "2023-12-13T20:47:23.498263677Z",
     "start_time": "2023-12-13T20:47:22.308681445Z"
    },
    "collapsed": false
   },
   "outputs": [
    {
     "data": {
      "image/png": "[encoded data removed]",
      "text/plain": [
       "<Figure size 640x480 with 1 Axes>"
      ]
     },
     "metadata": {},
     "output_type": "display_data"
    }
   ],
   "source": [
    "sns.scatterplot(data=data, x='House Size (sq.ft.)', y='House Price')\n",
    "plt.axis([0, 2500, 0, 1500000])\n",
    "plt.show()"
   ]
  },
  {
   "cell_type": "code",
   "execution_count": 67,
   "id": "fb63013a31d73009",
   "metadata": {
    "ExecuteTime": {
     "end_time": "2023-12-13T20:47:23.503346204Z",
     "start_time": "2023-12-13T20:47:22.703065868Z"
    },
    "collapsed": false
   },
   "outputs": [],
   "source": [
    "X1 = sm.add_constant(X)\n",
    "reg = sm.OLS(Y, X1).fit()"
   ]
  },
  {
   "cell_type": "code",
   "execution_count": 68,
   "id": "1888927ac44d311c",
   "metadata": {
    "ExecuteTime": {
     "end_time": "2023-12-13T20:47:23.507677475Z",
     "start_time": "2023-12-13T20:47:22.713052853Z"
    },
    "collapsed": false
   },
   "outputs": [
    {
     "name": "stdout",
     "output_type": "stream",
     "text": [
      "                            OLS Regression Results                            \n",
      "==============================================================================\n",
      "Dep. Variable:            House Price   R-squared:                       0.678\n",
      "Model:                            OLS   Adj. R-squared:                  0.660\n",
      "Method:                 Least Squares   F-statistic:                     37.95\n",
      "Date:                Wed, 20 Dec 2023   Prob (F-statistic):           8.13e-06\n",
      "Time:                        13:37:54   Log-Likelihood:                -260.43\n",
      "No. Observations:                  20   AIC:                             524.9\n",
      "Df Residuals:                      18   BIC:                             526.8\n",
      "Df Model:                           1                                         \n",
      "Covariance Type:            nonrobust                                         \n",
      "=======================================================================================\n",
      "                          coef    std err          t      P>|t|      [0.025      0.975]\n",
      "---------------------------------------------------------------------------------------\n",
      "const                2.608e+05   9.76e+04      2.673      0.016    5.58e+04    4.66e+05\n",
      "House Size (sq.ft.)   401.9163     65.243      6.160      0.000     264.846     538.987\n",
      "==============================================================================\n",
      "Omnibus:                        1.238   Durbin-Watson:                   1.810\n",
      "Prob(Omnibus):                  0.538   Jarque-Bera (JB):                0.715\n",
      "Skew:                          -0.459   Prob(JB):                        0.699\n",
      "Kurtosis:                       2.884   Cond. No.                     5.66e+03\n",
      "==============================================================================\n",
      "\n",
      "Notes:\n",
      "[1] Standard Errors assume that the covariance matrix of the errors is correctly specified.\n",
      "[2] The condition number is large, 5.66e+03. This might indicate that there are\n",
      "strong multicollinearity or other numerical problems.\n"
     ]
    }
   ],
   "source": [
    "print(reg.summary())"
   ]
  },
  {
   "cell_type": "code",
   "execution_count": 69,
   "id": "7cdc559cf17b78cf",
   "metadata": {
    "ExecuteTime": {
     "end_time": "2023-12-13T20:47:23.517782276Z",
     "start_time": "2023-12-13T20:47:22.738389025Z"
    },
    "collapsed": false
   },
   "outputs": [],
   "source": [
    "parametros = reg.params.reset_index().rename(columns={'index':'variaveis', 0:'coeficientes'})"
   ]
  },
  {
   "cell_type": "code",
   "execution_count": 70,
   "id": "fa36d180cf2b4d21",
   "metadata": {
    "ExecuteTime": {
     "end_time": "2023-12-13T20:47:23.522037117Z",
     "start_time": "2023-12-13T20:47:22.748130208Z"
    },
    "collapsed": false
   },
   "outputs": [
    {
     "data": {
      "text/plain": [
       "662722.5223753222"
      ]
     },
     "execution_count": 70,
     "metadata": {},
     "output_type": "execute_result"
    }
   ],
   "source": [
    "# estimando o preço de uma casa com 1000 m²\n",
    "parametros['coeficientes'][1] * 1000 + parametros['coeficientes'][0]"
   ]
  },
  {
   "cell_type": "markdown",
   "id": "5c1b78fa116ff2f4",
   "metadata": {
    "collapsed": false
   },
   "source": [
    "## Parâmetros usando o scipy"
   ]
  },
  {
   "cell_type": "code",
   "execution_count": 71,
   "id": "45736769450be938",
   "metadata": {
    "ExecuteTime": {
     "end_time": "2023-12-13T20:47:23.526266195Z",
     "start_time": "2023-12-13T20:47:22.795848189Z"
    },
    "collapsed": false
   },
   "outputs": [],
   "source": [
    "slop, intercepto, r_quadrado, p_valor, std_erro = stats.linregress(X, Y)"
   ]
  },
  {
   "cell_type": "code",
   "execution_count": 72,
   "id": "da47148930d05f1a",
   "metadata": {
    "ExecuteTime": {
     "end_time": "2023-12-13T20:47:23.530289364Z",
     "start_time": "2023-12-13T20:47:22.796174109Z"
    },
    "collapsed": false
   },
   "outputs": [
    {
     "name": "stdout",
     "output_type": "stream",
     "text": [
      "Inclinação: 401.91628631922595\n",
      "Intercepto: 260806.2360560964\n",
      "R^2: 0.678279986579124\n",
      "p-valor: 8.129642377231308e-06\n",
      "Desvio padão do erro: 65.24299510636492\n"
     ]
    }
   ],
   "source": [
    "print('Inclinação:', slop)\n",
    "print('Intercepto:', intercepto)\n",
    "print('R^2:', r_quadrado**2)\n",
    "print('p-valor:', p_valor)\n",
    "print('Desvio padão do erro:', std_erro)"
   ]
  },
  {
   "cell_type": "markdown",
   "id": "a17aa67b03433972",
   "metadata": {
    "collapsed": false
   },
   "source": [
    "# Otimização de portifólio - Teoria de Markowitz"
   ]
  },
  {
   "cell_type": "markdown",
   "id": "accfa2a603237f67",
   "metadata": {
    "collapsed": false
   },
   "source": [
    "## Carregando dados"
   ]
  },
  {
   "cell_type": "code",
   "execution_count": 73,
   "id": "34c532c1f31ee44a",
   "metadata": {
    "ExecuteTime": {
     "end_time": "2023-12-13T20:50:55.072604863Z",
     "start_time": "2023-12-13T20:50:53.792238669Z"
    },
    "collapsed": false
   },
   "outputs": [
    {
     "name": "stdout",
     "output_type": "stream",
     "text": [
      "[*********************100%%**********************]  2 of 2 completed\n"
     ]
    }
   ],
   "source": [
    "assets = ['PG', '^GSPC']\n",
    "\n",
    "portifolio_data = pdr.get_data_yahoo(assets, start='2007-01-01', end=\"2022-12-31\")['Adj Close']\n",
    "portifolio_data = portifolio_data.rename(\n",
    "    columns={'PG': 'P&G',\n",
    "             '^GSPC': 'S&P500'}\n",
    ")"
   ]
  },
  {
   "cell_type": "code",
   "execution_count": 74,
   "id": "18496ba1bcb115a1",
   "metadata": {
    "ExecuteTime": {
     "end_time": "2023-12-13T20:50:55.931324900Z",
     "start_time": "2023-12-13T20:50:55.835377910Z"
    },
    "collapsed": false
   },
   "outputs": [
    {
     "data": {
      "text/html": [
       "<div>\n",
       "<style scoped>\n",
       "    .dataframe tbody tr th:only-of-type {\n",
       "        vertical-align: middle;\n",
       "    }\n",
       "\n",
       "    .dataframe tbody tr th {\n",
       "        vertical-align: top;\n",
       "    }\n",
       "\n",
       "    .dataframe thead th {\n",
       "        text-align: right;\n",
       "    }\n",
       "</style>\n",
       "<table border=\"1\" class=\"dataframe\">\n",
       "  <thead>\n",
       "    <tr style=\"text-align: right;\">\n",
       "      <th></th>\n",
       "      <th>P&amp;G</th>\n",
       "      <th>S&amp;P500</th>\n",
       "    </tr>\n",
       "    <tr>\n",
       "      <th>Date</th>\n",
       "      <th></th>\n",
       "      <th></th>\n",
       "    </tr>\n",
       "  </thead>\n",
       "  <tbody>\n",
       "    <tr>\n",
       "      <th>2022-12-23</th>\n",
       "      <td>148.841446</td>\n",
       "      <td>3844.820068</td>\n",
       "    </tr>\n",
       "    <tr>\n",
       "      <th>2022-12-27</th>\n",
       "      <td>150.138519</td>\n",
       "      <td>3829.250000</td>\n",
       "    </tr>\n",
       "    <tr>\n",
       "      <th>2022-12-28</th>\n",
       "      <td>148.197815</td>\n",
       "      <td>3783.219971</td>\n",
       "    </tr>\n",
       "    <tr>\n",
       "      <th>2022-12-29</th>\n",
       "      <td>148.812180</td>\n",
       "      <td>3849.280029</td>\n",
       "    </tr>\n",
       "    <tr>\n",
       "      <th>2022-12-30</th>\n",
       "      <td>147.807693</td>\n",
       "      <td>3839.500000</td>\n",
       "    </tr>\n",
       "  </tbody>\n",
       "</table>\n",
       "</div>"
      ],
      "text/plain": [
       "                   P&G       S&P500\n",
       "Date                               \n",
       "2022-12-23  148.841446  3844.820068\n",
       "2022-12-27  150.138519  3829.250000\n",
       "2022-12-28  148.197815  3783.219971\n",
       "2022-12-29  148.812180  3849.280029\n",
       "2022-12-30  147.807693  3839.500000"
      ]
     },
     "execution_count": 74,
     "metadata": {},
     "output_type": "execute_result"
    }
   ],
   "source": [
    "portifolio_data.tail()"
   ]
  },
  {
   "cell_type": "code",
   "execution_count": 75,
   "id": "d244285211d8b26b",
   "metadata": {
    "ExecuteTime": {
     "end_time": "2023-12-13T20:50:58.370117785Z",
     "start_time": "2023-12-13T20:50:57.966948254Z"
    },
    "collapsed": false
   },
   "outputs": [
    {
     "data": {
      "image/png": "[encoded data removed]",
      "text/plain": [
       "<Figure size 1500x600 with 1 Axes>"
      ]
     },
     "metadata": {},
     "output_type": "display_data"
    }
   ],
   "source": [
    "(100*portifolio_data/portifolio_data.iloc[0]).plot(figsize=(15, 6))\n",
    "\n",
    "plt.axvline(x=pd.to_datetime(\"2007-08-30\"), color='gray', label='crise de 2008', ls='-.')\n",
    "plt.axvline(x=pd.to_datetime(\"2011-06-01\"), color='gray', label='crise de 2011', ls='-.')\n",
    "plt.axvline(x=pd.to_datetime(\"2020-03-01\"), color='gray', label='pandemia COVID-19', ls='-.')\n",
    "plt.axvline(x=pd.to_datetime(\"2021-12-01\"), color='gray', label='Fim da bolha tech - pandemia', ls='-.')\n",
    "plt.axvline(x=pd.to_datetime(\"2022-11-01\"), color='gray', label='Chat GPT - gen IA', ls='-.')\n",
    "\n",
    "# place legend outside\n",
    "plt.legend(bbox_to_anchor=(1.0, 1), loc='best')\n",
    "plt.show()"
   ]
  },
  {
   "cell_type": "markdown",
   "id": "9b003f7ccc0b1556",
   "metadata": {
    "collapsed": false
   },
   "source": [
    "## Retornos individuais \n",
    "\n",
    "Vamos usar a série histórica para calcular os retornos individuais, e a covariância e correlação"
   ]
  },
  {
   "cell_type": "code",
   "execution_count": 76,
   "id": "8fb5cbc21cf7051a",
   "metadata": {
    "ExecuteTime": {
     "end_time": "2023-12-13T20:52:07.314355902Z",
     "start_time": "2023-12-13T20:52:07.185293903Z"
    },
    "collapsed": false
   },
   "outputs": [
    {
     "data": {
      "text/html": [
       "<div>\n",
       "<style scoped>\n",
       "    .dataframe tbody tr th:only-of-type {\n",
       "        vertical-align: middle;\n",
       "    }\n",
       "\n",
       "    .dataframe tbody tr th {\n",
       "        vertical-align: top;\n",
       "    }\n",
       "\n",
       "    .dataframe thead th {\n",
       "        text-align: right;\n",
       "    }\n",
       "</style>\n",
       "<table border=\"1\" class=\"dataframe\">\n",
       "  <thead>\n",
       "    <tr style=\"text-align: right;\">\n",
       "      <th></th>\n",
       "      <th>P&amp;G</th>\n",
       "      <th>S&amp;P500</th>\n",
       "    </tr>\n",
       "    <tr>\n",
       "      <th>Date</th>\n",
       "      <th></th>\n",
       "      <th></th>\n",
       "    </tr>\n",
       "  </thead>\n",
       "  <tbody>\n",
       "    <tr>\n",
       "      <th>2007-01-03</th>\n",
       "      <td>NaN</td>\n",
       "      <td>NaN</td>\n",
       "    </tr>\n",
       "    <tr>\n",
       "      <th>2007-01-04</th>\n",
       "      <td>-0.007621</td>\n",
       "      <td>0.001228</td>\n",
       "    </tr>\n",
       "    <tr>\n",
       "      <th>2007-01-05</th>\n",
       "      <td>-0.008624</td>\n",
       "      <td>-0.006103</td>\n",
       "    </tr>\n",
       "    <tr>\n",
       "      <th>2007-01-08</th>\n",
       "      <td>0.002202</td>\n",
       "      <td>0.002218</td>\n",
       "    </tr>\n",
       "    <tr>\n",
       "      <th>2007-01-09</th>\n",
       "      <td>-0.002517</td>\n",
       "      <td>-0.000517</td>\n",
       "    </tr>\n",
       "    <tr>\n",
       "      <th>...</th>\n",
       "      <td>...</td>\n",
       "      <td>...</td>\n",
       "    </tr>\n",
       "    <tr>\n",
       "      <th>2022-12-23</th>\n",
       "      <td>0.002821</td>\n",
       "      <td>0.005851</td>\n",
       "    </tr>\n",
       "    <tr>\n",
       "      <th>2022-12-27</th>\n",
       "      <td>0.008677</td>\n",
       "      <td>-0.004058</td>\n",
       "    </tr>\n",
       "    <tr>\n",
       "      <th>2022-12-28</th>\n",
       "      <td>-0.013010</td>\n",
       "      <td>-0.012093</td>\n",
       "    </tr>\n",
       "    <tr>\n",
       "      <th>2022-12-29</th>\n",
       "      <td>0.004137</td>\n",
       "      <td>0.017311</td>\n",
       "    </tr>\n",
       "    <tr>\n",
       "      <th>2022-12-30</th>\n",
       "      <td>-0.006773</td>\n",
       "      <td>-0.002544</td>\n",
       "    </tr>\n",
       "  </tbody>\n",
       "</table>\n",
       "<p>4028 rows × 2 columns</p>\n",
       "</div>"
      ],
      "text/plain": [
       "                 P&G    S&P500\n",
       "Date                          \n",
       "2007-01-03       NaN       NaN\n",
       "2007-01-04 -0.007621  0.001228\n",
       "2007-01-05 -0.008624 -0.006103\n",
       "2007-01-08  0.002202  0.002218\n",
       "2007-01-09 -0.002517 -0.000517\n",
       "...              ...       ...\n",
       "2022-12-23  0.002821  0.005851\n",
       "2022-12-27  0.008677 -0.004058\n",
       "2022-12-28 -0.013010 -0.012093\n",
       "2022-12-29  0.004137  0.017311\n",
       "2022-12-30 -0.006773 -0.002544\n",
       "\n",
       "[4028 rows x 2 columns]"
      ]
     },
     "execution_count": 76,
     "metadata": {},
     "output_type": "execute_result"
    }
   ],
   "source": [
    "retorno_log = np.log(portifolio_data/portifolio_data.shift(1))\n",
    "retorno_log"
   ]
  },
  {
   "cell_type": "code",
   "execution_count": 77,
   "id": "b3ca17a189600e08",
   "metadata": {
    "ExecuteTime": {
     "end_time": "2023-12-13T20:52:24.193989327Z",
     "start_time": "2023-12-13T20:52:23.880298701Z"
    },
    "collapsed": false
   },
   "outputs": [
    {
     "data": {
      "text/plain": [
       "P&G       0.081801\n",
       "S&P500    0.061900\n",
       "dtype: float64"
      ]
     },
     "execution_count": 77,
     "metadata": {},
     "output_type": "execute_result"
    }
   ],
   "source": [
    "# média de retorno anual\n",
    "retorno_log.mean() * 250"
   ]
  },
  {
   "cell_type": "code",
   "execution_count": 78,
   "id": "ac78c37ed60a2408",
   "metadata": {
    "ExecuteTime": {
     "end_time": "2023-12-13T20:52:41.885097969Z",
     "start_time": "2023-12-13T20:52:41.697721445Z"
    },
    "collapsed": false
   },
   "outputs": [
    {
     "data": {
      "text/html": [
       "<div>\n",
       "<style scoped>\n",
       "    .dataframe tbody tr th:only-of-type {\n",
       "        vertical-align: middle;\n",
       "    }\n",
       "\n",
       "    .dataframe tbody tr th {\n",
       "        vertical-align: top;\n",
       "    }\n",
       "\n",
       "    .dataframe thead th {\n",
       "        text-align: right;\n",
       "    }\n",
       "</style>\n",
       "<table border=\"1\" class=\"dataframe\">\n",
       "  <thead>\n",
       "    <tr style=\"text-align: right;\">\n",
       "      <th></th>\n",
       "      <th>P&amp;G</th>\n",
       "      <th>S&amp;P500</th>\n",
       "    </tr>\n",
       "  </thead>\n",
       "  <tbody>\n",
       "    <tr>\n",
       "      <th>P&amp;G</th>\n",
       "      <td>0.035160</td>\n",
       "      <td>0.024233</td>\n",
       "    </tr>\n",
       "    <tr>\n",
       "      <th>S&amp;P500</th>\n",
       "      <td>0.024233</td>\n",
       "      <td>0.042447</td>\n",
       "    </tr>\n",
       "  </tbody>\n",
       "</table>\n",
       "</div>"
      ],
      "text/plain": [
       "             P&G    S&P500\n",
       "P&G     0.035160  0.024233\n",
       "S&P500  0.024233  0.042447"
      ]
     },
     "execution_count": 78,
     "metadata": {},
     "output_type": "execute_result"
    }
   ],
   "source": [
    "# covariância dos ativos\n",
    "retorno_log.cov() * 250"
   ]
  },
  {
   "cell_type": "code",
   "execution_count": 79,
   "id": "862177843ffdfdef",
   "metadata": {
    "ExecuteTime": {
     "end_time": "2023-12-13T20:53:17.703320479Z",
     "start_time": "2023-12-13T20:53:17.588949625Z"
    },
    "collapsed": false
   },
   "outputs": [
    {
     "data": {
      "text/html": [
       "<div>\n",
       "<style scoped>\n",
       "    .dataframe tbody tr th:only-of-type {\n",
       "        vertical-align: middle;\n",
       "    }\n",
       "\n",
       "    .dataframe tbody tr th {\n",
       "        vertical-align: top;\n",
       "    }\n",
       "\n",
       "    .dataframe thead th {\n",
       "        text-align: right;\n",
       "    }\n",
       "</style>\n",
       "<table border=\"1\" class=\"dataframe\">\n",
       "  <thead>\n",
       "    <tr style=\"text-align: right;\">\n",
       "      <th></th>\n",
       "      <th>P&amp;G</th>\n",
       "      <th>S&amp;P500</th>\n",
       "    </tr>\n",
       "  </thead>\n",
       "  <tbody>\n",
       "    <tr>\n",
       "      <th>P&amp;G</th>\n",
       "      <td>1.000000</td>\n",
       "      <td>0.627283</td>\n",
       "    </tr>\n",
       "    <tr>\n",
       "      <th>S&amp;P500</th>\n",
       "      <td>0.627283</td>\n",
       "      <td>1.000000</td>\n",
       "    </tr>\n",
       "  </tbody>\n",
       "</table>\n",
       "</div>"
      ],
      "text/plain": [
       "             P&G    S&P500\n",
       "P&G     1.000000  0.627283\n",
       "S&P500  0.627283  1.000000"
      ]
     },
     "execution_count": 79,
     "metadata": {},
     "output_type": "execute_result"
    }
   ],
   "source": [
    "# correlação entre os ativos\n",
    "retorno_log.corr()"
   ]
  },
  {
   "cell_type": "code",
   "execution_count": 80,
   "id": "12dc5d1022b37b6",
   "metadata": {
    "ExecuteTime": {
     "end_time": "2023-12-13T20:53:50.021145552Z",
     "start_time": "2023-12-13T20:53:49.758066297Z"
    },
    "collapsed": false
   },
   "outputs": [
    {
     "data": {
      "text/plain": [
       "2"
      ]
     },
     "execution_count": 80,
     "metadata": {},
     "output_type": "execute_result"
    }
   ],
   "source": [
    "num_ativos = len(assets)\n",
    "num_ativos"
   ]
  },
  {
   "cell_type": "markdown",
   "id": "15f03baf24449b17",
   "metadata": {
    "collapsed": false
   },
   "source": [
    "## Pesos aleatórios"
   ]
  },
  {
   "cell_type": "code",
   "execution_count": 81,
   "id": "1d82e31ffcfc6706",
   "metadata": {
    "ExecuteTime": {
     "end_time": "2023-12-13T20:55:30.842863544Z",
     "start_time": "2023-12-13T20:55:30.692311123Z"
    },
    "collapsed": false
   },
   "outputs": [
    {
     "data": {
      "text/plain": [
       "array([0.98469022, 0.01530978])"
      ]
     },
     "execution_count": 81,
     "metadata": {},
     "output_type": "execute_result"
    }
   ],
   "source": [
    "pesos = np.random.random(num_ativos)\n",
    "\n",
    "#normalizar os pesos - para que a sua soma seja igual a 1 = 100%\n",
    "pesos /= np.sum(pesos)\n",
    "pesos"
   ]
  },
  {
   "cell_type": "code",
   "execution_count": 82,
   "id": "2c496829e07be6ad",
   "metadata": {
    "ExecuteTime": {
     "end_time": "2023-12-13T20:56:14.602766630Z",
     "start_time": "2023-12-13T20:56:14.273596927Z"
    },
    "collapsed": false
   },
   "outputs": [
    {
     "data": {
      "text/plain": [
       "1.0"
      ]
     },
     "execution_count": 82,
     "metadata": {},
     "output_type": "execute_result"
    }
   ],
   "source": [
    "pesos.sum()"
   ]
  },
  {
   "cell_type": "markdown",
   "id": "772b70165888cb15",
   "metadata": {
    "collapsed": false
   },
   "source": [
    "## Retorno esperados do portifólio\n",
    "### $$return = w_1 r_1 + w_2 r_2$$"
   ]
  },
  {
   "cell_type": "code",
   "execution_count": 83,
   "id": "8f00e54f03fa6eff",
   "metadata": {
    "ExecuteTime": {
     "end_time": "2023-12-13T21:00:35.717220178Z",
     "start_time": "2023-12-13T21:00:35.439152648Z"
    },
    "collapsed": false
   },
   "outputs": [
    {
     "data": {
      "text/plain": [
       "0.08149595359235813"
      ]
     },
     "execution_count": 83,
     "metadata": {},
     "output_type": "execute_result"
    }
   ],
   "source": [
    "np.sum(pesos*retorno_log.mean()) *250"
   ]
  },
  {
   "cell_type": "markdown",
   "id": "deeecc4ae035a7c",
   "metadata": {
    "collapsed": false
   },
   "source": [
    "## Variância do portifólio esperada\n",
    "### $$\\sigma^{2} = w^{T} \\cdot \\sigma \\cdot w$$"
   ]
  },
  {
   "cell_type": "code",
   "execution_count": 84,
   "id": "df366a9658d58595",
   "metadata": {
    "ExecuteTime": {
     "end_time": "2023-12-13T21:05:16.721987453Z",
     "start_time": "2023-12-13T21:05:16.629084759Z"
    },
    "collapsed": false
   },
   "outputs": [
    {
     "data": {
      "text/plain": [
       "0.03483209066690316"
      ]
     },
     "execution_count": 84,
     "metadata": {},
     "output_type": "execute_result"
    }
   ],
   "source": [
    "variancia_portifolio = np.dot(pesos.T, np.dot(retorno_log.cov() * 250, pesos))\n",
    "variancia_portifolio"
   ]
  },
  {
   "cell_type": "markdown",
   "id": "97cada94a4729062",
   "metadata": {
    "collapsed": false
   },
   "source": [
    "## Volatilidade esperada do portifólio - desvio padrão do portifólio\n",
    "### $$\\sigma = \\sqrt{\\sigma^{2}}$$"
   ]
  },
  {
   "cell_type": "code",
   "execution_count": 85,
   "id": "81ade5fabaa3f5ef",
   "metadata": {
    "ExecuteTime": {
     "end_time": "2023-12-13T21:05:47.864634237Z",
     "start_time": "2023-12-13T21:05:47.626756021Z"
    },
    "collapsed": false
   },
   "outputs": [
    {
     "data": {
      "text/plain": [
       "0.18663357325760863"
      ]
     },
     "execution_count": 85,
     "metadata": {},
     "output_type": "execute_result"
    }
   ],
   "source": [
    "volatilidade = np.sqrt(variancia_portifolio)\n",
    "volatilidade"
   ]
  },
  {
   "cell_type": "markdown",
   "id": "bd60f27c3b60bcaf",
   "metadata": {
    "collapsed": false
   },
   "source": [
    "Considerando 1000 combinações diferentes para os dois ativos - combinações dos valores dos pesos para cada ativo, podemos simular a fronteira eficiente de Markowitz."
   ]
  },
  {
   "cell_type": "code",
   "execution_count": 86,
   "id": "a7858d00bb9425dd",
   "metadata": {
    "ExecuteTime": {
     "end_time": "2023-12-13T21:10:31.274700169Z",
     "start_time": "2023-12-13T21:10:30.397491494Z"
    },
    "collapsed": false
   },
   "outputs": [],
   "source": [
    "retorno_portifolio = []\n",
    "volatilidade_portifolio = []\n",
    "\n",
    "for x in range(1000):\n",
    "    pesos = np.random.random(num_ativos)\n",
    "    pesos /= np.sum(pesos)\n",
    "    retorno_portifolio.append(np.sum(pesos*retorno_log.mean()) *250)\n",
    "    \n",
    "    variancia_portifolio = np.dot(pesos.T, np.dot(retorno_log.cov() * 250, pesos))\n",
    "    volatilidade_portifolio.append(np.sqrt(variancia_portifolio))"
   ]
  },
  {
   "cell_type": "code",
   "execution_count": 87,
   "id": "5ae26343c4f83125",
   "metadata": {
    "ExecuteTime": {
     "end_time": "2023-12-13T21:35:13.673655048Z",
     "start_time": "2023-12-13T21:35:13.532221318Z"
    },
    "collapsed": false
   },
   "outputs": [],
   "source": [
    "portifolio = pd.DataFrame(\n",
    "    {'retorno': retorno_portifolio,\n",
    "     'volatilidade':volatilidade_portifolio})"
   ]
  },
  {
   "cell_type": "code",
   "execution_count": 88,
   "id": "b7faec3344add704",
   "metadata": {
    "ExecuteTime": {
     "end_time": "2023-12-13T21:35:18.148054583Z",
     "start_time": "2023-12-13T21:35:17.961014746Z"
    },
    "collapsed": false
   },
   "outputs": [
    {
     "data": {
      "text/html": [
       "<div>\n",
       "<style scoped>\n",
       "    .dataframe tbody tr th:only-of-type {\n",
       "        vertical-align: middle;\n",
       "    }\n",
       "\n",
       "    .dataframe tbody tr th {\n",
       "        vertical-align: top;\n",
       "    }\n",
       "\n",
       "    .dataframe thead th {\n",
       "        text-align: right;\n",
       "    }\n",
       "</style>\n",
       "<table border=\"1\" class=\"dataframe\">\n",
       "  <thead>\n",
       "    <tr style=\"text-align: right;\">\n",
       "      <th></th>\n",
       "      <th>retorno</th>\n",
       "      <th>volatilidade</th>\n",
       "    </tr>\n",
       "  </thead>\n",
       "  <tbody>\n",
       "    <tr>\n",
       "      <th>0</th>\n",
       "      <td>0.071112</td>\n",
       "      <td>0.178406</td>\n",
       "    </tr>\n",
       "    <tr>\n",
       "      <th>1</th>\n",
       "      <td>0.063593</td>\n",
       "      <td>0.198894</td>\n",
       "    </tr>\n",
       "    <tr>\n",
       "      <th>2</th>\n",
       "      <td>0.063170</td>\n",
       "      <td>0.200599</td>\n",
       "    </tr>\n",
       "    <tr>\n",
       "      <th>3</th>\n",
       "      <td>0.064883</td>\n",
       "      <td>0.194014</td>\n",
       "    </tr>\n",
       "    <tr>\n",
       "      <th>4</th>\n",
       "      <td>0.064591</td>\n",
       "      <td>0.195073</td>\n",
       "    </tr>\n",
       "    <tr>\n",
       "      <th>...</th>\n",
       "      <td>...</td>\n",
       "      <td>...</td>\n",
       "    </tr>\n",
       "    <tr>\n",
       "      <th>995</th>\n",
       "      <td>0.072569</td>\n",
       "      <td>0.176899</td>\n",
       "    </tr>\n",
       "    <tr>\n",
       "      <th>996</th>\n",
       "      <td>0.075847</td>\n",
       "      <td>0.176720</td>\n",
       "    </tr>\n",
       "    <tr>\n",
       "      <th>997</th>\n",
       "      <td>0.068146</td>\n",
       "      <td>0.184077</td>\n",
       "    </tr>\n",
       "    <tr>\n",
       "      <th>998</th>\n",
       "      <td>0.068690</td>\n",
       "      <td>0.182785</td>\n",
       "    </tr>\n",
       "    <tr>\n",
       "      <th>999</th>\n",
       "      <td>0.064030</td>\n",
       "      <td>0.197183</td>\n",
       "    </tr>\n",
       "  </tbody>\n",
       "</table>\n",
       "<p>1000 rows × 2 columns</p>\n",
       "</div>"
      ],
      "text/plain": [
       "      retorno  volatilidade\n",
       "0    0.071112      0.178406\n",
       "1    0.063593      0.198894\n",
       "2    0.063170      0.200599\n",
       "3    0.064883      0.194014\n",
       "4    0.064591      0.195073\n",
       "..        ...           ...\n",
       "995  0.072569      0.176899\n",
       "996  0.075847      0.176720\n",
       "997  0.068146      0.184077\n",
       "998  0.068690      0.182785\n",
       "999  0.064030      0.197183\n",
       "\n",
       "[1000 rows x 2 columns]"
      ]
     },
     "execution_count": 88,
     "metadata": {},
     "output_type": "execute_result"
    }
   ],
   "source": [
    "portifolio"
   ]
  },
  {
   "cell_type": "code",
   "execution_count": 89,
   "id": "23955242e3108e93",
   "metadata": {
    "ExecuteTime": {
     "end_time": "2023-12-13T21:44:49.228092527Z",
     "start_time": "2023-12-13T21:44:48.959320490Z"
    },
    "collapsed": false
   },
   "outputs": [
    {
     "data": {
      "image/png": "[encoded data removed]",
      "text/plain": [
       "<Figure size 1500x600 with 1 Axes>"
      ]
     },
     "metadata": {},
     "output_type": "display_data"
    }
   ],
   "source": [
    "portifolio.plot(x='volatilidade', y='retorno', kind='scatter', figsize=(15, 6))\n",
    "plt.title('Fronteira eficiente - modelo Markowitz')\n",
    "plt.grid()\n",
    "plt.show()"
   ]
  },
  {
   "cell_type": "markdown",
   "id": "3cbfbec6-cd04-42d7-87c9-9bf20582a730",
   "metadata": {
    "collapsed": false
   },
   "source": [
    "# Modelo de precificação de ativos financeiros"
   ]
  },
  {
   "cell_type": "markdown",
   "id": "c0b0ec3e-350a-4bc6-9c04-ff4b96839069",
   "metadata": {},
   "source": [
    "## Calculando o beta de uma ação\n",
    "\n",
    "Medido com dados dos ultimo 5 anos. Mede a quantidade inerente de risco de um ativo em relação a uma índice de mercado.\n",
    "\n",
    "### $$\\beta= \\frac{cov(stock, market)}{var(market)}$$"
   ]
  },
  {
   "cell_type": "code",
   "execution_count": 121,
   "id": "5256b496-5d18-43ff-aaae-e67b31ec1a5a",
   "metadata": {},
   "outputs": [
    {
     "name": "stdout",
     "output_type": "stream",
     "text": [
      "[*********************100%%**********************]  2 of 2 completed\n"
     ]
    }
   ],
   "source": [
    "assets = ['PG', '^GSPC']\n",
    "\n",
    "portifolio_data = pdr.get_data_yahoo(assets, start=end - timedelta(days=5*250), end=end)['Adj Close']\n",
    "portifolio_data = portifolio_data.rename(\n",
    "    columns={'PG': 'P&G',\n",
    "             '^GSPC': 'S&P500'}\n",
    ")"
   ]
  },
  {
   "cell_type": "code",
   "execution_count": 122,
   "id": "a90cccd7-5dd6-44b3-8dbb-674236aadf70",
   "metadata": {},
   "outputs": [
    {
     "data": {
      "text/html": [
       "<div>\n",
       "<style scoped>\n",
       "    .dataframe tbody tr th:only-of-type {\n",
       "        vertical-align: middle;\n",
       "    }\n",
       "\n",
       "    .dataframe tbody tr th {\n",
       "        vertical-align: top;\n",
       "    }\n",
       "\n",
       "    .dataframe thead th {\n",
       "        text-align: right;\n",
       "    }\n",
       "</style>\n",
       "<table border=\"1\" class=\"dataframe\">\n",
       "  <thead>\n",
       "    <tr style=\"text-align: right;\">\n",
       "      <th></th>\n",
       "      <th>P&amp;G</th>\n",
       "      <th>S&amp;P500</th>\n",
       "    </tr>\n",
       "    <tr>\n",
       "      <th>Date</th>\n",
       "      <th></th>\n",
       "      <th></th>\n",
       "    </tr>\n",
       "  </thead>\n",
       "  <tbody>\n",
       "    <tr>\n",
       "      <th>2020-07-20</th>\n",
       "      <td>114.889565</td>\n",
       "      <td>3251.840088</td>\n",
       "    </tr>\n",
       "    <tr>\n",
       "      <th>2020-07-21</th>\n",
       "      <td>114.733620</td>\n",
       "      <td>3257.300049</td>\n",
       "    </tr>\n",
       "    <tr>\n",
       "      <th>2020-07-22</th>\n",
       "      <td>115.715202</td>\n",
       "      <td>3276.020020</td>\n",
       "    </tr>\n",
       "    <tr>\n",
       "      <th>2020-07-23</th>\n",
       "      <td>116.463860</td>\n",
       "      <td>3235.659912</td>\n",
       "    </tr>\n",
       "    <tr>\n",
       "      <th>2020-07-24</th>\n",
       "      <td>116.279243</td>\n",
       "      <td>3215.629883</td>\n",
       "    </tr>\n",
       "    <tr>\n",
       "      <th>...</th>\n",
       "      <td>...</td>\n",
       "      <td>...</td>\n",
       "    </tr>\n",
       "    <tr>\n",
       "      <th>2023-12-14</th>\n",
       "      <td>144.660004</td>\n",
       "      <td>4719.549805</td>\n",
       "    </tr>\n",
       "    <tr>\n",
       "      <th>2023-12-15</th>\n",
       "      <td>143.960007</td>\n",
       "      <td>4719.189941</td>\n",
       "    </tr>\n",
       "    <tr>\n",
       "      <th>2023-12-18</th>\n",
       "      <td>146.169998</td>\n",
       "      <td>4740.560059</td>\n",
       "    </tr>\n",
       "    <tr>\n",
       "      <th>2023-12-19</th>\n",
       "      <td>146.169998</td>\n",
       "      <td>4768.370117</td>\n",
       "    </tr>\n",
       "    <tr>\n",
       "      <th>2023-12-20</th>\n",
       "      <td>145.104996</td>\n",
       "      <td>4773.330078</td>\n",
       "    </tr>\n",
       "  </tbody>\n",
       "</table>\n",
       "<p>863 rows × 2 columns</p>\n",
       "</div>"
      ],
      "text/plain": [
       "                   P&G       S&P500\n",
       "Date                               \n",
       "2020-07-20  114.889565  3251.840088\n",
       "2020-07-21  114.733620  3257.300049\n",
       "2020-07-22  115.715202  3276.020020\n",
       "2020-07-23  116.463860  3235.659912\n",
       "2020-07-24  116.279243  3215.629883\n",
       "...                ...          ...\n",
       "2023-12-14  144.660004  4719.549805\n",
       "2023-12-15  143.960007  4719.189941\n",
       "2023-12-18  146.169998  4740.560059\n",
       "2023-12-19  146.169998  4768.370117\n",
       "2023-12-20  145.104996  4773.330078\n",
       "\n",
       "[863 rows x 2 columns]"
      ]
     },
     "execution_count": 122,
     "metadata": {},
     "output_type": "execute_result"
    }
   ],
   "source": [
    "portifolio_data"
   ]
  },
  {
   "cell_type": "code",
   "execution_count": 123,
   "id": "d0528f06-0241-48ce-8a8b-710ddf55c8aa",
   "metadata": {},
   "outputs": [],
   "source": [
    "sec_returns = np.log(portifolio_data/portifolio_data.shift(1))"
   ]
  },
  {
   "cell_type": "code",
   "execution_count": 124,
   "id": "860bee1f-8231-4d28-859c-712f99c8990b",
   "metadata": {},
   "outputs": [
    {
     "data": {
      "text/html": [
       "<div>\n",
       "<style scoped>\n",
       "    .dataframe tbody tr th:only-of-type {\n",
       "        vertical-align: middle;\n",
       "    }\n",
       "\n",
       "    .dataframe tbody tr th {\n",
       "        vertical-align: top;\n",
       "    }\n",
       "\n",
       "    .dataframe thead th {\n",
       "        text-align: right;\n",
       "    }\n",
       "</style>\n",
       "<table border=\"1\" class=\"dataframe\">\n",
       "  <thead>\n",
       "    <tr style=\"text-align: right;\">\n",
       "      <th></th>\n",
       "      <th>P&amp;G</th>\n",
       "      <th>S&amp;P500</th>\n",
       "    </tr>\n",
       "    <tr>\n",
       "      <th>Date</th>\n",
       "      <th></th>\n",
       "      <th></th>\n",
       "    </tr>\n",
       "  </thead>\n",
       "  <tbody>\n",
       "    <tr>\n",
       "      <th>2020-07-20</th>\n",
       "      <td>NaN</td>\n",
       "      <td>NaN</td>\n",
       "    </tr>\n",
       "    <tr>\n",
       "      <th>2020-07-21</th>\n",
       "      <td>-0.001358</td>\n",
       "      <td>0.001678</td>\n",
       "    </tr>\n",
       "    <tr>\n",
       "      <th>2020-07-22</th>\n",
       "      <td>0.008519</td>\n",
       "      <td>0.005731</td>\n",
       "    </tr>\n",
       "    <tr>\n",
       "      <th>2020-07-23</th>\n",
       "      <td>0.006449</td>\n",
       "      <td>-0.012396</td>\n",
       "    </tr>\n",
       "    <tr>\n",
       "      <th>2020-07-24</th>\n",
       "      <td>-0.001586</td>\n",
       "      <td>-0.006210</td>\n",
       "    </tr>\n",
       "    <tr>\n",
       "      <th>...</th>\n",
       "      <td>...</td>\n",
       "      <td>...</td>\n",
       "    </tr>\n",
       "    <tr>\n",
       "      <th>2023-12-14</th>\n",
       "      <td>-0.026737</td>\n",
       "      <td>0.002644</td>\n",
       "    </tr>\n",
       "    <tr>\n",
       "      <th>2023-12-15</th>\n",
       "      <td>-0.004851</td>\n",
       "      <td>-0.000076</td>\n",
       "    </tr>\n",
       "    <tr>\n",
       "      <th>2023-12-18</th>\n",
       "      <td>0.015235</td>\n",
       "      <td>0.004518</td>\n",
       "    </tr>\n",
       "    <tr>\n",
       "      <th>2023-12-19</th>\n",
       "      <td>0.000000</td>\n",
       "      <td>0.005849</td>\n",
       "    </tr>\n",
       "    <tr>\n",
       "      <th>2023-12-20</th>\n",
       "      <td>-0.007313</td>\n",
       "      <td>0.001040</td>\n",
       "    </tr>\n",
       "  </tbody>\n",
       "</table>\n",
       "<p>863 rows × 2 columns</p>\n",
       "</div>"
      ],
      "text/plain": [
       "                 P&G    S&P500\n",
       "Date                          \n",
       "2020-07-20       NaN       NaN\n",
       "2020-07-21 -0.001358  0.001678\n",
       "2020-07-22  0.008519  0.005731\n",
       "2020-07-23  0.006449 -0.012396\n",
       "2020-07-24 -0.001586 -0.006210\n",
       "...              ...       ...\n",
       "2023-12-14 -0.026737  0.002644\n",
       "2023-12-15 -0.004851 -0.000076\n",
       "2023-12-18  0.015235  0.004518\n",
       "2023-12-19  0.000000  0.005849\n",
       "2023-12-20 -0.007313  0.001040\n",
       "\n",
       "[863 rows x 2 columns]"
      ]
     },
     "execution_count": 124,
     "metadata": {},
     "output_type": "execute_result"
    }
   ],
   "source": [
    "sec_returns"
   ]
  },
  {
   "cell_type": "code",
   "execution_count": 125,
   "id": "eef7a505-857c-40d7-9d88-4bd6fda5a863",
   "metadata": {},
   "outputs": [
    {
     "data": {
      "text/html": [
       "<div>\n",
       "<style scoped>\n",
       "    .dataframe tbody tr th:only-of-type {\n",
       "        vertical-align: middle;\n",
       "    }\n",
       "\n",
       "    .dataframe tbody tr th {\n",
       "        vertical-align: top;\n",
       "    }\n",
       "\n",
       "    .dataframe thead th {\n",
       "        text-align: right;\n",
       "    }\n",
       "</style>\n",
       "<table border=\"1\" class=\"dataframe\">\n",
       "  <thead>\n",
       "    <tr style=\"text-align: right;\">\n",
       "      <th></th>\n",
       "      <th>P&amp;G</th>\n",
       "      <th>S&amp;P500</th>\n",
       "    </tr>\n",
       "  </thead>\n",
       "  <tbody>\n",
       "    <tr>\n",
       "      <th>P&amp;G</th>\n",
       "      <td>0.029265</td>\n",
       "      <td>0.013443</td>\n",
       "    </tr>\n",
       "    <tr>\n",
       "      <th>S&amp;P500</th>\n",
       "      <td>0.013443</td>\n",
       "      <td>0.030561</td>\n",
       "    </tr>\n",
       "  </tbody>\n",
       "</table>\n",
       "</div>"
      ],
      "text/plain": [
       "             P&G    S&P500\n",
       "P&G     0.029265  0.013443\n",
       "S&P500  0.013443  0.030561"
      ]
     },
     "execution_count": 125,
     "metadata": {},
     "output_type": "execute_result"
    }
   ],
   "source": [
    "cov = sec_returns.cov() * 250\n",
    "cov"
   ]
  },
  {
   "cell_type": "code",
   "execution_count": 126,
   "id": "f15485e5-4c92-4648-a0cb-e796fc931368",
   "metadata": {},
   "outputs": [],
   "source": [
    "cov_with_market = cov.iloc[0, 1]"
   ]
  },
  {
   "cell_type": "code",
   "execution_count": 127,
   "id": "deca5856-8181-4188-ad0f-514a977efcd3",
   "metadata": {},
   "outputs": [
    {
     "data": {
      "text/plain": [
       "0.03056105839350989"
      ]
     },
     "execution_count": 127,
     "metadata": {},
     "output_type": "execute_result"
    }
   ],
   "source": [
    "market_var = sec_returns['S&P500'].var() * 250\n",
    "market_var"
   ]
  },
  {
   "cell_type": "code",
   "execution_count": 128,
   "id": "b77d8c1c-1fc9-48a8-a035-820b75158d15",
   "metadata": {},
   "outputs": [
    {
     "data": {
      "text/plain": [
       "0.4398894665445583"
      ]
     },
     "execution_count": 128,
     "metadata": {},
     "output_type": "execute_result"
    }
   ],
   "source": [
    "# Ação defensiva\n",
    "beta = cov_with_market/market_var\n",
    "beta"
   ]
  },
  {
   "cell_type": "markdown",
   "id": "28d32318-e3cb-4a38-83ef-44a8b9d58ce0",
   "metadata": {},
   "source": [
    "## Modelo CAPM\n",
    "### $$r_{i} = r_{f}+ \\beta_{im}(r_{m}-r_{f})$$\n",
    "\n",
    "- $r_{i}$ - taxa de retorno esperado do ativo.\n",
    "- $r_{f}$ - retorno livre de risco - taxa mínima de rico necessária para o investidor comprar um ativo.\n",
    "- $\\beta_{im}$ - coeficiente beta entre o ativo e o índice de mercado.\n",
    "- $r_{m}$ - retorno do mercado.\n",
    "- $(r_{m}-r_{f})$ - é o prêmio do capital, ou prêmio de risco das ações."
   ]
  },
  {
   "cell_type": "code",
   "execution_count": 129,
   "id": "ba075aa1-3b16-4246-8aca-7a28728472d8",
   "metadata": {},
   "outputs": [
    {
     "data": {
      "text/plain": [
       "0.04699447332722792"
      ]
     },
     "execution_count": 129,
     "metadata": {},
     "output_type": "execute_result"
    }
   ],
   "source": [
    "PG_er = 0.025 + beta*0.05\n",
    "PG_er"
   ]
  },
  {
   "cell_type": "markdown",
   "id": "f2b7386b-6e64-4e66-b8bb-ef27179c7559",
   "metadata": {},
   "source": [
    "## Índice de Sharpe \n",
    "### $$\\text{Razão Sharp} = \\frac{r_{i}-r_{f}}{\\sigma_{i}}$$\n"
   ]
  },
  {
   "cell_type": "code",
   "execution_count": 130,
   "id": "d0f6e855-8642-41cf-a0d6-0a981dde43fe",
   "metadata": {},
   "outputs": [
    {
     "data": {
      "text/plain": [
       "0.12857003678054796"
      ]
     },
     "execution_count": 130,
     "metadata": {},
     "output_type": "execute_result"
    }
   ],
   "source": [
    "sharp_pg = (PG_er - 0.025)/(sec_returns['P&G'].std()*250**0.5)\n",
    "sharp_pg"
   ]
  },
  {
   "cell_type": "markdown",
   "id": "41f92345-38cb-49c9-946a-c6eb67b8f41d",
   "metadata": {},
   "source": [
    "## O Coeficiente $\\alpha$\n",
    "\n",
    "O intercepto no modelo CAPM é o parâmetro $\\alpha$, que fornece uma medida de quão bom ou ruim é o desempenho de uma gestor de investimentos.\n",
    "\n",
    "### $$r_{i} = \\alpha + r_{f}+ \\beta_{im}(r_{m}-r_{f})$$"
   ]
  },
  {
   "cell_type": "code",
   "execution_count": null,
   "id": "2998292c-5796-4851-b84c-a6635e2dd7ac",
   "metadata": {},
   "outputs": [],
   "source": []
  }
 ],
 "metadata": {
  "kernelspec": {
   "display_name": "Python 3 (ipykernel)",
   "language": "python",
   "name": "python3"
  },
  "language_info": {
   "codemirror_mode": {
    "name": "ipython",
    "version": 3
   },
   "file_extension": ".py",
   "mimetype": "text/x-python",
   "name": "python",
   "nbconvert_exporter": "python",
   "pygments_lexer": "ipython3",
   "version": "3.8.10"
  }
 },
 "nbformat": 4,
 "nbformat_minor": 5
}
