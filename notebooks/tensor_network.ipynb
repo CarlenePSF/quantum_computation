{
 "cells": [
  {
   "cell_type": "markdown",
   "id": "2bc97263-7884-46e2-b745-d53dbe2edd07",
   "metadata": {},
   "source": [
    "# Tensor network tutorial"
   ]
  },
  {
   "cell_type": "code",
   "id": "c3de4daf-478e-46da-9670-a98316b259c7",
   "metadata": {
    "ExecuteTime": {
     "end_time": "2024-05-29T18:27:34.977788Z",
     "start_time": "2024-05-29T18:27:34.650259Z"
    }
   },
   "source": [
    "import numpy as np\n",
    "import  datetime"
   ],
   "outputs": [],
   "execution_count": 1
  },
  {
   "metadata": {
    "ExecuteTime": {
     "end_time": "2024-05-29T18:34:56.908197Z",
     "start_time": "2024-05-29T18:34:56.903131Z"
    }
   },
   "cell_type": "code",
   "source": "datetime.datetime.now()+datetime.timedelta(days=100)",
   "id": "dac548b776a45ec7",
   "outputs": [
    {
     "data": {
      "text/plain": [
       "datetime.datetime(2024, 9, 6, 15, 34, 56, 904562)"
      ]
     },
     "execution_count": 4,
     "metadata": {},
     "output_type": "execute_result"
    }
   ],
   "execution_count": 4
  },
  {
   "metadata": {},
   "cell_type": "code",
   "outputs": [],
   "execution_count": null,
   "source": "",
   "id": "4336b4c8f1803ea3"
  },
  {
   "cell_type": "markdown",
   "id": "3c4d3d50-8a5e-45a2-bf66-0edff05396d3",
   "metadata": {},
   "source": [
    "\n",
    "# T1.1: Diagrammatic notation"
   ]
  },
  {
   "cell_type": "code",
   "id": "8ac44e9b-47cd-446e-b453-bc22b8d9ab2e",
   "metadata": {
    "ExecuteTime": {
     "end_time": "2024-05-28T13:32:52.782373Z",
     "start_time": "2024-05-28T13:32:52.777515Z"
    }
   },
   "source": [
    "# Let's initialize some tensors in Python/Numpy\n",
    "\n",
    "# vetor linha\n",
    "v1 = np.random.rand(1, 2)\n",
    "\n",
    "#vetor coluna\n",
    "v2 = np.random.rand(2, 1)\n",
    "\n",
    "# identity matrix, order 2, dims: 5-by-5 \n",
    "identity_in_5_order = np.eye(5, 5)\n",
    "\n",
    "# tensor of 1's, order 4, dims: 2-by-4-by-2-by-4\n",
    "ones_in_4_order = np.ones((2, 4, 2, 4))\n",
    "\n",
    "# matrix of 0's, order 2, dims: 3-by-5\n",
    "zeroes_2_order = np.zeros((3, 5))\n",
    "\n",
    "# initialize complex random tensor\n",
    "complex_tensor = np.random.rand(2, 3, 4) + 1j*np.random.rand(2, 3, 4)"
   ],
   "outputs": [],
   "execution_count": 2
  },
  {
   "cell_type": "code",
   "execution_count": 3,
   "id": "33ed8795-74b0-405a-a37d-f792308752a7",
   "metadata": {},
   "outputs": [
    {
     "data": {
      "text/plain": [
       "(array([[0.14237081, 0.14627598]]), 0.14237080694844984, 0.14627598036930545)"
      ]
     },
     "execution_count": 3,
     "metadata": {},
     "output_type": "execute_result"
    }
   ],
   "source": [
    "v1, v1[0][0], v1[0][1]"
   ]
  },
  {
   "cell_type": "code",
   "execution_count": 4,
   "id": "7de0c222-ca70-4987-93d4-1372797f81ac",
   "metadata": {},
   "outputs": [
    {
     "data": {
      "text/plain": [
       "(array([[0.76228925],\n",
       "        [0.56540378]]),\n",
       " 0.7622892450752663,\n",
       " 0.5654037776628551)"
      ]
     },
     "execution_count": 4,
     "metadata": {},
     "output_type": "execute_result"
    }
   ],
   "source": [
    "v2, v2[0][0], v2[1][0]"
   ]
  },
  {
   "cell_type": "code",
   "execution_count": 5,
   "id": "ed6580fd-5d0d-4cf8-bace-d01fd663f5f8",
   "metadata": {},
   "outputs": [],
   "source": [
    "A = np.array([[1, 0],\n",
    "              [0, 1]])\n",
    "\n",
    "B= np.array([[1, 0],\n",
    "              [0, -1]])\n",
    "\n",
    "np.dot(A,B)"
   ]
  },
  {
   "cell_type": "markdown",
   "id": "c6d01cf2-9284-4728-abd4-1a0804caf960",
   "metadata": {},
   "source": [
    "## T1.1.1: simple contraction of index"
   ]
  },
  {
   "cell_type": "code",
   "execution_count": 29,
   "id": "4b6a592f-367d-4f48-a6a2-f2126523aceb",
   "metadata": {},
   "outputs": [
    {
     "name": "stdout",
     "output_type": "stream",
     "text": [
      "Forma do tensor B: (3, 3, 6)\n",
      "Forma do tensor C: (6, 5, 3)\n",
      "Forma do resultado B @ C: (3, 3, 5, 3)\n",
      "Forma do tensor A: (3, 4, 5)\n",
      "Forma do resultado B @ C: (3, 3, 5, 3)\n",
      "Forma do resultado A@ B @ C: (3, 4, 3)\n"
     ]
    }
   ],
   "source": [
    "# Fixar a semente para o gerador de números aleatórios\n",
    "np.random.seed(42)\n",
    "\n",
    "# Criar tensores aleatórios\n",
    "A = np.random.rand(3, 4, 5)\n",
    "B = np.random.rand(3, 3, 6)\n",
    "C = np.random.rand(6, 5, 3)\n",
    "\n",
    "# Usando np.einsum para a mesma operação\n",
    "result = np.einsum('iln,nmk -> ilmk', B, C)\n",
    "\n",
    "print(\"Forma do tensor B:\", B.shape) \n",
    "print(\"Forma do tensor C:\", C.shape)  \n",
    "print(\"Forma do resultado B @ C:\", result.shape)  \n",
    "\n",
    "result2 = np.einsum('ljm,ilmk -> ijk',A, result) \n",
    "\n",
    "print(\"Forma do tensor A:\", A.shape)  \n",
    "print(\"Forma do resultado B @ C:\", result.shape)  \n",
    "print(\"Forma do resultado A@ B @ C:\", result2.shape)  "
   ]
  },
  {
   "cell_type": "markdown",
   "id": "cd397e1f-9fa1-4fb0-aaa1-d9faaf1bd68b",
   "metadata": {},
   "source": [
    "# T1.2: Permute and reshape operations"
   ]
  },
  {
   "cell_type": "code",
   "execution_count": 42,
   "id": "790a36f3-0e47-4a86-95a3-d65fcff9ca72",
   "metadata": {},
   "outputs": [],
   "source": [
    "##### Ex.1.2(a): Transpose\n",
    "# argumento são as dimensões do tensor\n",
    "A = np.random.rand(2, 4, 3)\n",
    "\n",
    "# argumento é como queremos permutar os indices\n",
    "Atilda = A.transpose(1, 2, 0)"
   ]
  },
  {
   "cell_type": "code",
   "execution_count": 43,
   "id": "7ba980de-2b82-4f31-9285-c9562008384d",
   "metadata": {},
   "outputs": [
    {
     "data": {
      "text/plain": [
       "((2, 4, 3), (4, 3, 2))"
      ]
     },
     "execution_count": 43,
     "metadata": {},
     "output_type": "execute_result"
    }
   ],
   "source": [
    "A.shape, Atilda.shape"
   ]
  },
  {
   "cell_type": "code",
   "execution_count": 44,
   "id": "52bfb2ca-7d57-4846-a22d-9cf030cd6adf",
   "metadata": {},
   "outputs": [
    {
     "data": {
      "text/plain": [
       "array([[[0.99663684, 0.55543171, 0.76898742],\n",
       "        [0.94476573, 0.84964739, 0.2473481 ],\n",
       "        [0.45054414, 0.12915942, 0.95405103],\n",
       "        [0.60617463, 0.22864281, 0.67170068]],\n",
       "\n",
       "       [[0.61812824, 0.35816272, 0.11355759],\n",
       "        [0.6715732 , 0.5203077 , 0.77231839],\n",
       "        [0.5201635 , 0.8521815 , 0.55190684],\n",
       "        [0.56093797, 0.8766536 , 0.40348287]]])"
      ]
     },
     "execution_count": 44,
     "metadata": {},
     "output_type": "execute_result"
    }
   ],
   "source": [
    "A"
   ]
  },
  {
   "cell_type": "code",
   "execution_count": 45,
   "id": "99f38115-9a88-4955-9f09-f85c79bd5efd",
   "metadata": {},
   "outputs": [
    {
     "data": {
      "text/plain": [
       "array([[[0.99663684, 0.61812824],\n",
       "        [0.55543171, 0.35816272],\n",
       "        [0.76898742, 0.11355759]],\n",
       "\n",
       "       [[0.94476573, 0.6715732 ],\n",
       "        [0.84964739, 0.5203077 ],\n",
       "        [0.2473481 , 0.77231839]],\n",
       "\n",
       "       [[0.45054414, 0.5201635 ],\n",
       "        [0.12915942, 0.8521815 ],\n",
       "        [0.95405103, 0.55190684]],\n",
       "\n",
       "       [[0.60617463, 0.56093797],\n",
       "        [0.22864281, 0.8766536 ],\n",
       "        [0.67170068, 0.40348287]]])"
      ]
     },
     "execution_count": 45,
     "metadata": {},
     "output_type": "execute_result"
    }
   ],
   "source": [
    "Atilda"
   ]
  },
  {
   "cell_type": "code",
   "execution_count": 46,
   "id": "37b82b4d-ec64-4a45-b9db-7ee1674f67a3",
   "metadata": {},
   "outputs": [],
   "source": [
    "##### Ex.1.2(a): Transpose\n",
    "# argumento são as dimensões do tensor\n",
    "A = np.random.rand(2, 4, 3, 2)\n",
    "\n",
    "# argumento é como queremos permutar os indices\n",
    "Atilda = A.transpose(3, 0, 1, 2)\n",
    "\n",
    "result2 = np.einsum('jklm, mjkl', A, Atilda) \n",
    "result3 = np.einsum('jklm, jmkl', A, Atilda) \n",
    "result2, result3"
   ]
  },
  {
   "cell_type": "code",
   "execution_count": 49,
   "id": "5b73b781-b458-4a6c-98a5-6c0576781499",
   "metadata": {},
   "outputs": [
    {
     "data": {
      "text/plain": [
       "((2, 4, 3, 2), (2, 2, 4, 3))"
      ]
     },
     "execution_count": 49,
     "metadata": {},
     "output_type": "execute_result"
    }
   ],
   "source": [
    "A.shape, Atilda.shape"
   ]
  },
  {
   "cell_type": "code",
   "execution_count": 58,
   "id": "a82b056c-623a-4f62-a327-2d77c4ef05d3",
   "metadata": {},
   "outputs": [],
   "source": [
    "# Ex.1.2(b):Reshape\n",
    "B = np.random.rand(4,4,4)\n",
    "Btilda = B.reshape(4, 4**2)"
   ]
  },
  {
   "cell_type": "code",
   "execution_count": 62,
   "id": "11739a05-03ca-4776-8ec7-693da2d8c303",
   "metadata": {},
   "outputs": [
    {
     "data": {
      "text/plain": [
       "((4, 4, 4), (4, 16))"
      ]
     },
     "execution_count": 62,
     "metadata": {},
     "output_type": "execute_result"
    }
   ],
   "source": [
    "B.shape, Btilda.shape"
   ]
  },
  {
   "cell_type": "code",
   "execution_count": 63,
   "id": "21a03e6a-f87b-456b-8cd2-5d212f6a940a",
   "metadata": {},
   "outputs": [
    {
     "data": {
      "text/plain": [
       "array([[[0.12063587, 0.46077877, 0.20633372, 0.36426986],\n",
       "        [0.50341727, 0.69039483, 0.03931214, 0.7994104 ],\n",
       "        [0.62790039, 0.08175903, 0.87357862, 0.9208724 ],\n",
       "        [0.06107796, 0.27687765, 0.80620128, 0.74825969]],\n",
       "\n",
       "       [[0.18452102, 0.20934932, 0.3704721 , 0.48452299],\n",
       "        [0.61825477, 0.36891364, 0.46253472, 0.74747094],\n",
       "        [0.0366832 , 0.25243694, 0.71334959, 0.89520684],\n",
       "        [0.51167744, 0.53211349, 0.10717201, 0.44741237]],\n",
       "\n",
       "       [[0.53261727, 0.2424705 , 0.26924323, 0.37728416],\n",
       "        [0.0200712 , 0.32207917, 0.21144801, 0.32749735],\n",
       "        [0.11976213, 0.89052728, 0.59359245, 0.67910232],\n",
       "        [0.78917124, 0.4984422 , 0.08692029, 0.53710654]],\n",
       "\n",
       "       [[0.58684112, 0.74543947, 0.43165955, 0.1275803 ],\n",
       "        [0.28377591, 0.3630823 , 0.64591724, 0.5707783 ],\n",
       "        [0.35609673, 0.98651525, 0.60577482, 0.23722679],\n",
       "        [0.10178247, 0.15285914, 0.24595773, 0.16068137]]])"
      ]
     },
     "execution_count": 63,
     "metadata": {},
     "output_type": "execute_result"
    }
   ],
   "source": [
    "B"
   ]
  },
  {
   "cell_type": "code",
   "execution_count": 60,
   "id": "950c9f8b-a219-4ec7-ac6b-2de5c1bf4a57",
   "metadata": {},
   "outputs": [
    {
     "data": {
      "text/plain": [
       "array([[0.12063587, 0.46077877, 0.20633372, 0.36426986, 0.50341727,\n",
       "        0.69039483, 0.03931214, 0.7994104 , 0.62790039, 0.08175903,\n",
       "        0.87357862, 0.9208724 , 0.06107796, 0.27687765, 0.80620128,\n",
       "        0.74825969],\n",
       "       [0.18452102, 0.20934932, 0.3704721 , 0.48452299, 0.61825477,\n",
       "        0.36891364, 0.46253472, 0.74747094, 0.0366832 , 0.25243694,\n",
       "        0.71334959, 0.89520684, 0.51167744, 0.53211349, 0.10717201,\n",
       "        0.44741237],\n",
       "       [0.53261727, 0.2424705 , 0.26924323, 0.37728416, 0.0200712 ,\n",
       "        0.32207917, 0.21144801, 0.32749735, 0.11976213, 0.89052728,\n",
       "        0.59359245, 0.67910232, 0.78917124, 0.4984422 , 0.08692029,\n",
       "        0.53710654],\n",
       "       [0.58684112, 0.74543947, 0.43165955, 0.1275803 , 0.28377591,\n",
       "        0.3630823 , 0.64591724, 0.5707783 , 0.35609673, 0.98651525,\n",
       "        0.60577482, 0.23722679, 0.10178247, 0.15285914, 0.24595773,\n",
       "        0.16068137]])"
      ]
     },
     "execution_count": 60,
     "metadata": {},
     "output_type": "execute_result"
    }
   ],
   "source": [
    "Btilda"
   ]
  },
  {
   "cell_type": "code",
   "execution_count": 68,
   "id": "1824f325-78fa-402d-a99e-54b89e3e2f4a",
   "metadata": {},
   "outputs": [],
   "source": [
    "B1 = np.einsum('jkl, jm ->klm ', B, Btilda) \n",
    "B2 = np.einsum('jkl, km ->jlm ', B, Btilda) \n",
    "B3 = np.einsum('jkl, lm ->jkm ', B, Btilda) "
   ]
  },
  {
   "cell_type": "code",
   "execution_count": 70,
   "id": "39e75c4c-7aa3-4292-92b0-c6185ba7ab50",
   "metadata": {},
   "outputs": [
    {
     "data": {
      "text/plain": [
       "array([[0.67666467, 0.66081431, 0.4899703 , 0.40916611, 0.35203282,\n",
       "        0.53597525, 0.58176149, 0.74374859, 0.35527571, 1.10968091,\n",
       "        0.90866407, 0.77719078, 0.5818398 , 0.48677045, 0.30766564,\n",
       "        0.5531906 ],\n",
       "       [0.66081431, 0.87061617, 0.55969189, 0.45586605, 0.57779964,\n",
       "        0.74410167, 0.64770764, 1.029723  , 0.59149011, 1.04183434,\n",
       "        1.14736286, 0.95322989, 0.40248617, 0.47378171, 0.59833903,\n",
       "        0.68845839],\n",
       "       [0.4899703 , 0.55969189, 0.43864506, 0.41131587, 0.46081672,\n",
       "        0.52256952, 0.51521492, 0.7764208 , 0.32910482, 0.77599766,\n",
       "        0.86583408, 0.8069011 , 0.45857905, 0.45444769, 0.33562345,\n",
       "        0.53411695],\n",
       "       [0.40916611, 0.45586605, 0.41131587, 0.52607513, 0.52671515,\n",
       "        0.59807468, 0.40061123, 0.8497476 , 0.33711433, 0.61393561,\n",
       "        0.9650906 , 1.05567437, 0.58089559, 0.56623556, 0.40977514,\n",
       "        0.7124916 ]])"
      ]
     },
     "execution_count": 70,
     "metadata": {},
     "output_type": "execute_result"
    }
   ],
   "source": [
    "B1[0]"
   ]
  },
  {
   "cell_type": "code",
   "execution_count": 71,
   "id": "8eb3ea21-7d37-438e-ac2d-d53877bc535d",
   "metadata": {},
   "outputs": [
    {
     "data": {
      "text/plain": [
       "array([[0.47771773, 0.35875376, 0.40681612, 0.53255047, 0.40190548,\n",
       "        0.49341384, 0.40981001, 0.71322504, 0.19116262, 0.75636095,\n",
       "        0.87421384, 1.00265077, 0.76669305, 0.62358487, 0.22080891,\n",
       "        0.66256557],\n",
       "       [0.38900827, 0.58307045, 0.49237617, 0.5685305 , 0.73901609,\n",
       "        0.6996776 , 0.53357361, 1.06921303, 0.42303592, 0.55790666,\n",
       "        1.1112764 , 1.16357017, 0.47410606, 0.57802317, 0.52067815,\n",
       "        0.74207575],\n",
       "       [0.97054028, 0.91609547, 0.64034726, 0.52665157, 0.37449114,\n",
       "        0.7310334 , 0.73175042, 0.94058689, 0.52270639, 1.60006893,\n",
       "        1.21521814, 1.00970134, 0.80417786, 0.6367114 , 0.44478281,\n",
       "        0.77072626],\n",
       "       [1.12103413, 1.11627055, 0.94225251, 0.96291902, 0.90844012,\n",
       "        1.11467709, 1.06210576, 1.61741083, 0.63478859, 1.78981466,\n",
       "        1.88837723, 1.85395755, 1.23417486, 1.09961523, 0.643432  ,\n",
       "        1.24507254]])"
      ]
     },
     "execution_count": 71,
     "metadata": {},
     "output_type": "execute_result"
    }
   ],
   "source": [
    "B2[0]"
   ]
  },
  {
   "cell_type": "code",
   "execution_count": 72,
   "id": "919ed97e-967d-43fe-8b50-b42996a09807",
   "metadata": {},
   "outputs": [
    {
     "data": {
      "text/plain": [
       "array([[0.42324181, 0.47362115, 0.40839145, 0.39152202, 0.45312123,\n",
       "        0.45198968, 0.49678567, 0.71634739, 0.24707642, 0.66928423,\n",
       "        0.77722491, 0.75011883, 0.44304722, 0.43711538, 0.25416895,\n",
       "        0.46577965],\n",
       "       [0.67818776, 0.98194178, 0.71530164, 0.63471277, 0.9079113 ,\n",
       "        0.90516613, 0.86378742, 1.38764781, 0.63079733, 1.03907915,\n",
       "        1.43986551, 1.29796777, 0.49639714, 0.6485454 , 0.67988484,\n",
       "        0.8351432 ],\n",
       "       [1.09652242, 1.20471105, 0.79255496, 0.71541188, 0.64549898,\n",
       "        1.07937514, 0.84202432, 1.37477128, 0.82979937, 1.75837579,\n",
       "        1.68323412, 1.46311226, 0.86331692, 0.79354888, 0.81740377,\n",
       "        1.12358439],\n",
       "       [0.92696421, 0.83936992, 0.65523556, 0.55603262, 0.43044812,\n",
       "        0.67565233, 0.78425012, 0.94690353, 0.41151284, 1.53100165,\n",
       "        1.18269883, 1.02910818, 0.85779315, 0.68046452, 0.33303017,\n",
       "        0.72282804]])"
      ]
     },
     "execution_count": 72,
     "metadata": {},
     "output_type": "execute_result"
    }
   ],
   "source": [
    "B3[0]"
   ]
  },
  {
   "cell_type": "markdown",
   "id": "e1863a45-9d66-4eda-8502-137c47908281",
   "metadata": {},
   "source": [
    "# T1.3: Binary tensor contractions"
   ]
  },
  {
   "cell_type": "code",
   "execution_count": 157,
   "id": "8ac795b2-6604-4e29-9735-45be991bb5fc",
   "metadata": {},
   "outputs": [],
   "source": [
    "##### Ex.1.3(a): Binary Tensor Contraction\n",
    "d1, d2 = 2, 3\n",
    "\n",
    "A = np.random.rand(d1, d1, d2, d2)  \n",
    "B = np.random.rand(d1, d1, d2, d2)\n",
    "\n",
    "Ap  = A.transpose(0, 2, 1, 3)\n",
    "Bp = B.transpose(0, 3, 1, 2)\n",
    "\n",
    "App = Ap.reshape(d1**2, d2**2)\n",
    "Bpp = Bp.reshape(d2**2, d1**2)\n",
    "\n",
    "# matric product\n",
    "Cpp = App @ Bpp         \n",
    "C   = Cpp.reshape(d1**2, d1**2)"
   ]
  },
  {
   "cell_type": "code",
   "execution_count": 152,
   "id": "27e56c98-5b87-473d-ab49-173972d2701b",
   "metadata": {},
   "outputs": [
    {
     "data": {
      "text/plain": [
       "((2, 2, 3, 3), (2, 3, 2, 3))"
      ]
     },
     "execution_count": 152,
     "metadata": {},
     "output_type": "execute_result"
    }
   ],
   "source": [
    "A.shape, Ap.shape"
   ]
  },
  {
   "cell_type": "code",
   "execution_count": 153,
   "id": "f4acc09b-f9b8-48b1-8ff8-20193187b9da",
   "metadata": {},
   "outputs": [
    {
     "data": {
      "text/plain": [
       "((2, 2, 3, 3), (2, 3, 2, 3))"
      ]
     },
     "execution_count": 153,
     "metadata": {},
     "output_type": "execute_result"
    }
   ],
   "source": [
    "B.shape, Bp.shape"
   ]
  },
  {
   "cell_type": "code",
   "execution_count": 154,
   "id": "e206adba-41e3-4d48-bf19-986a1b7ea428",
   "metadata": {},
   "outputs": [
    {
     "data": {
      "text/plain": [
       "((4, 9), (9, 4))"
      ]
     },
     "execution_count": 154,
     "metadata": {},
     "output_type": "execute_result"
    }
   ],
   "source": [
    "App.shape,  Bpp.shape"
   ]
  },
  {
   "cell_type": "code",
   "execution_count": 155,
   "id": "681f8398-65a0-4569-84e7-652c59d2f2e9",
   "metadata": {},
   "outputs": [
    {
     "data": {
      "text/plain": [
       "((4, 4),\n",
       " array([[2.97408105, 3.41140955, 3.50621632, 2.57551422],\n",
       "        [2.52385675, 2.10552156, 2.84491416, 1.87870965],\n",
       "        [2.94941321, 2.74737806, 3.25295892, 2.90151594],\n",
       "        [2.05128709, 2.13730638, 2.28185979, 1.65208315]]))"
      ]
     },
     "execution_count": 155,
     "metadata": {},
     "output_type": "execute_result"
    }
   ],
   "source": [
    "Cpp.shape, Cpp"
   ]
  },
  {
   "cell_type": "code",
   "execution_count": 156,
   "id": "a84fa100-317b-4164-baa2-fc40992321e7",
   "metadata": {},
   "outputs": [
    {
     "data": {
      "text/plain": [
       "array([[2.97408105, 3.41140955, 3.50621632, 2.57551422],\n",
       "       [2.52385675, 2.10552156, 2.84491416, 1.87870965],\n",
       "       [2.94941321, 2.74737806, 3.25295892, 2.90151594],\n",
       "       [2.05128709, 2.13730638, 2.28185979, 1.65208315]])"
      ]
     },
     "execution_count": 156,
     "metadata": {},
     "output_type": "execute_result"
    }
   ],
   "source": [
    "C"
   ]
  },
  {
   "cell_type": "code",
   "execution_count": 158,
   "id": "f9d22877-7099-4655-83fb-f03d30ef0ce6",
   "metadata": {},
   "outputs": [],
   "source": [
    "##### Ex.1.3(a): Binary Tensor Contraction\n",
    "d = 2\n",
    "A = np.random.rand(d,d,d,d)  \n",
    "B = np.random.rand(d,d,d,d)\n",
    "\n",
    "Ap  = A.transpose(0,2,1,3);  Bp = B.transpose(0,3,1,2)\n",
    "App = Ap.reshape(d**2,d**2); Bpp = Bp.reshape(d**2,d**2)\n",
    "Cpp = App @ Bpp;             C   = Cpp.reshape(d,d,d,d)"
   ]
  },
  {
   "cell_type": "code",
   "execution_count": 160,
   "id": "96c94838-89f2-4244-81c2-fbd5bf140f5f",
   "metadata": {},
   "outputs": [
    {
     "data": {
      "text/plain": [
       "array([[1.46515122, 0.84001427, 1.47431762, 1.29604796],\n",
       "       [1.21655301, 0.51085984, 1.09943966, 1.17170796],\n",
       "       [1.11192882, 0.64079906, 1.00305929, 0.85167333],\n",
       "       [0.89877232, 0.24211585, 0.51707588, 0.73137655]])"
      ]
     },
     "execution_count": 160,
     "metadata": {},
     "output_type": "execute_result"
    }
   ],
   "source": [
    "Cpp"
   ]
  },
  {
   "cell_type": "code",
   "execution_count": 159,
   "id": "8cb8b392-41f2-4f68-84f5-91d9813621e4",
   "metadata": {},
   "outputs": [
    {
     "data": {
      "text/plain": [
       "array([[[[1.46515122, 0.84001427],\n",
       "         [1.47431762, 1.29604796]],\n",
       "\n",
       "        [[1.21655301, 0.51085984],\n",
       "         [1.09943966, 1.17170796]]],\n",
       "\n",
       "\n",
       "       [[[1.11192882, 0.64079906],\n",
       "         [1.00305929, 0.85167333]],\n",
       "\n",
       "        [[0.89877232, 0.24211585],\n",
       "         [0.51707588, 0.73137655]]]])"
      ]
     },
     "execution_count": 159,
     "metadata": {},
     "output_type": "execute_result"
    }
   ],
   "source": [
    "C"
   ]
  },
  {
   "cell_type": "markdown",
   "id": "9d8a39b6-76b3-4d0f-aef2-5a79798d96fb",
   "metadata": {},
   "source": [
    "# T1.4: Contraction costs"
   ]
  },
  {
   "cell_type": "markdown",
   "id": "24448616-b447-434c-8fd0-19bdae426b21",
   "metadata": {},
   "source": [
    "The computational cost of multiplying a *d1-by-d2* dimensional matrix **A** with a *d2-by-d3* dimensional matrix **B** is $\\text{cost}: (A\\times B) = d_1 \\cdot d_2  \\cdot d_3 $. Given the equivalence with matrix multiplication, this is also the cost of a binary tensor contraction (where each dimension d1, d2, d3 may now result as the product of several tensor indices from the reshapes).\n",
    "\n",
    " \n",
    "\n",
    "Another way of computing the cost of contracting **A** and **B** is to take the product of the total dimensions, denoted $|dim(A)|$ and $|dim(B)|$, of each tensor divided by the total dimension of the contracted indices, denoted $|dim(A\\cap B)|$. Examples are given below:\n",
    "\n",
    "$$\\text{cost}: (A\\times B) = d_1 \\cdot d_2  \\cdot d_3 $$\n",
    "\n",
    "$$\\text{cost}: (A\\times B) = \\frac{d^3  d^4}{d^2} = d^5 $$"
   ]
  },
  {
   "cell_type": "code",
   "execution_count": 163,
   "id": "b33a002b-3d0f-4853-a172-829edddc2f39",
   "metadata": {},
   "outputs": [
    {
     "name": "stdout",
     "output_type": "stream",
     "text": [
      "Tempo de execução: 0.017894983291625977 segundos\n"
     ]
    }
   ],
   "source": [
    "import time\n",
    "\n",
    "# Inicia o cronômetro\n",
    "start_time = time.time()\n",
    "\n",
    "# O seu código aqui\n",
    "\n",
    "##### Ex.1.4(c): Tensor network evaluation\n",
    "d = 10\n",
    "A = np.random.rand(d,d) \n",
    "B = np.random.rand(d,d)\n",
    "C = np.random.rand(d,d)\n",
    "\n",
    "# Evaluate network via summation over internal indices\n",
    "F0 = np.zeros((d,d))\n",
    "for di in range(d):\n",
    "    for dj in range(d):\n",
    "        for dk in range(d):\n",
    "            for dl in range(d):\n",
    "                F0[di,dj] = F0[di,dj] + A[di,dk]*B[dk,dl]*C[dl,dj]\n",
    "\n",
    "# Termina o cronômetro\n",
    "end_time = time.time()\n",
    "\n",
    "# Calcula o tempo decorrido\n",
    "execution_time = end_time - start_time\n",
    "\n",
    "# Imprime o tempo de execução\n",
    "print(\"Tempo de execução:\", execution_time, \"segundos\")\n"
   ]
  },
  {
   "cell_type": "code",
   "execution_count": 164,
   "id": "69e1af56-b4dc-443e-a487-ef863867ac10",
   "metadata": {},
   "outputs": [
    {
     "name": "stdout",
     "output_type": "stream",
     "text": [
      "Tempo de execução: 0.0004596710205078125 segundos\n"
     ]
    }
   ],
   "source": [
    "import time\n",
    "\n",
    "# Inicia o cronômetro\n",
    "start_time = time.time()\n",
    "\n",
    "# Seu código aqui\n",
    "# Evaluate network via sequence of binary contractions\n",
    "F1 = (A @ B) @ C\n",
    "\n",
    "# Termina o cronômetro\n",
    "end_time = time.time()\n",
    "\n",
    "# Calcula o tempo decorrido\n",
    "execution_time = end_time - start_time\n",
    "\n",
    "# Imprime o tempo de execução\n",
    "print(\"Tempo de execução:\", execution_time, \"segundos\")\n"
   ]
  },
  {
   "cell_type": "code",
   "execution_count": 173,
   "id": "fc98312c-bf49-4a4f-ac28-e041bd582b16",
   "metadata": {},
   "outputs": [
    {
     "data": {
      "text/plain": [
       "array([[14.00689909, 13.89132763, 15.35902002,  8.57673163, 15.34786475,\n",
       "        15.99224679, 17.68388357, 14.66917624, 11.9954262 , 12.94473786],\n",
       "       [ 8.08895146,  7.6867157 ,  8.69483168,  4.89443461,  8.75949858,\n",
       "         9.11679253,  9.81675098,  8.34828549,  7.04562253,  7.17802056],\n",
       "       [11.31177024, 11.46998307, 12.52815226,  6.99953937, 12.45645021,\n",
       "        13.00663837, 14.47100695, 11.94011084,  9.61667395, 10.6707729 ],\n",
       "       [17.25207656, 16.83364736, 19.12113685, 10.17725518, 18.72100554,\n",
       "        19.35915126, 21.51256303, 17.96112081, 14.6191695 , 15.49987471],\n",
       "       [12.12110545, 11.30805595, 12.9872295 ,  7.32649722, 13.30077691,\n",
       "        13.93304977, 14.26151379, 12.75302016, 10.45535744, 11.12501184],\n",
       "       [15.7711837 , 15.11669521, 16.92755706,  9.61846517, 17.4092709 ,\n",
       "        18.08828302, 18.95904798, 16.54694723, 13.4741135 , 14.63270752],\n",
       "       [16.19701723, 16.18100024, 17.49555037,  9.89346057, 18.00327986,\n",
       "        18.49932735, 20.37006263, 16.82568688, 13.53261356, 15.28730345],\n",
       "       [14.15319322, 14.15026354, 15.5370066 ,  8.52495038, 16.0638046 ,\n",
       "        16.16843384, 17.70519512, 14.82930437, 11.73706902, 13.28845838],\n",
       "       [14.48464188, 13.80839477, 15.91320017,  8.23315171, 15.91281747,\n",
       "        15.9536314 , 17.66844302, 14.98730123, 11.77020276, 13.04324836],\n",
       "       [18.13638186, 17.79842006, 19.76278121, 10.82405942, 19.90380665,\n",
       "        20.63691585, 22.53387984, 18.86770783, 15.25464597, 16.78900659]])"
      ]
     },
     "execution_count": 173,
     "metadata": {},
     "output_type": "execute_result"
    }
   ],
   "source": [
    "F0"
   ]
  },
  {
   "cell_type": "code",
   "execution_count": 174,
   "id": "9991fa81-662a-4203-9ff2-0112b7465e1f",
   "metadata": {},
   "outputs": [
    {
     "data": {
      "text/plain": [
       "array([[14.00689909, 13.89132763, 15.35902002,  8.57673163, 15.34786475,\n",
       "        15.99224679, 17.68388357, 14.66917624, 11.9954262 , 12.94473786],\n",
       "       [ 8.08895146,  7.6867157 ,  8.69483168,  4.89443461,  8.75949858,\n",
       "         9.11679253,  9.81675098,  8.34828549,  7.04562253,  7.17802056],\n",
       "       [11.31177024, 11.46998307, 12.52815226,  6.99953937, 12.45645021,\n",
       "        13.00663837, 14.47100695, 11.94011084,  9.61667395, 10.6707729 ],\n",
       "       [17.25207656, 16.83364736, 19.12113685, 10.17725518, 18.72100554,\n",
       "        19.35915126, 21.51256303, 17.96112081, 14.6191695 , 15.49987471],\n",
       "       [12.12110545, 11.30805595, 12.9872295 ,  7.32649722, 13.30077691,\n",
       "        13.93304977, 14.26151379, 12.75302016, 10.45535744, 11.12501184],\n",
       "       [15.7711837 , 15.11669521, 16.92755706,  9.61846517, 17.4092709 ,\n",
       "        18.08828302, 18.95904798, 16.54694723, 13.4741135 , 14.63270752],\n",
       "       [16.19701723, 16.18100024, 17.49555037,  9.89346057, 18.00327986,\n",
       "        18.49932735, 20.37006263, 16.82568688, 13.53261356, 15.28730345],\n",
       "       [14.15319322, 14.15026354, 15.5370066 ,  8.52495038, 16.0638046 ,\n",
       "        16.16843384, 17.70519512, 14.82930437, 11.73706902, 13.28845838],\n",
       "       [14.48464188, 13.80839477, 15.91320017,  8.23315171, 15.91281747,\n",
       "        15.9536314 , 17.66844302, 14.98730123, 11.77020276, 13.04324836],\n",
       "       [18.13638186, 17.79842006, 19.76278121, 10.82405942, 19.90380665,\n",
       "        20.63691585, 22.53387984, 18.86770783, 15.25464597, 16.78900659]])"
      ]
     },
     "execution_count": 174,
     "metadata": {},
     "output_type": "execute_result"
    }
   ],
   "source": [
    "F1"
   ]
  },
  {
   "cell_type": "code",
   "execution_count": null,
   "id": "a98b255b-f4a7-4b1d-bdcb-dacb3ca9a362",
   "metadata": {},
   "outputs": [],
   "source": []
  }
 ],
 "metadata": {
  "kernelspec": {
   "display_name": "Python 3 (ipykernel)",
   "language": "python",
   "name": "python3"
  },
  "language_info": {
   "codemirror_mode": {
    "name": "ipython",
    "version": 3
   },
   "file_extension": ".py",
   "mimetype": "text/x-python",
   "name": "python",
   "nbconvert_exporter": "python",
   "pygments_lexer": "ipython3",
   "version": "3.8.10"
  }
 },
 "nbformat": 4,
 "nbformat_minor": 5
}
