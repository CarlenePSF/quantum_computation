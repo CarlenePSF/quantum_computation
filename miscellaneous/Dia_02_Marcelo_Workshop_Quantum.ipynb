{
 "cells": [
  {
   "cell_type": "code",
   "execution_count": 1,
   "metadata": {
    "ExecuteTime": {
     "end_time": "2023-12-01T18:43:09.513304729Z",
     "start_time": "2023-12-01T18:43:06.475355176Z"
    }
   },
   "outputs": [],
   "source": [
    "import numpy as np\n",
    "from qiskit import QuantumRegister, ClassicalRegister, QuantumCircuit, execute\n",
    "from qiskit_aer import AerSimulator\n",
    "from qiskit.visualization import plot_histogram\n",
    "from IPython.display import display"
   ]
  },
  {
   "cell_type": "markdown",
   "metadata": {},
   "source": [
    "# Workshop Batalha de Quantum Itaú 2023"
   ]
  },
  {
   "cell_type": "markdown",
   "metadata": {},
   "source": [
    "# Seções <a id=\"0\"></a> <br>\n",
    "1. [Superposição](#1)     \n",
    "    1. [Bit vs Qubit](#11)\n",
    "    1. [Representação Matemática](#12) \n",
    "    1. [Operadores](#13)\n",
    "    1. [Medindo estados quânticos](#14)\n",
    "    1. [Representando circuitos quânticos](#15)\n",
    "1. [Interferência](#2) \n",
    "    1. [Composição de operadores](#21)\n",
    "    1. [Mach-Zender](#22)\n",
    "    1. [Principais Operadores](#23)\n",
    "    1. [Operador Oráculo](#24)\n",
    "    1. [Algoritmo de Deutsch](#25)\n",
    "1. [Emaranhamento](#3)     \n",
    "    1. [Sistemas quânticos de dois qubits](#31)\n",
    "    1. [Produto tensorial de operadores](#32)\n",
    "    1. [CNOT](#33)\n",
    "1. [Adendo](#4)"
   ]
  },
  {
   "cell_type": "markdown",
   "metadata": {},
   "source": [
    "---"
   ]
  },
  {
   "cell_type": "markdown",
   "metadata": {},
   "source": [
    "# 1. Superposição<a id='1'></a>"
   ]
  },
  {
   "cell_type": "markdown",
   "metadata": {},
   "source": [
    "Seção<a id='0'></a>"
   ]
  },
  {
   "cell_type": "markdown",
   "metadata": {},
   "source": [
    "## 1.1 Qubit vs Bit <a id='11'></a>\n",
    "\n",
    "```Um bit é a menor unidade de informação clássica.```\n",
    "\n",
    "Em computadores clássicos, informação é representada como dígitos binários 0 ou 1, que são chamados de bits. Quantum bits, ou qubits, são similares, no sentido que também há dois estados mensuráveis 0 e 1. No entanto, ao contrário dos bits clássicos, qubits também podem estar em um estado de superposição de 0 e 1. \n",
    "\n",
    "```É importante entender que embora um qubit possa estar em um estado de superposição, quando o qubit é medido, o resultado é um dos bits clássicos de informação, isto é, 0 ou 1```"
   ]
  },
  {
   "cell_type": "markdown",
   "metadata": {},
   "source": [
    "[Seções](#0)"
   ]
  },
  {
   "cell_type": "markdown",
   "metadata": {},
   "source": [
    "---\n",
    "### Dois tipos de representação:\n",
    "- Representação matemática\n",
    "- Representação de Circuitos"
   ]
  },
  {
   "cell_type": "markdown",
   "metadata": {},
   "source": [
    "---\n",
    "# 1.2 Representação matemática <a id='12'></a>\n",
    "\n",
    "### Estados Quânticos:\n",
    "\n",
    "```Na representação matemática, os estados quânticos (qubits) são representados por vetores```\n",
    "\n",
    "Exemplo:\n",
    "\n",
    "Os estados \"0\" e \"1\" dos qubits são representados como vetores colunas\n",
    "\n",
    "\\begin{equation*}  \n",
    "|0\\rangle = \n",
    "\\begin{bmatrix}\n",
    "1\\\\\n",
    "0\\\\\n",
    "\\end{bmatrix},\n",
    "\\hspace{5mm} |1\\rangle = \n",
    "\\begin{bmatrix}\n",
    "0\\\\\n",
    "1\\\\\n",
    "\\end{bmatrix}\n",
    "\\end{equation*}  "
   ]
  },
  {
   "cell_type": "markdown",
   "metadata": {},
   "source": [
    "[Seções](#0)"
   ]
  },
  {
   "cell_type": "markdown",
   "metadata": {},
   "source": [
    "---\n",
    "# 1.3 Operadores <a id='13'></a>\n",
    "\n",
    "```Operadores são descritos por matrizes```\n",
    "\n",
    "\\begin{equation*}\n",
    "|\\psi_{new}\\rangle = X|\\psi_{0}\\rangle\n",
    "\\end{equation*}\n",
    "### Exemplo 1: Operador Pauli X\n",
    "\n",
    "\\begin{equation*}\n",
    "X =    \n",
    "\\begin{bmatrix}\n",
    "0 & 1 \\\\\n",
    "1 & 0 \\\\\n",
    "\\end{bmatrix}\n",
    "\\end{equation*}\n",
    "\n",
    "A atuação dele nos estados $|0\\rangle$ e $|1\\rangle$ é a seguinte:\n",
    "\n",
    "\\begin{equation*}\n",
    "X|0\\rangle = \n",
    "\\begin{bmatrix}\n",
    "0 & 1 \\\\\n",
    "1 & 0 \\\\\n",
    "\\end{bmatrix}\n",
    "\\begin{bmatrix}\n",
    "1\\\\\n",
    "0\\\\\n",
    "\\end{bmatrix} =\n",
    "\\begin{bmatrix}\n",
    "0\\\\\n",
    "1\\\\\n",
    "\\end{bmatrix} =\n",
    "|1\\rangle\n",
    "\\end{equation*}\n",
    "\n",
    "\n",
    "\\begin{equation*}\n",
    "X|1\\rangle = \n",
    "\\begin{bmatrix}\n",
    "0 & 1 \\\\\n",
    "1 & 0 \\\\\n",
    "\\end{bmatrix}\n",
    "\\begin{bmatrix}\n",
    "0\\\\\n",
    "1\\\\\n",
    "\\end{bmatrix} =\n",
    "\\begin{bmatrix}\n",
    "1\\\\\n",
    "0\\\\\n",
    "\\end{bmatrix} \n",
    "=\n",
    "\n",
    "|0\\rangle\n",
    "\\end{equation*}\n"
   ]
  },
  {
   "cell_type": "markdown",
   "metadata": {},
   "source": [
    "[Seções](#0)"
   ]
  },
  {
   "cell_type": "markdown",
   "metadata": {},
   "source": [
    "\n",
    "---\n",
    "### Exemplo 2: Operador Hadamard\n",
    "\n",
    "\\begin{equation*}\n",
    "H = \\frac{1}{\\sqrt{2}}   \n",
    "\\begin{bmatrix}\n",
    "1 & 1 \\\\\n",
    "1 & -1 \\\\\n",
    "\\end{bmatrix}\n",
    "\\end{equation*}\n",
    "\n",
    "A atuação dele no estado $|0\\rangle$ é a seguinte:\n",
    "\n",
    "\\begin{equation*}\n",
    "H|0\\rangle = \n",
    "\\frac{1}{\\sqrt{2}}\n",
    "\\begin{bmatrix}\n",
    "1 & 1 \\\\\n",
    "1 & -1 \\\\\n",
    "\\end{bmatrix}\n",
    "\\begin{bmatrix}\n",
    "1\\\\\n",
    "0\\\\\n",
    "\\end{bmatrix} \n",
    "= \\frac{1}{\\sqrt{2}}\n",
    "\\begin{bmatrix}\n",
    "1\\\\\n",
    "1\\\\\n",
    "\\end{bmatrix}\n",
    "\\end{equation*}\n",
    "\n",
    "\\begin{equation*}\n",
    "H|0\\rangle = \n",
    "\\frac{1}{\\sqrt{2}}\n",
    "\\left(\n",
    "\\begin{bmatrix}\n",
    "1\\\\\n",
    "0\\\\\n",
    "\\end{bmatrix} \n",
    "+\n",
    "\\begin{bmatrix}\n",
    "0\\\\\n",
    "1\\\\\n",
    "\\end{bmatrix}\n",
    "\\right) \n",
    "= \\frac{1}{\\sqrt{2}}|0\\rangle + \\frac{1}{\\sqrt{2}}|1\\rangle\n",
    "\\end{equation*}"
   ]
  },
  {
   "cell_type": "markdown",
   "metadata": {},
   "source": [
    "---\n",
    "### Exemplo 3: Operador Pauli Z\n",
    "\n",
    "\\begin{equation*}\n",
    "Z =   \n",
    "\\begin{bmatrix}\n",
    "1 & 0 \\\\\n",
    "0 & -1 \\\\\n",
    "\\end{bmatrix}\n",
    "\\end{equation*}\n",
    "\n",
    "A atuação dele nos estados da base é a seguinte:\n",
    "\n",
    "\\begin{equation*}\n",
    "Z|0\\rangle = \n",
    "\\begin{bmatrix}\n",
    "1 & 0 \\\\\n",
    "0 & -1 \\\\\n",
    "\\end{bmatrix}\n",
    "\\begin{bmatrix}\n",
    "1\\\\\n",
    "0\\\\\n",
    "\\end{bmatrix}\n",
    "=\n",
    "|0\\rangle\n",
    "\\end{equation*}\n",
    "\n",
    "\n",
    "\\begin{equation*}\n",
    "Z|1\\rangle = \n",
    "\\begin{bmatrix}\n",
    "1 & 0 \\\\\n",
    "0 & -1 \\\\\n",
    "\\end{bmatrix}\n",
    "\\begin{bmatrix}\n",
    "0\\\\\n",
    "1\\\\\n",
    "\\end{bmatrix}\n",
    "=\n",
    "-|1\\rangle\n",
    "\\end{equation*}"
   ]
  },
  {
   "cell_type": "markdown",
   "metadata": {},
   "source": [
    "---\n",
    "# 1.4 Medindo estados quânticos <a id='14'></a>\n",
    "\n",
    "\\begin{equation*}  \n",
    "|\\psi\\rangle = \n",
    "\\begin{bmatrix}\n",
    "\\alpha\\\\\n",
    "\\beta\\\\\n",
    "\\end{bmatrix}\n",
    "=\n",
    "\\alpha\n",
    "\\begin{bmatrix}\n",
    "1\\\\\n",
    "0\\\\\n",
    "\\end{bmatrix}\n",
    "+\n",
    "\\beta\n",
    "\\begin{bmatrix}\n",
    "0\\\\\n",
    "1\\\\\n",
    "\\end{bmatrix}\n",
    "= \\alpha|0\\rangle + \\beta|1\\rangle, \\hspace{5mm} \\alpha, \\beta \\in \\mathbb{C}\n",
    "\\end{equation*}  \n",
    "\n",
    "Aqui, $\\alpha$ e $\\beta$ são números complexos. Os vetores da base $|0\\rangle$ e $|1\\rangle$ geram um espaço vetorial complexo de 2 dimensões, \n",
    "```\n",
    "Nota: Nesse caso, dizemos que o qubit está em um estado de \"superposição\" ou ainda, em um estado de combinação linear dos vetores da base.\n",
    "```"
   ]
  },
  {
   "cell_type": "markdown",
   "metadata": {},
   "source": [
    "\n",
    "Ao medir o estado $|\\psi\\rangle = \\alpha|0\\rangle + \\beta|1\\rangle$, a probabilidade de encontrarmos $|\\psi\\rangle$ no estado $|0\\rangle$ é dada por\n",
    "\\begin{equation*}\n",
    "Pr(0) = |\\alpha|^2\n",
    "\\end{equation*}\n",
    "\n",
    "e a probabilidade de encontrarmos $|\\psi\\rangle$ no estado $|1\\rangle$ é dada por\n",
    "\n",
    "\\begin{equation*}\n",
    "Pr(1) = |\\beta|^2\n",
    "\\end{equation*}\n",
    "\n",
    "E dado que $Pr(|0\\rangle) + Pr(|1\\rangle) = 1$ devemos ter $|\\alpha|^2 + |\\beta|^2 = 1$\n",
    "\n",
    "\n",
    "``` Tecnicamente, o descrito acima é conhecido como Regra de Born```"
   ]
  },
  {
   "cell_type": "markdown",
   "metadata": {},
   "source": [
    "```Nota: Para o estado``` $|\\psi\\rangle = \\alpha|0\\rangle + |\\beta\\rangle$ ```ser um estado quântico válido, é necessário que``` $|\\alpha|^2 + |\\beta|^2 = 1$"
   ]
  },
  {
   "cell_type": "markdown",
   "metadata": {},
   "source": [
    "[Seções](#0)"
   ]
  },
  {
   "cell_type": "markdown",
   "metadata": {},
   "source": [
    "---\n",
    "### Exemplo1\n",
    "\n",
    "Para o caso $$|\\psi\\rangle = \\frac{1}{\\sqrt{2}}|0\\rangle + \\frac{1}{\\sqrt{2}}|1\\rangle$$ a probabilidade de encontrar $|\\psi\\rangle$ no estado $|0\\rangle$ é $$\\left|\\frac{1}{\\sqrt{2}}\\right|^2 = \\frac{1}{2}$$\n",
    "\n",
    "e no estado $|1\\rangle$ é $$\\left|\\frac{1}{\\sqrt{2}}\\right|^2 = \\frac{1}{2}$$\n",
    "\n",
    "---\n",
    "### Exemplo2\n",
    "\n",
    "Para o caso $$|\\psi\\rangle = \\frac{1 + 2i}{3}|0\\rangle + \\frac{2}{3}|1\\rangle$$ a probabilidade de encontrar $|\\psi\\rangle$ no estado $|0\\rangle$ é $$\\left|\\frac{1+2i}{3}\\right|^2 = \\frac{5}{9}$$\n",
    "\n",
    "e no estado $|1\\rangle$ é $$\\left|\\frac{2}{3}\\right|^2 = \\frac{4}{9}$$\n"
   ]
  },
  {
   "cell_type": "markdown",
   "metadata": {},
   "source": [
    "---\n",
    "# 1.5 Representação de Circuitos Quânticos <a id='15'></a>\n"
   ]
  },
  {
   "cell_type": "code",
   "execution_count": 2,
   "metadata": {
    "ExecuteTime": {
     "end_time": "2023-12-01T18:43:09.514418651Z",
     "start_time": "2023-12-01T18:43:08.123138438Z"
    }
   },
   "outputs": [],
   "source": [
    "# !pip install qiskit"
   ]
  },
  {
   "cell_type": "markdown",
   "metadata": {},
   "source": [
    "Circuitos quânticos são basicamente compostos por três componentes fundamentais:\n",
    "- Qubits - são os bits quânticos de informação. São os objetos físicos onde armazenamos informação para então manipulá-la\n",
    "- Gates - São as operações que realizamos nos qubits\n",
    "- Medição - Extrai os resultados das operações nos qubits e armazena em bits clássicos."
   ]
  },
  {
   "cell_type": "code",
   "execution_count": 3,
   "metadata": {
    "ExecuteTime": {
     "end_time": "2023-12-01T18:43:11.042075662Z",
     "start_time": "2023-12-01T18:43:08.155801198Z"
    }
   },
   "outputs": [
    {
     "name": "stderr",
     "output_type": "stream",
     "text": [
      "/home/carlene/PycharmProjects/quantum_computation/lib/python3.8/site-packages/qiskit/visualization/circuit/matplotlib.py:266: FutureWarning: The default matplotlib drawer scheme will be changed to \"iqp\" in a following release. To silence this warning, specify the current default explicitly as style=\"clifford\", or the new default as style=\"iqp\".\n",
      "  self._style, def_font_ratio = load_style(self._style)\n"
     ]
    },
    {
     "data": {
      "image/png": "[encoded data removed]",
      "text/plain": [
       "<Figure size 303.717x200.667 with 1 Axes>"
      ]
     },
     "execution_count": 3,
     "metadata": {},
     "output_type": "execute_result"
    }
   ],
   "source": [
    "# Qubits\n",
    "qr = QuantumRegister(size = 1, name = \"q\")\n",
    "# Bits\n",
    "cr = ClassicalRegister(size = 1, name = 'bits')\n",
    "# Circuito Quântico\n",
    "qc = QuantumCircuit(qr, cr)\n",
    "# Gates\n",
    "qc.h(qr)\n",
    "#qc.z(qr[1])\n",
    "# Medição\n",
    "qc.measure(qr, cr)# measure_all\n",
    "# Visualizando\n",
    "qc.draw('mpl')"
   ]
  },
  {
   "cell_type": "markdown",
   "metadata": {},
   "source": [
    "- Cada Qubit tem conectado a ele um fio. As operações nesse fio, afetarão somente o qubit conectado a ele.\n",
    "- O resultado da medição em cada qubit só poderá retornar 0 ou 1.\n",
    "\n",
    "``` Nota: No qiskit, os qubits são sempre inicializados no estado ``` $|0\\rangle$"
   ]
  },
  {
   "cell_type": "code",
   "execution_count": 4,
   "metadata": {
    "ExecuteTime": {
     "end_time": "2023-12-01T18:43:11.717700452Z",
     "start_time": "2023-12-01T18:43:11.050985398Z"
    }
   },
   "outputs": [
    {
     "name": "stdout",
     "output_type": "stream",
     "text": [
      "{'1': 522, '0': 478}\n"
     ]
    },
    {
     "data": {
      "image/png": "[encoded data removed]",
      "text/plain": [
       "<Figure size 700x500 with 1 Axes>"
      ]
     },
     "execution_count": 4,
     "metadata": {},
     "output_type": "execute_result"
    }
   ],
   "source": [
    "shots = 1_000\n",
    "backend = AerSimulator()\n",
    "result = backend.run(circuits = qc, shots = shots).result()\n",
    "counts = result.get_counts()\n",
    "print(counts)\n",
    "plot_histogram(counts)"
   ]
  },
  {
   "cell_type": "markdown",
   "metadata": {},
   "source": [
    "[Seções](#0)"
   ]
  },
  {
   "cell_type": "markdown",
   "metadata": {},
   "source": [
    "# 2. Interferência <a id='2'></a>"
   ]
  },
  {
   "cell_type": "markdown",
   "metadata": {},
   "source": [
    "---\n",
    "## 2.1 Composição de Operadores <a id='21'></a>\n",
    "\n",
    "O gate Hadamard $H$ é fudamental em computação quântica. Vamos analisar algumas propriedades importantes\n",
    "\\begin{equation*}\n",
    "H = \\frac{1}{\\sqrt{2}}   \n",
    "\\begin{bmatrix}\n",
    "1 & 1 \\\\\n",
    "1 & -1 \\\\\n",
    "\\end{bmatrix}\n",
    "\\end{equation*}\n",
    "\n",
    "e opera no estado $|0\\rangle$ como \n",
    "\\begin{equation*}\n",
    "H|0\\rangle = \\frac{1}{\\sqrt{2}}|0\\rangle + \\frac{1}{\\sqrt{2}}|1\\rangle \\equiv |+\\rangle\n",
    "\\end{equation*}\n",
    "\n",
    "\n",
    "já no estado $|1\\rangle$ temos o seguinte\n",
    "\n",
    "\\begin{equation*}\n",
    "H|1\\rangle = \\frac{1}{\\sqrt{2}}|0\\rangle - \\frac{1}{\\sqrt{2}}|1\\rangle \\equiv |-\\rangle\n",
    "\\end{equation*}\n"
   ]
  },
  {
   "cell_type": "markdown",
   "metadata": {},
   "source": [
    "\n",
    "No entanto, qual é o resultado da operação hadamard sobre os estados $|+\\rangle$  e $|-\\rangle$?\n",
    "\\begin{equation*}\n",
    "   \\Longrightarrow  H|+\\rangle =  \\frac{1}{\\sqrt{2}}(H|0\\rangle + H|1\\rangle) = \\frac{1}{\\sqrt{2}}(|+\\rangle + |-\\rangle) = |0\\rangle\\\\\n",
    "\\end{equation*} \n",
    "\n",
    "\\begin{equation*}\n",
    "    \\Longrightarrow H|-\\rangle = \\frac{1}{\\sqrt{2}}(H|0\\rangle - H|1\\rangle) = \\frac{1}{\\sqrt{2}}(|+\\rangle - |-\\rangle) = |1\\rangle\\\\\n",
    "\\end{equation*} \n",
    "\n",
    "```Nota: Os estados``` $|+\\rangle$ ```e``` $|-\\rangle$ ```podem ser discriminados perfeitamente.```"
   ]
  },
  {
   "cell_type": "markdown",
   "metadata": {},
   "source": [
    "[Seções](#0)"
   ]
  },
  {
   "cell_type": "markdown",
   "metadata": {},
   "source": [
    "---\n",
    "## 2.2 Mach-Zender Interferometer <a id='22'></a>\n",
    "\n",
    "\\begin{gather}\n",
    "    |\\psi_0\\rangle = |0\\rangle \\notag\\\\\n",
    "    \\Longrightarrow |\\psi_1\\rangle = H|0\\rangle = |+\\rangle \\notag\\\\\n",
    "    \\Longrightarrow |\\psi_2\\rangle = H|\\psi_1\\rangle = H|+\\rangle = |0\\rangle \\notag\n",
    "\\end{gather} "
   ]
  },
  {
   "cell_type": "code",
   "execution_count": 5,
   "metadata": {
    "ExecuteTime": {
     "end_time": "2023-12-01T18:43:12.449390778Z",
     "start_time": "2023-12-01T18:43:11.650307625Z"
    }
   },
   "outputs": [
    {
     "data": {
      "image/png": "[encoded data removed]",
      "text/plain": [
       "<Figure size 387.328x200.667 with 1 Axes>"
      ]
     },
     "metadata": {},
     "output_type": "display_data"
    },
    {
     "name": "stdout",
     "output_type": "stream",
     "text": [
      "{'0': 1000}\n"
     ]
    }
   ],
   "source": [
    "n_qubits = 1\n",
    "n_bits = 1\n",
    "qr = QuantumRegister(size = n_qubits, name = 'q')\n",
    "cr = ClassicalRegister(size = n_bits, name = 'bits')\n",
    "qc = QuantumCircuit(qr, cr)\n",
    "qc.h(qr)\n",
    "qc.h(qr)\n",
    "qc.measure(qr, cr)\n",
    "display(qc.draw('mpl'))\n",
    "shots = 1_000\n",
    "backend = AerSimulator()\n",
    "result = backend.run(circuits = qc, shots = shots).result()\n",
    "counts = result.get_counts()\n",
    "print(counts)\n",
    "#plot_histogram(counts)"
   ]
  },
  {
   "cell_type": "markdown",
   "metadata": {},
   "source": [
    "---\n",
    "\n",
    "\\begin{gather}\n",
    "    |\\psi_0\\rangle = |0\\rangle \\notag\\\\\n",
    "    \\Longrightarrow |\\psi_1\\rangle = H|0\\rangle = |+\\rangle \\notag\\\\\n",
    "    \\Longrightarrow |\\psi_2\\rangle = Z|\\psi_1\\rangle = \\frac{1}{\\sqrt{2}}(Z|0\\rangle + Z|1\\rangle) = |-\\rangle \\notag\\\\\n",
    "    \\Longrightarrow |\\psi_3\\rangle = H|\\psi_2\\rangle = H|-\\rangle = |1\\rangle \\notag\n",
    "\\end{gather} "
   ]
  },
  {
   "cell_type": "code",
   "execution_count": 6,
   "metadata": {
    "ExecuteTime": {
     "end_time": "2023-12-01T18:43:13.725828800Z",
     "start_time": "2023-12-01T18:43:12.287942665Z"
    }
   },
   "outputs": [
    {
     "data": {
      "image/png": "[encoded data removed]",
      "text/plain": [
       "<Figure size 470.94x200.667 with 1 Axes>"
      ]
     },
     "metadata": {},
     "output_type": "display_data"
    },
    {
     "name": "stdout",
     "output_type": "stream",
     "text": [
      "{'1': 1000}\n"
     ]
    },
    {
     "data": {
      "image/png": "[encoded data removed]",
      "text/plain": [
       "<Figure size 700x500 with 1 Axes>"
      ]
     },
     "execution_count": 6,
     "metadata": {},
     "output_type": "execute_result"
    }
   ],
   "source": [
    "n_qubits = 1\n",
    "n_bits = 1\n",
    "qr = QuantumRegister(size = n_qubits, name = 'q')\n",
    "cr = ClassicalRegister(size = n_bits, name = 'bits')\n",
    "qc = QuantumCircuit(qr, cr)\n",
    "qc.h(qr)\n",
    "qc.z(qr)\n",
    "qc.h(qr)\n",
    "qc.measure(qr, cr)\n",
    "display(qc.draw('mpl'))\n",
    "\n",
    "shots = 1_000\n",
    "backend = AerSimulator()\n",
    "result = backend.run(circuits = qc, shots = shots).result()\n",
    "counts = result.get_counts()\n",
    "print(counts)\n",
    "plot_histogram(counts)"
   ]
  },
  {
   "cell_type": "markdown",
   "metadata": {},
   "source": [
    "[Seções](#0)"
   ]
  },
  {
   "cell_type": "markdown",
   "metadata": {},
   "source": [
    "---\n",
    "\n",
    "# 2.3 Principais Operadores <a id='23'></a>\n",
    "\n",
    "1. Operações de Pauli. As quatro matrizes de Pauli são as seguintes:\n",
    "\n",
    "\\begin{equation*}\n",
    "\n",
    "\\mathbb{I} = \n",
    "\\begin{bmatrix}\n",
    "1 & 0 \\\\\n",
    "0 & 1\n",
    "\\end{bmatrix},\n",
    "\\hspace{1mm}\n",
    "\n",
    "X=\n",
    "\\begin{bmatrix}\n",
    "0 & 1 \\\\\n",
    "1 & 0\n",
    "\\end{bmatrix},\n",
    "\\hspace{1mm}\n",
    "\n",
    "Y=\n",
    "\\begin{bmatrix}\n",
    "0 & -i \\\\\n",
    "i & 0\n",
    "\\end{bmatrix},\n",
    "\\hspace{1mm}\n",
    "\n",
    "Z=\n",
    "\\begin{bmatrix}\n",
    "1 & 0 \\\\\n",
    "0 & -1\n",
    "\\end{bmatrix}\n",
    "\\end{equation*}\n",
    "\n",
    "```Nota: Na mecânica quântica é comum as matrizes de Pauli aparecem com os símbolos``` $\\sigma_x = X$, $\\sigma_y = Y$, $\\sigma_z = Z$\n",
    "\n",
    "2. Operação Hadamard\n",
    "\n",
    "\\begin{equation*}\n",
    "H =\\frac{1}{\\sqrt{2}}\n",
    "\\begin{bmatrix}\n",
    "1 & 1 \\\\\n",
    "1 & -1\n",
    "\\end{bmatrix}\n",
    "\\end{equation*}\n",
    "\n",
    "3. Operação Fase\n",
    "\n",
    "\\begin{equation*}\n",
    "P_{\\theta} =\n",
    "\\begin{bmatrix}\n",
    "1 & 0 \\\\\n",
    "0 & e^{i\\theta}\n",
    "\\end{bmatrix}\n",
    "\\end{equation*}, \n",
    "\n",
    "onde $\\theta$ é um número real\n",
    "\n",
    "Casos particulares desse operador: \n",
    "\n",
    "\\begin{equation*}\n",
    "S = P_{\\frac{\\pi}{2}} =\n",
    "\\begin{bmatrix}\n",
    "1 & 0 \\\\\n",
    "0 & i\n",
    "\\end{bmatrix},\n",
    "\n",
    "T = P_{\\frac{\\pi}{4}} =\n",
    "\\begin{bmatrix}\n",
    "1 & 0 \\\\\n",
    "0 & \\frac{1+i}{\\sqrt{2}}\n",
    "\\end{bmatrix},\n",
    "\\end{equation*}\n",
    "\n",
    "e ainda $I = P_{0}, \\hspace{5mm} Z = P_{\\pi}$\n",
    "\n",
    "\n",
    "4. Operações de Rotação\n",
    "\n",
    "\\begin{equation*}\n",
    "    R_{X}(\\theta) = \\cos\\left(\\frac{\\theta}{2}\\right) I -i \\sin\\left(\\frac{\\theta}{2}\\right) X =\n",
    "    \\begin{bmatrix}\n",
    "     \\cos\\left(\\frac{\\theta}{2}\\right) & -i\\sin\\left(\\frac{\\theta}{2}\\right) \\\\\n",
    "     -i\\sin\\left(\\frac{\\theta}{2}\\right) & \\cos\\left(\\frac{\\theta}{2}\\right) \\\\\n",
    "     \n",
    "    \\end{bmatrix}\n",
    "\\end{equation*} \n",
    "\n",
    "\\begin{equation*}\n",
    "    R_{Y}(\\theta) = \\cos\\left(\\frac{\\theta}{2}\\right) I -i \\sin\\left(\\frac{\\theta}{2}\\right) Y =\n",
    "    \\begin{bmatrix}\n",
    "     \\cos\\left(\\frac{\\theta}{2}\\right) & -\\sin\\left(\\frac{\\theta}{2}\\right) \\\\\n",
    "     \\sin\\left(\\frac{\\theta}{2}\\right) & \\cos\\left(\\frac{\\theta}{2}\\right) \\\\\n",
    "     \n",
    "    \\end{bmatrix}\n",
    "\\end{equation*} \n",
    "\n",
    "\n",
    "\\begin{equation*}\n",
    "    R_{Z}(\\theta) = \\cos\\left(\\frac{\\theta}{2}\\right) I -i \\sin\\left(\\frac{\\theta}{2}\\right) Z =\n",
    "    \\begin{bmatrix}\n",
    "     e^{-i\\frac{\\theta}{2}} & 0 \\\\\n",
    "     0 & e^{i\\frac{\\theta}{2}} \\\\\n",
    "     \n",
    "    \\end{bmatrix}\n",
    "\\end{equation*} \n"
   ]
  },
  {
   "cell_type": "markdown",
   "metadata": {},
   "source": [
    "[Seções](#0)"
   ]
  },
  {
   "cell_type": "markdown",
   "metadata": {},
   "source": [
    "---\n",
    "# 2.4 Operador Oráculo <a id='24'></a>"
   ]
  },
  {
   "attachments": {
    "image.png": {
     "image/png": "[encoded data removed]"
    }
   },
   "cell_type": "markdown",
   "metadata": {},
   "source": [
    "![image.png](image.png)"
   ]
  },
  {
   "cell_type": "markdown",
   "metadata": {},
   "source": [
    "Imagine duas moedas, representadas por $x=0$ e $x=1$, que serão os inputs, e duas possibilidades de output (cara/coroa), representados por $f(x) = 0$ e $f(x)=1$\n",
    "\n",
    "Temos 4 possibilidades:\n",
    "\n",
    "1) $f(0) = 0, \\hspace{5mm} f(1) = 0$ \n",
    "\n",
    "2) $f(0) = 0, \\hspace{5mm} f(1) = 1$\n",
    "\n",
    "3) $f(0) = 1, \\hspace{5mm} f(1) = 0$\n",
    "\n",
    "4) $f(0) = 1, \\hspace{5mm} f(1) = 1$\n",
    "\n",
    "Quando $f(0)=f(1)$ a função é dita ```constante``` e quando $f(0)\\neq f(1)$ a função é ```balanceada```. No exemplo acima, os casos 1 e 4 representam funções ```constantes``` e os casos 2 e 3 representam funções ```balanceadas```."
   ]
  },
  {
   "cell_type": "markdown",
   "metadata": {},
   "source": [
    "Para cada um dos casos acima, queremos contruir um operador que satisfaça:\n",
    "\\begin{equation*}\n",
    "U_f|0\\rangle = (-1)^{f(0)}|0\\rangle, \\hspace{5mm} U_f|1\\rangle = (-1)^{f(1)}|1\\rangle\n",
    "\\end{equation*}\n"
   ]
  },
  {
   "cell_type": "code",
   "execution_count": null,
   "metadata": {},
   "outputs": [],
   "source": [
    "def oracle(case: int):\n",
    "    Uf = QuantumCircuit(1)\n",
    "    if case == 1:\n",
    "        Uf.i(0)\n",
    "    if case == 2:\n",
    "        Uf.z(0)\n",
    "    if case == 3:\n",
    "        Uf.x(0)\n",
    "        Uf.z(0)\n",
    "        Uf.x(0)\n",
    "    if case == 4:\n",
    "        Uf.x(0)\n",
    "        Uf.z(0)\n",
    "        Uf.x(0)\n",
    "        Uf.z(0)\n",
    "    return Uf"
   ]
  },
  {
   "cell_type": "markdown",
   "metadata": {},
   "source": [
    "[Seções](#0)"
   ]
  },
  {
   "cell_type": "markdown",
   "metadata": {},
   "source": [
    "---\n",
    "# 2.5 Algoritmo de Deutsch <a id='25'></a>\n",
    "Construir um algorítmo que com apenas um shot consegue descobrir se a função implementada pelo operador oráculo $U_f|x\\rangle = (-1)^{f(x)} |x\\rangle$ é uma função ```constante``` ou ```balanceada```"
   ]
  },
  {
   "cell_type": "code",
   "execution_count": null,
   "metadata": {},
   "outputs": [],
   "source": [
    "def circuit(function: QuantumCircuit):\n",
    "    cr = ClassicalRegister(1, name = 'bits')\n",
    "    qr = QuantumRegister(1, name = 'q')\n",
    "    qc = QuantumCircuit(qr, cr)\n",
    "\n",
    "    qc.h(qr)\n",
    "    \n",
    "    qc.barrier()\n",
    "    qc.compose(function.to_gate(label = 'U_f'), inplace=True)\n",
    "    qc.barrier()\n",
    "\n",
    "    qc.h(qr)\n",
    "    qc.measure(qr, cr)\n",
    "    return qc\n",
    "\n",
    "circuit(oracle(1)).draw('mpl')"
   ]
  },
  {
   "cell_type": "code",
   "execution_count": null,
   "metadata": {},
   "outputs": [],
   "source": [
    "# Escolhendo uma função aleatóriamente\n",
    "f = np.random.randint(1,5)\n",
    "print(f'A função f_{f} foi escolhida aleatoriamente')\n",
    "# Construindo o operador Oráculo\n",
    "U = oracle(f)\n",
    "# Introduzindo o operador Oráculo no circuito\n",
    "qc = circuit(U)\n",
    "#display(qc.draw('mpl'))"
   ]
  },
  {
   "cell_type": "code",
   "execution_count": null,
   "metadata": {},
   "outputs": [],
   "source": [
    "# Fazendo a medição com apenas 1 shot\n",
    "shot = 1\n",
    "backend = AerSimulator()\n",
    "#result = backend.run(circuits = qc, shots = shots).result()\n",
    "result = execute(experiments = qc, backend = backend, shots = shot).result().get_counts()\n",
    "if '0' in result:\n",
    "    print('A função implementada é constante')\n",
    "elif '1':\n",
    "    print('A função implementada é balanceada')"
   ]
  },
  {
   "cell_type": "markdown",
   "metadata": {},
   "source": [
    "---\n",
    "### Solução:\n",
    "\n",
    "\n",
    "Primeiro aplicamos o operador Hadamard\n",
    "\\begin{equation*}\n",
    "|\\pi_0\\rangle = H|0\\rangle = |+\\rangle = \\frac{1}{\\sqrt{2}}\\left(|0\\rangle + |1 \\rangle\\right)\n",
    "\\end{equation*}\n",
    "\n",
    "Depois aplicamos o operador Oráculo\n",
    "\\begin{equation*}\n",
    "|\\pi_1\\rangle = U_f|\\pi_0\\rangle = \\frac{1}{\\sqrt{2}}\\left[(-1)^{f(0)}|0\\rangle + (-1)^{f(1)}|1\\rangle\\right]\n",
    "\\end{equation*}\n",
    "\n",
    "Independente da função aplicada, teremos apenas duas possibilidades:\n",
    "\n",
    "\\begin{equation*}\n",
    "\\Longrightarrow  \n",
    "|\\pi_1\\rangle = \\frac{(-1)^{f(0)}}{\\sqrt{2}}\\left[|0\\rangle + (-1)^{f(1)-f(0)}|1 \\rangle\\right]=\n",
    "\\left\\{ \\begin{array}{rcl}\n",
    "(-1)^{f(0)}|+\\rangle  & \\text{para} & f(0) = f(1) \\\\\n",
    "(-1)^{f(0)}|-\\rangle  & \\text{para} & f(0) \\neq f(1) \n",
    "\\end{array}\\right.\n",
    "\\end{equation*}\n",
    "\n",
    "\n",
    "```Nota: O fator multiplicativo ``` $(-1)^{f(0)}$ ```como vimos, não é relevante para a medição```\n",
    "\n",
    "Aplicando Hadamard novamente, temos:\n",
    "\n",
    "\\begin{equation*}\n",
    "\\Longrightarrow |\\pi_2\\rangle = H|\\pi_1\\rangle = \\left\\{ \\begin{array}{rcl}\n",
    "(-1)^{f(0)}|0\\rangle  & \\text{para} & f(0) = f(1) \\\\\n",
    "(-1)^{f(0)}|1\\rangle  & \\text{para} & f(0) \\neq f(1) \n",
    "\\end{array}\\right.\n",
    "\\end{equation*}\n",
    "\n",
    "\n",
    "```Nota: Essa é uma versão simplificada do algoritmo de Deutsch```\n"
   ]
  },
  {
   "cell_type": "markdown",
   "metadata": {},
   "source": [
    "[Seções](#0)"
   ]
  },
  {
   "cell_type": "markdown",
   "metadata": {},
   "source": [
    "# 3. Emaranhamento <a id='3'></a>"
   ]
  },
  {
   "cell_type": "markdown",
   "metadata": {},
   "source": [
    "---\n",
    "## 3.1 Sistemas Quânticos de 2 qubits <a id='31'></a>"
   ]
  },
  {
   "cell_type": "markdown",
   "metadata": {},
   "source": [
    "\n",
    "Assim como na computação clássica, em computação quântica é essencial trabalhar em múltiplas unidades computacionais simulatâneamente para resolver tarefas complexas. Em sitemas de múltiplos qubits, a notação vetorial para os estados de qubits é definida usando o produto tensorial dos estados de qubits individuais. Para um sistema de 2 qubits, os estados da base são formados tomando o produto tensorial dos estados da base de qubits individuais. Aqui está uma definição geral para os estados de um sistema de 2 qubits \n",
    "\n",
    "Dado dois qubits $|q_1\\rangle$ e $|q_0\\rangle$ com os estados \n",
    "\\begin{equation*}\n",
    "    |q_0\\rangle = \n",
    "    \\begin{bmatrix}\n",
    "        \\alpha_0 \\\\\n",
    "        \\beta_0\n",
    "    \\end{bmatrix}, \\hspace{5mm}\n",
    "    |q_1\\rangle = \n",
    "    \\begin{bmatrix}\n",
    "        \\alpha_1 \\\\\n",
    "        \\beta_1\n",
    "    \\end{bmatrix}, \\hspace{5mm}\n",
    "\\end{equation*}\n",
    "\n",
    "\\begin{equation*}\n",
    "%|q_{n-1}q_{n-2}...q_{0}\\rangle = |q_{n-1}\\rangle \\otimes |q_{n-%2}\\rangle\\otimes...\\otimes |q_{0}\\rangle     \n",
    "\\end{equation*}\n",
    "\n",
    "o seu estado combinado em um istema de 2 qubits pode ser representado como\n",
    "\n",
    "\\begin{equation*}\n",
    "|q_1q_0\\rangle = |q_1\\rangle \\otimes |q_0\\rangle = \n",
    "\\begin{bmatrix}\n",
    "\\alpha_1 \\\\\n",
    "\\beta_1\n",
    "\\end{bmatrix}\n",
    "\\otimes\n",
    "\\begin{bmatrix}\n",
    "\\alpha_0 \\\\\n",
    "\\beta_0\n",
    "\\end{bmatrix}\n",
    "=\n",
    "\\begin{bmatrix}\n",
    "\\alpha_1 \\alpha_0 \\\\\n",
    "\\alpha_1 \\beta_0\\\\\n",
    "\\beta_1 \\alpha_0 \\\\\n",
    "\\beta_1 \\beta_0\n",
    "\\end{bmatrix}\n",
    "\\end{equation*}\n"
   ]
  },
  {
   "cell_type": "code",
   "execution_count": null,
   "metadata": {},
   "outputs": [],
   "source": [
    "n_qubits = 2\n",
    "n_bits = 2\n",
    "qr = QuantumRegister(size = n_qubits, name = 'q')\n",
    "cr = ClassicalRegister(size = n_bits, name = 'bits')\n",
    "qc = QuantumCircuit(qr, cr)\n",
    "qc.draw('mpl')"
   ]
  },
  {
   "cell_type": "markdown",
   "metadata": {},
   "source": [
    "---\n",
    "### Exemplo\n",
    "\n",
    "Essa notação nos habilita a definir os estados da base para um sistema de 2 qubits como segue\n",
    "\n",
    "\\begin{equation*}\n",
    "|00\\rangle = |0\\rangle \\otimes |0\\rangle =\n",
    "%|00\\rangle = |0\\rangle_{2} =  |0\\rangle^{\\otimes2} =\n",
    "\\begin{bmatrix}\n",
    "1\\\\\n",
    "0\n",
    "\\end{bmatrix}\n",
    "\\otimes\n",
    "\\begin{bmatrix}\n",
    "1\\\\\n",
    "0\n",
    "\\end{bmatrix}\n",
    "=\n",
    "\\begin{bmatrix}\n",
    "1\\\\\n",
    "0\\\\\n",
    "0\\\\\n",
    "0\n",
    "\\end{bmatrix}\n",
    "\\end{equation*}\n",
    "\n",
    "\\begin{equation*}\n",
    "|01\\rangle = |0\\rangle \\otimes |1\\rangle =\n",
    "%|00\\rangle = |0\\rangle_{2} =  |0\\rangle^{\\otimes2} =\n",
    "\\begin{bmatrix}\n",
    "1\\\\\n",
    "0\n",
    "\\end{bmatrix}\n",
    "\\otimes\n",
    "\\begin{bmatrix}\n",
    "0\\\\\n",
    "1\n",
    "\\end{bmatrix}\n",
    "=\n",
    "\\begin{bmatrix}\n",
    "0\\\\\n",
    "1\\\\\n",
    "0\\\\\n",
    "0\n",
    "\\end{bmatrix}\n",
    "\\end{equation*}\n",
    "\n",
    "\\begin{equation*}\n",
    "|10\\rangle = |1\\rangle \\otimes |0\\rangle =\n",
    "%|00\\rangle = |0\\rangle_{2} =  |0\\rangle^{\\otimes2} =\n",
    "\\begin{bmatrix}\n",
    "0\\\\\n",
    "1\n",
    "\\end{bmatrix}\n",
    "\\otimes\n",
    "\\begin{bmatrix}\n",
    "1\\\\\n",
    "0\n",
    "\\end{bmatrix}\n",
    "=\n",
    "\\begin{bmatrix}\n",
    "0\\\\\n",
    "0\\\\\n",
    "1\\\\\n",
    "0\n",
    "\\end{bmatrix}\n",
    "\\end{equation*}\n",
    "\n",
    "\n",
    "\\begin{equation*}\n",
    "|11\\rangle = |1\\rangle \\otimes |1\\rangle =\n",
    "%|00\\rangle = |0\\rangle_{2} =  |0\\rangle^{\\otimes2} =\n",
    "\\begin{bmatrix}\n",
    "0\\\\\n",
    "1\n",
    "\\end{bmatrix}\n",
    "\\otimes\n",
    "\\begin{bmatrix}\n",
    "0\\\\\n",
    "1\n",
    "\\end{bmatrix}\n",
    "=\n",
    "\\begin{bmatrix}\n",
    "0\\\\\n",
    "0\\\\\n",
    "0\\\\\n",
    "1\n",
    "\\end{bmatrix}\n",
    "\\end{equation*}\n",
    "\n",
    "\n",
    "\n",
    "Um estado arbitrário $|\\psi\\rangle$ num espaço de 4 dimensões pode ser escrito como uma combinação linear dos estados da base\n",
    "\n",
    "\\begin{equation*}\n",
    " |\\psi\\rangle = |q_1\\rangle \\otimes |q_0\\rangle = |q_1q_0\\rangle =\n",
    "\\begin{bmatrix}\n",
    "\\alpha\\\\\n",
    "\\beta\\\\\n",
    "\\gamma\\\\\n",
    "\\delta\n",
    "\\end{bmatrix}\n",
    "= \n",
    "\\alpha|00\\rangle + \\beta|01\\rangle + \\gamma|10\\rangle + \\delta|11\\rangle\n",
    "\\end{equation*}\n"
   ]
  },
  {
   "cell_type": "markdown",
   "metadata": {},
   "source": [
    "[Seções](#0)"
   ]
  },
  {
   "cell_type": "markdown",
   "metadata": {},
   "source": [
    "---\n",
    "# 3.2 Produto tensorial de operadores <a id='32'></a>\n",
    "\n",
    "\\begin{equation*}\n",
    "A \\otimes B =\n",
    "\\begin{bmatrix}\n",
    "a_{00} & a_{01}\\\\\n",
    "a_{10} & a_{11}\n",
    "\\end{bmatrix}\n",
    "\\otimes\n",
    "\\begin{bmatrix}\n",
    "b_{00} & b_{01}\\\\\n",
    "b_{10} & b_{11}\n",
    "\\end{bmatrix}\n",
    "=\n",
    "\\begin{bmatrix}\n",
    "a_{00}b_{00} & a_{00}b_{01} & a_{01}b_{00} & a_{01}b_{01}\\\\\n",
    "a_{00}b_{10} & a_{00}b_{11} & a_{01}b_{10} & a_{01}b_{11}\\\\\n",
    "a_{10}b_{00} & a_{10}b_{01} & a_{11}b_{00} & a_{11}b_{01}\\\\\n",
    "a_{10}b_{10} & a_{10}b_{11} & a_{11}b_{10} & a_{11}b_{11}\\\\\n",
    "\\end{bmatrix}\n",
    "\\end{equation*}\n",
    "\n",
    "\n",
    "\\begin{equation*}\n",
    "(A \\otimes B) |q_1q_0\\rangle = (A \\otimes B) |q_1\\rangle \\otimes |q_0\\rangle = A|q_1\\rangle \\otimes B|q_0\\rangle \n",
    "\\end{equation*}"
   ]
  },
  {
   "cell_type": "code",
   "execution_count": null,
   "metadata": {},
   "outputs": [],
   "source": [
    "n_qubits = 2\n",
    "n_bits = 2\n",
    "qr = QuantumRegister(size = n_qubits, name = 'q')\n",
    "cr = ClassicalRegister(size = n_bits, name = 'bits')\n",
    "qc = QuantumCircuit(qr, cr)\n",
    "qc.h(qr)\n",
    "qc.draw('mpl')"
   ]
  },
  {
   "cell_type": "markdown",
   "metadata": {},
   "source": [
    "---\n",
    "### Exemplo\n",
    "\n",
    "\\begin{equation*}\n",
    "(H\\otimes H) |00\\rangle = H|0\\rangle \\otimes H|0\\rangle = |+\\rangle \\otimes |+\\rangle = \\frac{1}{\\sqrt{2}}(|0\\rangle + |1\\rangle)\\otimes\\frac{1}{\\sqrt{2}}(|0\\rangle + |1\\rangle)\n",
    "= \\frac{1}{2}|00\\rangle + \\frac{1}{2}|01\\rangle + \\frac{1}{2}|10\\rangle + \\frac{1}{2}|11\\rangle\n",
    "\\end{equation*}\n",
    "\n",
    "```Exercício: Mostrar que o anterior é equivalente a calcular primeiro``` $H \\otimes H$ ```e aplicar sobre o estado``` $|00\\rangle$"
   ]
  },
  {
   "cell_type": "code",
   "execution_count": null,
   "metadata": {},
   "outputs": [],
   "source": [
    "n_qubits = 2\n",
    "n_bits = 2\n",
    "qr = QuantumRegister(size = n_qubits, name = 'q')\n",
    "cr = ClassicalRegister(size = n_bits, name = 'bits')\n",
    "qc = QuantumCircuit(qr, cr)\n",
    "qc.h(qr)\n",
    "qc.measure(qr,cr)\n",
    "display(qc.draw('mpl'))\n",
    "shots = 1_000\n",
    "backend = AerSimulator()\n",
    "result = backend.run(circuits = qc, shots = shots).result()\n",
    "counts = result.get_counts()\n",
    "print(counts)\n",
    "plot_histogram(counts)"
   ]
  },
  {
   "cell_type": "markdown",
   "metadata": {},
   "source": [
    "[Seções](#0)"
   ]
  },
  {
   "cell_type": "markdown",
   "metadata": {},
   "source": [
    "\n",
    "---\n",
    "# 3.3 CNOT <a id='33'></a>\n",
    "\n",
    "Uma porta fundamental de 2 qubits é a porta controlada NOT (CNOT). Basicamente, ela opera sobre dois qubits, um qubit controle (control) e um qubit alvo (target), e aplica uma operação NOT( ou X) no qubit target se o qubit control está no estado $|1\\rangle$ mas deixa ele inalterado caso contrário. Esta extensão da porta lógica NOT pode ser extendida para mais qubits controles. \n",
    "\n",
    "Dado o estado $|q_1q_0\\rangle$ a forma do operador CNOT para o caso em que o $q_1$ é o qubit controle e $q_0$ é o qubit alvo, é a seguinte: \n",
    "\\begin{equation*}\n",
    "    CNOT = \n",
    "    \\begin{bmatrix}\n",
    "     1 & 0 & 0 & 0 \\\\\n",
    "     0 & 1 & 0 & 0 \\\\\n",
    "     0 & 0 & 0 & 1 \\\\\n",
    "     0 & 0 & 1 & 0 \n",
    "    \\end{bmatrix}\n",
    "\\end{equation*} \n",
    "\n",
    "\\begin{equation*}\n",
    "    CNOT|00\\rangle = |00\\rangle\n",
    "\\end{equation*}\n",
    "\n",
    "\\begin{equation*}\n",
    "    CNOT|01\\rangle = |01\\rangle\n",
    "\\end{equation*}\n",
    "\n",
    "\\begin{equation*}\n",
    "    CNOT|10\\rangle = |11\\rangle\n",
    "\\end{equation*}\n",
    "\n",
    "\\begin{equation*}\n",
    "    CNOT|11\\rangle = |10\\rangle\n",
    "\\end{equation*}\n",
    "\n",
    "```Exercício: Qual é a forma do operador CNOT quando ``` $q_0$ ```é o controle e``` $q_1$ ```é o alvo?```\n",
    "\n",
    "```Nota:Qualquer multi-qubit gate pode ser decomposto em uma sequência de portas single-qubits e CNOT gates (universalidade do CNOT gate).``` \n"
   ]
  },
  {
   "cell_type": "code",
   "execution_count": null,
   "metadata": {},
   "outputs": [],
   "source": [
    "n_qubits = 2\n",
    "n_bits = 2\n",
    "qr = QuantumRegister(size = n_qubits, name = 'q')\n",
    "cr = ClassicalRegister(size = n_bits, name = 'bits')\n",
    "qc = QuantumCircuit(qr, cr)\n",
    "qc.h(qr[1])\n",
    "qc.barrier()\n",
    "qc.cx(qr[1], qr[0])\n",
    "qc.measure(qr,cr)\n",
    "display(qc.draw('mpl'))\n",
    "shots = 1_000\n",
    "backend = AerSimulator()\n",
    "result = backend.run(circuits = qc, shots = shots).result()\n",
    "counts = result.get_counts()\n",
    "print(counts)\n",
    "plot_histogram(counts)"
   ]
  },
  {
   "cell_type": "markdown",
   "metadata": {},
   "source": [
    "Exemplo\n",
    "\n",
    "\\begin{equation*}\n",
    "\\left(H \\otimes \\mathbb{I}\\right) |q_1q_0\\rangle = \\left(H \\otimes \\mathbb{I}\\right) |00\\rangle = |+\\rangle \\otimes |0\\rangle = \\frac{1}{\\sqrt{2}}(|00\\rangle + |10\\rangle)\\\\\n",
    "\\end{equation*}\n",
    "\n",
    "\n",
    "\\begin{equation*}\n",
    "\\Longrightarrow CNOT\\left(H \\otimes \\mathbb{I}\\right) |q_1q_0\\rangle = \\frac{1}{\\sqrt{2}}(CNOT|00\\rangle + CNOT|10\\rangle) = \\frac{1}{\\sqrt{2}}|00\\rangle + \\frac{1}{\\sqrt{2}}|11\\rangle \n",
    "\\end{equation*}"
   ]
  },
  {
   "cell_type": "markdown",
   "metadata": {},
   "source": [
    "```Nota: Para 3 ou mais qubits o procedimento de generalização é o mesmo```"
   ]
  },
  {
   "cell_type": "markdown",
   "metadata": {},
   "source": [
    "[Seções](#0)"
   ]
  },
  {
   "cell_type": "markdown",
   "metadata": {},
   "source": [
    "# 4. Adendo <a id='4'></a>"
   ]
  },
  {
   "cell_type": "markdown",
   "metadata": {},
   "source": [
    "# Notação Bra-Ket\n",
    "---\n",
    "## Ket\n",
    "\n",
    "Um \"Ket\" é um vetor coluna. Qualquer vetor coluna com elementos $a_1, a_2,..., a_n$ pode ser escrito como\n",
    "\n",
    "\\begin{equation*}\n",
    "|a\\rangle = \n",
    "\\begin{bmatrix}\n",
    "a_1\\\\\n",
    "a_2\\\\\n",
    "\\vdots\\\\\n",
    "a_n\n",
    "\\end{bmatrix}\n",
    "\\end{equation*}\n",
    "\n",
    "---\n",
    "\n",
    "## Bra\n",
    "\n",
    "Um \"Bra\" é um vetor linha. De um ponto de vista mais técnico, \"Bra\" é o conjugados hermitiano, representados pelo símbolo de uma adaga $\\dag$, de seu \"Ket\" correspondente, ou seja:\n",
    "\n",
    "\\begin{equation*}\n",
    "\\langle a| = |a\\rangle^{\\dag} =  \n",
    "\\begin{bmatrix}\n",
    "a_1\\\\\n",
    "a_2\\\\\n",
    "\\vdots\\\\\n",
    "a_n\n",
    "\\end{bmatrix}\n",
    "^{\\dag}\n",
    "=\n",
    "\\begin{bmatrix}\n",
    "a_1^{*} & a_2^{*} & ... & a_n^{*}\n",
    "\\end{bmatrix}\n",
    "\\end{equation*}\n",
    "\n",
    "\n",
    "```\n",
    "Nota: O conjugado hermitiano de uma matriz é obtido pegando o transposto da matriz (isto é, trocar linhas por coluna e colunas por linhas) e o complexo conjugado de cada um de seus elementos\n",
    "```\n",
    "\n",
    "```\n",
    "Nota: O Complexo conjugado de um número complexo, pode ser obtido trocando o sinal da parte imaginária do número complexo\n",
    "```\n",
    "\n"
   ]
  },
  {
   "cell_type": "markdown",
   "metadata": {},
   "source": [
    "---\n",
    "# Vetores representando estados quânticos\n",
    "\n",
    "Usaremos a notação de Dirac (Bra-Ket) para representar os qubits, que é a notação padrão em mecânica quântica.    \n",
    "\n",
    "\n",
    "Os estados \"0\" e \"1\" dos qubits são representados como vetores colunas\n",
    "\n",
    "\\begin{equation*}  \n",
    "|0\\rangle = \n",
    "\\begin{bmatrix}\n",
    "1\\\\\n",
    "0\\\\\n",
    "\\end{bmatrix},\n",
    "\\hspace{5mm} |1\\rangle = \n",
    "\\begin{bmatrix}\n",
    "0\\\\\n",
    "1\\\\\n",
    "\\end{bmatrix}\n",
    "\\end{equation*}  \n",
    "\n",
    "Como vimos, cada um dos \"Kets\" tem a sua representação como \"Bras\", nesse caso:\n",
    "\n",
    "\\begin{equation*}  \n",
    "\\langle 0| = \n",
    "\\begin{bmatrix}\n",
    "1 & 0\n",
    "\\end{bmatrix},\n",
    "\\hspace{5mm} \n",
    "|1\\rangle = \n",
    "\\begin{bmatrix}\n",
    "0 & 1\n",
    "\\end{bmatrix}\n",
    "\\end{equation*}\n",
    "\n",
    "Esses vetores são conhecidos como vetores da base, pois qualquer outro estado (vetor coluna) num espaço de duas dimensões pode ser escrito como uma combinação linear desses vetores\n",
    "\n",
    "### Representando um estado quântico arbitrário\n",
    "\n",
    "\n",
    "\n",
    "\n",
    "\\begin{equation*}  \n",
    "|\\psi\\rangle = \n",
    "\\begin{bmatrix}\n",
    "\\alpha\\\\\n",
    "\\beta\\\\\n",
    "\\end{bmatrix}\n",
    "= \\alpha\n",
    "\\begin{bmatrix}\n",
    "1\\\\\n",
    "0\\\\\n",
    "\\end{bmatrix}\n",
    "+\n",
    "\\beta\n",
    "\\begin{bmatrix}\n",
    "0\\\\\n",
    "1\\\\\n",
    "\\end{bmatrix}\n",
    "= \\alpha|0\\rangle + \\beta|1\\rangle, \\hspace{5mm} \\alpha, \\beta \\in \\mathbb{C}\n",
    "\\end{equation*}  \n",
    "\n",
    "Aqui, $\\alpha$ e $\\beta$ são números complexos. Os vetores da base $|0\\rangle$ e $|1\\rangle$ geram um espaço vetorial complexo de 2 dimensões, \n",
    "```\n",
    "Nota: Nesse caso, dizemos que o qubit está em um estado de \"superposição\" ou ainda, em um estado de combinação linear dos vetores da base.\n",
    "```"
   ]
  },
  {
   "cell_type": "markdown",
   "metadata": {},
   "source": [
    "---\n",
    "# Produto interno\n",
    "\n",
    "O produto interno é definido como sendo a multiplicação entre um Bra (um vetor linha) e um Ket (um vetor coluna). O resultado de um produto interno é um número complexo.\n",
    "\n",
    "O produto interno dos estados\n",
    "\n",
    "\\begin{equation*}\n",
    "|a\\rangle = \n",
    "\\begin{bmatrix}\n",
    "a_1\\\\\n",
    "a_2\\\\\n",
    "\\vdots\\\\\n",
    "a_n\n",
    "\\end{bmatrix}\n",
    ",\n",
    "\\hspace{5mm} e \\hspace{5mm}\n",
    "|b\\rangle = \n",
    "\\begin{bmatrix}\n",
    "b_1\\\\\n",
    "b_2\\\\\n",
    "\\vdots\\\\\n",
    "b_n\n",
    "\\end{bmatrix}\n",
    "\\end{equation*}\n",
    "\n",
    "é dado por\n",
    "\n",
    "\\begin{equation*}\n",
    "\\langle a|b\\rangle = \n",
    "\\begin{bmatrix}\n",
    "a_1^{*} & a_2^{*} & \\dots & a_n^{*}\n",
    "\\end{bmatrix}\n",
    "\\begin{bmatrix}\n",
    "b_1\\\\\n",
    "b_2\\\\\n",
    "\\vdots\\\\\n",
    "b_n\n",
    "\\end{bmatrix}\n",
    "=a_1^{*}b_1 + a_2^{*}b_2 +\\dots + a_n^{*}b_n\n",
    "\\end{equation*}"
   ]
  },
  {
   "cell_type": "markdown",
   "metadata": {},
   "source": [
    "---\n",
    "### Exemplo\n",
    "\n",
    "\\begin{equation*}\n",
    "\\langle 0| 0\\rangle = \n",
    "\\begin{bmatrix}\n",
    "1 & 0 \\\\    \n",
    "\\end{bmatrix}\n",
    "\\begin{bmatrix}\n",
    "1\\\\\n",
    "0\\\\    \n",
    "\\end{bmatrix}\n",
    "= 1\n",
    "\\end{equation*}\n",
    "\n",
    "\\begin{equation*}\n",
    "\\langle 1| 1\\rangle = \n",
    "\\begin{bmatrix}\n",
    "0 & 1 \\\\    \n",
    "\\end{bmatrix}\n",
    "\\begin{bmatrix}\n",
    "0\\\\\n",
    "1\\\\    \n",
    "\\end{bmatrix}\n",
    "= 1\n",
    "\\end{equation*}\n",
    "\n",
    "```\n",
    "Nota: Quando o produto interno de um vetor com ele mesmo é igual a 1, dizemos que o vetor é normalizado\n",
    "```\n",
    "\n",
    "\\begin{equation*}\n",
    "\\langle 0| 1\\rangle = \n",
    "\\begin{bmatrix}\n",
    "1 & 0 \\\\    \n",
    "\\end{bmatrix}\n",
    "\\begin{bmatrix}\n",
    "0\\\\\n",
    "1\\\\    \n",
    "\\end{bmatrix}\n",
    "= 0\n",
    "\\end{equation*}\n",
    "\n",
    "\\begin{equation*}\n",
    "\\langle 1| 0\\rangle = \n",
    "\\begin{bmatrix}\n",
    "0 & 1 \\\\    \n",
    "\\end{bmatrix}\n",
    "\\begin{bmatrix}\n",
    "1\\\\\n",
    "0\\\\    \n",
    "\\end{bmatrix}\n",
    "= 0\n",
    "\\end{equation*}\n",
    "\n",
    "\n",
    "```\n",
    "Nota: Quando o produto interno de dois vetores pe igual a 0, dizemos que os vetores são ortogonais\n",
    "```\n",
    "\n",
    "Resumidamente,\n",
    "\n",
    "\\begin{equation*}\n",
    "\\langle i|j\\rangle = \\delta_{ij} =\n",
    "\\left\\{ \\begin{array}{rcl} \n",
    "1 & \\text{,} \\hspace{5mm} i=j \\\\\n",
    "0 & \\text{,} \\hspace{5mm} i \\neq j \\\\\n",
    "\\end{array}\\right.\n",
    "\\end{equation*}\n",
    "\n",
    "onde $\\delta_{ij}$ é o delta de Kronecker"
   ]
  },
  {
   "cell_type": "markdown",
   "metadata": {},
   "source": [
    "---\n",
    "# Produto Externo\n",
    "\n",
    "O produto externo é definido como a multiplicação de um Ket (vetor coluna) e um Bra (um vetor linha). O resultado de um produto externo é uma matriz ou ainda, operadores.\n",
    "\n",
    "\n",
    "O produto externo dos estados\n",
    "\n",
    "\\begin{equation*}\n",
    "|a\\rangle = \n",
    "\\begin{bmatrix}\n",
    "a_1\\\\\n",
    "a_2\\\\\n",
    "\\vdots\\\\\n",
    "a_n\n",
    "\\end{bmatrix}\n",
    ",\n",
    "\\hspace{5mm} e \\hspace{5mm}\n",
    "|b\\rangle = \n",
    "\\begin{bmatrix}\n",
    "b_1\\\\\n",
    "b_2\\\\\n",
    "\\vdots\\\\\n",
    "b_n\n",
    "\\end{bmatrix}\n",
    "\\end{equation*}\n",
    "\n",
    "é dado por\n",
    "\n",
    "\\begin{equation*}\n",
    "|a\\rangle \\langle b| = \n",
    "\\begin{bmatrix}\n",
    "a_1\\\\\n",
    "a_2\\\\\n",
    "\\vdots\\\\\n",
    "a_n\n",
    "\\end{bmatrix}\n",
    "\\begin{bmatrix}\n",
    "b_1^{*} & b_2^{*} & \\dots & b_n^{*}\n",
    "\\end{bmatrix}\n",
    "=\n",
    "\\begin{bmatrix}\n",
    "a_1b_1^{*} & a_1b_2^{*} & \\dots & a_1b_n^{*}\\\\\n",
    "a_2b_1^{*} & a_2b_2^{*} & \\dots & a_2b_n^{*}\\\\\n",
    "\\vdots \\\\\n",
    "a_nb_1^{*} & a_nb_2^{*} & \\dots & a_nb_n^{*}\n",
    "\n",
    "\\end{bmatrix}\n",
    "\\end{equation*}\n",
    "\n",
    "---\n",
    "### Exemplo\n",
    "\n",
    "\n",
    "\\begin{equation*}\n",
    "|0\\rangle \\langle 0| = \n",
    "\\begin{bmatrix}\n",
    "1\\\\\n",
    "0\\\\\n",
    "\\end{bmatrix}\n",
    "\\begin{bmatrix}\n",
    "1 & 0 \\\\\n",
    "\\end{bmatrix}\n",
    "=\n",
    "\\begin{bmatrix}\n",
    "1 & 0 \\\\\n",
    "0 & 0 \\\\\n",
    "\\end{bmatrix}\n",
    "\\end{equation*}\n",
    "\n",
    "\\begin{equation*}\n",
    "|0\\rangle \\langle 1| = \n",
    "\\begin{bmatrix}\n",
    "1\\\\\n",
    "0\\\\\n",
    "\\end{bmatrix}\n",
    "\\begin{bmatrix}\n",
    "0 & 1 \\\\\n",
    "\\end{bmatrix}\n",
    "=\n",
    "\\begin{bmatrix}\n",
    "0 & 1 \\\\\n",
    "0 & 0 \\\\\n",
    "\\end{bmatrix}\n",
    "\\end{equation*}\n",
    "\n",
    "\\begin{equation*}\n",
    "|1\\rangle \\langle 0| = \n",
    "\\begin{bmatrix}\n",
    "0\\\\\n",
    "1\\\\\n",
    "\\end{bmatrix}\n",
    "\\begin{bmatrix}\n",
    "1 & 0 \\\\\n",
    "\\end{bmatrix}\n",
    "=\n",
    "\\begin{bmatrix}\n",
    "0 & 0 \\\\\n",
    "1 & 0 \\\\\n",
    "\\end{bmatrix}\n",
    "\\end{equation*}\n",
    "\n",
    "\\begin{equation*}\n",
    "|1\\rangle \\langle 1| = \n",
    "\\begin{bmatrix}\n",
    "0\\\\\n",
    "1\\\\\n",
    "\\end{bmatrix}\n",
    "\\begin{bmatrix}\n",
    "0 & 1 \\\\\n",
    "\\end{bmatrix}\n",
    "=\n",
    "\\begin{bmatrix}\n",
    "0 & 0 \\\\\n",
    "0 & 1 \\\\\n",
    "\\end{bmatrix}\n",
    "\\end{equation*}\n",
    "\n",
    "```\n",
    "Nota: A matriz identidade em duas dimensões pode ser escrita como:\n",
    "```\n",
    "\n",
    "\\begin{equation*}\n",
    "\\mathbb{I} = \n",
    "|0\\rangle \\langle 0|+|1\\rangle \\langle 1| = \n",
    "\\begin{bmatrix}\n",
    "1 & 0\\\\\n",
    "0 & 1\\\\\n",
    "\\end{bmatrix}\n",
    "\\end{equation*}\n",
    "```\n",
    "Nota: Veja que o resultado de um produto interno é um escalar e o resultado de um produto externo é uma matriz.\n",
    "```"
   ]
  },
  {
   "cell_type": "markdown",
   "metadata": {},
   "source": [
    "---\n",
    "# Produto interno de um estado arbitrário\n",
    "\n",
    "Para um estado quântico arbitrário $|\\psi\\rangle$ temos \n",
    "\n",
    "\\begin{equation*}  \n",
    "|\\psi\\rangle = \n",
    "\\begin{bmatrix}\n",
    "\\alpha\\\\\n",
    "\\beta\\\\\n",
    "\\end{bmatrix}\n",
    "= \\alpha|0\\rangle + \\beta|1\\rangle\n",
    "\\end{equation*}   \n",
    "\n",
    "o correspondente \"bra\" é dado por\n",
    "\\begin{equation*}  \n",
    "\\langle\\psi| = \n",
    "\\begin{bmatrix}\n",
    "\\alpha^{*} & \\beta^{*}\n",
    "\\end{bmatrix}\n",
    "= \\alpha^{*} \\langle 0| + \\beta^{*} \\langle 1| \n",
    "\\end{equation*}   \n",
    "\n",
    "onde $ \\alpha^{*} $ e $\\beta^{*}$ são os complexos conjugados de $\\alpha$ e $\\beta$ respectivamente.\n",
    "\n",
    "Dessa forma, usando a propriedade de ortonormalidade dos vetores da base, temos que o produto interno $\\langle \\psi|\\psi\\rangle$ é dado por\n",
    "\n",
    "\\begin{equation*}  \n",
    "\\langle\\psi|\\psi\\rangle = |\\alpha|^2 + |\\beta|^2 \\geq 0\n",
    "\\end{equation*}  \n",
    "\n",
    "\n",
    "```\n",
    "Nota: Tecnicamente, a raíz quadrada do produto interno é chamada de norma Euclidiana.\n",
    "```\n",
    "\n",
    "\\begin{equation*}\n",
    "||\\hspace{0.5mm}|\\psi\\rangle \\hspace{0.5mm}|| = \\sqrt{\\langle\\psi|\\psi\\rangle} = \\sqrt{|\\alpha|^2 + |\\beta|^2}\n",
    "\\end{equation*}\n",
    "\n",
    "\n",
    "```\n",
    "Nota: A classe StateVector inclui um método chamado \"is_valid\" que verifica se um dado vetor é um estado quântico válido (i.e, se ele tem norma euclidiana igual a 1)\n",
    "```"
   ]
  },
  {
   "cell_type": "markdown",
   "metadata": {},
   "source": [
    "---\n",
    "# Normalizando um vetor\n",
    "```\n",
    "Nota: Caso queira normalizar um vetor, basta multiplicá-lo pelo inverso da norma euclidiana deste vetor\n",
    "```\n",
    "\n",
    "\\begin{equation*}\n",
    "|\\psi_{norm}\\rangle = \\frac{1}{||\\hspace{0.5mm}|\\psi\\rangle \\hspace{0.5mm}||}|\\psi\\rangle \\hspace{5mm}  \\Longrightarrow   \\langle \\psi_{norm} |\\psi_{norm}\\rangle = \\frac{1}{||\\hspace{0.5mm}|\\psi\\rangle \\hspace{0.5mm}||^2}\\langle\\psi|\\psi\\rangle = 1 \n",
    "\\end{equation*}\n"
   ]
  },
  {
   "cell_type": "markdown",
   "metadata": {},
   "source": [
    "---\n",
    "# Medindo Estados Quânticos\n",
    "\n",
    "Dado um estado quântico $|\\psi\\rangle = \\alpha|0\\rangle + \\beta|1\\rangle$ em está em superposição. Quando medimos esse estado uma vez podemos obter os estados clássicos \"0\" ou \"1\". Realizando uma série de medições, encontraremos o estado \"0\" com determinada probabilidade, digamos \"p\" e encontraremos o eso estado \"1\" com probabilidade \"1-p\". Na mecânica quântica existe uma regra que nos diz com que probabilidade mediremos o estado \"0\" e o estado \"1\", essa regra é conhecida como Regra de Born\n",
    "\n",
    "---\n",
    "### Regra de Born\n",
    "\n",
    "Ao medir o estado $|\\psi\\rangle = \\alpha|0\\rangle + \\beta|1\\rangle$, a probabilidade de encontrarmos $|\\psi\\rangle$ no estado $|0\\rangle$ é dada por\n",
    "\\begin{equation*}\n",
    "Pr(0) = |\\langle 0|\\psi\\rangle|^2 = |\\alpha|^2\n",
    "\\end{equation*}\n",
    "\n",
    "e a probabilidade de encontrarmos $|\\psi\\rangle$ no estado $|1\\rangle$ é dada por\n",
    "\n",
    "\\begin{equation*}\n",
    "Pr(1) = |\\langle 1|\\psi\\rangle|^2 = |\\beta|^2\n",
    "\\end{equation*}\n",
    "\n",
    "E dado que $Pr(|0\\rangle) + Pr(|1\\rangle) = 1$ devemos ter $|\\alpha|^2 + |\\beta|^2 = 1$\n",
    "\n",
    "---\n",
    "### Exemplo\n",
    "\n",
    "Medindo o estado \n",
    "\\begin{equation*}\n",
    "|+\\rangle = \\frac{1}{\\sqrt{2}}|0\\rangle + \\frac{1}{\\sqrt{2}}|1\\rangle\n",
    "\\end{equation*}\n",
    "A probabilidade de obter \"0\" é dada por\n",
    "\n",
    "\\begin{equation*}\n",
    "Pr(0) = |\\langle 0|+\\rangle|^2 = \\left|\\frac{1}{\\sqrt{2}}\\right|^2 = \\frac{1}{2}\n",
    "\\end{equation*}\n",
    "\n",
    "A probabilidade de obter \"1\" é dada por\n",
    "\n",
    "\\begin{equation*}\n",
    "Pr(1) = |\\langle 1|+\\rangle|^2 = \\left|\\frac{1}{\\sqrt{2}}\\right|^2 = \\frac{1}{2}\n",
    "\\end{equation*}\n"
   ]
  },
  {
   "cell_type": "markdown",
   "metadata": {},
   "source": [
    "---\n",
    "```Nota: Fases globais são fisicamente irrelevantes```\n",
    "\n",
    "\n",
    "\\begin{equation*}\n",
    "|\\bar\\psi\\rangle = e^{i\\phi}|\\psi\\rangle = e^{i\\phi}(\\alpha|0\\rangle + \\beta|1\\rangle), \\hspace{5mm} \\phi \\in \\mathbb{R}\n",
    "\\end{equation*}\n",
    "\n",
    "\n",
    "\\begin{equation*}\n",
    "\\Longrightarrow \\langle\\bar\\psi|\\bar\\psi\\rangle = \\langle\\psi|\\psi\\rangle\n",
    "\\end{equation*}\n",
    "\n",
    "\n",
    "\\begin{equation*}\n",
    "\\Longrightarrow |\\langle 0|\\bar\\psi\\rangle|^2 = |e^{i\\phi}\\alpha|^2 = |\\alpha|^2 = |\\langle0|\\psi\\rangle|^2, \\hspace{5mm} |\\langle 1|\\bar\\psi\\rangle|^2 = |e^{i\\phi}\\beta|^2 = |\\beta|^2 = |\\langle1|\\psi\\rangle|^2,\n",
    "\\end{equation*}\n",
    "\n"
   ]
  },
  {
   "cell_type": "markdown",
   "metadata": {},
   "source": [
    "---\n",
    "# Operadores Unitários\n",
    "\n",
    "Uma matriz quadrada $U$ tendo elementos complexos é unitária se satisfaz as igualdades abaixo\n",
    "\n",
    "\\begin{equation*}\n",
    "UU^{\\dag} = U^{\\dag}U = \\mathbb{I}\\\\\n",
    "\\end{equation*}\n",
    "\n",
    "\n",
    "lembrando que $U^{\\dag} = \\bar U^{T}$, ou seja o conjugado hermitiano de uma matriz é obtido pegando a transposta da matriz e o complexo conjugado dos seus elementos. Essas duas igualdades são equivalentes a $$ U^{\\dag} = U^{-1}$$\n",
    "\n",
    "```Nota: Operadores Unitários preservam a norma do estado quântico```\n",
    "\n",
    "\\begin{equation*}\n",
    "|\\bar \\psi\\rangle = U|\\psi\\rangle \\hspace{5mm} \\Longrightarrow \\hspace{5mm} \\langle\\bar\\psi| = \\langle\\psi| U^{\\dag} \\hspace{5mm} \\Longrightarrow \\hspace{5mm} \\langle\\bar \\psi|\\bar\\psi\\rangle = \\langle\\psi|\\psi\\rangle \\hspace{5mm} \\Longrightarrow \\hspace{5mm} || U|\\psi\\rangle || = ||\\hspace{0.5mm}|\\psi\\rangle \\hspace{0.5mm}||\n",
    "\\end{equation*}\n",
    "\n",
    "onde usei o fato que $(AB)^{\\dag} = B^{\\dag}A^{\\dag}$"
   ]
  },
  {
   "cell_type": "markdown",
   "metadata": {},
   "source": [
    "\n",
    "---\n",
    "## 4.1 Esfera de Bloch <a id='41'></a>\n",
    "\n",
    "Dada a relação $|\\alpha|^2+|\\beta|^2 = 1$ entre as amplitudes, é possível escrever o estado $|\\psi\\rangle$ de um único qubit como\n",
    "\\begin{equation*}\n",
    "|\\psi\\rangle = \\alpha|0\\rangle+\\beta|1\\rangle = \\cos\\left(\\frac{\\theta}{2}\\right)|0\\rangle + e^{i\\varphi}\\sin\\left(\\frac{\\theta}{2}\\right)|1\\rangle, \\hspace{5mm} \\theta,\\varphi \\in \\mathbb{R}\n",
    "\\end{equation*}\n",
    "\n",
    "Os números $\\theta$ e $\\varphi$ definem um ponto na esfera tridimensional unitária. Essa esfera é tradicionalmente chamada de esfera de Bloch. Ela provê meios úteis de visualizar o estado de um único qubit."
   ]
  },
  {
   "cell_type": "code",
   "execution_count": null,
   "metadata": {},
   "outputs": [],
   "source": [
    "n_qubits = 4\n",
    "n_bits = 4\n",
    "qr = QuantumRegister(size = n_qubits, name = 'q')\n",
    "cr = ClassicalRegister(size = n_bits, name = 'bits')\n",
    "qc = QuantumCircuit(qr, cr)\n",
    "qc.x(qr[1])\n",
    "qc.h(qr[2])\n",
    "qc.x(qr[3])\n",
    "qc.h(qr[3])\n",
    "#qc.measure(qr,cr)\n",
    "#display(qc.draw('mpl'))\n",
    "from qiskit.quantum_info import DensityMatrix\n",
    "matrix = DensityMatrix(qc)\n",
    "from qiskit.visualization import plot_bloch_multivector\n",
    "plot_bloch_multivector(matrix, title='My Bloch Spheres', reverse_bits=False)"
   ]
  },
  {
   "cell_type": "markdown",
   "metadata": {},
   "source": [
    "[Seções](#0)"
   ]
  },
  {
   "cell_type": "markdown",
   "metadata": {},
   "source": [
    "# Referências\n",
    "- IBM Quantum Learning \n",
    "https://learning.quantum-computing.ibm.com/course/basics-of-quantum-information\n",
    "- Dissertação José Victor. \n",
    "https://sappg.ufes.br/tese_drupal/tese_15877_Disserta%E7%E3o%20final%20Jos%E9%20Victor%20S.%20Scursulim%20-%20PPGFis.pdf\n",
    "- Wong, Thomas G. Introduction to Classical and Quantum Computing (https://www.thomaswong.net/) link para o pdf no próprio site.\n",
    "\n",
    "[Seções](#0)"
   ]
  }
 ],
 "metadata": {
  "kernelspec": {
   "display_name": "Python 3 (ipykernel)",
   "language": "python",
   "name": "python3"
  },
  "language_info": {
   "codemirror_mode": {
    "name": "ipython",
    "version": 3
   },
   "file_extension": ".py",
   "mimetype": "text/x-python",
   "name": "python",
   "nbconvert_exporter": "python",
   "pygments_lexer": "ipython3",
   "version": "3.8.10"
  }
 },
 "nbformat": 4,
 "nbformat_minor": 4
}
